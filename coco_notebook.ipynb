{
 "cells": [
  {
   "cell_type": "code",
   "execution_count": 40,
   "metadata": {},
   "outputs": [],
   "source": [
    "%matplotlib inline\n",
    "import imp\n",
    "import pandas as pd\n",
    "import seaborn\n",
    "import numpy as np"
   ]
  },
  {
   "cell_type": "code",
   "execution_count": 5,
   "metadata": {},
   "outputs": [],
   "source": [
    "from utils import add_forest_areas\n",
    "\n",
    "add_forest_areas('./data/FOR_PUBL_FR_SE.json', './data/FOR_PUBL_FR_SE_A.json')"
   ]
  },
  {
   "cell_type": "code",
   "execution_count": 64,
   "metadata": {},
   "outputs": [],
   "source": [
    "fires = pd.read_csv('./data/liste_incendies_ du_29_01_2020.csv', sep=';', skiprows=2)"
   ]
  },
  {
   "cell_type": "code",
   "execution_count": 65,
   "metadata": {},
   "outputs": [
    {
     "data": {
      "text/html": [
       "<div>\n",
       "<style scoped>\n",
       "    .dataframe tbody tr th:only-of-type {\n",
       "        vertical-align: middle;\n",
       "    }\n",
       "\n",
       "    .dataframe tbody tr th {\n",
       "        vertical-align: top;\n",
       "    }\n",
       "\n",
       "    .dataframe thead th {\n",
       "        text-align: right;\n",
       "    }\n",
       "</style>\n",
       "<table border=\"1\" class=\"dataframe\">\n",
       "  <thead>\n",
       "    <tr style=\"text-align: right;\">\n",
       "      <th></th>\n",
       "      <th>Année</th>\n",
       "      <th>Numéro</th>\n",
       "      <th>Type de feu</th>\n",
       "      <th>Département</th>\n",
       "      <th>Code INSEE</th>\n",
       "      <th>Commune</th>\n",
       "      <th>Lieu-dit</th>\n",
       "      <th>Code du carreau DFCI</th>\n",
       "      <th>Alerte</th>\n",
       "      <th>Origine de l'alerte</th>\n",
       "      <th>Surface parcourue (m2)</th>\n",
       "    </tr>\n",
       "  </thead>\n",
       "  <tbody>\n",
       "    <tr>\n",
       "      <th>0</th>\n",
       "      <td>1973</td>\n",
       "      <td>6389</td>\n",
       "      <td>9</td>\n",
       "      <td>66</td>\n",
       "      <td>66196</td>\n",
       "      <td>Sorède</td>\n",
       "      <td>piste dfci al33 mas berdaguer</td>\n",
       "      <td>GC42F25</td>\n",
       "      <td>1973-01-07 12:41:00</td>\n",
       "      <td>3.0</td>\n",
       "      <td>NaN</td>\n",
       "    </tr>\n",
       "    <tr>\n",
       "      <th>1</th>\n",
       "      <td>1973</td>\n",
       "      <td>8</td>\n",
       "      <td>0</td>\n",
       "      <td>06</td>\n",
       "      <td>06060</td>\n",
       "      <td>Falicon</td>\n",
       "      <td>FALICON</td>\n",
       "      <td>R21B03</td>\n",
       "      <td>1973-01-09 13:50:00</td>\n",
       "      <td>3.0</td>\n",
       "      <td>10000.0</td>\n",
       "    </tr>\n",
       "    <tr>\n",
       "      <th>2</th>\n",
       "      <td>1973</td>\n",
       "      <td>6102</td>\n",
       "      <td>9</td>\n",
       "      <td>84</td>\n",
       "      <td>84078</td>\n",
       "      <td>Mondragon</td>\n",
       "      <td>NaN</td>\n",
       "      <td>N20H16</td>\n",
       "      <td>1973-01-12 18:35:00</td>\n",
       "      <td>NaN</td>\n",
       "      <td>0.0</td>\n",
       "    </tr>\n",
       "    <tr>\n",
       "      <th>3</th>\n",
       "      <td>1973</td>\n",
       "      <td>6106</td>\n",
       "      <td>9</td>\n",
       "      <td>84</td>\n",
       "      <td>84140</td>\n",
       "      <td>Vaugines</td>\n",
       "      <td>NaN</td>\n",
       "      <td>O21C16</td>\n",
       "      <td>1973-01-13 18:30:00</td>\n",
       "      <td>NaN</td>\n",
       "      <td>0.0</td>\n",
       "    </tr>\n",
       "    <tr>\n",
       "      <th>4</th>\n",
       "      <td>1973</td>\n",
       "      <td>4789</td>\n",
       "      <td>9</td>\n",
       "      <td>34</td>\n",
       "      <td>34078</td>\n",
       "      <td>Claret</td>\n",
       "      <td>NaN</td>\n",
       "      <td>M21G13</td>\n",
       "      <td>1973-01-21 16:00:00</td>\n",
       "      <td>NaN</td>\n",
       "      <td>0.0</td>\n",
       "    </tr>\n",
       "  </tbody>\n",
       "</table>\n",
       "</div>"
      ],
      "text/plain": [
       "   Année  Numéro  Type de feu Département Code INSEE    Commune  \\\n",
       "0   1973    6389            9          66      66196     Sorède   \n",
       "1   1973       8            0          06      06060    Falicon   \n",
       "2   1973    6102            9          84      84078  Mondragon   \n",
       "3   1973    6106            9          84      84140   Vaugines   \n",
       "4   1973    4789            9          34      34078     Claret   \n",
       "\n",
       "                        Lieu-dit Code du carreau DFCI               Alerte  \\\n",
       "0  piste dfci al33 mas berdaguer              GC42F25  1973-01-07 12:41:00   \n",
       "1                        FALICON               R21B03  1973-01-09 13:50:00   \n",
       "2                            NaN               N20H16  1973-01-12 18:35:00   \n",
       "3                            NaN               O21C16  1973-01-13 18:30:00   \n",
       "4                            NaN               M21G13  1973-01-21 16:00:00   \n",
       "\n",
       "   Origine de l'alerte  Surface parcourue (m2)  \n",
       "0                  3.0                     NaN  \n",
       "1                  3.0                 10000.0  \n",
       "2                  NaN                     0.0  \n",
       "3                  NaN                     0.0  \n",
       "4                  NaN                     0.0  "
      ]
     },
     "execution_count": 65,
     "metadata": {},
     "output_type": "execute_result"
    }
   ],
   "source": [
    "fires.head()"
   ]
  },
  {
   "cell_type": "code",
   "execution_count": 66,
   "metadata": {},
   "outputs": [
    {
     "data": {
      "text/plain": [
       "array([[<matplotlib.axes._subplots.AxesSubplot object at 0x13f685b00>]],\n",
       "      dtype=object)"
      ]
     },
     "execution_count": 66,
     "metadata": {},
     "output_type": "execute_result"
    },
    {
     "data": {
      "image/png": "[encoded data removed]",
      "text/plain": [
       "<Figure size 432x288 with 1 Axes>"
      ]
     },
     "metadata": {
      "needs_background": "light"
     },
     "output_type": "display_data"
    }
   ],
   "source": [
    "fires[fires['Surface parcourue (m2)']<1e+08].hist('Surface parcourue (m2)', bins = 1000, log=True)"
   ]
  },
  {
   "cell_type": "code",
   "execution_count": 67,
   "metadata": {},
   "outputs": [
    {
     "data": {
      "text/html": [
       "<div>\n",
       "<style scoped>\n",
       "    .dataframe tbody tr th:only-of-type {\n",
       "        vertical-align: middle;\n",
       "    }\n",
       "\n",
       "    .dataframe tbody tr th {\n",
       "        vertical-align: top;\n",
       "    }\n",
       "\n",
       "    .dataframe thead th {\n",
       "        text-align: right;\n",
       "    }\n",
       "</style>\n",
       "<table border=\"1\" class=\"dataframe\">\n",
       "  <thead>\n",
       "    <tr style=\"text-align: right;\">\n",
       "      <th></th>\n",
       "      <th>Année</th>\n",
       "      <th>Numéro</th>\n",
       "      <th>Type de feu</th>\n",
       "      <th>Origine de l'alerte</th>\n",
       "      <th>Surface parcourue (m2)</th>\n",
       "    </tr>\n",
       "  </thead>\n",
       "  <tbody>\n",
       "    <tr>\n",
       "      <th>count</th>\n",
       "      <td>490401.000000</td>\n",
       "      <td>490401.000000</td>\n",
       "      <td>490401.000000</td>\n",
       "      <td>230880.000000</td>\n",
       "      <td>3.525530e+05</td>\n",
       "    </tr>\n",
       "    <tr>\n",
       "      <th>mean</th>\n",
       "      <td>1993.928236</td>\n",
       "      <td>5831.041370</td>\n",
       "      <td>6.906146</td>\n",
       "      <td>3.044287</td>\n",
       "      <td>2.632287e+04</td>\n",
       "    </tr>\n",
       "    <tr>\n",
       "      <th>std</th>\n",
       "      <td>13.000699</td>\n",
       "      <td>4048.885052</td>\n",
       "      <td>3.802695</td>\n",
       "      <td>0.826726</td>\n",
       "      <td>5.987885e+05</td>\n",
       "    </tr>\n",
       "    <tr>\n",
       "      <th>min</th>\n",
       "      <td>1973.000000</td>\n",
       "      <td>1.000000</td>\n",
       "      <td>0.000000</td>\n",
       "      <td>1.000000</td>\n",
       "      <td>0.000000e+00</td>\n",
       "    </tr>\n",
       "    <tr>\n",
       "      <th>25%</th>\n",
       "      <td>1983.000000</td>\n",
       "      <td>2611.000000</td>\n",
       "      <td>9.000000</td>\n",
       "      <td>3.000000</td>\n",
       "      <td>0.000000e+00</td>\n",
       "    </tr>\n",
       "    <tr>\n",
       "      <th>50%</th>\n",
       "      <td>1991.000000</td>\n",
       "      <td>5226.000000</td>\n",
       "      <td>9.000000</td>\n",
       "      <td>3.000000</td>\n",
       "      <td>0.000000e+00</td>\n",
       "    </tr>\n",
       "    <tr>\n",
       "      <th>75%</th>\n",
       "      <td>2005.000000</td>\n",
       "      <td>8192.000000</td>\n",
       "      <td>9.000000</td>\n",
       "      <td>3.000000</td>\n",
       "      <td>1.000000e+03</td>\n",
       "    </tr>\n",
       "    <tr>\n",
       "      <th>max</th>\n",
       "      <td>2020.000000</td>\n",
       "      <td>19751.000000</td>\n",
       "      <td>9.000000</td>\n",
       "      <td>6.000000</td>\n",
       "      <td>1.158000e+08</td>\n",
       "    </tr>\n",
       "  </tbody>\n",
       "</table>\n",
       "</div>"
      ],
      "text/plain": [
       "               Année         Numéro    Type de feu  Origine de l'alerte  \\\n",
       "count  490401.000000  490401.000000  490401.000000        230880.000000   \n",
       "mean     1993.928236    5831.041370       6.906146             3.044287   \n",
       "std        13.000699    4048.885052       3.802695             0.826726   \n",
       "min      1973.000000       1.000000       0.000000             1.000000   \n",
       "25%      1983.000000    2611.000000       9.000000             3.000000   \n",
       "50%      1991.000000    5226.000000       9.000000             3.000000   \n",
       "75%      2005.000000    8192.000000       9.000000             3.000000   \n",
       "max      2020.000000   19751.000000       9.000000             6.000000   \n",
       "\n",
       "       Surface parcourue (m2)  \n",
       "count            3.525530e+05  \n",
       "mean             2.632287e+04  \n",
       "std              5.987885e+05  \n",
       "min              0.000000e+00  \n",
       "25%              0.000000e+00  \n",
       "50%              0.000000e+00  \n",
       "75%              1.000000e+03  \n",
       "max              1.158000e+08  "
      ]
     },
     "execution_count": 67,
     "metadata": {},
     "output_type": "execute_result"
    }
   ],
   "source": [
    "fires.describe()"
   ]
  },
  {
   "cell_type": "code",
   "execution_count": 75,
   "metadata": {},
   "outputs": [
    {
     "name": "stderr",
     "output_type": "stream",
     "text": [
      "/Library/Frameworks/Python.framework/Versions/3.6/lib/python3.6/site-packages/statsmodels/nonparametric/kde.py:447: RuntimeWarning: invalid value encountered in greater\n",
      "  X = X[np.logical_and(X > clip[0], X < clip[1])] # won't work for two columns.\n",
      "/Library/Frameworks/Python.framework/Versions/3.6/lib/python3.6/site-packages/statsmodels/nonparametric/kde.py:447: RuntimeWarning: invalid value encountered in less\n",
      "  X = X[np.logical_and(X > clip[0], X < clip[1])] # won't work for two columns.\n"
     ]
    },
    {
     "data": {
      "text/plain": [
       "<matplotlib.axes._subplots.AxesSubplot at 0x12ebdf358>"
      ]
     },
     "execution_count": 75,
     "metadata": {},
     "output_type": "execute_result"
    },
    {
     "data": {
      "image/png": "[encoded data removed]",
      "text/plain": [
       "<Figure size 432x288 with 1 Axes>"
      ]
     },
     "metadata": {
      "needs_background": "light"
     },
     "output_type": "display_data"
    }
   ],
   "source": [
    "logSurf = np.log10(np.clip(fires['Surface parcourue (m2)'], a_min=1, a_max=None))\n",
    "seaborn.kdeplot(logSurf)"
   ]
  },
  {
   "cell_type": "code",
   "execution_count": 74,
   "metadata": {},
   "outputs": [
    {
     "data": {
      "text/plain": [
       "13.122363377404328"
      ]
     },
     "execution_count": 74,
     "metadata": {},
     "output_type": "execute_result"
    }
   ],
   "source": [
    "np.log(5e5)"
   ]
  },
  {
   "cell_type": "code",
   "execution_count": 83,
   "metadata": {},
   "outputs": [
    {
     "data": {
      "text/plain": [
       "0.7673495771827545"
      ]
     },
     "execution_count": 83,
     "metadata": {},
     "output_type": "execute_result"
    }
   ],
   "source": [
    "fires['Surface parcourue (m2)'][(fires['Surface parcourue (m2)'].isna()) | (fires['Surface parcourue (m2)'] == 0)].shape[0]/fires.shape[0]"
   ]
  },
  {
   "cell_type": "code",
   "execution_count": 85,
   "metadata": {},
   "outputs": [
    {
     "data": {
      "text/plain": [
       "0.7673495771827545"
      ]
     },
     "execution_count": 85,
     "metadata": {},
     "output_type": "execute_result"
    }
   ],
   "source": [
    ".shape[0]/fires.shape[0]"
   ]
  },
  {
   "cell_type": "code",
   "execution_count": 89,
   "metadata": {},
   "outputs": [
    {
     "data": {
      "text/plain": [
       "(0, 11)"
      ]
     },
     "execution_count": 89,
     "metadata": {},
     "output_type": "execute_result"
    }
   ],
   "source": [
    "fires[(fires['Type de feu']==0) & (fires['Surface parcourue (m2)']== 0)].shape"
   ]
  },
  {
   "cell_type": "code",
   "execution_count": null,
   "metadata": {},
   "outputs": [],
   "source": []
  }
 ],
 "metadata": {
  "kernelspec": {
   "display_name": "Python 3",
   "language": "python",
   "name": "python3"
  },
  "language_info": {
   "codemirror_mode": {
    "name": "ipython",
    "version": 3
   },
   "file_extension": ".py",
   "mimetype": "text/x-python",
   "name": "python",
   "nbconvert_exporter": "python",
   "pygments_lexer": "ipython3",
   "version": "3.6.6"
  }
 },
 "nbformat": 4,
 "nbformat_minor": 2
}
