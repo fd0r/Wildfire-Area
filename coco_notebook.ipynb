{
 "cells": [
  {
   "cell_type": "code",
   "execution_count": 1,
   "metadata": {},
   "outputs": [],
   "source": [
    "%matplotlib inline\n",
    "import imp\n",
    "import pandas as pd\n",
    "import geopandas as gpd\n",
    "from pyproj import Proj\n",
    "import pyproj\n",
    "from shapely.ops import transform\n",
    "import seaborn\n",
    "import numpy as np\n",
    "from functools import partial\n",
    "from shapely.geometry import Point, Polygon, MultiPolygon"
   ]
  },
  {
   "cell_type": "code",
   "execution_count": 2,
   "metadata": {},
   "outputs": [],
   "source": [
    "from utils import add_forest_areas, dfci_to_wgs\n",
    "\n",
    "#add_forest_areas('./data/FOR_PUBL_FR_SE.json', './data/FOR_PUBL_FR_SE_A.json')"
   ]
  },
  {
   "cell_type": "code",
   "execution_count": 45,
   "metadata": {},
   "outputs": [],
   "source": [
    "fires = pd.read_csv('./data/train.csv')#./../../../../Downloads/liste_incendies_ du_31_01_2020.csv', sep=';', skiprows=2)"
   ]
  },
  {
   "cell_type": "code",
   "execution_count": 65,
   "metadata": {},
   "outputs": [
    {
     "data": {
      "text/html": [
       "<div>\n",
       "<style scoped>\n",
       "    .dataframe tbody tr th:only-of-type {\n",
       "        vertical-align: middle;\n",
       "    }\n",
       "\n",
       "    .dataframe tbody tr th {\n",
       "        vertical-align: top;\n",
       "    }\n",
       "\n",
       "    .dataframe thead th {\n",
       "        text-align: right;\n",
       "    }\n",
       "</style>\n",
       "<table border=\"1\" class=\"dataframe\">\n",
       "  <thead>\n",
       "    <tr style=\"text-align: right;\">\n",
       "      <th></th>\n",
       "      <th>Année</th>\n",
       "      <th>Numéro</th>\n",
       "      <th>Type de feu</th>\n",
       "      <th>Département</th>\n",
       "      <th>Code INSEE</th>\n",
       "      <th>Commune</th>\n",
       "      <th>Lieu-dit</th>\n",
       "      <th>Code du carreau DFCI</th>\n",
       "      <th>Alerte</th>\n",
       "      <th>Origine de l'alerte</th>\n",
       "      <th>Surface parcourue (m2)</th>\n",
       "    </tr>\n",
       "  </thead>\n",
       "  <tbody>\n",
       "    <tr>\n",
       "      <th>0</th>\n",
       "      <td>1973</td>\n",
       "      <td>6389</td>\n",
       "      <td>9</td>\n",
       "      <td>66</td>\n",
       "      <td>66196</td>\n",
       "      <td>Sorède</td>\n",
       "      <td>piste dfci al33 mas berdaguer</td>\n",
       "      <td>GC42F25</td>\n",
       "      <td>1973-01-07 12:41:00</td>\n",
       "      <td>3.0</td>\n",
       "      <td>NaN</td>\n",
       "    </tr>\n",
       "    <tr>\n",
       "      <th>1</th>\n",
       "      <td>1973</td>\n",
       "      <td>8</td>\n",
       "      <td>0</td>\n",
       "      <td>06</td>\n",
       "      <td>06060</td>\n",
       "      <td>Falicon</td>\n",
       "      <td>FALICON</td>\n",
       "      <td>R21B03</td>\n",
       "      <td>1973-01-09 13:50:00</td>\n",
       "      <td>3.0</td>\n",
       "      <td>10000.0</td>\n",
       "    </tr>\n",
       "    <tr>\n",
       "      <th>2</th>\n",
       "      <td>1973</td>\n",
       "      <td>6102</td>\n",
       "      <td>9</td>\n",
       "      <td>84</td>\n",
       "      <td>84078</td>\n",
       "      <td>Mondragon</td>\n",
       "      <td>NaN</td>\n",
       "      <td>N20H16</td>\n",
       "      <td>1973-01-12 18:35:00</td>\n",
       "      <td>NaN</td>\n",
       "      <td>0.0</td>\n",
       "    </tr>\n",
       "    <tr>\n",
       "      <th>3</th>\n",
       "      <td>1973</td>\n",
       "      <td>6106</td>\n",
       "      <td>9</td>\n",
       "      <td>84</td>\n",
       "      <td>84140</td>\n",
       "      <td>Vaugines</td>\n",
       "      <td>NaN</td>\n",
       "      <td>O21C16</td>\n",
       "      <td>1973-01-13 18:30:00</td>\n",
       "      <td>NaN</td>\n",
       "      <td>0.0</td>\n",
       "    </tr>\n",
       "    <tr>\n",
       "      <th>4</th>\n",
       "      <td>1973</td>\n",
       "      <td>4789</td>\n",
       "      <td>9</td>\n",
       "      <td>34</td>\n",
       "      <td>34078</td>\n",
       "      <td>Claret</td>\n",
       "      <td>NaN</td>\n",
       "      <td>M21G13</td>\n",
       "      <td>1973-01-21 16:00:00</td>\n",
       "      <td>NaN</td>\n",
       "      <td>0.0</td>\n",
       "    </tr>\n",
       "  </tbody>\n",
       "</table>\n",
       "</div>"
      ],
      "text/plain": [
       "   Année  Numéro  Type de feu Département Code INSEE    Commune  \\\n",
       "0   1973    6389            9          66      66196     Sorède   \n",
       "1   1973       8            0          06      06060    Falicon   \n",
       "2   1973    6102            9          84      84078  Mondragon   \n",
       "3   1973    6106            9          84      84140   Vaugines   \n",
       "4   1973    4789            9          34      34078     Claret   \n",
       "\n",
       "                        Lieu-dit Code du carreau DFCI               Alerte  \\\n",
       "0  piste dfci al33 mas berdaguer              GC42F25  1973-01-07 12:41:00   \n",
       "1                        FALICON               R21B03  1973-01-09 13:50:00   \n",
       "2                            NaN               N20H16  1973-01-12 18:35:00   \n",
       "3                            NaN               O21C16  1973-01-13 18:30:00   \n",
       "4                            NaN               M21G13  1973-01-21 16:00:00   \n",
       "\n",
       "   Origine de l'alerte  Surface parcourue (m2)  \n",
       "0                  3.0                     NaN  \n",
       "1                  3.0                 10000.0  \n",
       "2                  NaN                     0.0  \n",
       "3                  NaN                     0.0  \n",
       "4                  NaN                     0.0  "
      ]
     },
     "execution_count": 65,
     "metadata": {},
     "output_type": "execute_result"
    }
   ],
   "source": [
    "fires.head()"
   ]
  },
  {
   "cell_type": "code",
   "execution_count": 66,
   "metadata": {},
   "outputs": [
    {
     "data": {
      "text/plain": [
       "array([[<matplotlib.axes._subplots.AxesSubplot object at 0x13f685b00>]],\n",
       "      dtype=object)"
      ]
     },
     "execution_count": 66,
     "metadata": {},
     "output_type": "execute_result"
    },
    {
     "data": {
      "image/png": "[encoded data removed]",
      "text/plain": [
       "<Figure size 432x288 with 1 Axes>"
      ]
     },
     "metadata": {
      "needs_background": "light"
     },
     "output_type": "display_data"
    }
   ],
   "source": [
    "fires[fires['Surface parcourue (m2)']<1e+08].hist('Surface parcourue (m2)', bins = 1000, log=True)"
   ]
  },
  {
   "cell_type": "code",
   "execution_count": 67,
   "metadata": {},
   "outputs": [
    {
     "data": {
      "text/html": [
       "<div>\n",
       "<style scoped>\n",
       "    .dataframe tbody tr th:only-of-type {\n",
       "        vertical-align: middle;\n",
       "    }\n",
       "\n",
       "    .dataframe tbody tr th {\n",
       "        vertical-align: top;\n",
       "    }\n",
       "\n",
       "    .dataframe thead th {\n",
       "        text-align: right;\n",
       "    }\n",
       "</style>\n",
       "<table border=\"1\" class=\"dataframe\">\n",
       "  <thead>\n",
       "    <tr style=\"text-align: right;\">\n",
       "      <th></th>\n",
       "      <th>Année</th>\n",
       "      <th>Numéro</th>\n",
       "      <th>Type de feu</th>\n",
       "      <th>Origine de l'alerte</th>\n",
       "      <th>Surface parcourue (m2)</th>\n",
       "    </tr>\n",
       "  </thead>\n",
       "  <tbody>\n",
       "    <tr>\n",
       "      <th>count</th>\n",
       "      <td>490401.000000</td>\n",
       "      <td>490401.000000</td>\n",
       "      <td>490401.000000</td>\n",
       "      <td>230880.000000</td>\n",
       "      <td>3.525530e+05</td>\n",
       "    </tr>\n",
       "    <tr>\n",
       "      <th>mean</th>\n",
       "      <td>1993.928236</td>\n",
       "      <td>5831.041370</td>\n",
       "      <td>6.906146</td>\n",
       "      <td>3.044287</td>\n",
       "      <td>2.632287e+04</td>\n",
       "    </tr>\n",
       "    <tr>\n",
       "      <th>std</th>\n",
       "      <td>13.000699</td>\n",
       "      <td>4048.885052</td>\n",
       "      <td>3.802695</td>\n",
       "      <td>0.826726</td>\n",
       "      <td>5.987885e+05</td>\n",
       "    </tr>\n",
       "    <tr>\n",
       "      <th>min</th>\n",
       "      <td>1973.000000</td>\n",
       "      <td>1.000000</td>\n",
       "      <td>0.000000</td>\n",
       "      <td>1.000000</td>\n",
       "      <td>0.000000e+00</td>\n",
       "    </tr>\n",
       "    <tr>\n",
       "      <th>25%</th>\n",
       "      <td>1983.000000</td>\n",
       "      <td>2611.000000</td>\n",
       "      <td>9.000000</td>\n",
       "      <td>3.000000</td>\n",
       "      <td>0.000000e+00</td>\n",
       "    </tr>\n",
       "    <tr>\n",
       "      <th>50%</th>\n",
       "      <td>1991.000000</td>\n",
       "      <td>5226.000000</td>\n",
       "      <td>9.000000</td>\n",
       "      <td>3.000000</td>\n",
       "      <td>0.000000e+00</td>\n",
       "    </tr>\n",
       "    <tr>\n",
       "      <th>75%</th>\n",
       "      <td>2005.000000</td>\n",
       "      <td>8192.000000</td>\n",
       "      <td>9.000000</td>\n",
       "      <td>3.000000</td>\n",
       "      <td>1.000000e+03</td>\n",
       "    </tr>\n",
       "    <tr>\n",
       "      <th>max</th>\n",
       "      <td>2020.000000</td>\n",
       "      <td>19751.000000</td>\n",
       "      <td>9.000000</td>\n",
       "      <td>6.000000</td>\n",
       "      <td>1.158000e+08</td>\n",
       "    </tr>\n",
       "  </tbody>\n",
       "</table>\n",
       "</div>"
      ],
      "text/plain": [
       "               Année         Numéro    Type de feu  Origine de l'alerte  \\\n",
       "count  490401.000000  490401.000000  490401.000000        230880.000000   \n",
       "mean     1993.928236    5831.041370       6.906146             3.044287   \n",
       "std        13.000699    4048.885052       3.802695             0.826726   \n",
       "min      1973.000000       1.000000       0.000000             1.000000   \n",
       "25%      1983.000000    2611.000000       9.000000             3.000000   \n",
       "50%      1991.000000    5226.000000       9.000000             3.000000   \n",
       "75%      2005.000000    8192.000000       9.000000             3.000000   \n",
       "max      2020.000000   19751.000000       9.000000             6.000000   \n",
       "\n",
       "       Surface parcourue (m2)  \n",
       "count            3.525530e+05  \n",
       "mean             2.632287e+04  \n",
       "std              5.987885e+05  \n",
       "min              0.000000e+00  \n",
       "25%              0.000000e+00  \n",
       "50%              0.000000e+00  \n",
       "75%              1.000000e+03  \n",
       "max              1.158000e+08  "
      ]
     },
     "execution_count": 67,
     "metadata": {},
     "output_type": "execute_result"
    }
   ],
   "source": [
    "fires.describe()"
   ]
  },
  {
   "cell_type": "code",
   "execution_count": 75,
   "metadata": {},
   "outputs": [
    {
     "name": "stderr",
     "output_type": "stream",
     "text": [
      "/Library/Frameworks/Python.framework/Versions/3.6/lib/python3.6/site-packages/statsmodels/nonparametric/kde.py:447: RuntimeWarning: invalid value encountered in greater\n",
      "  X = X[np.logical_and(X > clip[0], X < clip[1])] # won't work for two columns.\n",
      "/Library/Frameworks/Python.framework/Versions/3.6/lib/python3.6/site-packages/statsmodels/nonparametric/kde.py:447: RuntimeWarning: invalid value encountered in less\n",
      "  X = X[np.logical_and(X > clip[0], X < clip[1])] # won't work for two columns.\n"
     ]
    },
    {
     "data": {
      "text/plain": [
       "<matplotlib.axes._subplots.AxesSubplot at 0x12ebdf358>"
      ]
     },
     "execution_count": 75,
     "metadata": {},
     "output_type": "execute_result"
    },
    {
     "data": {
      "image/png": "[encoded data removed]",
      "text/plain": [
       "<Figure size 432x288 with 1 Axes>"
      ]
     },
     "metadata": {
      "needs_background": "light"
     },
     "output_type": "display_data"
    }
   ],
   "source": [
    "logSurf = np.log10(np.clip(fires['Surface parcourue (m2)'], a_min=1, a_max=None))\n",
    "seaborn.kdeplot(logSurf)"
   ]
  },
  {
   "cell_type": "code",
   "execution_count": 74,
   "metadata": {},
   "outputs": [
    {
     "data": {
      "text/plain": [
       "13.122363377404328"
      ]
     },
     "execution_count": 74,
     "metadata": {},
     "output_type": "execute_result"
    }
   ],
   "source": [
    "np.log(5e5)"
   ]
  },
  {
   "cell_type": "code",
   "execution_count": 83,
   "metadata": {},
   "outputs": [
    {
     "data": {
      "text/plain": [
       "0.7673495771827545"
      ]
     },
     "execution_count": 83,
     "metadata": {},
     "output_type": "execute_result"
    }
   ],
   "source": [
    "fires['Surface parcourue (m2)'][(fires['Surface parcourue (m2)'].isna()) | (fires['Surface parcourue (m2)'] == 0)].shape[0]/fires.shape[0]"
   ]
  },
  {
   "cell_type": "code",
   "execution_count": 85,
   "metadata": {},
   "outputs": [
    {
     "data": {
      "text/plain": [
       "0.7673495771827545"
      ]
     },
     "execution_count": 85,
     "metadata": {},
     "output_type": "execute_result"
    }
   ],
   "source": [
    ".shape[0]/fires.shape[0]"
   ]
  },
  {
   "cell_type": "code",
   "execution_count": 89,
   "metadata": {},
   "outputs": [
    {
     "data": {
      "text/plain": [
       "(0, 11)"
      ]
     },
     "execution_count": 89,
     "metadata": {},
     "output_type": "execute_result"
    }
   ],
   "source": [
    "fires[(fires['Type de feu']==0) & (fires['Surface parcourue (m2)']== 0)].shape"
   ]
  },
  {
   "cell_type": "code",
   "execution_count": 5,
   "metadata": {},
   "outputs": [
    {
     "ename": "ValueError",
     "evalue": "invalid literal for int() with base 10: 'B'",
     "output_type": "error",
     "traceback": [
      "\u001b[0;31m---------------------------------------------------------------------------\u001b[0m",
      "\u001b[0;31mValueError\u001b[0m                                Traceback (most recent call last)",
      "\u001b[0;32m<ipython-input-5-91c69b728d1d>\u001b[0m in \u001b[0;36m<module>\u001b[0;34m()\u001b[0m\n\u001b[0;32m----> 1\u001b[0;31m \u001b[0mfire\u001b[0m\u001b[0;34m[\u001b[0m\u001b[0;34m[\u001b[0m\u001b[0;34m'lat'\u001b[0m\u001b[0;34m,\u001b[0m \u001b[0;34m'lon'\u001b[0m\u001b[0;34m]\u001b[0m\u001b[0;34m]\u001b[0m \u001b[0;34m=\u001b[0m \u001b[0mfires\u001b[0m\u001b[0;34m[\u001b[0m\u001b[0;34m'DFCI_coordinate'\u001b[0m\u001b[0;34m]\u001b[0m\u001b[0;34m.\u001b[0m\u001b[0mapply\u001b[0m\u001b[0;34m(\u001b[0m\u001b[0mdfci_to_wgs\u001b[0m\u001b[0;34m)\u001b[0m\u001b[0;34m\u001b[0m\u001b[0m\n\u001b[0m",
      "\u001b[0;32m/Library/Frameworks/Python.framework/Versions/3.6/lib/python3.6/site-packages/pandas/core/series.py\u001b[0m in \u001b[0;36mapply\u001b[0;34m(self, func, convert_dtype, args, **kwds)\u001b[0m\n\u001b[1;32m   4043\u001b[0m             \u001b[0;32melse\u001b[0m\u001b[0;34m:\u001b[0m\u001b[0;34m\u001b[0m\u001b[0m\n\u001b[1;32m   4044\u001b[0m                 \u001b[0mvalues\u001b[0m \u001b[0;34m=\u001b[0m \u001b[0mself\u001b[0m\u001b[0;34m.\u001b[0m\u001b[0mastype\u001b[0m\u001b[0;34m(\u001b[0m\u001b[0mobject\u001b[0m\u001b[0;34m)\u001b[0m\u001b[0;34m.\u001b[0m\u001b[0mvalues\u001b[0m\u001b[0;34m\u001b[0m\u001b[0m\n\u001b[0;32m-> 4045\u001b[0;31m                 \u001b[0mmapped\u001b[0m \u001b[0;34m=\u001b[0m \u001b[0mlib\u001b[0m\u001b[0;34m.\u001b[0m\u001b[0mmap_infer\u001b[0m\u001b[0;34m(\u001b[0m\u001b[0mvalues\u001b[0m\u001b[0;34m,\u001b[0m \u001b[0mf\u001b[0m\u001b[0;34m,\u001b[0m \u001b[0mconvert\u001b[0m\u001b[0;34m=\u001b[0m\u001b[0mconvert_dtype\u001b[0m\u001b[0;34m)\u001b[0m\u001b[0;34m\u001b[0m\u001b[0m\n\u001b[0m\u001b[1;32m   4046\u001b[0m \u001b[0;34m\u001b[0m\u001b[0m\n\u001b[1;32m   4047\u001b[0m         \u001b[0;32mif\u001b[0m \u001b[0mlen\u001b[0m\u001b[0;34m(\u001b[0m\u001b[0mmapped\u001b[0m\u001b[0;34m)\u001b[0m \u001b[0;32mand\u001b[0m \u001b[0misinstance\u001b[0m\u001b[0;34m(\u001b[0m\u001b[0mmapped\u001b[0m\u001b[0;34m[\u001b[0m\u001b[0;36m0\u001b[0m\u001b[0;34m]\u001b[0m\u001b[0;34m,\u001b[0m \u001b[0mSeries\u001b[0m\u001b[0;34m)\u001b[0m\u001b[0;34m:\u001b[0m\u001b[0;34m\u001b[0m\u001b[0m\n",
      "\u001b[0;32mpandas/_libs/lib.pyx\u001b[0m in \u001b[0;36mpandas._libs.lib.map_infer\u001b[0;34m()\u001b[0m\n",
      "\u001b[0;32m~/Documents/M2/DATACAMP/PROJECT/Wildfire-Area/utils.py\u001b[0m in \u001b[0;36mdfci_to_wgs\u001b[0;34m(dfci)\u001b[0m\n\u001b[1;32m     50\u001b[0m     \u001b[0minProj\u001b[0m \u001b[0;34m=\u001b[0m \u001b[0mProj\u001b[0m\u001b[0;34m(\u001b[0m\u001b[0;34m'epsg:27572'\u001b[0m\u001b[0;34m)\u001b[0m\u001b[0;34m\u001b[0m\u001b[0m\n\u001b[1;32m     51\u001b[0m     \u001b[0moutProj\u001b[0m \u001b[0;34m=\u001b[0m \u001b[0mProj\u001b[0m\u001b[0;34m(\u001b[0m\u001b[0;34m'epsg:4326'\u001b[0m\u001b[0;34m)\u001b[0m\u001b[0;34m\u001b[0m\u001b[0m\n\u001b[0;32m---> 52\u001b[0;31m     \u001b[0mlamb_x\u001b[0m\u001b[0;34m,\u001b[0m\u001b[0mlamb_y\u001b[0m \u001b[0;34m=\u001b[0m \u001b[0mdfci_to_lambert\u001b[0m\u001b[0;34m(\u001b[0m\u001b[0mdfci\u001b[0m\u001b[0;34m)\u001b[0m\u001b[0;34m\u001b[0m\u001b[0m\n\u001b[0m\u001b[1;32m     53\u001b[0m     \u001b[0mlat\u001b[0m\u001b[0;34m,\u001b[0m\u001b[0mlon\u001b[0m \u001b[0;34m=\u001b[0m \u001b[0mpyproj\u001b[0m\u001b[0;34m.\u001b[0m\u001b[0mtransform\u001b[0m\u001b[0;34m(\u001b[0m\u001b[0minProj\u001b[0m\u001b[0;34m,\u001b[0m\u001b[0moutProj\u001b[0m\u001b[0;34m,\u001b[0m\u001b[0mlamb_x\u001b[0m\u001b[0;34m,\u001b[0m\u001b[0mlamb_y\u001b[0m\u001b[0;34m)\u001b[0m\u001b[0;34m\u001b[0m\u001b[0m\n\u001b[1;32m     54\u001b[0m     \u001b[0;32mreturn\u001b[0m \u001b[0;34m(\u001b[0m\u001b[0mlat\u001b[0m\u001b[0;34m,\u001b[0m\u001b[0mlon\u001b[0m\u001b[0;34m)\u001b[0m\u001b[0;34m\u001b[0m\u001b[0m\n",
      "\u001b[0;32m~/Documents/M2/DATACAMP/PROJECT/Wildfire-Area/utils.py\u001b[0m in \u001b[0;36mdfci_to_lambert\u001b[0;34m(dfci)\u001b[0m\n\u001b[1;32m     21\u001b[0m \u001b[0;34m\u001b[0m\u001b[0m\n\u001b[1;32m     22\u001b[0m     \u001b[0mx_lambert\u001b[0m \u001b[0;34m+=\u001b[0m \u001b[0;36m20000\u001b[0m \u001b[0;34m*\u001b[0m \u001b[0mint\u001b[0m\u001b[0;34m(\u001b[0m\u001b[0mdfci\u001b[0m\u001b[0;34m[\u001b[0m\u001b[0;36m2\u001b[0m\u001b[0;34m]\u001b[0m\u001b[0;34m)\u001b[0m \u001b[0;34m/\u001b[0m \u001b[0;36m2\u001b[0m\u001b[0;34m\u001b[0m\u001b[0m\n\u001b[0;32m---> 23\u001b[0;31m     \u001b[0my_lambert\u001b[0m \u001b[0;34m+=\u001b[0m \u001b[0;36m20000\u001b[0m \u001b[0;34m*\u001b[0m \u001b[0mint\u001b[0m\u001b[0;34m(\u001b[0m\u001b[0mdfci\u001b[0m\u001b[0;34m[\u001b[0m\u001b[0;36m3\u001b[0m\u001b[0;34m]\u001b[0m\u001b[0;34m)\u001b[0m \u001b[0;34m/\u001b[0m \u001b[0;36m2\u001b[0m\u001b[0;34m\u001b[0m\u001b[0m\n\u001b[0m\u001b[1;32m     24\u001b[0m \u001b[0;34m\u001b[0m\u001b[0m\n\u001b[1;32m     25\u001b[0m     \u001b[0mx_lambert\u001b[0m \u001b[0;34m+=\u001b[0m \u001b[0;36m2000\u001b[0m \u001b[0;34m*\u001b[0m \u001b[0mletters\u001b[0m\u001b[0;34m.\u001b[0m\u001b[0mfind\u001b[0m\u001b[0;34m(\u001b[0m\u001b[0mdfci\u001b[0m\u001b[0;34m[\u001b[0m\u001b[0;36m4\u001b[0m\u001b[0;34m]\u001b[0m\u001b[0;34m)\u001b[0m\u001b[0;34m\u001b[0m\u001b[0m\n",
      "\u001b[0;31mValueError\u001b[0m: invalid literal for int() with base 10: 'B'"
     ]
    }
   ],
   "source": [
    "fire[['lat', 'lon']] = fires['DFCI_coordinate'].apply(dfci_to_wgs)"
   ]
  },
  {
   "cell_type": "code",
   "execution_count": 177,
   "metadata": {},
   "outputs": [],
   "source": [
    "valid_dfci_letters = 'ABCDEFGHKLMN'\n",
    "#fires['DFCI_coordinate'].apply(lambda x: x if x[0] in valid_dfci_letters else valid_dfci_letters.find(x[0])).sum()"
   ]
  },
  {
   "cell_type": "code",
   "execution_count": 24,
   "metadata": {},
   "outputs": [
    {
     "data": {
      "text/plain": [
       "30658716"
      ]
     },
     "execution_count": 24,
     "metadata": {},
     "output_type": "execute_result"
    }
   ],
   "source": [
    "fires['Surface parcourue (m2)'].sum()"
   ]
  },
  {
   "cell_type": "code",
   "execution_count": 4,
   "metadata": {},
   "outputs": [],
   "source": [
    "departments = gpd.read_file('../../../../../Downloads/contours-geographiques-des-departements-2019.geojson').set_index('insee_dep')"
   ]
  },
  {
   "cell_type": "code",
   "execution_count": null,
   "metadata": {},
   "outputs": [],
   "source": []
  },
  {
   "cell_type": "code",
   "execution_count": 41,
   "metadata": {},
   "outputs": [],
   "source": [
    "our_departments = fires['Department'].unique()\n",
    "departments_of_interest = departments.reset_index()[departments.reset_index()['insee_dep'].isin(our_departments)][['geometry', 'insee_dep']]\n",
    "possible_squares = departments_of_interest.apply(lambda x: (x['insee_dep'], [(coord,x['geometry'].intersection(square).area, x['geometry'].intersection(square)) for coord,square in carroyage.reset_index()[['COORD_100', 'geometry']].to_numpy() if x['geometry'].intersects(square)]), axis=1, result_type='expand')\n",
    "possible_squares = possible_squares.rename(columns={0:'dep', 1:'square_coord'}).set_index('dep')"
   ]
  },
  {
   "cell_type": "code",
   "execution_count": 42,
   "metadata": {},
   "outputs": [
    {
     "data": {
      "text/html": [
       "<div>\n",
       "<style scoped>\n",
       "    .dataframe tbody tr th:only-of-type {\n",
       "        vertical-align: middle;\n",
       "    }\n",
       "\n",
       "    .dataframe tbody tr th {\n",
       "        vertical-align: top;\n",
       "    }\n",
       "\n",
       "    .dataframe thead th {\n",
       "        text-align: right;\n",
       "    }\n",
       "</style>\n",
       "<table border=\"1\" class=\"dataframe\">\n",
       "  <thead>\n",
       "    <tr style=\"text-align: right;\">\n",
       "      <th></th>\n",
       "      <th>square_coord</th>\n",
       "    </tr>\n",
       "    <tr>\n",
       "      <th>dep</th>\n",
       "      <th></th>\n",
       "    </tr>\n",
       "  </thead>\n",
       "  <tbody>\n",
       "    <tr>\n",
       "      <th>05</th>\n",
       "      <td>[(KE, 0.23524297968221936, POLYGON ((5.9511214...</td>\n",
       "    </tr>\n",
       "    <tr>\n",
       "      <th>2A</th>\n",
       "      <td>[(NB, 0.3455104028537698, (POLYGON ((8.5979763...</td>\n",
       "    </tr>\n",
       "    <tr>\n",
       "      <th>11</th>\n",
       "      <td>[(FC, 0.2015630331663055, POLYGON ((1.77950052...</td>\n",
       "    </tr>\n",
       "    <tr>\n",
       "      <th>83</th>\n",
       "      <td>[(KC, 0.014073908373870979, (POLYGON ((5.75217...</td>\n",
       "    </tr>\n",
       "    <tr>\n",
       "      <th>13</th>\n",
       "      <td>[(HD, 0.16605295790605085, (POLYGON ((4.404683...</td>\n",
       "    </tr>\n",
       "    <tr>\n",
       "      <th>30</th>\n",
       "      <td>[(GD, 0.04361513946505431, POLYGON ((3.3236337...</td>\n",
       "    </tr>\n",
       "    <tr>\n",
       "      <th>84</th>\n",
       "      <td>[(HD, 0.004363641581048193, (POLYGON ((4.82411...</td>\n",
       "    </tr>\n",
       "    <tr>\n",
       "      <th>48</th>\n",
       "      <td>[(GE, 0.3618226903377088, POLYGON ((3.04993019...</td>\n",
       "    </tr>\n",
       "    <tr>\n",
       "      <th>34</th>\n",
       "      <td>[(GD, 0.4672719411769453, (POLYGON ((3.5010486...</td>\n",
       "    </tr>\n",
       "    <tr>\n",
       "      <th>04</th>\n",
       "      <td>[(KD, 0.14979477977767694, POLYGON ((6.0546936...</td>\n",
       "    </tr>\n",
       "    <tr>\n",
       "      <th>2B</th>\n",
       "      <td>[(NB, 0.05108876544508744, POLYGON ((9.5076824...</td>\n",
       "    </tr>\n",
       "    <tr>\n",
       "      <th>26</th>\n",
       "      <td>[(HE, 0.07039514077230712, (POLYGON ((4.854378...</td>\n",
       "    </tr>\n",
       "    <tr>\n",
       "      <th>06</th>\n",
       "      <td>[(LD, 0.21746799805619882, (POLYGON ((7.073767...</td>\n",
       "    </tr>\n",
       "    <tr>\n",
       "      <th>66</th>\n",
       "      <td>[(FC, 0.12780963652848512, (POLYGON ((1.976567...</td>\n",
       "    </tr>\n",
       "    <tr>\n",
       "      <th>07</th>\n",
       "      <td>[(HE, 0.5000353998458029, POLYGON ((4.85626501...</td>\n",
       "    </tr>\n",
       "  </tbody>\n",
       "</table>\n",
       "</div>"
      ],
      "text/plain": [
       "                                          square_coord\n",
       "dep                                                   \n",
       "05   [(KE, 0.23524297968221936, POLYGON ((5.9511214...\n",
       "2A   [(NB, 0.3455104028537698, (POLYGON ((8.5979763...\n",
       "11   [(FC, 0.2015630331663055, POLYGON ((1.77950052...\n",
       "83   [(KC, 0.014073908373870979, (POLYGON ((5.75217...\n",
       "13   [(HD, 0.16605295790605085, (POLYGON ((4.404683...\n",
       "30   [(GD, 0.04361513946505431, POLYGON ((3.3236337...\n",
       "84   [(HD, 0.004363641581048193, (POLYGON ((4.82411...\n",
       "48   [(GE, 0.3618226903377088, POLYGON ((3.04993019...\n",
       "34   [(GD, 0.4672719411769453, (POLYGON ((3.5010486...\n",
       "04   [(KD, 0.14979477977767694, POLYGON ((6.0546936...\n",
       "2B   [(NB, 0.05108876544508744, POLYGON ((9.5076824...\n",
       "26   [(HE, 0.07039514077230712, (POLYGON ((4.854378...\n",
       "06   [(LD, 0.21746799805619882, (POLYGON ((7.073767...\n",
       "66   [(FC, 0.12780963652848512, (POLYGON ((1.976567...\n",
       "07   [(HE, 0.5000353998458029, POLYGON ((4.85626501..."
      ]
     },
     "execution_count": 42,
     "metadata": {},
     "output_type": "execute_result"
    }
   ],
   "source": []
  },
  {
   "cell_type": "code",
   "execution_count": 88,
   "metadata": {},
   "outputs": [
    {
     "data": {
      "text/plain": [
       "array([ True])"
      ]
     },
     "execution_count": 88,
     "metadata": {},
     "output_type": "execute_result"
    }
   ],
   "source": [
    "square_poly.intersects(dep_poly)"
   ]
  },
  {
   "cell_type": "code",
   "execution_count": 91,
   "metadata": {},
   "outputs": [
    {
     "data": {
      "text/plain": [
       "COORD_100\n",
       "AA    POLYGON ((-4.683890624179722 40.27108311164201...\n",
       "AB    POLYGON ((-4.789769620126292 41.16313991271785...\n",
       "AC    POLYGON ((-4.898797540425189 42.0563106446552,...\n",
       "AD    POLYGON ((-5.011203279184085 42.95033181312999...\n",
       "AE    POLYGON ((-5.127144923221403 43.84499644636202...\n",
       "                            ...                        \n",
       "NH    POLYGON ((8.871871892322154 46.61286468184019,...\n",
       "NK    POLYGON ((8.982109195274971 47.50929196831891,...\n",
       "NL    POLYGON ((9.096119499366559 48.40529329853517,...\n",
       "NM    POLYGON ((9.214101710998571 49.30063952086534,...\n",
       "NN    POLYGON ((9.336266167933237 50.19509903633275,...\n",
       "Name: geometry, Length: 144, dtype: object"
      ]
     },
     "execution_count": 91,
     "metadata": {},
     "output_type": "execute_result"
    }
   ],
   "source": [
    "carroyage['geometry']"
   ]
  },
  {
   "cell_type": "code",
   "execution_count": 5,
   "metadata": {},
   "outputs": [],
   "source": [
    "from shapely.geometry import Point, Polygon\n",
    "carroyage = gpd.read_file('../../../../../Downloads/CARRO_DFCI_100x100_L93/CARROYAGE_DFCI_100X100.shp').set_index('COORD_100')\n",
    "\n",
    "proj = partial(pyproj.transform, Proj('epsg:2154'), Proj('epsg:4326'))\n",
    "new_polygons = []\n",
    "for poly in carroyage['geometry']:\n",
    "    new_poly = transform(proj, poly)\n",
    "    new_poly = transform(lambda *x: x[::-1], new_poly)\n",
    "    new_polygons.append(new_poly)\n",
    "carroyage['geometry'] = new_polygons"
   ]
  },
  {
   "cell_type": "code",
   "execution_count": 93,
   "metadata": {},
   "outputs": [],
   "source": [
    "carroyage.reset_index().to_file('../../../../../Downloads/carroyage_93.json', driver='GeoJSON')"
   ]
  },
  {
   "cell_type": "code",
   "execution_count": 56,
   "metadata": {},
   "outputs": [
    {
     "data": {
      "text/html": [
       "<div>\n",
       "<style scoped>\n",
       "    .dataframe tbody tr th:only-of-type {\n",
       "        vertical-align: middle;\n",
       "    }\n",
       "\n",
       "    .dataframe tbody tr th {\n",
       "        vertical-align: top;\n",
       "    }\n",
       "\n",
       "    .dataframe thead th {\n",
       "        text-align: right;\n",
       "    }\n",
       "</style>\n",
       "<table border=\"1\" class=\"dataframe\">\n",
       "  <thead>\n",
       "    <tr style=\"text-align: right;\">\n",
       "      <th></th>\n",
       "      <th>COORD_100</th>\n",
       "      <th>geometry</th>\n",
       "      <th>geometry_wgs</th>\n",
       "    </tr>\n",
       "  </thead>\n",
       "  <tbody>\n",
       "    <tr>\n",
       "      <th>0</th>\n",
       "      <td>AA</td>\n",
       "      <td>POLYGON ((40.27108 -4.68389, 40.36024 -4.69433...</td>\n",
       "      <td>POLYGON ((40.27108 -4.68389, 40.36024 -4.69433...</td>\n",
       "    </tr>\n",
       "    <tr>\n",
       "      <th>1</th>\n",
       "      <td>AB</td>\n",
       "      <td>POLYGON ((41.16314 -4.78977, 41.25241 -4.80052...</td>\n",
       "      <td>POLYGON ((41.16314 -4.78977, 41.25241 -4.80052...</td>\n",
       "    </tr>\n",
       "    <tr>\n",
       "      <th>2</th>\n",
       "      <td>AC</td>\n",
       "      <td>POLYGON ((42.05631 -4.89880, 42.14568 -4.90988...</td>\n",
       "      <td>POLYGON ((42.05631 -4.89880, 42.14568 -4.90988...</td>\n",
       "    </tr>\n",
       "    <tr>\n",
       "      <th>3</th>\n",
       "      <td>AD</td>\n",
       "      <td>POLYGON ((42.95033 -5.01120, 43.03977 -5.02264...</td>\n",
       "      <td>POLYGON ((42.95033 -5.01120, 43.03977 -5.02264...</td>\n",
       "    </tr>\n",
       "    <tr>\n",
       "      <th>4</th>\n",
       "      <td>AE</td>\n",
       "      <td>POLYGON ((43.84500 -5.12714, 43.93449 -5.13894...</td>\n",
       "      <td>POLYGON ((43.84500 -5.12714, 43.93449 -5.13894...</td>\n",
       "    </tr>\n",
       "    <tr>\n",
       "      <th>...</th>\n",
       "      <td>...</td>\n",
       "      <td>...</td>\n",
       "      <td>...</td>\n",
       "    </tr>\n",
       "    <tr>\n",
       "      <th>139</th>\n",
       "      <td>NH</td>\n",
       "      <td>POLYGON ((46.61286 8.87187, 46.70252 8.88273, ...</td>\n",
       "      <td>POLYGON ((46.61286 8.87187, 46.70252 8.88273, ...</td>\n",
       "    </tr>\n",
       "    <tr>\n",
       "      <th>140</th>\n",
       "      <td>NK</td>\n",
       "      <td>POLYGON ((47.50929 8.98211, 47.59892 8.99334, ...</td>\n",
       "      <td>POLYGON ((47.50929 8.98211, 47.59892 8.99334, ...</td>\n",
       "    </tr>\n",
       "    <tr>\n",
       "      <th>141</th>\n",
       "      <td>NL</td>\n",
       "      <td>POLYGON ((48.40529 9.09612, 48.49486 9.10774, ...</td>\n",
       "      <td>POLYGON ((48.40529 9.09612, 48.49486 9.10774, ...</td>\n",
       "    </tr>\n",
       "    <tr>\n",
       "      <th>142</th>\n",
       "      <td>NM</td>\n",
       "      <td>POLYGON ((49.30064 9.21410, 49.39013 9.22613, ...</td>\n",
       "      <td>POLYGON ((49.30064 9.21410, 49.39013 9.22613, ...</td>\n",
       "    </tr>\n",
       "    <tr>\n",
       "      <th>143</th>\n",
       "      <td>NN</td>\n",
       "      <td>POLYGON ((50.19510 9.33627, 50.28449 9.34872, ...</td>\n",
       "      <td>POLYGON ((50.19510 9.33627, 50.28449 9.34872, ...</td>\n",
       "    </tr>\n",
       "  </tbody>\n",
       "</table>\n",
       "<p>144 rows × 3 columns</p>\n",
       "</div>"
      ],
      "text/plain": [
       "    COORD_100                                           geometry  \\\n",
       "0          AA  POLYGON ((40.27108 -4.68389, 40.36024 -4.69433...   \n",
       "1          AB  POLYGON ((41.16314 -4.78977, 41.25241 -4.80052...   \n",
       "2          AC  POLYGON ((42.05631 -4.89880, 42.14568 -4.90988...   \n",
       "3          AD  POLYGON ((42.95033 -5.01120, 43.03977 -5.02264...   \n",
       "4          AE  POLYGON ((43.84500 -5.12714, 43.93449 -5.13894...   \n",
       "..        ...                                                ...   \n",
       "139        NH  POLYGON ((46.61286 8.87187, 46.70252 8.88273, ...   \n",
       "140        NK  POLYGON ((47.50929 8.98211, 47.59892 8.99334, ...   \n",
       "141        NL  POLYGON ((48.40529 9.09612, 48.49486 9.10774, ...   \n",
       "142        NM  POLYGON ((49.30064 9.21410, 49.39013 9.22613, ...   \n",
       "143        NN  POLYGON ((50.19510 9.33627, 50.28449 9.34872, ...   \n",
       "\n",
       "                                          geometry_wgs  \n",
       "0    POLYGON ((40.27108 -4.68389, 40.36024 -4.69433...  \n",
       "1    POLYGON ((41.16314 -4.78977, 41.25241 -4.80052...  \n",
       "2    POLYGON ((42.05631 -4.89880, 42.14568 -4.90988...  \n",
       "3    POLYGON ((42.95033 -5.01120, 43.03977 -5.02264...  \n",
       "4    POLYGON ((43.84500 -5.12714, 43.93449 -5.13894...  \n",
       "..                                                 ...  \n",
       "139  POLYGON ((46.61286 8.87187, 46.70252 8.88273, ...  \n",
       "140  POLYGON ((47.50929 8.98211, 47.59892 8.99334, ...  \n",
       "141  POLYGON ((48.40529 9.09612, 48.49486 9.10774, ...  \n",
       "142  POLYGON ((49.30064 9.21410, 49.39013 9.22613, ...  \n",
       "143  POLYGON ((50.19510 9.33627, 50.28449 9.34872, ...  \n",
       "\n",
       "[144 rows x 3 columns]"
      ]
     },
     "execution_count": 56,
     "metadata": {},
     "output_type": "execute_result"
    }
   ],
   "source": [
    "carroyage"
   ]
  },
  {
   "cell_type": "code",
   "execution_count": null,
   "metadata": {},
   "outputs": [],
   "source": [
    "fires['DFCI_coordinate'] = fires[['Department', 'DFCI_coordinate']].apply(replace_wrong_dfci_coordinate, axis=1)"
   ]
  },
  {
   "cell_type": "code",
   "execution_count": 53,
   "metadata": {},
   "outputs": [],
   "source": [
    "def replace_wrong_dfci_coordinate(x):\n",
    "    valid_letters = 'ABCDEFGHKLMN'\n",
    "    dep = x['Department']\n",
    "    DFCI_coord = x['DFCI_coordinate'].upper()\n",
    "    if not DFCI_coord[-2].isdigit():\n",
    "        randoms = np.random.rand(2)\n",
    "        token = str(int(4*randoms[0])+1)\n",
    "        if randoms[1] < 1/4:\n",
    "            token = '5'\n",
    "        return np.nan#DFCI_coord + token\n",
    "    if len(DFCI_coord) == 4:\n",
    "        return np.nan#DFCI_coord + 'E53'\n",
    "    if len(DFCI_coord) != 7:\n",
    "        possible_squares_dep = possible_squares.loc[dep]['square_coord']\n",
    "        squares, probas, intersecs = list(zip(*possible_squares_dep))\n",
    "        square_id = np.random.choice(np.arange(0,len(probas)), p=np.array(probas)/sum(probas))\n",
    "        return draw_random_dfci_coordinate_from_100_in_inter(squares[square_id], intersecs[square_id])\n",
    "    return DFCI_coord\n",
    "        \n",
    "def draw_random_dfci_coordinate_from_100_in_inter(big_square_coordinate, intersec):\n",
    "    point = Point(0,0)\n",
    "    valid_letters = 'ABCDEFGHKL'\n",
    "    while(not point.within(intersec)):\n",
    "        dfci_coordinate = big_square_coordinate\n",
    "        randoms = np.random.rand(5)\n",
    "        dfci_coordinate += str(int(5*randoms[0]) * 2)\n",
    "        dfci_coordinate += str(int(5*randoms[1]) * 2)\n",
    "        dfci_coordinate += valid_letters[int(10*randoms[2])]\n",
    "        dfci_coordinate += str(int(10*randoms[3]))\n",
    "        dfci_coordinate += str(int(5*randoms[4]) + 1)\n",
    "        lat, lon = dfci_to_wgs([dfci_coordinate])\n",
    "        point = Point(lon[0], lat[0])\n",
    "    return point"
   ]
  },
  {
   "cell_type": "code",
   "execution_count": 40,
   "metadata": {},
   "outputs": [],
   "source": [
    "%run utils.py\n",
    "lat, lon = dfci_to_wgs(fires[fires['DFCI_coordinate'].notna()]['DFCI_coordinate'].values)\n",
    "\n",
    "fire_points = gpd.GeoDataFrame({'geometry':[Point(y,x) for x,y in zip(lat, lon)]})\n",
    "\n",
    "fire_points.to_file('../../../../../Downloads/fire_points.json', driver='GeoJSON')"
   ]
  },
  {
   "cell_type": "code",
   "execution_count": 180,
   "metadata": {},
   "outputs": [
    {
     "data": {
      "text/html": [
       "<div>\n",
       "<style scoped>\n",
       "    .dataframe tbody tr th:only-of-type {\n",
       "        vertical-align: middle;\n",
       "    }\n",
       "\n",
       "    .dataframe tbody tr th {\n",
       "        vertical-align: top;\n",
       "    }\n",
       "\n",
       "    .dataframe thead th {\n",
       "        text-align: right;\n",
       "    }\n",
       "</style>\n",
       "<table border=\"1\" class=\"dataframe\">\n",
       "  <thead>\n",
       "    <tr style=\"text-align: right;\">\n",
       "      <th></th>\n",
       "      <th>DFCI_coordinate</th>\n",
       "      <th>Department</th>\n",
       "      <th>Year</th>\n",
       "    </tr>\n",
       "  </thead>\n",
       "  <tbody>\n",
       "    <tr>\n",
       "      <th>1</th>\n",
       "      <td>R21B03</td>\n",
       "      <td>06</td>\n",
       "      <td>1973</td>\n",
       "    </tr>\n",
       "    <tr>\n",
       "      <th>3</th>\n",
       "      <td>O21C16</td>\n",
       "      <td>84</td>\n",
       "      <td>1973</td>\n",
       "    </tr>\n",
       "    <tr>\n",
       "      <th>6</th>\n",
       "      <td>O21F02</td>\n",
       "      <td>84</td>\n",
       "      <td>1973</td>\n",
       "    </tr>\n",
       "    <tr>\n",
       "      <th>7</th>\n",
       "      <td>P22O27</td>\n",
       "      <td>83</td>\n",
       "      <td>1973</td>\n",
       "    </tr>\n",
       "    <tr>\n",
       "      <th>8</th>\n",
       "      <td>P22O17</td>\n",
       "      <td>83</td>\n",
       "      <td>1973</td>\n",
       "    </tr>\n",
       "    <tr>\n",
       "      <th>...</th>\n",
       "      <td>...</td>\n",
       "      <td>...</td>\n",
       "      <td>...</td>\n",
       "    </tr>\n",
       "    <tr>\n",
       "      <th>125287</th>\n",
       "      <td>P24S20</td>\n",
       "      <td>83</td>\n",
       "      <td>1983</td>\n",
       "    </tr>\n",
       "    <tr>\n",
       "      <th>125302</th>\n",
       "      <td>Q23N09</td>\n",
       "      <td>83</td>\n",
       "      <td>1983</td>\n",
       "    </tr>\n",
       "    <tr>\n",
       "      <th>125311</th>\n",
       "      <td>Q22E10</td>\n",
       "      <td>83</td>\n",
       "      <td>1983</td>\n",
       "    </tr>\n",
       "    <tr>\n",
       "      <th>127653</th>\n",
       "      <td>Q23M07</td>\n",
       "      <td>83</td>\n",
       "      <td>1983</td>\n",
       "    </tr>\n",
       "    <tr>\n",
       "      <th>128233</th>\n",
       "      <td>P22J21</td>\n",
       "      <td>83</td>\n",
       "      <td>1983</td>\n",
       "    </tr>\n",
       "  </tbody>\n",
       "</table>\n",
       "<p>38681 rows × 3 columns</p>\n",
       "</div>"
      ],
      "text/plain": [
       "       DFCI_coordinate Department  Year\n",
       "1               R21B03         06  1973\n",
       "3               O21C16         84  1973\n",
       "6               O21F02         84  1973\n",
       "7               P22O27         83  1973\n",
       "8               P22O17         83  1973\n",
       "...                ...        ...   ...\n",
       "125287          P24S20         83  1983\n",
       "125302          Q23N09         83  1983\n",
       "125311          Q22E10         83  1983\n",
       "127653          Q23M07         83  1983\n",
       "128233          P22J21         83  1983\n",
       "\n",
       "[38681 rows x 3 columns]"
      ]
     },
     "execution_count": 180,
     "metadata": {},
     "output_type": "execute_result"
    }
   ],
   "source": [
    "fires[['DFCI_coordinate','Department', 'Year']][fires['DFCI_coordinate'].apply(lambda x: x[0].upper() not in valid_dfci_letters)]"
   ]
  },
  {
   "cell_type": "code",
   "execution_count": 192,
   "metadata": {},
   "outputs": [
    {
     "data": {
      "text/html": [
       "<div>\n",
       "<style scoped>\n",
       "    .dataframe tbody tr th:only-of-type {\n",
       "        vertical-align: middle;\n",
       "    }\n",
       "\n",
       "    .dataframe tbody tr th {\n",
       "        vertical-align: top;\n",
       "    }\n",
       "\n",
       "    .dataframe thead th {\n",
       "        text-align: right;\n",
       "    }\n",
       "</style>\n",
       "<table border=\"1\" class=\"dataframe\">\n",
       "  <thead>\n",
       "    <tr style=\"text-align: right;\">\n",
       "      <th></th>\n",
       "      <th>Year</th>\n",
       "      <th>ID</th>\n",
       "      <th>Department</th>\n",
       "      <th>INSEE_code</th>\n",
       "      <th>Town</th>\n",
       "      <th>Locality</th>\n",
       "      <th>DFCI_coordinate</th>\n",
       "      <th>Signal</th>\n",
       "      <th>Origin</th>\n",
       "      <th>Area</th>\n",
       "    </tr>\n",
       "  </thead>\n",
       "  <tbody>\n",
       "    <tr>\n",
       "      <th>136331</th>\n",
       "      <td>1984</td>\n",
       "      <td>13967</td>\n",
       "      <td>84</td>\n",
       "      <td>84087</td>\n",
       "      <td>Orange</td>\n",
       "      <td>NaN</td>\n",
       "      <td>N20C20</td>\n",
       "      <td>1984-06-29 18:34:00</td>\n",
       "      <td>NaN</td>\n",
       "      <td>0.001</td>\n",
       "    </tr>\n",
       "  </tbody>\n",
       "</table>\n",
       "</div>"
      ],
      "text/plain": [
       "        Year     ID Department INSEE_code    Town Locality DFCI_coordinate  \\\n",
       "136331  1984  13967         84      84087  Orange      NaN          N20C20   \n",
       "\n",
       "                     Signal  Origin   Area  \n",
       "136331  1984-06-29 18:34:00     NaN  0.001  "
      ]
     },
     "execution_count": 192,
     "metadata": {},
     "output_type": "execute_result"
    }
   ],
   "source": [
    "fires[(fires['Year'] > 1983) & (fires['DFCI_coordinate'].apply(lambda x: x[1].isdigit())) & (fires['DFCI_coordinate'].apply(len)<7)]"
   ]
  },
  {
   "cell_type": "code",
   "execution_count": null,
   "metadata": {},
   "outputs": [],
   "source": []
  }
 ],
 "metadata": {
  "kernelspec": {
   "display_name": "Python 3",
   "language": "python",
   "name": "python3"
  },
  "language_info": {
   "codemirror_mode": {
    "name": "ipython",
    "version": 3
   },
   "file_extension": ".py",
   "mimetype": "text/x-python",
   "name": "python",
   "nbconvert_exporter": "python",
   "pygments_lexer": "ipython3",
   "version": "3.6.6"
  }
 },
 "nbformat": 4,
 "nbformat_minor": 2
}
