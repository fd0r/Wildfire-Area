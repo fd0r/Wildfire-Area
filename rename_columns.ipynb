{
 "cells": [
  {
   "cell_type": "code",
   "execution_count": 1,
   "metadata": {},
   "outputs": [],
   "source": [
    "import pandas as pd\n",
    "import os"
   ]
  },
  {
   "cell_type": "code",
   "execution_count": 2,
   "metadata": {},
   "outputs": [
    {
     "data": {
      "text/plain": [
       "['data_synop',\n",
       " 'donnees-synop-essentielles-omm.csv',\n",
       " 'fires_with_meteo.csv',\n",
       " 'fires_with_meteo_full_one.csv',\n",
       " 'liste_incendies_ du_10_01_2020.csv',\n",
       " 'meteo_stations.csv',\n",
       " 'private_test.csv',\n",
       " 'private_train.csv',\n",
       " 'processed_meteo_stations.csv',\n",
       " 'synop_aglomerated.csv',\n",
       " 'test.csv',\n",
       " 'train.csv']"
      ]
     },
     "execution_count": 2,
     "metadata": {},
     "output_type": "execute_result"
    }
   ],
   "source": [
    "os.listdir('./data')"
   ]
  },
  {
   "cell_type": "code",
   "execution_count": 3,
   "metadata": {},
   "outputs": [
    {
     "name": "stderr",
     "output_type": "stream",
     "text": [
      "c:\\users\\luism\\appdata\\local\\programs\\python\\python36\\lib\\site-packages\\IPython\\core\\interactiveshell.py:3058: DtypeWarning: Columns (2) have mixed types. Specify dtype option on import or set low_memory=False.\n",
      "  interactivity=interactivity, compiler=compiler, result=result)\n"
     ]
    }
   ],
   "source": [
    "meteo_1 = pd.read_csv('./data/processed_meteo_stations.csv', sep=\";\")"
   ]
  },
  {
   "cell_type": "code",
   "execution_count": 4,
   "metadata": {},
   "outputs": [
    {
     "name": "stderr",
     "output_type": "stream",
     "text": [
      "c:\\users\\luism\\appdata\\local\\programs\\python\\python36\\lib\\site-packages\\IPython\\core\\interactiveshell.py:3058: DtypeWarning: Columns (11,63) have mixed types. Specify dtype option on import or set low_memory=False.\n",
      "  interactivity=interactivity, compiler=compiler, result=result)\n"
     ]
    }
   ],
   "source": [
    "meteo_2 = pd.read_csv('./data/donnees-synop-essentielles-omm.csv', sep=\";\")"
   ]
  },
  {
   "cell_type": "code",
   "execution_count": 5,
   "metadata": {},
   "outputs": [
    {
     "name": "stderr",
     "output_type": "stream",
     "text": [
      "c:\\users\\luism\\appdata\\local\\programs\\python\\python36\\lib\\site-packages\\IPython\\core\\interactiveshell.py:3058: DtypeWarning: Columns (3,4,5,6,7,8,9,20) have mixed types. Specify dtype option on import or set low_memory=False.\n",
      "  interactivity=interactivity, compiler=compiler, result=result)\n"
     ]
    }
   ],
   "source": [
    "meteo_3 = pd.read_csv('./data/synop_aglomerated.csv', sep=\",\")"
   ]
  },
  {
   "cell_type": "code",
   "execution_count": 6,
   "metadata": {},
   "outputs": [
    {
     "data": {
      "text/html": [
       "<div>\n",
       "<style scoped>\n",
       "    .dataframe tbody tr th:only-of-type {\n",
       "        vertical-align: middle;\n",
       "    }\n",
       "\n",
       "    .dataframe tbody tr th {\n",
       "        vertical-align: top;\n",
       "    }\n",
       "\n",
       "    .dataframe thead th {\n",
       "        text-align: right;\n",
       "    }\n",
       "</style>\n",
       "<table border=\"1\" class=\"dataframe\">\n",
       "  <thead>\n",
       "    <tr style=\"text-align: right;\">\n",
       "      <th></th>\n",
       "      <th>Unnamed: 0</th>\n",
       "      <th>date</th>\n",
       "      <th>insee_code</th>\n",
       "      <th>Durée d'ensoleillement de la journée</th>\n",
       "      <th>Hauteur des précipitations</th>\n",
       "      <th>Température minimale de la journée</th>\n",
       "      <th>Température maximale de la journée</th>\n",
       "    </tr>\n",
       "  </thead>\n",
       "  <tbody>\n",
       "    <tr>\n",
       "      <th>206311</th>\n",
       "      <td>206311</td>\n",
       "      <td>2020-01-23</td>\n",
       "      <td>2B033</td>\n",
       "      <td>0h</td>\n",
       "      <td>0.8mm</td>\n",
       "      <td>5.4°C</td>\n",
       "      <td>13.9°C</td>\n",
       "    </tr>\n",
       "    <tr>\n",
       "      <th>206312</th>\n",
       "      <td>206312</td>\n",
       "      <td>2020-01-24</td>\n",
       "      <td>2B033</td>\n",
       "      <td>0h</td>\n",
       "      <td>45.0mm</td>\n",
       "      <td>9.8°C</td>\n",
       "      <td>14.1°C</td>\n",
       "    </tr>\n",
       "    <tr>\n",
       "      <th>206313</th>\n",
       "      <td>206313</td>\n",
       "      <td>2020-01-25</td>\n",
       "      <td>2B033</td>\n",
       "      <td>5h</td>\n",
       "      <td>0.0mm</td>\n",
       "      <td>6.7°C</td>\n",
       "      <td>16.0°C</td>\n",
       "    </tr>\n",
       "    <tr>\n",
       "      <th>206314</th>\n",
       "      <td>206314</td>\n",
       "      <td>2020-01-26</td>\n",
       "      <td>2B033</td>\n",
       "      <td>7h</td>\n",
       "      <td>0.0mm</td>\n",
       "      <td>7.0°C</td>\n",
       "      <td>15.5°C</td>\n",
       "    </tr>\n",
       "    <tr>\n",
       "      <th>206315</th>\n",
       "      <td>206315</td>\n",
       "      <td>2020-01-27</td>\n",
       "      <td>2B033</td>\n",
       "      <td>7h</td>\n",
       "      <td>0.0mm</td>\n",
       "      <td>5.5°C</td>\n",
       "      <td>15.5°C</td>\n",
       "    </tr>\n",
       "  </tbody>\n",
       "</table>\n",
       "</div>"
      ],
      "text/plain": [
       "        Unnamed: 0        date insee_code  \\\n",
       "206311      206311  2020-01-23      2B033   \n",
       "206312      206312  2020-01-24      2B033   \n",
       "206313      206313  2020-01-25      2B033   \n",
       "206314      206314  2020-01-26      2B033   \n",
       "206315      206315  2020-01-27      2B033   \n",
       "\n",
       "       Durée d'ensoleillement de la journée Hauteur des précipitations  \\\n",
       "206311                                   0h                      0.8mm   \n",
       "206312                                   0h                     45.0mm   \n",
       "206313                                   5h                      0.0mm   \n",
       "206314                                   7h                      0.0mm   \n",
       "206315                                   7h                      0.0mm   \n",
       "\n",
       "       Température minimale de la journée Température maximale de la journée  \n",
       "206311                              5.4°C                             13.9°C  \n",
       "206312                              9.8°C                             14.1°C  \n",
       "206313                              6.7°C                             16.0°C  \n",
       "206314                              7.0°C                             15.5°C  \n",
       "206315                              5.5°C                             15.5°C  "
      ]
     },
     "execution_count": 6,
     "metadata": {},
     "output_type": "execute_result"
    }
   ],
   "source": [
    "meteo_1.tail()"
   ]
  },
  {
   "cell_type": "code",
   "execution_count": 17,
   "metadata": {},
   "outputs": [],
   "source": [
    "meteo_1 = meteo_1.drop(columns=['Unnamed: 0'])"
   ]
  },
  {
   "cell_type": "code",
   "execution_count": 19,
   "metadata": {},
   "outputs": [],
   "source": [
    "meteo_1 = meteo_1.rename(columns={\"Durée d'ensoleillement de la journée\": \"daylight duration (hours)\",\n",
    "                        \"Hauteur des précipitations\": \"rainfall (mm)\",\n",
    "                        \"Température minimale de la journée\": \"minimum temperature (celsius)\",\n",
    "                        \"Température maximale de la journée\": \"maximal temperature (celsius)\"\n",
    "                       })"
   ]
  },
  {
   "cell_type": "code",
   "execution_count": 21,
   "metadata": {},
   "outputs": [],
   "source": [
    "meteo_1[\"daylight duration (hours)\"] = meteo_1[\"daylight duration (hours)\"].str[:-1]\n",
    "meteo_1[\"rainfall (mm)\"] = meteo_1[\"rainfall (mm)\"].str[:-2]"
   ]
  },
  {
   "cell_type": "code",
   "execution_count": 22,
   "metadata": {},
   "outputs": [],
   "source": [
    "meteo_1[\"minimum temperature (celsius)\"] = meteo_1[\"minimum temperature (celsius)\"].str[:-2]\n",
    "meteo_1[\"maximal temperature (celsius)\"] = meteo_1[\"maximal temperature (celsius)\"].str[:-2]"
   ]
  },
  {
   "cell_type": "code",
   "execution_count": 25,
   "metadata": {},
   "outputs": [
    {
     "data": {
      "text/html": [
       "<div>\n",
       "<style scoped>\n",
       "    .dataframe tbody tr th:only-of-type {\n",
       "        vertical-align: middle;\n",
       "    }\n",
       "\n",
       "    .dataframe tbody tr th {\n",
       "        vertical-align: top;\n",
       "    }\n",
       "\n",
       "    .dataframe thead th {\n",
       "        text-align: right;\n",
       "    }\n",
       "</style>\n",
       "<table border=\"1\" class=\"dataframe\">\n",
       "  <thead>\n",
       "    <tr style=\"text-align: right;\">\n",
       "      <th></th>\n",
       "      <th>date</th>\n",
       "      <th>insee_code</th>\n",
       "      <th>daylight duration (hours)</th>\n",
       "      <th>rainfall (mm)</th>\n",
       "      <th>minimum temperature (celsius)</th>\n",
       "      <th>maximal temperature (celsius)</th>\n",
       "    </tr>\n",
       "  </thead>\n",
       "  <tbody>\n",
       "    <tr>\n",
       "      <th>206315</th>\n",
       "      <td>2020-01-27</td>\n",
       "      <td>2B033</td>\n",
       "      <td>7</td>\n",
       "      <td>0.0</td>\n",
       "      <td>5.5</td>\n",
       "      <td>15.5</td>\n",
       "    </tr>\n",
       "  </tbody>\n",
       "</table>\n",
       "</div>"
      ],
      "text/plain": [
       "              date insee_code daylight duration (hours) rainfall (mm)  \\\n",
       "206315  2020-01-27      2B033                         7           0.0   \n",
       "\n",
       "       minimum temperature (celsius) maximal temperature (celsius)  \n",
       "206315                           5.5                          15.5  "
      ]
     },
     "execution_count": 25,
     "metadata": {},
     "output_type": "execute_result"
    }
   ],
   "source": [
    "meteo_1.tail(1)"
   ]
  },
  {
   "cell_type": "code",
   "execution_count": 26,
   "metadata": {},
   "outputs": [],
   "source": [
    "meteo_1.to_csv('./data/_processed_meteo_stations.csv', sep=\";\")"
   ]
  },
  {
   "cell_type": "code",
   "execution_count": 27,
   "metadata": {},
   "outputs": [
    {
     "data": {
      "text/html": [
       "<div>\n",
       "<style scoped>\n",
       "    .dataframe tbody tr th:only-of-type {\n",
       "        vertical-align: middle;\n",
       "    }\n",
       "\n",
       "    .dataframe tbody tr th {\n",
       "        vertical-align: top;\n",
       "    }\n",
       "\n",
       "    .dataframe thead th {\n",
       "        text-align: right;\n",
       "    }\n",
       "</style>\n",
       "<table border=\"1\" class=\"dataframe\">\n",
       "  <thead>\n",
       "    <tr style=\"text-align: right;\">\n",
       "      <th></th>\n",
       "      <th>ID OMM station</th>\n",
       "      <th>Date</th>\n",
       "      <th>Pression au niveau mer</th>\n",
       "      <th>Variation de pression en 3 heures</th>\n",
       "      <th>Type de tendance barométrique</th>\n",
       "      <th>Direction du vent moyen 10 mn</th>\n",
       "      <th>Vitesse du vent moyen 10 mn</th>\n",
       "      <th>Température</th>\n",
       "      <th>Point de rosée</th>\n",
       "      <th>Humidité</th>\n",
       "      <th>...</th>\n",
       "      <th>Longitude</th>\n",
       "      <th>Latitude</th>\n",
       "      <th>communes (name)</th>\n",
       "      <th>communes (code)</th>\n",
       "      <th>EPCI (name)</th>\n",
       "      <th>EPCI (code)</th>\n",
       "      <th>department (name)</th>\n",
       "      <th>department (code)</th>\n",
       "      <th>region (name)</th>\n",
       "      <th>region (code)</th>\n",
       "    </tr>\n",
       "  </thead>\n",
       "  <tbody>\n",
       "    <tr>\n",
       "      <th>1653388</th>\n",
       "      <td>7627</td>\n",
       "      <td>2019-06-11T02:00:00+02:00</td>\n",
       "      <td>101650.0</td>\n",
       "      <td>-180.0</td>\n",
       "      <td>7.0</td>\n",
       "      <td>320.0</td>\n",
       "      <td>0.9</td>\n",
       "      <td>283.45</td>\n",
       "      <td>282.65</td>\n",
       "      <td>95.0</td>\n",
       "      <td>...</td>\n",
       "      <td>1.106833</td>\n",
       "      <td>43.005333</td>\n",
       "      <td>Lorp-Sentaraille</td>\n",
       "      <td>09289</td>\n",
       "      <td>CC Couserans-Pyrénées</td>\n",
       "      <td>200067940.0</td>\n",
       "      <td>Ariège</td>\n",
       "      <td>09</td>\n",
       "      <td>Occitanie</td>\n",
       "      <td>76.0</td>\n",
       "    </tr>\n",
       "  </tbody>\n",
       "</table>\n",
       "<p>1 rows × 81 columns</p>\n",
       "</div>"
      ],
      "text/plain": [
       "         ID OMM station                       Date  Pression au niveau mer  \\\n",
       "1653388            7627  2019-06-11T02:00:00+02:00                101650.0   \n",
       "\n",
       "         Variation de pression en 3 heures  Type de tendance barométrique  \\\n",
       "1653388                             -180.0                            7.0   \n",
       "\n",
       "         Direction du vent moyen 10 mn  Vitesse du vent moyen 10 mn  \\\n",
       "1653388                          320.0                          0.9   \n",
       "\n",
       "         Température  Point de rosée  Humidité  ...  Longitude   Latitude  \\\n",
       "1653388       283.45          282.65      95.0  ...   1.106833  43.005333   \n",
       "\n",
       "          communes (name)  communes (code)            EPCI (name)  \\\n",
       "1653388  Lorp-Sentaraille            09289  CC Couserans-Pyrénées   \n",
       "\n",
       "         EPCI (code)  department (name)  department (code)  region (name)  \\\n",
       "1653388  200067940.0             Ariège                 09      Occitanie   \n",
       "\n",
       "         region (code)  \n",
       "1653388           76.0  \n",
       "\n",
       "[1 rows x 81 columns]"
      ]
     },
     "execution_count": 27,
     "metadata": {},
     "output_type": "execute_result"
    }
   ],
   "source": [
    "meteo_2.tail(1)"
   ]
  },
  {
   "cell_type": "code",
   "execution_count": 31,
   "metadata": {},
   "outputs": [
    {
     "data": {
      "text/plain": [
       "Index(['ID OMM station', 'Date', 'Pression au niveau mer',\n",
       "       'Variation de pression en 3 heures', 'Type de tendance barométrique',\n",
       "       'Direction du vent moyen 10 mn', 'Vitesse du vent moyen 10 mn',\n",
       "       'Température', 'Point de rosée', 'Humidité', 'Visibilité horizontale',\n",
       "       'Temps présent', 'Temps passé 1', 'Temps passé 2', 'Nebulosité totale',\n",
       "       'Nébulosité  des nuages de l' étage inférieur',\n",
       "       'Hauteur de la base des nuages de l'étage inférieur',\n",
       "       'Type des nuages de l'étage inférieur',\n",
       "       'Type des nuages de l'étage moyen',\n",
       "       'Type des nuages de l'étage supérieur', 'Pression station',\n",
       "       'Niveau barométrique', 'Géopotentiel',\n",
       "       'Variation de pression en 24 heures',\n",
       "       'Température minimale sur 12 heures',\n",
       "       'Température minimale sur 24 heures',\n",
       "       'Température maximale sur 12 heures',\n",
       "       'Température maximale sur 24 heures',\n",
       "       'Température minimale du sol sur 12 heures',\n",
       "       'Méthode de mesure Température du thermomètre mouillé',\n",
       "       'Température du thermomètre mouillé',\n",
       "       'Rafale sur les 10 dernières minutes', 'Rafales sur une période',\n",
       "       'Periode de mesure de la rafale', 'Etat du sol',\n",
       "       'Hauteur totale de la couche de neige, glace, autre au sol',\n",
       "       'Hauteur de la neige fraîche', 'Periode de mesure de la neige fraiche',\n",
       "       'Précipitations dans la dernière heure',\n",
       "       'Précipitations dans les 3 dernières heures',\n",
       "       'Précipitations dans les 6 dernières heures',\n",
       "       'Précipitations dans les 12 dernières heures',\n",
       "       'Précipitations dans les 24 dernières heures', 'Phénomène spécial 1',\n",
       "       'Phénomène spécial 2', 'Phénomène spécial 3', 'Phénomène spécial 4',\n",
       "       'Nébulosité couche nuageuse 1', 'Type nuage 1', 'Hauteur de base 1',\n",
       "       'Nébulosité couche nuageuse 2', 'Type nuage 2', 'Hauteur de base 2',\n",
       "       'Nébulosité couche nuageuse 3', 'Type nuage 3', 'Hauteur de base 3',\n",
       "       'Nébulosité couche nuageuse 4', 'Type nuage 4', 'Hauteur de base 4',\n",
       "       'Coordonnees', 'Nom', 'Type de tendance barométrique.1',\n",
       "       'Temps passé 1.1', 'Temps présent.1', 'Température (°C)',\n",
       "       'Température minimale sur 12 heures (°C)',\n",
       "       'Température minimale sur 24 heures (°C)',\n",
       "       'Température maximale sur 12 heures (°C)',\n",
       "       'Température maximale sur 24 heures (°C)',\n",
       "       'Température minimale du sol sur 12 heures (en °C)', 'Altitude',\n",
       "       'Longitude', 'Latitude', 'communes (name)', 'communes (code)',\n",
       "       'EPCI (name)', 'EPCI (code)', 'department (name)', 'department (code)',\n",
       "       'region (name)', 'region (code)'],\n",
       "      dtype='object')"
      ]
     },
     "execution_count": 31,
     "metadata": {},
     "output_type": "execute_result"
    }
   ],
   "source": [
    "meteo_2.columns"
   ]
  },
  {
   "cell_type": "code",
   "execution_count": 30,
   "metadata": {},
   "outputs": [
    {
     "data": {
      "text/html": [
       "<div>\n",
       "<style scoped>\n",
       "    .dataframe tbody tr th:only-of-type {\n",
       "        vertical-align: middle;\n",
       "    }\n",
       "\n",
       "    .dataframe tbody tr th {\n",
       "        vertical-align: top;\n",
       "    }\n",
       "\n",
       "    .dataframe thead th {\n",
       "        text-align: right;\n",
       "    }\n",
       "</style>\n",
       "<table border=\"1\" class=\"dataframe\">\n",
       "  <thead>\n",
       "    <tr style=\"text-align: right;\">\n",
       "      <th></th>\n",
       "      <th>numer_sta</th>\n",
       "      <th>date</th>\n",
       "      <th>pmer</th>\n",
       "      <th>tend</th>\n",
       "      <th>cod_tend</th>\n",
       "      <th>dd</th>\n",
       "      <th>ff</th>\n",
       "      <th>t</th>\n",
       "      <th>td</th>\n",
       "      <th>u</th>\n",
       "      <th>...</th>\n",
       "      <th>nnuage2</th>\n",
       "      <th>ctype2</th>\n",
       "      <th>hnuage2</th>\n",
       "      <th>nnuage3</th>\n",
       "      <th>ctype3</th>\n",
       "      <th>hnuage3</th>\n",
       "      <th>nnuage4</th>\n",
       "      <th>ctype4</th>\n",
       "      <th>hnuage4</th>\n",
       "      <th>Unnamed: 59</th>\n",
       "    </tr>\n",
       "  </thead>\n",
       "  <tbody>\n",
       "    <tr>\n",
       "      <th>4030575</th>\n",
       "      <td>89642</td>\n",
       "      <td>20200119180000</td>\n",
       "      <td>99490</td>\n",
       "      <td>-40</td>\n",
       "      <td>8</td>\n",
       "      <td>170</td>\n",
       "      <td>8.7</td>\n",
       "      <td>269.65</td>\n",
       "      <td>262.75</td>\n",
       "      <td>55</td>\n",
       "      <td>...</td>\n",
       "      <td>mq</td>\n",
       "      <td>mq</td>\n",
       "      <td>mq</td>\n",
       "      <td>mq</td>\n",
       "      <td>mq</td>\n",
       "      <td>mq</td>\n",
       "      <td>mq</td>\n",
       "      <td>mq</td>\n",
       "      <td>mq</td>\n",
       "      <td>NaN</td>\n",
       "    </tr>\n",
       "  </tbody>\n",
       "</table>\n",
       "<p>1 rows × 60 columns</p>\n",
       "</div>"
      ],
      "text/plain": [
       "         numer_sta            date   pmer tend cod_tend   dd   ff       t  \\\n",
       "4030575      89642  20200119180000  99490  -40        8  170  8.7  269.65   \n",
       "\n",
       "             td   u  ... nnuage2 ctype2 hnuage2 nnuage3 ctype3 hnuage3  \\\n",
       "4030575  262.75  55  ...      mq     mq      mq      mq     mq      mq   \n",
       "\n",
       "        nnuage4 ctype4 hnuage4 Unnamed: 59  \n",
       "4030575      mq     mq      mq         NaN  \n",
       "\n",
       "[1 rows x 60 columns]"
      ]
     },
     "execution_count": 30,
     "metadata": {},
     "output_type": "execute_result"
    }
   ],
   "source": [
    "meteo_3.tail(1)"
   ]
  },
  {
   "cell_type": "code",
   "execution_count": 32,
   "metadata": {},
   "outputs": [
    {
     "data": {
      "text/plain": [
       "Index(['numer_sta', 'date', 'pmer', 'tend', 'cod_tend', 'dd', 'ff', 't', 'td',\n",
       "       'u', 'vv', 'ww', 'w1', 'w2', 'n', 'nbas', 'hbas', 'cl', 'cm', 'ch',\n",
       "       'pres', 'niv_bar', 'geop', 'tend24', 'tn12', 'tn24', 'tx12', 'tx24',\n",
       "       'tminsol', 'sw', 'tw', 'raf10', 'rafper', 'per', 'etat_sol', 'ht_neige',\n",
       "       'ssfrai', 'perssfrai', 'rr1', 'rr3', 'rr6', 'rr12', 'rr24', 'phenspe1',\n",
       "       'phenspe2', 'phenspe3', 'phenspe4', 'nnuage1', 'ctype1', 'hnuage1',\n",
       "       'nnuage2', 'ctype2', 'hnuage2', 'nnuage3', 'ctype3', 'hnuage3',\n",
       "       'nnuage4', 'ctype4', 'hnuage4', 'Unnamed: 59'],\n",
       "      dtype='object')"
      ]
     },
     "execution_count": 32,
     "metadata": {},
     "output_type": "execute_result"
    }
   ],
   "source": [
    "meteo_3.columns"
   ]
  },
  {
   "cell_type": "code",
   "execution_count": null,
   "metadata": {},
   "outputs": [],
   "source": []
  }
 ],
 "metadata": {
  "kernelspec": {
   "display_name": "Python 3",
   "language": "python",
   "name": "python3"
  },
  "language_info": {
   "codemirror_mode": {
    "name": "ipython",
    "version": 3
   },
   "file_extension": ".py",
   "mimetype": "text/x-python",
   "name": "python",
   "nbconvert_exporter": "python",
   "pygments_lexer": "ipython3",
   "version": "3.6.8"
  }
 },
 "nbformat": 4,
 "nbformat_minor": 4
}
