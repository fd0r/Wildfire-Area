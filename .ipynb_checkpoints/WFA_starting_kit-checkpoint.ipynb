{
 "cells": [
  {
   "cell_type": "markdown",
   "metadata": {},
   "source": [
    "# Data sources\n",
    "## Feux\n",
    "- https://www.promethee.com/\n",
    "## Meteo\n",
    "- https://data.opendatasoft.com/explore/dataset/donnees-synop-essentielles-omm%40public/table/?sort=date\n",
    "- http://www.meteofrance.com/climat/meteo-date-passee\n",
    "## Forets\n",
    "- "
   ]
  },
  {
   "cell_type": "code",
   "execution_count": 1,
   "metadata": {},
   "outputs": [],
   "source": [
    "import pandas as pd\n",
    "import numpy as np"
   ]
  },
  {
   "cell_type": "code",
   "execution_count": 2,
   "metadata": {},
   "outputs": [
    {
     "data": {
      "text/plain": [
       "'C:\\\\Users\\\\luism\\\\Documents\\\\projects\\\\master_data_science\\\\datacamp_project'"
      ]
     },
     "execution_count": 2,
     "metadata": {},
     "output_type": "execute_result"
    }
   ],
   "source": [
    "import os\n",
    "os.getcwd()"
   ]
  },
  {
   "cell_type": "code",
   "execution_count": 3,
   "metadata": {},
   "outputs": [],
   "source": [
    "fires = pd.read_csv(\"liste_incendies_ du_10_01_2020.csv\", skiprows=2, delimiter=\";\")"
   ]
  },
  {
   "cell_type": "code",
   "execution_count": 4,
   "metadata": {},
   "outputs": [
    {
     "data": {
      "text/html": [
       "<div>\n",
       "<style scoped>\n",
       "    .dataframe tbody tr th:only-of-type {\n",
       "        vertical-align: middle;\n",
       "    }\n",
       "\n",
       "    .dataframe tbody tr th {\n",
       "        vertical-align: top;\n",
       "    }\n",
       "\n",
       "    .dataframe thead th {\n",
       "        text-align: right;\n",
       "    }\n",
       "</style>\n",
       "<table border=\"1\" class=\"dataframe\">\n",
       "  <thead>\n",
       "    <tr style=\"text-align: right;\">\n",
       "      <th></th>\n",
       "      <th>Année</th>\n",
       "      <th>Numéro</th>\n",
       "      <th>Type de feu</th>\n",
       "      <th>Département</th>\n",
       "      <th>Code INSEE</th>\n",
       "      <th>Commune</th>\n",
       "      <th>Lieu-dit</th>\n",
       "      <th>Code du carreau DFCI</th>\n",
       "      <th>Alerte</th>\n",
       "      <th>Origine de l'alerte</th>\n",
       "      <th>Surface parcourue (m2)</th>\n",
       "    </tr>\n",
       "  </thead>\n",
       "  <tbody>\n",
       "    <tr>\n",
       "      <th>0</th>\n",
       "      <td>1990</td>\n",
       "      <td>3168</td>\n",
       "      <td>0</td>\n",
       "      <td>83</td>\n",
       "      <td>83148</td>\n",
       "      <td>Vidauban</td>\n",
       "      <td>VIDAUBAN</td>\n",
       "      <td>LD22K5</td>\n",
       "      <td>1990-09-21 16:59:00</td>\n",
       "      <td>NaN</td>\n",
       "      <td>115800000</td>\n",
       "    </tr>\n",
       "    <tr>\n",
       "      <th>1</th>\n",
       "      <td>1990</td>\n",
       "      <td>3104</td>\n",
       "      <td>0</td>\n",
       "      <td>83</td>\n",
       "      <td>83043</td>\n",
       "      <td>Collobrières</td>\n",
       "      <td>COLLOBRIERES</td>\n",
       "      <td>LD20B4</td>\n",
       "      <td>1990-08-21 15:24:00</td>\n",
       "      <td>NaN</td>\n",
       "      <td>96000000</td>\n",
       "    </tr>\n",
       "    <tr>\n",
       "      <th>2</th>\n",
       "      <td>2003</td>\n",
       "      <td>8238</td>\n",
       "      <td>0</td>\n",
       "      <td>83</td>\n",
       "      <td>83148</td>\n",
       "      <td>Vidauban</td>\n",
       "      <td>Roucas-Toucas</td>\n",
       "      <td>LD22H65</td>\n",
       "      <td>2003-07-17 14:35:00</td>\n",
       "      <td>3.0</td>\n",
       "      <td>67440000</td>\n",
       "    </tr>\n",
       "    <tr>\n",
       "      <th>3</th>\n",
       "      <td>1976</td>\n",
       "      <td>2495</td>\n",
       "      <td>0</td>\n",
       "      <td>66</td>\n",
       "      <td>66056</td>\n",
       "      <td>Corbère-les-Cabanes</td>\n",
       "      <td>CORBERE LES CABANES</td>\n",
       "      <td>K25S21</td>\n",
       "      <td>1976-07-28 12:30:00</td>\n",
       "      <td>3.0</td>\n",
       "      <td>66000000</td>\n",
       "    </tr>\n",
       "    <tr>\n",
       "      <th>4</th>\n",
       "      <td>1979</td>\n",
       "      <td>3871</td>\n",
       "      <td>0</td>\n",
       "      <td>83</td>\n",
       "      <td>83073</td>\n",
       "      <td>Luc (Le)</td>\n",
       "      <td>LUC LE</td>\n",
       "      <td>P23S24</td>\n",
       "      <td>1979-08-10 16:00:00</td>\n",
       "      <td>1.0</td>\n",
       "      <td>58800000</td>\n",
       "    </tr>\n",
       "  </tbody>\n",
       "</table>\n",
       "</div>"
      ],
      "text/plain": [
       "   Année  Numéro  Type de feu Département Code INSEE              Commune  \\\n",
       "0   1990    3168            0          83      83148             Vidauban   \n",
       "1   1990    3104            0          83      83043         Collobrières   \n",
       "2   2003    8238            0          83      83148             Vidauban   \n",
       "3   1976    2495            0          66      66056  Corbère-les-Cabanes   \n",
       "4   1979    3871            0          83      83073             Luc (Le)   \n",
       "\n",
       "              Lieu-dit Code du carreau DFCI               Alerte  \\\n",
       "0             VIDAUBAN               LD22K5  1990-09-21 16:59:00   \n",
       "1         COLLOBRIERES               LD20B4  1990-08-21 15:24:00   \n",
       "2        Roucas-Toucas              LD22H65  2003-07-17 14:35:00   \n",
       "3  CORBERE LES CABANES               K25S21  1976-07-28 12:30:00   \n",
       "4               LUC LE               P23S24  1979-08-10 16:00:00   \n",
       "\n",
       "   Origine de l'alerte  Surface parcourue (m2)  \n",
       "0                  NaN               115800000  \n",
       "1                  NaN                96000000  \n",
       "2                  3.0                67440000  \n",
       "3                  3.0                66000000  \n",
       "4                  1.0                58800000  "
      ]
     },
     "execution_count": 4,
     "metadata": {},
     "output_type": "execute_result"
    }
   ],
   "source": [
    "fires.head()"
   ]
  },
  {
   "cell_type": "code",
   "execution_count": 25,
   "metadata": {},
   "outputs": [
    {
     "data": {
      "text/plain": [
       "(114057, 15)"
      ]
     },
     "execution_count": 25,
     "metadata": {},
     "output_type": "execute_result"
    }
   ],
   "source": [
    "fires.shape"
   ]
  },
  {
   "cell_type": "code",
   "execution_count": 5,
   "metadata": {},
   "outputs": [],
   "source": [
    "fires['date'] = fires['Alerte'].astype(\"datetime64\")"
   ]
  },
  {
   "cell_type": "code",
   "execution_count": 6,
   "metadata": {},
   "outputs": [],
   "source": [
    "fires['month'], fires['day'], fires['year'] = fires['date'].dt.month, fires['date'].dt.day, fires['date'].dt.year"
   ]
  },
  {
   "cell_type": "code",
   "execution_count": 7,
   "metadata": {},
   "outputs": [
    {
     "data": {
      "text/html": [
       "<div>\n",
       "<style scoped>\n",
       "    .dataframe tbody tr th:only-of-type {\n",
       "        vertical-align: middle;\n",
       "    }\n",
       "\n",
       "    .dataframe tbody tr th {\n",
       "        vertical-align: top;\n",
       "    }\n",
       "\n",
       "    .dataframe thead th {\n",
       "        text-align: right;\n",
       "    }\n",
       "</style>\n",
       "<table border=\"1\" class=\"dataframe\">\n",
       "  <thead>\n",
       "    <tr style=\"text-align: right;\">\n",
       "      <th></th>\n",
       "      <th>Année</th>\n",
       "      <th>Numéro</th>\n",
       "      <th>Type de feu</th>\n",
       "      <th>Origine de l'alerte</th>\n",
       "      <th>Surface parcourue (m2)</th>\n",
       "      <th>month</th>\n",
       "      <th>day</th>\n",
       "      <th>year</th>\n",
       "    </tr>\n",
       "  </thead>\n",
       "  <tbody>\n",
       "    <tr>\n",
       "      <th>count</th>\n",
       "      <td>114057.000000</td>\n",
       "      <td>114057.000000</td>\n",
       "      <td>114057.0</td>\n",
       "      <td>83111.000000</td>\n",
       "      <td>1.140570e+05</td>\n",
       "      <td>114057.000000</td>\n",
       "      <td>114057.000000</td>\n",
       "      <td>114057.000000</td>\n",
       "    </tr>\n",
       "    <tr>\n",
       "      <th>mean</th>\n",
       "      <td>1993.422938</td>\n",
       "      <td>2668.098977</td>\n",
       "      <td>0.0</td>\n",
       "      <td>3.032583</td>\n",
       "      <td>8.136404e+04</td>\n",
       "      <td>6.571302</td>\n",
       "      <td>15.759164</td>\n",
       "      <td>1993.422938</td>\n",
       "    </tr>\n",
       "    <tr>\n",
       "      <th>std</th>\n",
       "      <td>12.874772</td>\n",
       "      <td>2411.533320</td>\n",
       "      <td>0.0</td>\n",
       "      <td>0.971187</td>\n",
       "      <td>1.050623e+06</td>\n",
       "      <td>2.625089</td>\n",
       "      <td>8.824357</td>\n",
       "      <td>12.874772</td>\n",
       "    </tr>\n",
       "    <tr>\n",
       "      <th>min</th>\n",
       "      <td>1973.000000</td>\n",
       "      <td>1.000000</td>\n",
       "      <td>0.0</td>\n",
       "      <td>1.000000</td>\n",
       "      <td>1.000000e+00</td>\n",
       "      <td>1.000000</td>\n",
       "      <td>1.000000</td>\n",
       "      <td>1973.000000</td>\n",
       "    </tr>\n",
       "    <tr>\n",
       "      <th>25%</th>\n",
       "      <td>1982.000000</td>\n",
       "      <td>933.000000</td>\n",
       "      <td>0.0</td>\n",
       "      <td>3.000000</td>\n",
       "      <td>1.000000e+03</td>\n",
       "      <td>4.000000</td>\n",
       "      <td>8.000000</td>\n",
       "      <td>1982.000000</td>\n",
       "    </tr>\n",
       "    <tr>\n",
       "      <th>50%</th>\n",
       "      <td>1992.000000</td>\n",
       "      <td>1899.000000</td>\n",
       "      <td>0.0</td>\n",
       "      <td>3.000000</td>\n",
       "      <td>2.750000e+03</td>\n",
       "      <td>7.000000</td>\n",
       "      <td>16.000000</td>\n",
       "      <td>1992.000000</td>\n",
       "    </tr>\n",
       "    <tr>\n",
       "      <th>75%</th>\n",
       "      <td>2003.000000</td>\n",
       "      <td>3513.000000</td>\n",
       "      <td>0.0</td>\n",
       "      <td>3.000000</td>\n",
       "      <td>1.500000e+04</td>\n",
       "      <td>8.000000</td>\n",
       "      <td>23.000000</td>\n",
       "      <td>2003.000000</td>\n",
       "    </tr>\n",
       "    <tr>\n",
       "      <th>max</th>\n",
       "      <td>2020.000000</td>\n",
       "      <td>19751.000000</td>\n",
       "      <td>0.0</td>\n",
       "      <td>6.000000</td>\n",
       "      <td>1.158000e+08</td>\n",
       "      <td>12.000000</td>\n",
       "      <td>31.000000</td>\n",
       "      <td>2020.000000</td>\n",
       "    </tr>\n",
       "  </tbody>\n",
       "</table>\n",
       "</div>"
      ],
      "text/plain": [
       "               Année         Numéro  Type de feu  Origine de l'alerte  \\\n",
       "count  114057.000000  114057.000000     114057.0         83111.000000   \n",
       "mean     1993.422938    2668.098977          0.0             3.032583   \n",
       "std        12.874772    2411.533320          0.0             0.971187   \n",
       "min      1973.000000       1.000000          0.0             1.000000   \n",
       "25%      1982.000000     933.000000          0.0             3.000000   \n",
       "50%      1992.000000    1899.000000          0.0             3.000000   \n",
       "75%      2003.000000    3513.000000          0.0             3.000000   \n",
       "max      2020.000000   19751.000000          0.0             6.000000   \n",
       "\n",
       "       Surface parcourue (m2)          month            day           year  \n",
       "count            1.140570e+05  114057.000000  114057.000000  114057.000000  \n",
       "mean             8.136404e+04       6.571302      15.759164    1993.422938  \n",
       "std              1.050623e+06       2.625089       8.824357      12.874772  \n",
       "min              1.000000e+00       1.000000       1.000000    1973.000000  \n",
       "25%              1.000000e+03       4.000000       8.000000    1982.000000  \n",
       "50%              2.750000e+03       7.000000      16.000000    1992.000000  \n",
       "75%              1.500000e+04       8.000000      23.000000    2003.000000  \n",
       "max              1.158000e+08      12.000000      31.000000    2020.000000  "
      ]
     },
     "execution_count": 7,
     "metadata": {},
     "output_type": "execute_result"
    }
   ],
   "source": [
    "fires.describe()"
   ]
  },
  {
   "cell_type": "code",
   "execution_count": 8,
   "metadata": {},
   "outputs": [
    {
     "data": {
      "text/html": [
       "<div>\n",
       "<style scoped>\n",
       "    .dataframe tbody tr th:only-of-type {\n",
       "        vertical-align: middle;\n",
       "    }\n",
       "\n",
       "    .dataframe tbody tr th {\n",
       "        vertical-align: top;\n",
       "    }\n",
       "\n",
       "    .dataframe thead th {\n",
       "        text-align: right;\n",
       "    }\n",
       "</style>\n",
       "<table border=\"1\" class=\"dataframe\">\n",
       "  <thead>\n",
       "    <tr style=\"text-align: right;\">\n",
       "      <th></th>\n",
       "      <th>Année</th>\n",
       "      <th>Numéro</th>\n",
       "      <th>Type de feu</th>\n",
       "      <th>Département</th>\n",
       "      <th>Code INSEE</th>\n",
       "      <th>Commune</th>\n",
       "      <th>Lieu-dit</th>\n",
       "      <th>Code du carreau DFCI</th>\n",
       "      <th>Alerte</th>\n",
       "      <th>Origine de l'alerte</th>\n",
       "      <th>Surface parcourue (m2)</th>\n",
       "      <th>date</th>\n",
       "      <th>month</th>\n",
       "      <th>day</th>\n",
       "      <th>year</th>\n",
       "    </tr>\n",
       "  </thead>\n",
       "  <tbody>\n",
       "    <tr>\n",
       "      <th>0</th>\n",
       "      <td>1990</td>\n",
       "      <td>3168</td>\n",
       "      <td>0</td>\n",
       "      <td>83</td>\n",
       "      <td>83148</td>\n",
       "      <td>Vidauban</td>\n",
       "      <td>VIDAUBAN</td>\n",
       "      <td>LD22K5</td>\n",
       "      <td>1990-09-21 16:59:00</td>\n",
       "      <td>NaN</td>\n",
       "      <td>115800000</td>\n",
       "      <td>1990-09-21 16:59:00</td>\n",
       "      <td>9</td>\n",
       "      <td>21</td>\n",
       "      <td>1990</td>\n",
       "    </tr>\n",
       "    <tr>\n",
       "      <th>1</th>\n",
       "      <td>1990</td>\n",
       "      <td>3104</td>\n",
       "      <td>0</td>\n",
       "      <td>83</td>\n",
       "      <td>83043</td>\n",
       "      <td>Collobrières</td>\n",
       "      <td>COLLOBRIERES</td>\n",
       "      <td>LD20B4</td>\n",
       "      <td>1990-08-21 15:24:00</td>\n",
       "      <td>NaN</td>\n",
       "      <td>96000000</td>\n",
       "      <td>1990-08-21 15:24:00</td>\n",
       "      <td>8</td>\n",
       "      <td>21</td>\n",
       "      <td>1990</td>\n",
       "    </tr>\n",
       "    <tr>\n",
       "      <th>2</th>\n",
       "      <td>2003</td>\n",
       "      <td>8238</td>\n",
       "      <td>0</td>\n",
       "      <td>83</td>\n",
       "      <td>83148</td>\n",
       "      <td>Vidauban</td>\n",
       "      <td>Roucas-Toucas</td>\n",
       "      <td>LD22H65</td>\n",
       "      <td>2003-07-17 14:35:00</td>\n",
       "      <td>3.0</td>\n",
       "      <td>67440000</td>\n",
       "      <td>2003-07-17 14:35:00</td>\n",
       "      <td>7</td>\n",
       "      <td>17</td>\n",
       "      <td>2003</td>\n",
       "    </tr>\n",
       "    <tr>\n",
       "      <th>3</th>\n",
       "      <td>1976</td>\n",
       "      <td>2495</td>\n",
       "      <td>0</td>\n",
       "      <td>66</td>\n",
       "      <td>66056</td>\n",
       "      <td>Corbère-les-Cabanes</td>\n",
       "      <td>CORBERE LES CABANES</td>\n",
       "      <td>K25S21</td>\n",
       "      <td>1976-07-28 12:30:00</td>\n",
       "      <td>3.0</td>\n",
       "      <td>66000000</td>\n",
       "      <td>1976-07-28 12:30:00</td>\n",
       "      <td>7</td>\n",
       "      <td>28</td>\n",
       "      <td>1976</td>\n",
       "    </tr>\n",
       "    <tr>\n",
       "      <th>4</th>\n",
       "      <td>1979</td>\n",
       "      <td>3871</td>\n",
       "      <td>0</td>\n",
       "      <td>83</td>\n",
       "      <td>83073</td>\n",
       "      <td>Luc (Le)</td>\n",
       "      <td>LUC LE</td>\n",
       "      <td>P23S24</td>\n",
       "      <td>1979-08-10 16:00:00</td>\n",
       "      <td>1.0</td>\n",
       "      <td>58800000</td>\n",
       "      <td>1979-08-10 16:00:00</td>\n",
       "      <td>8</td>\n",
       "      <td>10</td>\n",
       "      <td>1979</td>\n",
       "    </tr>\n",
       "  </tbody>\n",
       "</table>\n",
       "</div>"
      ],
      "text/plain": [
       "   Année  Numéro  Type de feu Département Code INSEE              Commune  \\\n",
       "0   1990    3168            0          83      83148             Vidauban   \n",
       "1   1990    3104            0          83      83043         Collobrières   \n",
       "2   2003    8238            0          83      83148             Vidauban   \n",
       "3   1976    2495            0          66      66056  Corbère-les-Cabanes   \n",
       "4   1979    3871            0          83      83073             Luc (Le)   \n",
       "\n",
       "              Lieu-dit Code du carreau DFCI               Alerte  \\\n",
       "0             VIDAUBAN               LD22K5  1990-09-21 16:59:00   \n",
       "1         COLLOBRIERES               LD20B4  1990-08-21 15:24:00   \n",
       "2        Roucas-Toucas              LD22H65  2003-07-17 14:35:00   \n",
       "3  CORBERE LES CABANES               K25S21  1976-07-28 12:30:00   \n",
       "4               LUC LE               P23S24  1979-08-10 16:00:00   \n",
       "\n",
       "   Origine de l'alerte  Surface parcourue (m2)                date  month  \\\n",
       "0                  NaN               115800000 1990-09-21 16:59:00      9   \n",
       "1                  NaN                96000000 1990-08-21 15:24:00      8   \n",
       "2                  3.0                67440000 2003-07-17 14:35:00      7   \n",
       "3                  3.0                66000000 1976-07-28 12:30:00      7   \n",
       "4                  1.0                58800000 1979-08-10 16:00:00      8   \n",
       "\n",
       "   day  year  \n",
       "0   21  1990  \n",
       "1   21  1990  \n",
       "2   17  2003  \n",
       "3   28  1976  \n",
       "4   10  1979  "
      ]
     },
     "execution_count": 8,
     "metadata": {},
     "output_type": "execute_result"
    }
   ],
   "source": [
    "fires.head()"
   ]
  },
  {
   "cell_type": "code",
   "execution_count": 9,
   "metadata": {},
   "outputs": [
    {
     "data": {
      "image/png": "[encoded data removed]",
      "text/plain": [
       "<Figure size 432x288 with 1 Axes>"
      ]
     },
     "metadata": {
      "needs_background": "light"
     },
     "output_type": "display_data"
    }
   ],
   "source": [
    "import matplotlib.pyplot as plt\n",
    "import numpy as np\n",
    "%matplotlib inline\n",
    "plt.figure()\n",
    "np.log(fires['Surface parcourue (m2)']).hist(bins=100)\n",
    "plt.show()"
   ]
  },
  {
   "cell_type": "code",
   "execution_count": 10,
   "metadata": {},
   "outputs": [
    {
     "data": {
      "text/plain": [
       "False"
      ]
     },
     "execution_count": 10,
     "metadata": {},
     "output_type": "execute_result"
    }
   ],
   "source": [
    "any(fires['Surface parcourue (m2)']==0)"
   ]
  },
  {
   "cell_type": "code",
   "execution_count": 11,
   "metadata": {},
   "outputs": [],
   "source": [
    "temperatures = pd.read_csv(\"donnees-synop-essentielles-omm.csv\", sep=\";\", low_memory=False)"
   ]
  },
  {
   "cell_type": "code",
   "execution_count": 12,
   "metadata": {},
   "outputs": [
    {
     "data": {
      "text/html": [
       "<div>\n",
       "<style scoped>\n",
       "    .dataframe tbody tr th:only-of-type {\n",
       "        vertical-align: middle;\n",
       "    }\n",
       "\n",
       "    .dataframe tbody tr th {\n",
       "        vertical-align: top;\n",
       "    }\n",
       "\n",
       "    .dataframe thead th {\n",
       "        text-align: right;\n",
       "    }\n",
       "</style>\n",
       "<table border=\"1\" class=\"dataframe\">\n",
       "  <thead>\n",
       "    <tr style=\"text-align: right;\">\n",
       "      <th></th>\n",
       "      <th>ID OMM station</th>\n",
       "      <th>Date</th>\n",
       "      <th>Pression au niveau mer</th>\n",
       "      <th>Variation de pression en 3 heures</th>\n",
       "      <th>Type de tendance barométrique</th>\n",
       "      <th>Direction du vent moyen 10 mn</th>\n",
       "      <th>Vitesse du vent moyen 10 mn</th>\n",
       "      <th>Température</th>\n",
       "      <th>Point de rosée</th>\n",
       "      <th>Humidité</th>\n",
       "      <th>...</th>\n",
       "      <th>Longitude</th>\n",
       "      <th>Latitude</th>\n",
       "      <th>communes (name)</th>\n",
       "      <th>communes (code)</th>\n",
       "      <th>EPCI (name)</th>\n",
       "      <th>EPCI (code)</th>\n",
       "      <th>department (name)</th>\n",
       "      <th>department (code)</th>\n",
       "      <th>region (name)</th>\n",
       "      <th>region (code)</th>\n",
       "    </tr>\n",
       "  </thead>\n",
       "  <tbody>\n",
       "    <tr>\n",
       "      <th>0</th>\n",
       "      <td>7117</td>\n",
       "      <td>2013-08-24T17:00:00+02:00</td>\n",
       "      <td>101820.0</td>\n",
       "      <td>-30.0</td>\n",
       "      <td>8.0</td>\n",
       "      <td>280.0</td>\n",
       "      <td>7.2</td>\n",
       "      <td>291.05</td>\n",
       "      <td>282.65</td>\n",
       "      <td>58.0</td>\n",
       "      <td>...</td>\n",
       "      <td>-3.473167</td>\n",
       "      <td>48.825833</td>\n",
       "      <td>Perros-Guirec</td>\n",
       "      <td>22168</td>\n",
       "      <td>CA Lannion-Trégor Communauté</td>\n",
       "      <td>200065928.0</td>\n",
       "      <td>Côtes-d'Armor</td>\n",
       "      <td>22</td>\n",
       "      <td>Bretagne</td>\n",
       "      <td>53.0</td>\n",
       "    </tr>\n",
       "    <tr>\n",
       "      <th>1</th>\n",
       "      <td>7630</td>\n",
       "      <td>2013-08-24T17:00:00+02:00</td>\n",
       "      <td>101730.0</td>\n",
       "      <td>-50.0</td>\n",
       "      <td>8.0</td>\n",
       "      <td>290.0</td>\n",
       "      <td>8.7</td>\n",
       "      <td>297.25</td>\n",
       "      <td>285.85</td>\n",
       "      <td>49.0</td>\n",
       "      <td>...</td>\n",
       "      <td>1.378833</td>\n",
       "      <td>43.621000</td>\n",
       "      <td>Blagnac</td>\n",
       "      <td>31069</td>\n",
       "      <td>Toulouse Métropole</td>\n",
       "      <td>243100518.0</td>\n",
       "      <td>Haute-Garonne</td>\n",
       "      <td>31</td>\n",
       "      <td>Occitanie</td>\n",
       "      <td>76.0</td>\n",
       "    </tr>\n",
       "    <tr>\n",
       "      <th>2</th>\n",
       "      <td>81405</td>\n",
       "      <td>2013-08-24T17:00:00+02:00</td>\n",
       "      <td>101360.0</td>\n",
       "      <td>NaN</td>\n",
       "      <td>NaN</td>\n",
       "      <td>100.0</td>\n",
       "      <td>2.6</td>\n",
       "      <td>302.65</td>\n",
       "      <td>296.15</td>\n",
       "      <td>68.0</td>\n",
       "      <td>...</td>\n",
       "      <td>-52.365333</td>\n",
       "      <td>4.822333</td>\n",
       "      <td>Matoury</td>\n",
       "      <td>97307</td>\n",
       "      <td>CA du Centre Littoral</td>\n",
       "      <td>249730045.0</td>\n",
       "      <td>Guyane</td>\n",
       "      <td>973</td>\n",
       "      <td>Guyane</td>\n",
       "      <td>3.0</td>\n",
       "    </tr>\n",
       "    <tr>\n",
       "      <th>3</th>\n",
       "      <td>7240</td>\n",
       "      <td>2013-08-24T20:00:00+02:00</td>\n",
       "      <td>101500.0</td>\n",
       "      <td>40.0</td>\n",
       "      <td>3.0</td>\n",
       "      <td>300.0</td>\n",
       "      <td>5.1</td>\n",
       "      <td>293.15</td>\n",
       "      <td>282.15</td>\n",
       "      <td>49.0</td>\n",
       "      <td>...</td>\n",
       "      <td>0.727333</td>\n",
       "      <td>47.444500</td>\n",
       "      <td>Parçay-Meslay</td>\n",
       "      <td>37179</td>\n",
       "      <td>Tours Métropole Val de Loire</td>\n",
       "      <td>243700754.0</td>\n",
       "      <td>Indre-et-Loire</td>\n",
       "      <td>37</td>\n",
       "      <td>Centre-Val de Loire</td>\n",
       "      <td>24.0</td>\n",
       "    </tr>\n",
       "    <tr>\n",
       "      <th>4</th>\n",
       "      <td>61970</td>\n",
       "      <td>2013-08-24T20:00:00+02:00</td>\n",
       "      <td>NaN</td>\n",
       "      <td>NaN</td>\n",
       "      <td>NaN</td>\n",
       "      <td>210.0</td>\n",
       "      <td>7.2</td>\n",
       "      <td>297.05</td>\n",
       "      <td>293.55</td>\n",
       "      <td>81.0</td>\n",
       "      <td>...</td>\n",
       "      <td>42.712000</td>\n",
       "      <td>-17.054667</td>\n",
       "      <td>NaN</td>\n",
       "      <td>NaN</td>\n",
       "      <td>NaN</td>\n",
       "      <td>NaN</td>\n",
       "      <td>NaN</td>\n",
       "      <td>NaN</td>\n",
       "      <td>NaN</td>\n",
       "      <td>NaN</td>\n",
       "    </tr>\n",
       "  </tbody>\n",
       "</table>\n",
       "<p>5 rows × 81 columns</p>\n",
       "</div>"
      ],
      "text/plain": [
       "   ID OMM station                       Date  Pression au niveau mer  \\\n",
       "0            7117  2013-08-24T17:00:00+02:00                101820.0   \n",
       "1            7630  2013-08-24T17:00:00+02:00                101730.0   \n",
       "2           81405  2013-08-24T17:00:00+02:00                101360.0   \n",
       "3            7240  2013-08-24T20:00:00+02:00                101500.0   \n",
       "4           61970  2013-08-24T20:00:00+02:00                     NaN   \n",
       "\n",
       "   Variation de pression en 3 heures  Type de tendance barométrique  \\\n",
       "0                              -30.0                            8.0   \n",
       "1                              -50.0                            8.0   \n",
       "2                                NaN                            NaN   \n",
       "3                               40.0                            3.0   \n",
       "4                                NaN                            NaN   \n",
       "\n",
       "   Direction du vent moyen 10 mn  Vitesse du vent moyen 10 mn  Température  \\\n",
       "0                          280.0                          7.2       291.05   \n",
       "1                          290.0                          8.7       297.25   \n",
       "2                          100.0                          2.6       302.65   \n",
       "3                          300.0                          5.1       293.15   \n",
       "4                          210.0                          7.2       297.05   \n",
       "\n",
       "   Point de rosée  Humidité  ...  Longitude   Latitude communes (name)  \\\n",
       "0          282.65      58.0  ...  -3.473167  48.825833   Perros-Guirec   \n",
       "1          285.85      49.0  ...   1.378833  43.621000         Blagnac   \n",
       "2          296.15      68.0  ... -52.365333   4.822333         Matoury   \n",
       "3          282.15      49.0  ...   0.727333  47.444500   Parçay-Meslay   \n",
       "4          293.55      81.0  ...  42.712000 -17.054667             NaN   \n",
       "\n",
       "   communes (code)                   EPCI (name)  EPCI (code)  \\\n",
       "0            22168  CA Lannion-Trégor Communauté  200065928.0   \n",
       "1            31069            Toulouse Métropole  243100518.0   \n",
       "2            97307         CA du Centre Littoral  249730045.0   \n",
       "3            37179  Tours Métropole Val de Loire  243700754.0   \n",
       "4              NaN                           NaN          NaN   \n",
       "\n",
       "   department (name)  department (code)        region (name)  region (code)  \n",
       "0      Côtes-d'Armor                 22             Bretagne           53.0  \n",
       "1      Haute-Garonne                 31            Occitanie           76.0  \n",
       "2             Guyane                973               Guyane            3.0  \n",
       "3     Indre-et-Loire                 37  Centre-Val de Loire           24.0  \n",
       "4                NaN                NaN                  NaN            NaN  \n",
       "\n",
       "[5 rows x 81 columns]"
      ]
     },
     "execution_count": 12,
     "metadata": {},
     "output_type": "execute_result"
    }
   ],
   "source": [
    "temperatures.head()"
   ]
  },
  {
   "cell_type": "code",
   "execution_count": 13,
   "metadata": {},
   "outputs": [
    {
     "data": {
      "text/html": [
       "<div>\n",
       "<style scoped>\n",
       "    .dataframe tbody tr th:only-of-type {\n",
       "        vertical-align: middle;\n",
       "    }\n",
       "\n",
       "    .dataframe tbody tr th {\n",
       "        vertical-align: top;\n",
       "    }\n",
       "\n",
       "    .dataframe thead th {\n",
       "        text-align: right;\n",
       "    }\n",
       "</style>\n",
       "<table border=\"1\" class=\"dataframe\">\n",
       "  <thead>\n",
       "    <tr style=\"text-align: right;\">\n",
       "      <th></th>\n",
       "      <th>ID OMM station</th>\n",
       "      <th>Pression au niveau mer</th>\n",
       "      <th>Variation de pression en 3 heures</th>\n",
       "      <th>Type de tendance barométrique</th>\n",
       "      <th>Direction du vent moyen 10 mn</th>\n",
       "      <th>Vitesse du vent moyen 10 mn</th>\n",
       "      <th>Température</th>\n",
       "      <th>Point de rosée</th>\n",
       "      <th>Humidité</th>\n",
       "      <th>Visibilité horizontale</th>\n",
       "      <th>...</th>\n",
       "      <th>Température minimale sur 12 heures (°C)</th>\n",
       "      <th>Température minimale sur 24 heures (°C)</th>\n",
       "      <th>Température maximale sur 12 heures (°C)</th>\n",
       "      <th>Température maximale sur 24 heures (°C)</th>\n",
       "      <th>Température minimale du sol sur 12 heures (en °C)</th>\n",
       "      <th>Altitude</th>\n",
       "      <th>Longitude</th>\n",
       "      <th>Latitude</th>\n",
       "      <th>EPCI (code)</th>\n",
       "      <th>region (code)</th>\n",
       "    </tr>\n",
       "  </thead>\n",
       "  <tbody>\n",
       "    <tr>\n",
       "      <th>count</th>\n",
       "      <td>1.653389e+06</td>\n",
       "      <td>1.580393e+06</td>\n",
       "      <td>1.474931e+06</td>\n",
       "      <td>1.446837e+06</td>\n",
       "      <td>1.633183e+06</td>\n",
       "      <td>1.633772e+06</td>\n",
       "      <td>1.650329e+06</td>\n",
       "      <td>1.645244e+06</td>\n",
       "      <td>1.644462e+06</td>\n",
       "      <td>1.274058e+06</td>\n",
       "      <td>...</td>\n",
       "      <td>350114.000000</td>\n",
       "      <td>84673.000000</td>\n",
       "      <td>350620.000000</td>\n",
       "      <td>83072.000000</td>\n",
       "      <td>570850.000000</td>\n",
       "      <td>1.653389e+06</td>\n",
       "      <td>1.653389e+06</td>\n",
       "      <td>1.653389e+06</td>\n",
       "      <td>1.435401e+06</td>\n",
       "      <td>1.435401e+06</td>\n",
       "    </tr>\n",
       "    <tr>\n",
       "      <th>mean</th>\n",
       "      <td>2.528283e+04</td>\n",
       "      <td>1.015440e+05</td>\n",
       "      <td>3.822172e+00</td>\n",
       "      <td>4.295938e+00</td>\n",
       "      <td>1.762570e+02</td>\n",
       "      <td>4.067414e+00</td>\n",
       "      <td>2.878136e+02</td>\n",
       "      <td>2.830603e+02</td>\n",
       "      <td>7.560130e+01</td>\n",
       "      <td>2.523546e+04</td>\n",
       "      <td>...</td>\n",
       "      <td>10.033873</td>\n",
       "      <td>22.247580</td>\n",
       "      <td>16.389621</td>\n",
       "      <td>29.544607</td>\n",
       "      <td>8.963092</td>\n",
       "      <td>1.336940e+02</td>\n",
       "      <td>3.159661e+00</td>\n",
       "      <td>3.096299e+01</td>\n",
       "      <td>2.259143e+08</td>\n",
       "      <td>5.115588e+01</td>\n",
       "    </tr>\n",
       "    <tr>\n",
       "      <th>std</th>\n",
       "      <td>2.941360e+04</td>\n",
       "      <td>9.196019e+02</td>\n",
       "      <td>1.252678e+02</td>\n",
       "      <td>2.712296e+00</td>\n",
       "      <td>1.069444e+02</td>\n",
       "      <td>3.197783e+00</td>\n",
       "      <td>9.339636e+00</td>\n",
       "      <td>8.866599e+00</td>\n",
       "      <td>1.682742e+01</td>\n",
       "      <td>1.690684e+04</td>\n",
       "      <td>...</td>\n",
       "      <td>8.241921</td>\n",
       "      <td>5.817736</td>\n",
       "      <td>9.171747</td>\n",
       "      <td>5.412550</td>\n",
       "      <td>7.030683</td>\n",
       "      <td>1.908873e+02</td>\n",
       "      <td>3.390127e+01</td>\n",
       "      <td>2.884785e+01</td>\n",
       "      <td>2.257746e+07</td>\n",
       "      <td>3.108352e+01</td>\n",
       "    </tr>\n",
       "    <tr>\n",
       "      <th>min</th>\n",
       "      <td>7.005000e+03</td>\n",
       "      <td>9.385000e+04</td>\n",
       "      <td>-2.190000e+03</td>\n",
       "      <td>0.000000e+00</td>\n",
       "      <td>0.000000e+00</td>\n",
       "      <td>0.000000e+00</td>\n",
       "      <td>2.387500e+02</td>\n",
       "      <td>2.232500e+02</td>\n",
       "      <td>1.000000e+00</td>\n",
       "      <td>0.000000e+00</td>\n",
       "      <td>...</td>\n",
       "      <td>-267.780000</td>\n",
       "      <td>-13.800000</td>\n",
       "      <td>-31.600000</td>\n",
       "      <td>-11.100000</td>\n",
       "      <td>-26.000000</td>\n",
       "      <td>2.000000e+00</td>\n",
       "      <td>-6.285217e+01</td>\n",
       "      <td>-6.666317e+01</td>\n",
       "      <td>2.000187e+08</td>\n",
       "      <td>1.000000e+00</td>\n",
       "    </tr>\n",
       "    <tr>\n",
       "      <th>25%</th>\n",
       "      <td>7.207000e+03</td>\n",
       "      <td>1.011400e+05</td>\n",
       "      <td>-7.000000e+01</td>\n",
       "      <td>2.000000e+00</td>\n",
       "      <td>8.000000e+01</td>\n",
       "      <td>1.800000e+00</td>\n",
       "      <td>2.812500e+02</td>\n",
       "      <td>2.774500e+02</td>\n",
       "      <td>6.500000e+01</td>\n",
       "      <td>1.330000e+04</td>\n",
       "      <td>...</td>\n",
       "      <td>4.700000</td>\n",
       "      <td>22.200000</td>\n",
       "      <td>10.200000</td>\n",
       "      <td>29.000000</td>\n",
       "      <td>3.800000</td>\n",
       "      <td>1.100000e+01</td>\n",
       "      <td>-1.411500e+00</td>\n",
       "      <td>1.626400e+01</td>\n",
       "      <td>2.000661e+08</td>\n",
       "      <td>2.800000e+01</td>\n",
       "    </tr>\n",
       "    <tr>\n",
       "      <th>50%</th>\n",
       "      <td>7.577000e+03</td>\n",
       "      <td>1.015700e+05</td>\n",
       "      <td>0.000000e+00</td>\n",
       "      <td>3.000000e+00</td>\n",
       "      <td>1.800000e+02</td>\n",
       "      <td>3.300000e+00</td>\n",
       "      <td>2.873500e+02</td>\n",
       "      <td>2.828500e+02</td>\n",
       "      <td>7.800000e+01</td>\n",
       "      <td>2.000000e+04</td>\n",
       "      <td>...</td>\n",
       "      <td>9.900000</td>\n",
       "      <td>23.400000</td>\n",
       "      <td>16.100000</td>\n",
       "      <td>30.600000</td>\n",
       "      <td>8.500000</td>\n",
       "      <td>5.900000e+01</td>\n",
       "      <td>2.384333e+00</td>\n",
       "      <td>4.458117e+01</td>\n",
       "      <td>2.420101e+08</td>\n",
       "      <td>5.300000e+01</td>\n",
       "    </tr>\n",
       "    <tr>\n",
       "      <th>75%</th>\n",
       "      <td>6.197200e+04</td>\n",
       "      <td>1.020700e+05</td>\n",
       "      <td>8.000000e+01</td>\n",
       "      <td>7.000000e+00</td>\n",
       "      <td>2.700000e+02</td>\n",
       "      <td>5.600000e+00</td>\n",
       "      <td>2.957500e+02</td>\n",
       "      <td>2.889500e+02</td>\n",
       "      <td>8.900000e+01</td>\n",
       "      <td>3.500000e+04</td>\n",
       "      <td>...</td>\n",
       "      <td>15.200000</td>\n",
       "      <td>25.100000</td>\n",
       "      <td>23.000000</td>\n",
       "      <td>32.000000</td>\n",
       "      <td>13.900000</td>\n",
       "      <td>1.510000e+02</td>\n",
       "      <td>5.959833e+00</td>\n",
       "      <td>4.761433e+01</td>\n",
       "      <td>2.459004e+08</td>\n",
       "      <td>7.600000e+01</td>\n",
       "    </tr>\n",
       "    <tr>\n",
       "      <th>max</th>\n",
       "      <td>8.964200e+04</td>\n",
       "      <td>1.091600e+05</td>\n",
       "      <td>2.170000e+03</td>\n",
       "      <td>1.000000e+01</td>\n",
       "      <td>3.600000e+02</td>\n",
       "      <td>9.600000e+01</td>\n",
       "      <td>3.408500e+02</td>\n",
       "      <td>3.730500e+02</td>\n",
       "      <td>1.000000e+02</td>\n",
       "      <td>8.001000e+04</td>\n",
       "      <td>...</td>\n",
       "      <td>47.600000</td>\n",
       "      <td>40.000000</td>\n",
       "      <td>53.500000</td>\n",
       "      <td>40.000000</td>\n",
       "      <td>50.000000</td>\n",
       "      <td>8.710000e+02</td>\n",
       "      <td>1.400010e+02</td>\n",
       "      <td>5.057000e+01</td>\n",
       "      <td>2.497401e+08</td>\n",
       "      <td>9.400000e+01</td>\n",
       "    </tr>\n",
       "  </tbody>\n",
       "</table>\n",
       "<p>8 rows × 68 columns</p>\n",
       "</div>"
      ],
      "text/plain": [
       "       ID OMM station  Pression au niveau mer  \\\n",
       "count    1.653389e+06            1.580393e+06   \n",
       "mean     2.528283e+04            1.015440e+05   \n",
       "std      2.941360e+04            9.196019e+02   \n",
       "min      7.005000e+03            9.385000e+04   \n",
       "25%      7.207000e+03            1.011400e+05   \n",
       "50%      7.577000e+03            1.015700e+05   \n",
       "75%      6.197200e+04            1.020700e+05   \n",
       "max      8.964200e+04            1.091600e+05   \n",
       "\n",
       "       Variation de pression en 3 heures  Type de tendance barométrique  \\\n",
       "count                       1.474931e+06                   1.446837e+06   \n",
       "mean                        3.822172e+00                   4.295938e+00   \n",
       "std                         1.252678e+02                   2.712296e+00   \n",
       "min                        -2.190000e+03                   0.000000e+00   \n",
       "25%                        -7.000000e+01                   2.000000e+00   \n",
       "50%                         0.000000e+00                   3.000000e+00   \n",
       "75%                         8.000000e+01                   7.000000e+00   \n",
       "max                         2.170000e+03                   1.000000e+01   \n",
       "\n",
       "       Direction du vent moyen 10 mn  Vitesse du vent moyen 10 mn  \\\n",
       "count                   1.633183e+06                 1.633772e+06   \n",
       "mean                    1.762570e+02                 4.067414e+00   \n",
       "std                     1.069444e+02                 3.197783e+00   \n",
       "min                     0.000000e+00                 0.000000e+00   \n",
       "25%                     8.000000e+01                 1.800000e+00   \n",
       "50%                     1.800000e+02                 3.300000e+00   \n",
       "75%                     2.700000e+02                 5.600000e+00   \n",
       "max                     3.600000e+02                 9.600000e+01   \n",
       "\n",
       "        Température  Point de rosée      Humidité  Visibilité horizontale  \\\n",
       "count  1.650329e+06    1.645244e+06  1.644462e+06            1.274058e+06   \n",
       "mean   2.878136e+02    2.830603e+02  7.560130e+01            2.523546e+04   \n",
       "std    9.339636e+00    8.866599e+00  1.682742e+01            1.690684e+04   \n",
       "min    2.387500e+02    2.232500e+02  1.000000e+00            0.000000e+00   \n",
       "25%    2.812500e+02    2.774500e+02  6.500000e+01            1.330000e+04   \n",
       "50%    2.873500e+02    2.828500e+02  7.800000e+01            2.000000e+04   \n",
       "75%    2.957500e+02    2.889500e+02  8.900000e+01            3.500000e+04   \n",
       "max    3.408500e+02    3.730500e+02  1.000000e+02            8.001000e+04   \n",
       "\n",
       "       ...  Température minimale sur 12 heures (°C)  \\\n",
       "count  ...                            350114.000000   \n",
       "mean   ...                                10.033873   \n",
       "std    ...                                 8.241921   \n",
       "min    ...                              -267.780000   \n",
       "25%    ...                                 4.700000   \n",
       "50%    ...                                 9.900000   \n",
       "75%    ...                                15.200000   \n",
       "max    ...                                47.600000   \n",
       "\n",
       "       Température minimale sur 24 heures (°C)  \\\n",
       "count                             84673.000000   \n",
       "mean                                 22.247580   \n",
       "std                                   5.817736   \n",
       "min                                 -13.800000   \n",
       "25%                                  22.200000   \n",
       "50%                                  23.400000   \n",
       "75%                                  25.100000   \n",
       "max                                  40.000000   \n",
       "\n",
       "       Température maximale sur 12 heures (°C)  \\\n",
       "count                            350620.000000   \n",
       "mean                                 16.389621   \n",
       "std                                   9.171747   \n",
       "min                                 -31.600000   \n",
       "25%                                  10.200000   \n",
       "50%                                  16.100000   \n",
       "75%                                  23.000000   \n",
       "max                                  53.500000   \n",
       "\n",
       "       Température maximale sur 24 heures (°C)  \\\n",
       "count                             83072.000000   \n",
       "mean                                 29.544607   \n",
       "std                                   5.412550   \n",
       "min                                 -11.100000   \n",
       "25%                                  29.000000   \n",
       "50%                                  30.600000   \n",
       "75%                                  32.000000   \n",
       "max                                  40.000000   \n",
       "\n",
       "       Température minimale du sol sur 12 heures (en °C)      Altitude  \\\n",
       "count                                      570850.000000  1.653389e+06   \n",
       "mean                                            8.963092  1.336940e+02   \n",
       "std                                             7.030683  1.908873e+02   \n",
       "min                                           -26.000000  2.000000e+00   \n",
       "25%                                             3.800000  1.100000e+01   \n",
       "50%                                             8.500000  5.900000e+01   \n",
       "75%                                            13.900000  1.510000e+02   \n",
       "max                                            50.000000  8.710000e+02   \n",
       "\n",
       "          Longitude      Latitude   EPCI (code)  region (code)  \n",
       "count  1.653389e+06  1.653389e+06  1.435401e+06   1.435401e+06  \n",
       "mean   3.159661e+00  3.096299e+01  2.259143e+08   5.115588e+01  \n",
       "std    3.390127e+01  2.884785e+01  2.257746e+07   3.108352e+01  \n",
       "min   -6.285217e+01 -6.666317e+01  2.000187e+08   1.000000e+00  \n",
       "25%   -1.411500e+00  1.626400e+01  2.000661e+08   2.800000e+01  \n",
       "50%    2.384333e+00  4.458117e+01  2.420101e+08   5.300000e+01  \n",
       "75%    5.959833e+00  4.761433e+01  2.459004e+08   7.600000e+01  \n",
       "max    1.400010e+02  5.057000e+01  2.497401e+08   9.400000e+01  \n",
       "\n",
       "[8 rows x 68 columns]"
      ]
     },
     "execution_count": 13,
     "metadata": {},
     "output_type": "execute_result"
    }
   ],
   "source": [
    "temperatures.describe()"
   ]
  },
  {
   "cell_type": "code",
   "execution_count": 14,
   "metadata": {},
   "outputs": [
    {
     "name": "stdout",
     "output_type": "stream",
     "text": [
      "{\n",
      "    \"Altitude\": 0.0,\n",
      "    \"Coordonnees\": 0.0,\n",
      "    \"Date\": 0.0,\n",
      "    \"Direction du vent moyen 10 mn\": 0.012220959495920197,\n",
      "    \"EPCI (code)\": 0.13184314157164467,\n",
      "    \"EPCI (name)\": 0.13184314157164467,\n",
      "    \"Etat du sol\": 0.7169504575148377,\n",
      "    \"G\\u00e9opotentiel\": 0.9746786751333171,\n",
      "    \"Hauteur de base 1\": 0.5620093033157956,\n",
      "    \"Hauteur de base 2\": 0.7742334078671141,\n",
      "    \"Hauteur de base 3\": 0.9244128272294058,\n",
      "    \"Hauteur de base 4\": 0.9967787374900885,\n",
      "    \"Hauteur de la base des nuages de l'\\u00e9tage inf\\u00e9rieur\": 0.4776371440719637,\n",
      "    \"Hauteur de la neige fra\\u00eeche\": 0.8152122700707456,\n",
      "    \"Hauteur totale de la couche de neige, glace, autre au sol\": 0.630792874514104,\n",
      "    \"Humidit\\u00e9\": 0.0053992133732594086,\n",
      "    \"ID OMM station\": 0.0,\n",
      "    \"Latitude\": 0.0,\n",
      "    \"Longitude\": 0.0,\n",
      "    \"M\\u00e9thode de mesure Temp\\u00e9rature du thermom\\u00e8tre mouill\\u00e9\": 1.0,\n",
      "    \"Nebulosit\\u00e9 totale\": 0.4686598253647508,\n",
      "    \"Niveau barom\\u00e9trique\": 0.9919238606280797,\n",
      "    \"Nom\": 0.0,\n",
      "    \"N\\u00e9bulosit\\u00e9  des nuages de l' \\u00e9tage inf\\u00e9rieur\": 0.4515779408233634,\n",
      "    \"N\\u00e9bulosit\\u00e9 couche nuageuse 1\": 0.5496492356003336,\n",
      "    \"N\\u00e9bulosit\\u00e9 couche nuageuse 2\": 0.7711083114741902,\n",
      "    \"N\\u00e9bulosit\\u00e9 couche nuageuse 3\": 0.9242483166393389,\n",
      "    \"N\\u00e9bulosit\\u00e9 couche nuageuse 4\": 0.9967787374900885,\n",
      "    \"Periode de mesure de la neige fraiche\": 0.8236658160904663,\n",
      "    \"Periode de mesure de la rafale\": 0.16628573191184892,\n",
      "    \"Ph\\u00e9nom\\u00e8ne sp\\u00e9cial 1\": 0.583402937844633,\n",
      "    \"Ph\\u00e9nom\\u00e8ne sp\\u00e9cial 2\": 0.5889842015399884,\n",
      "    \"Ph\\u00e9nom\\u00e8ne sp\\u00e9cial 3\": 0.8270025989044321,\n",
      "    \"Ph\\u00e9nom\\u00e8ne sp\\u00e9cial 4\": 0.994846947693495,\n",
      "    \"Point de ros\\u00e9e\": 0.004926245426817282,\n",
      "    \"Pression au niveau mer\": 0.04414931997249286,\n",
      "    \"Pression station\": 0.0742692735950221,\n",
      "    \"Pr\\u00e9cipitations dans la derni\\u00e8re heure\": 0.11894841443846547,\n",
      "    \"Pr\\u00e9cipitations dans les 12 derni\\u00e8res heures\": 0.45216884834724314,\n",
      "    \"Pr\\u00e9cipitations dans les 24 derni\\u00e8res heures\": 0.4969066565702324,\n",
      "    \"Pr\\u00e9cipitations dans les 3 derni\\u00e8res heures\": 0.10010106514558885,\n",
      "    \"Pr\\u00e9cipitations dans les 6 derni\\u00e8res heures\": 0.4164301322919168,\n",
      "    \"Rafale sur les 10 derni\\u00e8res minutes\": 0.595916024601591,\n",
      "    \"Rafales sur une p\\u00e9riode\": 0.1682501818991175,\n",
      "    \"Temps pass\\u00e9 1\": 0.6672585822211228,\n",
      "    \"Temps pass\\u00e9 1.1\": 0.6672585822211228,\n",
      "    \"Temps pass\\u00e9 2\": 0.6943266224705741,\n",
      "    \"Temps pr\\u00e9sent\": 0.2334526236717433,\n",
      "    \"Temps pr\\u00e9sent.1\": 0.2334526236717433,\n",
      "    \"Temp\\u00e9rature\": 0.0018507441382517968,\n",
      "    \"Temp\\u00e9rature (\\u00b0C)\": 0.0018507441382517968,\n",
      "    \"Temp\\u00e9rature du thermom\\u00e8tre mouill\\u00e9\": 1.0,\n",
      "    \"Temp\\u00e9rature maximale sur 12 heures\": 0.7879385915837108,\n",
      "    \"Temp\\u00e9rature maximale sur 12 heures (\\u00b0C)\": 0.7879385915837108,\n",
      "    \"Temp\\u00e9rature maximale sur 24 heures\": 0.9497565303748845,\n",
      "    \"Temp\\u00e9rature maximale sur 24 heures (\\u00b0C)\": 0.9497565303748845,\n",
      "    \"Temp\\u00e9rature minimale du sol sur 12 heures\": 0.6547394472807064,\n",
      "    \"Temp\\u00e9rature minimale du sol sur 12 heures (en \\u00b0C)\": 0.6547394472807064,\n",
      "    \"Temp\\u00e9rature minimale sur 12 heures\": 0.7882446296667027,\n",
      "    \"Temp\\u00e9rature minimale sur 12 heures (\\u00b0C)\": 0.7882446296667027,\n",
      "    \"Temp\\u00e9rature minimale sur 24 heures\": 0.9487882162032044,\n",
      "    \"Temp\\u00e9rature minimale sur 24 heures (\\u00b0C)\": 0.9487882162032044,\n",
      "    \"Type de tendance barom\\u00e9trique\": 0.12492643896868795,\n",
      "    \"Type de tendance barom\\u00e9trique.1\": 0.12492643896868795,\n",
      "    \"Type des nuages de l'\\u00e9tage inf\\u00e9rieur\": 0.6770880899776157,\n",
      "    \"Type des nuages de l'\\u00e9tage moyen\": 0.7025666676142154,\n",
      "    \"Type des nuages de l'\\u00e9tage sup\\u00e9rieur\": 0.7120895324693705,\n",
      "    \"Type nuage 1\": 0.7031134233988493,\n",
      "    \"Type nuage 2\": 0.8517614427094894,\n",
      "    \"Type nuage 3\": 0.960548908937945,\n",
      "    \"Type nuage 4\": 0.987807466966334,\n",
      "    \"Variation de pression en 24 heures\": 0.5079294709230556,\n",
      "    \"Variation de pression en 3 heures\": 0.10793467236082979,\n",
      "    \"Visibilit\\u00e9 horizontale\": 0.2294263479435269,\n",
      "    \"Vitesse du vent moyen 10 mn\": 0.01186472149022402,\n",
      "    \"communes (code)\": 0.13184314157164467,\n",
      "    \"communes (name)\": 0.13184314157164467,\n",
      "    \"department (code)\": 0.13184314157164467,\n",
      "    \"department (name)\": 0.13184314157164467,\n",
      "    \"region (code)\": 0.13184314157164467,\n",
      "    \"region (name)\": 0.13184314157164467\n",
      "}\n"
     ]
    }
   ],
   "source": [
    "import json\n",
    "stats = dict(temperatures.isna().sum() / temperatures.shape[0])\n",
    "print(json.dumps(stats, indent=4, sort_keys=True))"
   ]
  },
  {
   "cell_type": "code",
   "execution_count": 15,
   "metadata": {},
   "outputs": [
    {
     "data": {
      "text/plain": [
       "16212"
      ]
     },
     "metadata": {},
     "output_type": "display_data"
    },
    {
     "data": {
      "text/plain": [
       "'2010-01-01T01:00:00+01:00'"
      ]
     },
     "metadata": {},
     "output_type": "display_data"
    }
   ],
   "source": [
    "display(np.sum(fires['Alerte'] > temperatures['Date'].min()))\n",
    "display(temperatures['Date'].min())"
   ]
  },
  {
   "cell_type": "code",
   "execution_count": 16,
   "metadata": {},
   "outputs": [
    {
     "data": {
      "text/plain": [
       "<matplotlib.axes._subplots.AxesSubplot at 0x1bb4d83d630>"
      ]
     },
     "execution_count": 16,
     "metadata": {},
     "output_type": "execute_result"
    },
    {
     "data": {
      "image/png": "[encoded data removed]",
      "text/plain": [
       "<Figure size 432x288 with 1 Axes>"
      ]
     },
     "metadata": {
      "needs_background": "light"
     },
     "output_type": "display_data"
    }
   ],
   "source": [
    "fires.groupby(fires['Alerte'].astype(\"datetime64\").dt.month)['Alerte'].count().plot(kind=\"bar\")"
   ]
  },
  {
   "cell_type": "code",
   "execution_count": 17,
   "metadata": {},
   "outputs": [
    {
     "data": {
      "text/plain": [
       "<matplotlib.axes._subplots.AxesSubplot at 0x1bb4e8ce2b0>"
      ]
     },
     "execution_count": 17,
     "metadata": {},
     "output_type": "execute_result"
    },
    {
     "data": {
      "image/png": "[encoded data removed]",
      "text/plain": [
       "<Figure size 864x576 with 1 Axes>"
      ]
     },
     "metadata": {
      "needs_background": "light"
     },
     "output_type": "display_data"
    }
   ],
   "source": [
    "plt.figure(figsize=(12,8))\n",
    "fires.groupby(fires['Alerte'].astype(\"datetime64\").dt.year)['Alerte'].count().plot(kind=\"bar\")"
   ]
  },
  {
   "cell_type": "code",
   "execution_count": 22,
   "metadata": {},
   "outputs": [
    {
     "data": {
      "text/plain": [
       "Commune\n",
       "Abeilhan                       6\n",
       "Abriès                         1\n",
       "Accons                        12\n",
       "Adissan                        5\n",
       "Adrets-de-l'Estérel (Les)    103\n",
       "                            ... \n",
       "Étoile-Saint-Cyrice            4\n",
       "Étoile-sur-Rhône               1\n",
       "Évenos                        60\n",
       "Évisa                        105\n",
       "Île-Rousse (L')               43\n",
       "Name: Alerte, Length: 3275, dtype: int64"
      ]
     },
     "execution_count": 22,
     "metadata": {},
     "output_type": "execute_result"
    }
   ],
   "source": [
    "fires.groupby(fires['Commune'])['Alerte'].count()"
   ]
  },
  {
   "cell_type": "code",
   "execution_count": 21,
   "metadata": {},
   "outputs": [
    {
     "data": {
      "text/plain": [
       "Année                              int64\n",
       "Numéro                             int64\n",
       "Type de feu                        int64\n",
       "Département                       object\n",
       "Code INSEE                        object\n",
       "Commune                           object\n",
       "Lieu-dit                          object\n",
       "Code du carreau DFCI              object\n",
       "Alerte                            object\n",
       "Origine de l'alerte              float64\n",
       "Surface parcourue (m2)             int64\n",
       "date                      datetime64[ns]\n",
       "month                              int64\n",
       "day                                int64\n",
       "year                               int64\n",
       "dtype: object"
      ]
     },
     "execution_count": 21,
     "metadata": {},
     "output_type": "execute_result"
    }
   ],
   "source": [
    "fires.dtypes"
   ]
  },
  {
   "cell_type": "code",
   "execution_count": 23,
   "metadata": {},
   "outputs": [
    {
     "data": {
      "text/plain": [
       "Année                     0.000000\n",
       "Numéro                    0.000000\n",
       "Type de feu               0.000000\n",
       "Département               0.000000\n",
       "Code INSEE                0.000096\n",
       "Commune                   0.000096\n",
       "Lieu-dit                  0.154914\n",
       "Code du carreau DFCI      0.000000\n",
       "Alerte                    0.000000\n",
       "Origine de l'alerte       0.271320\n",
       "Surface parcourue (m2)    0.000000\n",
       "date                      0.000000\n",
       "month                     0.000000\n",
       "day                       0.000000\n",
       "year                      0.000000\n",
       "dtype: float64"
      ]
     },
     "execution_count": 23,
     "metadata": {},
     "output_type": "execute_result"
    }
   ],
   "source": [
    "fires.isna().sum() / fires.shape[0]"
   ]
  },
  {
   "cell_type": "code",
   "execution_count": 24,
   "metadata": {},
   "outputs": [
    {
     "data": {
      "text/plain": [
       "<matplotlib.axes._subplots.AxesSubplot at 0x1bb5a24a208>"
      ]
     },
     "execution_count": 24,
     "metadata": {},
     "output_type": "execute_result"
    },
    {
     "data": {
      "image/png": "[encoded data removed]",
      "text/plain": [
       "<Figure size 432x288 with 1 Axes>"
      ]
     },
     "metadata": {
      "needs_background": "light"
     },
     "output_type": "display_data"
    }
   ],
   "source": [
    "import seaborn\n",
    "logRev = np.log10(np.clip(fires['Surface parcourue (m2)'], a_min=1, a_max=None))\n",
    "seaborn.kdeplot(logRev)"
   ]
  },
  {
   "cell_type": "code",
   "execution_count": 20,
   "metadata": {},
   "outputs": [
    {
     "name": "stdout",
     "output_type": "stream",
     "text": [
      "{nan, 'Vaudevant', 'Chomérac', 'Chanéac', 'Saint-Génis-des-Fontaines', 'Saint-Étienne-des-Sorts', 'Campagna-de-Sault', 'Omessa', 'Orgon', 'Gilette', 'Cabrespine', 'Répara-Auriples (La)', 'Thuès-Entre-Valls', 'Saint-Maurice-de-Ventalon', 'Niort-de-Sault', 'Villespassans', 'Trausse', 'Salazac', 'Aiglun', 'Sanilhac-Sagriès', 'Coulobres', \"Escale (L')\", 'Châteauredon', 'Piedicorte-di-Gaggio', 'Saint-Dizier-en-Diois', 'Fleury', 'Rove (Le)', 'Ornaisons', 'Mialet', 'Saint-Julien-du-Serre', 'Enchastrayes', 'Lagrand', 'Moriez', 'Condillac', 'Banassac', 'Caissargues', 'Saint-Disdier', 'Corneilla-la-Rivière', 'Astet', 'Saint-Laurent-de-Cerdans', 'Colmars', 'Bizanet', 'Saint-Christol', 'Catllar', 'Cros-de-Géorand', 'Brue-Auriac', 'Nocario', 'Barcarès (Le)', 'Homps', 'Laborel', 'San-Nicolao', 'Beaumes-de-Venise', 'Mela', 'Camps-la-Source', 'Ferrassières', 'Lavillatte', 'Montarnaud', \"Cheylard-l'Évêque\", 'Saint-Chaptes', 'Casevecchie', \"Châteauneuf-d'Oze\", 'Villar-Saint-Anselme', 'Cheylard (Le)', 'Soyans', 'Saint-Étienne-de-Fontbellon', 'Balsièges', 'Belcastel-et-Buc', 'Aulas', 'Montbel', \"Raissac-d'Aude\", 'Bages', 'Pennes-Mirabeau (Les)', 'Noalhac', 'Conilhac-Corbières', 'Grand-Serre (Le)', 'Roumoules', 'Ghisoni', 'Châteauvert', 'Port-de-Bouc', 'Saint-Mitre-les-Remparts', 'Palairac', 'Dorres', 'Vélieux', 'Méolans-Revel', 'Meyrueis', 'Privas', 'Fontanès-de-Sault', 'Saint-Sauveur-sur-Tinée', 'Beaumettes', 'Peyroules', 'Palhers', 'Soveria', 'Jonquières', 'Préaux', 'Trouillas', 'Pézilla-de-Conflent', 'Morsiglia', 'Lamelouze', 'Saint-Uze', 'Peyruis', 'Plagnal (Le)', 'Roquebrussanne (La)', 'Faucon', 'Brusquet (Le)', 'Palaja', 'Mas (Le)', 'Curbans', 'Carcès', 'Bâtie-Montsaléon (La)', 'Châteauroux-les-Alpes', 'Massegros (Le)', \"Saint-Just-d'Ardèche\", 'Eygliers', 'Montredon-des-Corbières', 'Casabianca', 'Tournefort', 'Entrevennes', 'Liouc', 'Fons-sur-Lussan', 'Pailharès', 'Désaignes', 'Arphy', 'Maureillas-las-Illas', 'Félines', 'Brossainc', 'Sainte-Colombe-sur-Guette', 'Montolieu', 'Sainte-Maxime', 'Pioggiola', 'Bréziers', 'Saint-Maurice-sur-Eygues', 'Villeneuve-lès-Avignon', 'Valbonne', 'Saint-André-de-Majencoules', \"Saint-Martin-d'Août\", 'Combes', 'Manosque', 'Saint-Laurent-de-Trèves', 'Saint-Rémy-de-Provence', 'Garrigues-Sainte-Eulalie', 'Soumont', 'Chambon (Le)', \"Isle-sur-la-Sorgue (L')\", 'Castagniers', 'Robion', 'Levens', 'Salernes', 'Baho', 'Sainte-Colombe-de-Peyre', 'Cavillargues', 'Lavérune', 'Ispagnac', 'Asperjoc', 'Domessargues', 'Ginoles', 'Saint-Hilaire', 'Coggia', 'Santa-Lucia-di-Moriani', 'Reilhanette', 'Campile', 'Cambon-et-Salvergues', 'Saint-Martial', 'Py', 'Eyragues', 'Treilles', 'Laval-Atger', 'Peaugres', 'Bellecombe-Tarendol', 'Mont-Dauphin', 'Cauro', 'Casaglione', 'Badaroux', 'Saint-Maime', 'Pianottoli-Caldarello', 'Villegailhenc', 'Portel-des-Corbières', 'Ubraye', 'Oppedette', 'Ajac', 'Roqueredonde', 'Rutali', 'Villemagne', 'Saint-Clément-de-Rivière', 'Roquemaure', 'Lentillères', \"Plan-d'Aups-Sainte-Baume\", 'Pouzols', 'Châteauneuf-sur-Isère', 'Marignane', 'Rousset', 'Rompon', 'Vernarède (La)', \"Saint-Étienne-de-l'Olm\", 'Castelnau-de-Guers', 'Laveyron', 'Cases-de-Pène', \"Boule-d'Amont\", 'Saint-Blaise', 'Roche-sur-le-Buis (La)', 'Barrettali', 'Boisset-et-Gaujac', 'Bandol', 'Tomino', 'Motte-du-Caire (La)', 'Nice', 'Cournanel', 'Saint-Martin-lès-Seyne', 'Angles (Les)', 'Martignargues', 'Colle-sur-Loup (La)', 'Ailhon', 'Roquefort-des-Corbières', 'Vion', 'Velone-Orneto', 'Mallefougasse-Augès', 'Verdun-en-Lauragais', 'Graveson', 'Eus', 'Saint-Jean-de-Cuculles', 'San-Martino-di-Lota', 'Pin (Le)', 'Saint-Désirat', 'Saint-Siffret', 'Roche-sur-Grane (La)', 'Chambon', 'Arvieux', 'Fa', 'Lesches-en-Diois', 'Saint-Paul-de-Fenouillet', 'Bustanico', 'Boulieu-lès-Annonay', 'Piano', 'Saint-Sauveur-Camprieu', 'Aigues-Vives', 'Ferrals-les-Montagnes', 'Gap', 'Molezon', 'Sisteron', 'Roquetaillade', 'Tour-sur-Orb (La)', 'Berlou', 'Saint-Pierre-de-Nogaret', 'Villebazy', 'Caveirac', 'Montagnac', 'Roquebillière', 'Brouzet-lès-Quissac', 'Saint-Pierre-des-Tripiers', 'Ferrals-les-Corbières', 'Canaveilles', 'Saint-Christol-lès-Alès', 'Saint-Just-et-le-Bézu', 'Robine-sur-Galabre (La)', 'Sainte-Colombe-de-la-Commanderie', 'Brignoles', 'Saint-Martin-de-Lansuscle', 'Cervières', 'Turriers', 'Lantosque', 'Taradeau', 'Valréas', 'Mollégès', 'Boisset', 'Mantet', 'Fos-sur-Mer', 'Biot', 'Saint-Geniès-de-Malgoirès', 'Bonnieux', 'Valvignères', 'Malviès', 'Bonson', 'Saint-Laurent-du-Pape', 'Chandolas', 'Conilhac-de-la-Montagne', 'Blomac', 'Laragne-Montéglin', 'Saint-Arnac', 'Espéraza', 'Martre (La)', 'Castellare-di-Mercurio', 'Villeveyrac', 'Vernet (Le)', 'Aubenasson', 'Propriano', 'Tourtour', 'Forciolo', 'Saint-Paul-Trois-Châteaux', 'Saint-Martin-de-Boubaux', 'Puéchabon', 'Montségur-sur-Lauzon', 'Tralonca', 'Mas-Saintes-Puelles', 'Mérindol', 'Argeliers', 'Auribeau', 'Moulès-et-Baucels', 'Oraison', 'Fontans', 'Morières-lès-Avignon', 'Beauvène', 'Saint-Aunès', 'Auriol', 'Saint-Marsal', 'Accons', 'Moussoulens', 'Vialas', 'San-Gavino-di-Carbini', 'Trilla', 'Riboux', 'Guillaumes', 'Sernhac', 'Moissac-Vallée-Française', 'Puilaurens', 'Saint-Brès', 'Villelaure', 'Mane', 'Laupie (La)', 'Nyer', 'Villefranche-de-Conflent', 'Peyriac-de-Mer', 'Clamensane', 'Zilia', 'Saint-Martin-Vésubie', 'Saint-Symphorien-sous-Chomérac', 'Velaux', 'Padern', 'Vinça', 'Saint-Andéol-de-Clerguemort', 'Campagne-sur-Aude', 'Vachères-en-Quint', 'Pelvoux', 'Beausemblant', 'Saint-Rome-de-Dolan', 'Saint-Just-et-Vacquières', \"Sallèles-d'Aude\", 'Fontaine-de-Vaucluse', 'Chauvac-Laux-Montaux', 'Aumelas', 'Piégros-la-Clastre', 'Palneca', 'Moussan', 'Campana', 'Vassieux-en-Vercors', 'Combas', \"Rouffiac-d'Aude\", 'Aullène', 'Redortiers', 'Pouget (Le)', 'Sauteyrargues', 'Neffes', 'Valras-Plage', 'Tavernes', 'Rouvière (La)', 'Albaret-le-Comtal', 'Vissec', 'Mont-Louis', \"Berre-l'Étang\", 'Piana', 'Bagnoles', 'Trans-en-Provence', 'Chastel-Nouvel', 'Luri', 'Serres', 'Saint-Étienne-le-Laus', 'Olmeta-di-Capocorso', 'Saint-Privat-de-Champclos', 'Limoux', 'Roche-de-Rame (La)', 'Mondragon', 'Villeneuve-de-Berg', 'Castirla', 'Albas', 'Melve', 'Vernet-les-Bains', 'Santa-Reparata-di-Balagna', 'Fontjoncouse', 'Toulouges', 'Carnoux-en-Provence', 'Fraissinet-de-Lozère', 'Espezel', 'Servières', 'Aix-en-Diois', 'Mayres', 'Aiguilles', 'Nozières', 'Argelès-sur-Mer', 'Chiatra', 'Venzolasca', 'Faugères', 'Tieule (La)', 'Bouilladisse (La)', 'Mars', 'Lamastre', 'Vias', 'Salérans', 'Vitrolles', 'Saint-Vincent-les-Forts', 'Eygalières', 'Ribes', 'Villarzel-du-Razès', \"Laval-d'Aurelle\", 'Toudon', 'Gilhoc-sur-Ormèze', 'Rochecolombe', 'Carnoules', 'Causse-Bégon', 'Jonquières-Saint-Vincent', 'Port-Saint-Louis-du-Rhône', 'Luc-sur-Orbieu', 'Callas', 'Grossa', 'Pompidou (Le)', 'Beaufort-sur-Gervanne', 'Ratières', 'Jausiers', 'Barbaira', 'Badens', 'Lama', 'Marvejols', 'Meyrannes', \"Recoules-d'Aubrac\", 'Usclas-du-Bosc', 'Vauvenargues', 'Rochefort-du-Gard', 'Saint-Gervais', 'Saint-Joseph-des-Bancs', 'Rousses', 'Saint-André-de-Buèges', 'Beausoleil', 'Floure', 'Belvédère-Campomoro', 'Saint-Bonnet-de-Montauroux', 'Méailles', 'Ollières-sur-Eyrieux (Les)', 'Olmo', 'Aigaliers', 'Penta-Acquatella', 'Canet-en-Roussillon', 'Divajeu', 'Sospel', \"Sant'Antonino\", 'Riols', 'Laurens', 'Montgenèvre', 'Quasquara', 'Cuers', 'Salasc', 'Verdèse', 'Aunat', 'Barre-des-Cévennes', 'Parata', 'Babeau-Bouldoux', 'Saint-Paul-lès-Durance', 'Canilhac', 'Drap', 'Laprade', \"Saint-Michel-l'Observatoire\", 'Félines-sur-Rimandoule', 'Lambesc', 'Saint-Bauzille-de-Montmel', 'Champis', 'Pietracorbara', 'Puyvalador', 'Vignale', 'Souspierre', 'Andon', 'Chambon-le-Château', 'Talasani', 'Pourchères', 'Saint-Péray', 'Mornas', 'Paulhac-en-Margeride', 'Montclus', 'Pierrefiche', 'Bouvante', 'Caunes-Minervois', 'Bouc-Bel-Air', 'Seignalens', 'Tarascon', 'Cazedarnes', 'Rigaud', 'Gavignano', 'Roquebrun', 'Glun', 'Saint-Cierge-la-Serre', 'Chalancon', 'Faurie (La)', 'Rogues', 'Aiguines', 'Capestang', 'Venaco', 'Saint-Cyprien', 'Salvetat-sur-Agout (La)', 'Bayons', 'Allenc', 'Cambia', 'Saint-Paul-et-Valmalle', 'Caromb', 'Bilia', 'Saint-Sauveur-de-Cruzières', 'Montclar', 'Saint-Sauveur', 'Champcella', 'Saint-Georges-de-Lévéjac', 'Sorbo-Ocagnano', 'Altiani', 'Aghione', \"Laudun-l'Ardoise\", 'Polveroso', 'Bâtie-Rolland (La)', 'Valgorge', 'Assions (Les)', 'Rougon', 'Richerenches', 'Saint-Andéol-de-Berg', 'Roquebrune-sur-Argens', 'Saint-Jean-Lasseille', 'Sannes', 'Lajo', 'Collias', 'Chasseradès', 'Châteaurenard', 'Donazac', 'Boffres', 'Blavignac', 'Saint-Savournin', 'Villelongue-de-la-Salanque', 'Balogna', 'Allex', 'Saint-Laurent-de-la-Cabrerisse', 'Buoux', 'Chastanier', 'Crès (Le)', 'Erbajolo', 'Mirabel-aux-Baronnies', 'Quinson', 'Santa-Maria-di-Lota', 'Mézel', \"Saint-Jeure-d'Ay\", 'Paradou', 'Llupia', 'Goult', 'Rochefort-Samson', 'Brigue (La)', 'Bozas', 'Loupian', 'Réauville', 'Saint-Firmin', 'Peypin', 'Comps', 'Sauze-du-Lac (Le)', 'Livron-sur-Drôme', 'Boutenac', 'Beynes', 'Saint-Germain-de-Calberte', \"Labatie-d'Andaure\", 'Monteux', 'Châteauneuf-de-Vernoux', 'Génolhac', 'Giocatojo', \"Île-Rousse (L')\", 'Castello-di-Rostino', 'Caudiès-de-Fenouillèdes', 'Eccica-Suarella', \"Orgnac-l'Aven\", 'Villesèque-des-Corbières', 'Vinon-sur-Verdon', 'Saint-Martin-les-Eaux', 'Mages (Les)', 'Sarrola-Carcopino', 'Molitg-les-Bains', \"Cadière-d'Azur (La)\", 'Sari-Solenzara', 'Andance', 'Antibes', 'Meynes', 'Cadière-et-Cambo (La)', 'Saint-Thibéry', 'Roux (Le)', 'Orsans', 'Mirabel-et-Blacons', \"Usclas-d'Hérault\", 'Chusclan', 'Villasavary', 'Antonaves', 'Dauphin', 'Orto', 'Pont-de-Barret', 'Noves', 'Nessa', 'Lagnes', 'Saint-Maximin', 'Castellard-Mélan (Le)', 'Fabrègues', 'Sainte-Anastasie', 'Pignans', 'Canaules-et-Argentières', 'Grans', 'Farinole', 'Belcodène', 'Canet', 'Guargualé', 'Brenoux', 'Barnas', 'Montsalier', 'Arlebosc', 'Névache', 'Usclades-et-Rieutord', 'Campoussy', 'Malaucène', 'Saint-Geniez', 'Bezouce', 'Sanary-sur-Mer', 'Lesquerde', 'Véraza', 'Sussargues', 'Espeluche', 'Campitello', 'Prades-le-Lez', 'Camplong', \"Tour-d'Aigues (La)\", 'Puimisson', 'Upie', 'Montblanc', 'Serpent (La)', 'Piève', 'Saint-Paul-en-Forêt', 'Letia', 'Vers-Pont-du-Gard', 'Chambonas', 'Alboussière', 'Codalet', 'Nissan-lez-Enserune', 'Saint-Marcel-de-Careiret', 'Alata', \"Sari-d'Orcino\", 'Saix (Le)', 'Moussac', 'Roullens', 'Thueyts', 'Saint-Cézaire-sur-Siagne', 'Saint-Sylvestre', 'Aires (Les)', 'Serra-di-Fiumorbo', 'Perthus (Le)', 'Montjoi', 'Bagnols-sur-Cèze', 'Laval-du-Tarn', \"Mazan-l'Abbaye\", 'Loreto-di-Tallano', 'Saint-Cannat', 'Seyne-sur-Mer (La)', 'Verdière (La)', 'Aurons', 'Mours-Saint-Eusèbe', 'Bolquère', 'Gordes', 'Grande-Motte (La)', \"Cabrières-d'Aigues\", 'Castellet', 'Villeneuve-Minervois', 'Montrodat', 'Pila-Canale', 'Rognac', 'Saint-Julien-du-Gua', 'Savournon', 'Plaisians', 'Prés (Les)', 'Belgodère', 'Saint-Benoit-en-Diois', 'Castillon', 'Gattières', 'Prunelli-di-Fiumorbo', 'Bastelicaccia', 'Ria-Sirach', 'Moïta', 'Ventavon', 'Saint-Amans', 'Rivel', \"Sainte-Cécile-d'Andorge\", 'Montegrosso', 'Saint-Victor-des-Oules', 'Rouvenac', 'Poujols', 'Saze', 'Tourrettes-sur-Loup', 'Sivergues', 'Castelnaudary', 'Menglon', 'Laubert', 'Thiéry', 'Saint-Barthélemy-de-Vals', \"Touët-de-l'Escarène\", 'Avançon', 'Nages-et-Solorgues', 'Chanousse', 'Ferres (Les)', 'Aspres-sur-Buëch', 'Celle (La)', 'Pieusse', 'Saint-Julien-Labrousse', 'Allemagne-en-Provence', 'Aubignan', 'Ambiegna', 'Gréasque', 'Lazer', 'Châteauneuf-du-Pape', 'Luc-en-Diois', 'Lumio', 'Saint-Christophe-et-le-Laris', 'Saint-Léger-de-Peyre', 'Saint-Julien-le-Roux', 'Modène', 'Grignan', 'Grasse', 'Générargues', 'Boulc', 'Villalier', 'Molières-sur-Cèze', 'Montauroux', 'Bastide (La)', 'Angoustrine-Villeneuve-des-Escaldes', 'Boulbon', 'Arcs (Les)', 'Vigan (Le)', 'Lasalle', 'Boucieu-le-Roi', 'Saint-Louis-et-Parahou', 'Trélans', 'Fontvieille', 'Sainte-Cécile-les-Vignes', 'Boissière (La)', 'Bastelica', 'Tallard', 'Ventenac-Cabardès', 'Muro', 'Viggianello', 'Sète', 'Vidauban', 'Bassan', 'Lurs', 'Bastia', \"Bastide-d'Engras (La)\", 'Rapale', \"Saint-Martin-de-l'Arçon\", \"Adrets-de-l'Estérel (Les)\", 'Saint-Tropez', 'Estézargues', 'Montpezat-sous-Bauzon', 'Port-la-Nouvelle', 'Agnières-en-Dévoluy', 'Saint-Laurent-du-Var', 'Vendargues', 'Revest-Saint-Martin', 'Ghisonaccia', 'Arbellara', 'Saint-Maximin-la-Sainte-Baume', 'Albitreccia', 'Roquefort-la-Bédoule', \"Bousquet-d'Orb (Le)\", 'Carlencas-et-Levas', 'Châteauneuf-Val-Saint-Donat', 'Cornillac', 'Bouquet', 'Bleymard (Le)', 'Cabriès', 'Arrigas', 'Lachapelle-Graillouse', 'Cruas', 'Ruoms', 'Alairac', 'Mayronnes', 'Escaro', 'Coustouge', 'Taillet', 'Valence', 'Eyzahut', 'Saint-Michel-de-Boulogne', 'Verfeuil', 'Saint-Pierre-de-Mézoargues', 'Railleu', 'Saorge', \"Sant'Andréa-di-Bozio\", 'Digne-les-Bains', 'Villecroze', 'Coux', 'Montagnac-Montpezat', 'Malijai', 'Solliès-Toucas', 'Vals-les-Bains', 'Saint-Geniès-des-Mourgues', 'Rustiques', 'Bellegarde-du-Razès', 'Campi', 'Roquessels', 'Coti-Chiavari', 'Fourtou', \"Saint-Nazaire-d'Aude\", 'Chazeaux', 'Sumène', 'Minerve', 'Argelliers', 'Bairols', 'Fraissé-des-Corbières', 'Saint-Hilaire-de-Beauvoir', 'Garons', 'Salle-les-Alpes (La)', 'Boisseron', 'Montouliers', 'Camélas', 'Archail', 'Thorrenc', 'Serriera', 'Novale', 'Monestier', 'Fontanès', 'Sorgues', 'Saint-Nazaire-des-Gardies', 'Arre', 'Saint-Victoret', 'Jonquerettes', 'Mazuby', 'Caumont-sur-Durance', \"Lalevade-d'Ardèche\", 'Sigottier', 'Amirat', 'Nîmes', 'Rasiguères', 'Quercitello', 'Tanneron', 'Saint-Michel', 'Cournonterral', 'Sommières', 'Pino', 'Peillon', 'Sainte-Colombe', 'Vivier (Le)', 'Sigonce', 'Soler (Le)', \"Saint-Julien-d'Asse\", 'Mende', 'Suze', 'Camurac', 'Villeperdrix', 'Villefort', 'Tresques', 'Ferrières-Poussarou', 'Saint-Victor-de-Malcap', 'Taurize', 'Verdaches', 'Vaunaveys-la-Rochette', \"Saint-Jeure-d'Andaure\", 'Saint-Maurice-en-Valgodemard', 'Aspres-lès-Corps', 'Vans (Les)', 'Saint-Mathieu-de-Tréviers', 'Sampzon', 'Béage (Le)', 'Jaunac', 'Vedène', 'Saint-Bauzille-de-la-Sylve', 'Saint-Polycarpe', 'Pompignan', 'Agel', 'Arboussols', 'Motte-en-Champsaur (La)', 'Cagnes-sur-Mer', 'Plats', 'Lespignan', 'Baraigne', 'Volpajola', 'Villelongue-dels-Monts', 'Malbouzon', 'Bargemon', 'Boujan-sur-Libron', 'Beaulieu-sur-Mer', 'Giuncaggio', 'Aumes', 'Carticasi', 'Dornas', 'Valette-du-Var (La)', 'Castans', 'Barcelonne', 'Saint-Michel-de-Dèze', 'Pomy', 'Six-Fours-les-Plages', \"Escarène (L')\", 'Monticello', 'Hautes-Duyes', 'Beaucet (Le)', 'Saint-Gervasy', 'Plantiers (Les)', 'Lespinassière', 'Puy-Sanières', 'Chantemerle-lès-Grignan', 'Sausset-les-Pins', 'Ayguatébia-Talau', 'Courmes', 'Seillans', 'Saint-Apollinaire', 'Saussan', 'Thoronet (Le)', 'Omergues (Les)', 'Salles-sous-Bois', 'Valliguières', 'Durfort-et-Saint-Martin-de-Sossenac', 'Sisco', 'Bouyon', 'Braux', 'Vernon', 'Saint-Julien', 'Poligny', 'Alando', 'Bâtie-Neuve (La)', 'Vacquières', 'Rosans', 'Allègre-les-Fumades', 'Cessenon-sur-Orb', 'Monêtier-Allemont', 'Cenne-Monestiés', 'Galinagues', 'Lemps', 'Cambieure', 'Festes-et-Saint-André', 'Rocbaron', 'Pommiers', 'Cournonsec', 'Charols', 'Montpezat', 'Saint-Étienne-de-Lugdarès', 'Villeneuvette', 'Aouste-sur-Sye', 'Saint-Cierge-sous-le-Cheylard', 'Rochebrune', 'Saint-Laurent-du-Verdon', 'Guzargues', 'Baix', 'Bordezac', 'Florac', 'Patrimonio', 'Montlaur', 'Montguers', 'Viols-en-Laval', 'Beauvezer', 'Revest-les-Eaux (Le)', 'Serralongue', 'Scolca', 'Avignon', 'Puyméras', 'Villar-Saint-Pancrace', 'Peyraud', 'Opoul-Périllos', 'Montmaur', 'Conat', 'Fraisse-Cabardès', 'Saint-Victor-la-Coste', 'Salon-de-Provence', 'Logrian-Florian', 'Rochefort-en-Valdaine', 'Lorgues', 'Valouse', 'Montferrier-sur-Lez', 'Laroque', 'Connaux', 'Veyras', 'Serra-di-Ferro', 'Gardanne', 'Beaufort', 'Crestet', 'Ginestas', 'Laurabuc', 'Villetelle', \"Saint-Félix-de-l'Héras\", 'Bousquet (Le)', 'Cruis', 'Alet-les-Bains', 'Camaret-sur-Aigues', 'Fouzilhon', 'Miraval-Cabardes', 'Puisserguier', 'Roiffieux', 'Levie', 'Générac', 'Saint-Privat', 'Volx', 'Antisanti', 'Bisinchi', 'Aubignosc', 'Bosc (Le)', 'Murato', 'Paraza', 'Labastide-Esparbairenque', 'Pourrières', 'Bagard', 'Saint-Sauveur-Gouvernet', 'Margon', 'Caunettes-en-Val', 'San-Gavino-di-Fiumorbo', 'Prunelli-di-Casacconi', 'Baron', 'Guilherand-Granges', 'Olette', 'Serverette', 'Crots', 'Pontaix', 'Vaumeilh', 'Saint-Vallier', 'Aucelon', 'Pécharic-et-le-Py', 'Aspiran', 'Salavas', 'Villeneuve-Loubet', 'Saint-Sauveur-de-Montagut', 'Cardet', 'Bouilhonnac', 'Lavilledieu', 'Bollène-Vésubie (La)', 'Salle-Prunet (La)', 'Aspères', 'Masos (Los)', 'Osséja', 'Clapiers', 'Peynier', 'Lagrasse', 'Vira', 'Mons', 'Pradet (Le)', 'Poggiolo', 'Lanuéjols', 'Alès', 'Beaumont-en-Diois', 'Coustouges', 'Magrie', 'Bourg-lès-Valence', 'Courry', 'Veynes', \"Motte-d'Aigues (La)\", 'Pierrevert', 'Carpentras', 'Grambois', 'Salelles (Les)', 'Roussillon', 'Roque-sur-Pernes (La)', 'Novella', 'Blauzac', 'Ganagobie', \"Saint-Michel-d'Euzet\", 'Sainte-Jalle', 'Lançon-Provence', 'Finestret', 'Charmes-sur-Rhône', 'Esclanèdes', 'Venasque', 'Barrême', 'Glaizil (Le)', 'Buis-les-Baronnies', 'Focicchia', 'Tourreilles', 'Peri', 'Leuc', 'Gargas', 'Tourette-du-Château', 'Ouveillan', 'Casamaccioli', 'Latour-de-France', 'Ota', 'Feuilla', 'Santo-Pietro-di-Tenda', 'Beaume (La)', 'Colonzelle', 'Revest-du-Bion', 'Fabras', 'Crocicchia', 'Rabouillet', 'Peyrolles-en-Provence', 'Leucate', 'Théus', 'Antraigues-sur-Volane', 'Allan', 'Châteauneuf-de-Gadagne', 'Gluiras', 'Bouvières', \"Roque-d'Anthéron (La)\", 'Santa-Maria-Siché', 'Castelnou', 'Zoza', 'Gravières', \"Sainte-Colombe-sur-l'Hers\", \"Saint-André-d'Olérargues\", 'Gigors-et-Lozeron', 'Zévaco', 'Chastel-Arnaud', 'Forcalqueiret', 'Montfroc', 'Villespy', 'Orcières', 'Courniou', 'Menton', 'Colombiers', 'Assas', 'Rennes-les-Bains', 'Conségudes', \"Espira-de-l'Agly\", 'Mauguio', 'Saint-Pierre-sur-Doux', 'Sainte-Croix-de-Quintillargues', 'Montréal-les-Sources', 'Carros', 'Albertacce', 'Fage-Montivernoux (La)', 'Vigneaux (Les)', 'Seyne', 'Labastide-de-Virac', 'Joucas', 'Tartonne', 'Limousis', 'Sainte-Camelle', 'Châteauneuf-Grasse', 'Puget-Ville', 'Colognac', 'Saumane', 'Pourcieux', 'Saint-Jean-de-Cornies', \"Saint-Frézal-d'Albuges\", 'Maury', 'Bendejun', 'Siran', 'Montrond', 'Causse-de-la-Selle', 'Bram', 'Pietralba', 'Calvisson', 'Saignon', 'Lachau', 'Florensac', 'Boulou (Le)', 'Hérépian', 'Vercoiran', 'Orsan', 'Saint-Antonin-du-Var', 'Saint-Christol-de-Rodières', 'Noceta', \"Poggio-d'Oletta\", 'Baillestavy', 'Saint-Jean-de-Serres', 'Salles-sur-Verdon (Les)', 'Montjoux', 'Estagel', 'Mausoléo', 'Érone', 'Establet', 'Draguignan', 'Tallone', 'Montgradail', 'Loubaresse', 'Lafare', 'Rambaud', 'Évisa', 'Pailhès', 'Verzeille', 'Courtauly', 'Meria', 'Bauduen', 'Saint-Léger-du-Malzieu', 'Saint-Martin-de-Brômes', 'Ville-di-Pietrabugno', 'Saint-Félicien', 'Brenac', 'Agonès', 'Vinsobres', 'Favalello', 'Saint-Dézéry', 'Peyrins', 'Corbara', 'Tourrettes (Les)', 'Châteauvieux', 'Canavaggia', 'Sougraigne', 'Figari', 'Lanet', 'Rogliano', 'Zigliara', 'Bargème', 'Puygiron', 'Torreilles', 'Argiusta-Moriccio', 'Costa', 'Silvareccio', 'Montmirat', 'Palasca', 'Oupia', 'Volonne', 'Berzème', 'Montpellier', 'Souvignargues', 'Collet-de-Dèze (Le)', 'Mas-Saint-Chély', 'Briançon', 'Lieuran-Cabrières', 'Tulette', 'Marsa', 'Jonchères', 'Roche-Saint-Secret-Béconne', 'Viols-le-Fort', 'Lachapelle-sous-Chanéac', 'Châteauneuf-les-Martigues', 'Ansignan', 'Rasteau', 'Sainte-Marguerite-Lafigère', 'Cliousclat', 'Fouillouse', 'Saint-Bauzile', 'Pigna', 'Planès', 'Saint-Jean-le-Centenier', 'Montesquieu', 'Sauveterre', 'Afa', 'Fournes-Cabardès', 'Saint-Pierre-le-Vieux', 'Combaillaux', \"Salles-d'Aude\", 'Carqueiranne', 'Saint-Dalmas-le-Selvage', 'Saint-Pierre-Saint-Jean', 'Villemoustaussou', 'Montbolo', 'Casalta', 'Quintillan', 'Bélesta', 'Ilonse', 'Bagnols-en-Forêt', 'Séranon', 'Venanson', 'Counozouls', 'Saint-Vincent-de-Barbeyrargues', 'Pomas', 'Vars', 'Courthézon', 'Saint-Pons-la-Calm', 'Err', 'Tréziers', 'Beaujeu', 'Moca-Croce', \"Saint-Jacques-d'Atticieux\", 'Saint-Véran', 'Enveitg', 'Speloncato', 'Mollans-sur-Ouvèze', 'Vezzani', 'Grimaud', 'Tourrette-Levens', 'Vico', 'Forcalquier', 'Toulaud', 'Asco', 'Ongles', 'Sainte-Marie', 'Thoard', 'Saint-Cyr-sur-Mer', 'Camp Militaire de Canjuers', 'Mirepeisset', 'Marseillan', 'Mazaugues', 'Rochette (La)', 'Rochegude', 'Sagnes-et-Goudoulet', 'Bessons (Les)', 'Villegly', 'Castelreng', 'Costes (Les)', 'Céreste', 'Espondeilhan', \"Saint-Vincent-d'Olargues\", 'Assignan', 'Hures-la-Parade', 'Sorbollano', 'Mudaison', 'Saint-Genest-de-Beauzon', 'Châteauneuf-le-Rouge', 'Cendras', 'Roquefeuil', 'Cuxac-Cabardès', 'Pujaut', 'Alba-la-Romaine', 'Salces (Les)', 'Vacqueyras', 'Nasbinals', 'Fillols', 'Péone', 'Montmiral', 'Sournia', 'Saint-Étienne-du-Grès', 'Mujouls (Les)', 'Saint-Bauzille-de-Putois', 'Avèze', 'Saint-Bonnet-du-Gard', 'Tornac', 'Oletta', 'Eclassan', 'Pomérols', 'Gassin', 'Mas-des-Cours', 'Rodome', 'Sourribes', 'Porto-Vecchio', 'Bouriège', 'Auvare', 'Adissan', \"Nézignan-l'Évêque\", 'Vérignon', 'Entrechaux', 'Pianello', 'Furmeyer', 'Popolasca', 'Poulx', 'Valdeblore', \"Albère (L')\", 'Targassonne', 'Maussane-les-Alpilles', 'Lagorce', 'Saint-Paul-le-Jeune', 'Trinité (La)', 'Livinière (La)', 'Piégut', 'Rouret (Le)', 'Sauto', 'Fontès', 'Manteyer', 'Arquettes-en-Val', 'Selonnet', 'Montbrand', 'Goudargues', 'Corbère-les-Cabanes', 'Escragnolles', 'Salles-du-Gardon (Les)', 'Olargues', 'Nébian', 'Moncale', 'Soyons', \"Saint-Julien-d'Arpaon\", 'Penne-sur-Huveaune (La)', 'Bren', 'Lédignan', 'Saint-Frézal-de-Ventalon', 'Campôme', 'Cascastel-des-Corbières', 'Cargèse', 'Roque-Alric (La)', 'Puyvert', 'Mireval-Lauragais', 'Ortaffa', 'Saint-Geniès-de-Comolas', 'Althen-des-Paluds', 'Peyrolles', 'Ventenac-en-Minervois', 'Douzens', 'San-Gavino-di-Tenda', 'Valernes', 'Annonay', 'Capelle-et-Masmolène (La)', 'Piolenc', 'Saint-Agnan-en-Vercors', 'Aumessas', 'Geyssans', 'Joch', 'Arzens', 'Servian', \"Villemagne-l'Argentière\", 'Montfort', 'Peyrus', 'Saint-Estève-Janson', 'Lento', 'Saint-Mamert-du-Gard', 'Saint-Julia-de-Bec', 'Ristolas', 'Vernoux-en-Vivarais', 'Bézaudun-les-Alpes', 'Saint-Chinian', \"Villeneuve-d'Entraunes\", 'Opio', 'Saint-Laurent-les-Bains', \"Saint-Auban-sur-l'Ouvèze\", 'Rimplas', 'Paulhan', 'Barjols', 'Piedigriggio', 'Saint-Priest', 'Sainte-Valière', 'Cruscades', 'Venelles', 'Aups', 'Saint-Nazaire-de-Ladarez', 'Saint-Laurent-de-la-Salanque', 'Méjannes-le-Clap', 'Soustelle', 'Authon', 'Vitrolles-en-Lubéron', 'Sablières', 'Prades', 'Potelières', 'Sainte-Tulle', 'Malataverne', 'Fugeret (Le)', 'Granges-Gontardes (Les)', 'Monts-Verts (Les)', 'Puechredon', 'Gréolières', 'Cépie', 'Granace', 'Poët (Le)', 'Issamoulenc', 'Arboras', 'Matemale', 'Fabrezan', 'Gonfaron', 'Anduze', 'Barbentane', 'Pégomas', 'Aujargues', \"Camplong-d'Aude\", 'Vingrau', 'Mas-de-Londres', 'Villevieille', 'Brissac', 'Saint-André-de-Roquelongue', 'Corbès', 'Callian', 'Saint-André-Lachamp', 'Terrats', 'Galéria', 'Saint-Paul-lès-Romans', 'Prats-de-Mollo-la-Preste', 'Tignet (Le)', 'Coaraze', 'Poggio-di-Nazza', 'Saint-André-de-Roquepertuis', 'Partinello', 'Castellar', 'Mauves', 'Jarjayes', 'Labastide-en-Val', 'Cassagnoles', 'Èze', 'Saint-Étienne-Estréchoux', 'Buzignargues', 'Olmiccia', 'Ardoix', 'Chaudebonne', 'Urbalacone', \"Saint-Laurent-d'Aigouze\", 'Serviers-et-Labaume', 'Hyères', 'Bellegarde', 'Ribaute-les-Tavernes', 'Piedicroce', 'Parnans', 'Aigues-Mortes', 'Caussols', 'Pastricciola', 'Nohèdes', 'Saint-Pantaléon-les-Vignes', 'Piedipartino', 'Saint-Côme-et-Maruéjols', 'Tavera', 'Javie (La)', 'Aigne', 'Saint-Thomé', 'Roquecourbe-Minervois', 'Rigarda', 'Gincla', 'Altagène', 'Saint-Pierreville', 'Montdardier', 'Salvezines', 'Villedaigne', 'Solaro', \"Digne-d'Aval (La)\", 'Azillanet', 'San-Lorenzo', 'Néfiach', 'Rieux-Minervois', 'Salignac', \"Saint-Sébastien-d'Aigrefeuille\", 'Montesquieu-des-Albères', \"Vallon-Pont-d'Arc\", 'Puy-Saint-Martin', 'Lauzet-Ubaye (Le)', 'Alissas', 'Maraussan', 'Fontpédrouse', 'Tresserre', 'Rieussec', 'Bras', 'Banon', 'Pranles', 'Soulié (Le)', 'Lunel-Viel', 'Chapelle-en-Vercors (La)', 'Concoules', 'Olmeta-di-Tuda', 'Roquefort-les-Pins', 'Charce (La)', 'Labeaume', 'Roujan', 'Valmanya', 'Quarante', 'Aléria', 'Cogolin', 'Borne', 'Rayol-Canadel-sur-Mer', 'Laveyrune', 'Porta (La)', 'Puget-Rostang', 'Pruno', 'Destrousse (La)', 'Borgo', 'Bevons', 'Ribiers', 'Castiglione', 'Quézac', 'Propiac', 'Beauvoisin', 'Malons-et-Elze', 'Saint-Romain-en-Viennois', 'Saint-Martin-Lys', 'Saint-Marc-Jaumegarde', 'Trigance', 'Meyrargues', 'Véronne', 'Lédenon', 'Corrano', 'Tarrano', \"Villar-d'Arêne\", 'Ucciani', 'Centuri', 'Montescot', 'Baratier', 'Brousses-et-Villaret', 'Quirbajou', 'Labécède-Lauragais', 'Valderoure', 'Campo', 'Gaja-et-Villedieu', 'Laval-Pradel', 'Ajoux', 'Bessas', 'Fosse', 'Porta', 'Vinassan', 'Dions', 'Freyssenet', 'Berriac', 'Coucouron', 'Santo-Pietro-di-Venaco', 'Pézilla-la-Rivière', 'Saintes-Maries-de-la-Mer', 'Pardailhan', 'Massanes', 'Sigale', 'Buisson (Le)', 'Tarerach', 'Aubignas', 'Roquevaire', 'Saint-Jean-de-Valériscle', 'Roquefort-de-Sault', 'Javols', 'Giuncheto', 'Teyssières', 'Saint-Gal', 'Sainte-Léocadie', 'Montboucher-sur-Jabron', 'Restinclières', 'Sanilhac', 'Palau-del-Vidre', 'Montady', 'Cazouls-lès-Béziers', 'Montséret', 'Congénies', 'Eurre', 'Rosis', 'Glorianes', 'Quillan', 'Montpeyroux', 'Ceyras', 'Auriac', 'Banyuls-dels-Aspres', \"Camps-sur-l'Agly\", 'Quenza', 'Rouffiac-des-Corbières', 'Allos', 'Garde-Freinet (La)', 'Saint-Pierre-de-Vassols', 'Fajac-en-Val', 'Lamanon', 'Montselgues', 'Cucuron', 'Pertuis', 'Notre-Dame-de-Londres', 'Corneilla-del-Vercol', 'Chamaloc', 'Thorame-Haute', 'Sceautres', 'Roque-Esclapon (La)', 'Lamalou-les-Bains', 'Arnayon', 'Champagne', 'Saint-Chamas', 'Saint-Geniès-de-Varensal', 'Feliceto', 'Soudorgues', 'Signes', 'Cruzy', 'Limony', \"Castelnau-d'Aude\", 'Puget-sur-Argens', 'Belvédère', \"Saint-Marcel-d'Ardèche\", 'Saint-Didier', 'Lachamp', 'Montignargues', 'Ampus', 'Arpaillargues-et-Aureillac', 'Castelnau-le-Lez', 'Poët-Laval (Le)', 'Preixan', 'Lalouvesc', 'Saint-André', 'Tavel', 'Corbère', 'Saint-Julien-du-Tournel', 'Ceyreste', 'Roubia', 'Saint-Genest-Lachamp', 'Plan-de-Cuques', 'Arras-sur-Rhône', 'Laubies (Les)', 'Alzon', 'Montrigaud', 'Collongues', 'Cipières', 'Eyne', 'Zérubia', 'Crozes-Hermitage', 'Ensuès-la-Redonne', 'Luc', 'Moux', 'Larnas', 'Saint-Sauveur-de-Ginestoux', 'Avène', \"Plan-d'Orgon\", 'Laurac', \"Peypin-d'Aigues\", 'Château-Ville-Vieille', 'Cuébris', 'Aurel', 'Llo', 'Cassagnas', 'Cannes-et-Clairan', \"Pégairolles-de-l'Escalette\", 'Pradelles-en-Val', 'Saint-Symphorien', 'Recoux (Le)', 'Piégon', 'Lavatoggio', 'Gabian', 'Saint-Bonnet-de-Valclérieux', 'Saint-Montan', 'Roquefère', 'Motte (La)', 'Salindres', 'Marignac-en-Diois', 'Lardiers', 'Caylar (Le)', 'Saint-Maurice-Navacelles', 'Tasso', 'Farlède (La)', 'Lus-la-Croix-Haute', 'Bocognano', 'Entrecasteaux', 'Sahune', 'Chauffayer', 'Savignargues', 'Saint-Gineis-en-Coiron', 'Pradelles-Cabardès', 'Saint-Hippolyte-de-Caton', 'Cubiérettes', 'Balazuc', 'Vernosc-lès-Annonay', 'Bastidonne (La)', 'Sauvian', 'Naussac', 'Cailhau', 'Saleilles', 'Lussan', 'Villeneuve-de-la-Raho', 'Murles', 'Ersa', 'Canale-di-Verde', \"Saint-Féliu-d'Avall\", 'Narbonne', 'Fontanes', 'Corsavy', 'Eygalayes', 'Croce', 'Jacou', 'Murviel-lès-Béziers', 'Villeneuve-lès-Maguelone', \"Sant'Andréa-di-Cotone\", 'Cailar (Le)', 'Poilhes', 'Sillans-la-Cascade', 'Marseille', 'Aujac', 'Penta-di-Casinca', 'Lirac', 'Bormes-les-Mimosas', 'Escales', 'Barret-de-Lioure', 'Corneilla-de-Conflent', 'Chauzon', 'Tolla', 'Saint-Maurice-en-Chalencon', 'Cornas', 'Vallauris', 'Montirat', 'Bouzigues', 'Cheval-Blanc', 'Tourrettes', 'Clumanc', 'Olmet-et-Villecun', 'Clarensac', 'Solliès-Ville', 'Boucoiran-et-Nozières', 'Salettes', 'Ciotat (La)', 'Pouzin (Le)', 'Saint-Pierre-la-Roche', 'Saint-Martin-de-Valgalgues', 'Poussan', 'Grandrieu', 'Rocles', \"Saint-Laurent-d'Onay\", 'Loupia', 'Roynac', 'Issirac', 'Blausasc', 'Contes', 'Piobetta', 'Caunette (La)', 'Saint-Guilhem-le-Désert', 'Corscia', 'Porri', 'Tressan', 'Latour-de-Carol', 'Lucéram', 'Tourves', 'Malves-en-Minervois', 'Forest-Saint-Julien', 'Laure-Minervois', 'Caramany', 'Fozzano', 'Murzo', 'Saint-Jean-de-Maruéjols-et-Avéjan', 'Burzet', 'Broc (Le)', 'Furiani', 'Villars-sur-Var', 'Lozzi', \"Saint-Romain-d'Ay\", 'Isola', 'Marcoux', 'Laval-Saint-Roman', 'Espinasses', 'Cristinacce', 'Ponteils-et-Brésis', 'Lafarre', 'Péret', 'Béziers', 'Vallabrix', 'Santa-Lucia-di-Mercurio', 'Codolet', 'Gaujac', 'Soleilhas', 'Nans-les-Pins', 'Corconne', 'Bigorno', 'Villevocance', 'Muy (Le)', 'Auzet', 'Curel', \"Peyrefitte-sur-l'Hers\", 'Falicon', 'Cucugnan', 'Cannet (Le)', 'Faucon-de-Barcelonnette', 'Valle-di-Mezzana', 'Vers-sur-Méouge', 'Fontienne', 'Louvière-Lauragais (La)', 'Pouzols-Minervois', 'Orpierre', 'Bourdic', 'Rognes', 'Saint-Pierre-de-la-Fage', 'Plan-de-la-Tour (Le)', 'Montfort-sur-Boulzane', 'Serves-sur-Rhône', 'Valleraugue', 'Saint-Saturnin-lès-Apt', 'Cocurès', 'Saint-Laurent-sous-Coiron', 'Lattes', 'Bouleternère', 'Monze', 'Olcani', 'Pougnadoresse', 'Embrun', 'Lopigna', 'Parignargues', \"Saint-Alban-d'Ay\", 'Llauro', 'Montbrison-sur-Lez', 'Saint-Paul-de-Vence', 'Montélimar', 'Ansouis', 'Arles-sur-Tech', 'Châteauneuf-Villevieille', 'Lansac', 'Rochefourchat', 'Panouse (La)', 'Saint-Clément-sur-Durance', 'Roquestéron-Grasse', 'Navacelles', 'Villeneuve', 'Pontevès', 'Laboule', 'Saint-Eusèbe-en-Champsaur', 'Saint-Hippolyte-le-Graveyron', 'Visan', 'Fitou', 'Saint-Lager-Bressac', 'Sarrians', 'Saint-Bresson', 'Mézilhac', \"Tain-l'Hermitage\", 'Meyras', 'Flayosc', 'Breil-sur-Roya', 'Calcatoggio', 'Saint-May', 'Séderon', 'Lespéron', 'Citou', 'Alaigne', 'Moulinet', 'Felce', 'Saint-Auban', 'Lecques', 'Mimet', 'Cotignac', 'Porté-Puymorens', 'Saint-Just', 'Saint-Étienne-de-Serre', 'Saint-Jean-du-Gard', 'Cadenet', 'Graissessac', 'Vallica', 'Thézan-des-Corbières', 'Saint-Saturnin-de-Lucian', 'Tourette-Cabardès (La)', 'Caderousse', 'Bréole (La)', 'Bragassargues', 'Gilhac-et-Bruzac', 'Saussines', 'Valbelle', \"Sant'Andréa-d'Orcino\", 'Occhiatana', 'Azilone-Ampaza', 'Saint-Étienne-de-Valoux', 'Ourches', 'Villanière', 'Bollène', 'Valavoire', 'Aix-en-Provence', 'Saint-Jean-du-Pin', 'Cadolive', 'Saint-André-de-Sangonis', 'Barroux (Le)', \"Saint-Chély-d'Apcher\", 'Saint-Avit', 'Bourg-Madame', 'Brignon', 'Sainte-Euphémie-sur-Ouvèze', \"Saint-Maurice-d'Ardèche\", 'Sollacaro', 'Massoins', 'Mougins', 'Mus', 'Aumont-Aubrac', 'Beaumont-de-Pertuis', 'Blandas', 'Ville-di-Paraso', 'Vescovato', \"Valle-d'Orezza\", 'Môle (La)', 'Saint-Dionisy', 'Ciamannacce', 'Saint-Gilles', 'Chisa', 'Chadenet', 'Chalabre', 'Saint-Lions', 'Aizac', 'Pontis', 'Vailhan', 'Aubenas', 'Mouthoumet', 'Crillon-le-Brave', 'Albières', 'Rivières', 'Saint-André-de-Rosans', 'Saint-Flour-de-Mercoire', 'Intres', 'Saint-Étienne-du-Valdonnez', 'Éourres', 'Lézan', 'Saint-Jacques', 'Abriès', 'Saint-Barthélemy-le-Meil', 'Puimichel', 'Sarras', 'Largentière', 'Ucel', 'Prats-de-Sournia', 'Bize-Minervois', 'Saint-Alexandre', 'Brunels (Les)', 'Jujols', 'Talencieux', 'Simiane-Collongue', 'Bédarrides', 'Ners', 'Recoubeau-Jansac', 'Auribeau-sur-Siagne', 'Couffoulens', 'Réal', 'Arpavon', 'Cornillon-Confoux', 'Fage-Saint-Julien (La)', 'Robiac-Rochessadoule', \"Cap-d'Ail\", 'Coucourde (La)', 'Aureille', 'Puget', 'Saint-Gervais-sur-Roubion', 'Fontiers-Cabardès', 'Lachamp-Raphaël', 'Pélissanne', 'Claret', 'Roche-des-Arnauds (La)', 'Mallemort', 'Claveyson', 'Claviers', 'Mandagout', 'Artignosc-sur-Verdon', 'Saint-Martin-de-Queyrières', 'Rennes-le-Château', 'Pradelle', 'Notre-Dame-de-la-Rouvière', 'Villedubert', 'Senez', 'Cabrerolles', 'Creissan', 'Motte-Chalancon (La)', 'Utelle', 'Olmeto', 'Redorte (La)', 'Cavanac', 'Lucciana', 'Montmaur-en-Diois', 'Quintenas', 'Fuilla', 'Mariac', 'Urbanya', 'Lunas', 'Prévenchères', 'Nébias', 'Montjardin', 'Santa-Maria-Figaniella', 'Castries', 'Ancelle', 'Dieulefit', 'Larche', 'Luc-sur-Aude', 'Draix', 'Colombier-le-Vieux', 'Valros', 'Bruis', 'Beaumont', 'Valcebollère', 'Milhaud', 'Cazalrenoux', 'Vesseaux', 'Axat', 'Sotta', 'Beauchastel', 'Saint-Martin-du-Var', 'Roque-sur-Cèze (La)', 'Ille-sur-Têt', 'Pépieux', 'Ladern-sur-Lauquet', 'Gréoux-les-Bains', 'Collioure', 'Sauze', 'Cassis', 'Montoulieu', 'Cesseras', 'Vocance', 'Auroux', 'Poët-Sigillat (Le)', 'Bassurels', 'Saulce (La)', 'Algajola', 'Santa-Maria-Poggio', 'Mazzola', 'Ampriani', 'Cornillon', 'Garéoult', 'Solérieux', 'Châteauneuf-de-Randon', 'Miscon', 'Montchenu', 'Saint-Saturnin', 'Colomars', 'Mauressargues', 'Cazevieille', \"Cuxac-d'Aude\", 'Casteil', 'Rochegiron (La)', 'Saint-André-de-Lancize', 'Demandolx', 'Bourdeaux', 'Chaudon-Norante', 'Allauch', 'Ribaute', 'Magalas', 'Causses-et-Veyran', 'Barras', 'Châteauneuf-de-Galaure', 'Plaissan', 'Annot', 'Pernes-les-Fontaines', 'Lauret', 'Fare-les-Oliviers (La)', 'Biguglia', 'Viviers', 'Comus', 'Missègre', 'Palavas-les-Flots', 'Vailhauquès', 'Guillestre', 'Corneilhan', 'Saint-Martin-sur-Lavezon', 'Boissières', 'Grosseto-Prugna', 'Gars', 'Liausson', 'Pied-de-Borne', 'Rezza', 'Saint-Julien-Vocance', 'Saint-Martin-de-la-Brasque', 'Saint-Théodorit', 'Valle-di-Rostino', 'Pelouse', 'Risoul', \"Sonnac-sur-l'Hers\", 'Garn (Le)', 'Bessède-de-Sault', 'Saint-Restitut', 'Cubières-sur-Cinoble', 'Oms', 'Bez-et-Esparon', 'Sablet', 'Lauroux', 'Saint-Florent-sur-Auzonnet', 'Cabasse', 'Calmette (La)', 'Bar-sur-Loup (Le)', 'Joncels', 'Gagnières', 'Saint-Agrève', 'Méjannes-lès-Alès', 'Mas-Blanc-des-Alpilles', 'Argilliers', 'Granès', 'Fontarèches', 'Langlade', 'Pont-de-Labeaume', 'Cavalaire-sur-Mer', 'Felluns', 'Bernis', 'Couiza', 'Oppède', 'Saint-Vincent-de-Durfort', 'Pézenas', 'Thor (Le)', 'Pennes-le-Sec', 'Joyeuse', 'Joucou', 'Saint-Pons', 'Saint-Martin', 'Champtercier', 'Pierrerue', 'Galargues', 'Saint-Julien-Boutières', 'Saint-Julien-en-Champsaur', 'Ficaja', 'Morosaglia', 'Charnas', 'Violès', 'Canourgue (La)', 'Cantaron', 'Saint-Félix-de-Lodez', 'Fos', 'Rousson', 'Sorède', 'Ginasservis', 'Campagnan', 'Mercurol', 'Saint-Jurs', 'Rabou', 'Saint-Pierre-dels-Forcats', 'Fournès', 'Sorbs', 'Saint-Vincent-de-Barrès', 'Vins-sur-Caramy', 'Alleins', 'Entrages', 'Rochepaule', 'Aiti', 'Lignairolles', 'Taillades', 'Sainte-Hélène', 'Vero', 'Chirols', 'Dunière-sur-Eyrieux', 'Roussas', 'Baume-Cornillane (La)', 'Valdrôme', 'Conqueyrac', 'Gorniès', 'Fozières', 'Saint-Laurent-le-Minier', 'Lavandou (Le)', 'Barcillonnette', 'Manso', 'Saint-Bonnet-de-Chirac', 'Loriol-du-Comtat', 'Saint-André-de-Cruzières', 'Carbini', 'Saint-Prix', 'Sécheras', 'Bastide-des-Jourdans (La)', 'Bondons (Les)', \"Saint-Étienne-d'Albagnan\", 'Mouriès', 'Saint-Hippolyte-de-Montaigu', 'Saint-Paulet-de-Caisson', 'Entraigues-sur-la-Sorgue', 'Satillieu', 'Abeilhan', 'Revest-des-Brousses', 'Lioux', 'Maillane', 'Formiguères', 'Penne (La)', 'Saillans', 'Monastier-Pin-Moriès (Le)', 'Villarzel-Cabardès', 'Rodès', 'Saint-Pierre-Avez', 'Vernègues', 'Beaurecueil', 'Marie', 'Saint-Chaffrey', 'Lambruisse', 'Gajan', 'Coudoux', 'Villars', 'Calenzana', 'Fontan', 'Pégairolles-de-Buèges', 'Marcorignan', 'Peille', 'Pomarède (La)', 'Poët-en-Percip (Le)', 'Saint-Antonin-sur-Bayon', 'Saint-Nazaire-le-Désert', 'Montauriol', 'Zalana', 'Caussiniojouls', 'Lagamas', 'Albaret-Sainte-Marie', 'Colombier-le-Jeune', 'Saint-Couat-du-Razès', 'Montjoyer', \"Hospitalet (L')\", 'Saint-Cirgues-en-Montagne', 'Saint-Martin-de-Villereglan', 'Barjac', 'Valmascle', 'Sainte-Enimie', 'Saou', 'Molines-en-Queyras', 'Bonnevaux', 'Vérargues', 'Chabeuil', 'Teyran', 'Ponteilla', 'Aspremont', 'Briançonnet', 'Bédarieux', 'Saint-Symphorien-de-Mahun', 'Villepinte', 'Castellet-lès-Sausses', 'Freissinouse (La)', 'Fuveau', 'Calce', 'Caixas', 'Gervans', \"Saint-Martin-d'Ardèche\", 'Sigean', 'Guitera-les-Bains', 'Beaulieu', 'Saint-Jean-de-Buèges', 'Clansayes', 'Perelli', 'Sardan', 'Peyremale', 'Cozzano', 'Bâtie-Vieille (La)', 'Laurac-en-Vivarais', 'Cabanasse (La)', 'Pietra-di-Verde', 'Arbori', 'Issel', 'Ur', 'Isolaccio-di-Fiumorbo', 'Olonzac', 'Montbrun', 'Val-de-Chalvagne', 'Villeneuve-lès-Béziers', 'Caille', \"Penne-sur-l'Ouvèze (La)\", 'Saint-Alban-sur-Limagnole', 'Cannelle', 'Cuttoli-Corticchiato', 'Freissinières', 'Trèves', 'Saint-Laurent-de-Muret', 'Lussas', 'Paziols', 'Bourguet (Le)', 'Ventiseri', 'Issanlas', 'Frasseto', 'Sigoyer', 'Mirabeau', 'Valensole', 'Branoux-les-Taillades', 'Malbosc', 'Saint-Cirgues-de-Prades', 'Saint-Ferréol-Trente-Pas', 'Varages', 'Castellare-di-Casinca', 'Gruissan', 'Portiragnes', 'Barbaggio', 'Saint-Vincent-la-Commanderie', \"Saint-Martin-d'Entraunes\", 'Pilles (Les)', 'Moras-en-Valloire', 'Rodilhan', 'Buisson', 'Entrevaux', 'Lourmarin', 'Saint-Martin-de-Crau', 'Cabestany', 'Orange', 'Ribouisse', 'Ogliastro', 'Grau-du-Roi (Le)', 'Creysseilles', 'Trèbes', 'Foce', 'Elne', 'Palud-sur-Verdon (La)', 'Fréjus', 'Mévouillon', 'Saturargues', 'Saint-Julien-de-Peyrolas', 'Suzette', 'Vendémian', 'Blauvac', 'Sermano', 'Simiane-la-Rotonde', 'Haute-Beaume (La)', 'Malemort-du-Comtat', 'Coursegoules', 'Pero-Casevecchie', 'Casanova', 'Albon', 'Soccia', 'Gigors', 'Brignac', 'Malzieu-Forain (Le)', 'Vic-le-Fesq', 'Bénivay-Ollon', 'Hermaux (Les)', 'Triadou (Le)', 'Colombières-sur-Orb', 'Sault', 'Caudiès-de-Conflent', 'Olivese', 'Belpech', 'Saint-Victor', 'Saint-Bauzély', 'Roubion', 'Uvernet-Fours', 'Pérols', 'Gatuzières', 'Ventabren', 'Cognocoli-Monticchi', 'Brugairolles', 'Saint-Gaudéric', 'Piazzali', 'Saumane-de-Vaucluse', 'Soubès', 'Crest', 'Bastide-Puylaurent (La)', 'Castifao', 'Laviolle', 'Garrigues', 'Laroque-des-Albères', 'Canari', 'Étables', 'Montaren-et-Saint-Médiers', 'Vachères', 'Ceilhes-et-Rocozels', 'Saint-André-en-Vivarais', 'Pouzilhac', 'Saint-Jean-Saint-Nicolas', 'Angles', 'Armissan', 'Prunières', 'Thoiras', 'Savas', 'Cardo-Torgia', 'Piazzole', 'Balaruc-les-Bains', 'Caseneuve', 'Greffeil', 'Nahuja', 'Carsan', 'Tende', 'Brando', 'Félines-Termenès', 'Gailhan', 'Aregno', 'Tourbes', 'Brenon', 'Saint-Laurent-en-Royans', 'Pontet (Le)', 'Conca', 'Sausses', 'Calvi', 'Massillargues-Attuech', 'Tonils (Les)', 'Rousset-les-Vignes', 'Lapalud', 'Pierrelongue', 'Saint-Zacharie', 'Garde (La)', 'Puichéric', 'Sallagriffon', 'Ballons', 'Chirac', 'Bédouès', 'Toulon', 'Oreilla', 'Barles', 'Saint-Étienne-de-Tinée', 'Marseillette', 'Saint-Paul-les-Fonts', 'Lugo-di-Nazza', 'Reillanne', 'Routier', 'Barben (La)', 'Duranus', 'Bégude-de-Mazenc (La)', 'Teil (Le)', \"Cazouls-d'Hérault\", 'Châteaudouble', 'Pierrefeu-du-Var', 'Saint-Paul-le-Froid', 'Marsillargues', 'Murviel-lès-Montpellier', 'Ajaccio', 'Roquebrune-Cap-Martin', 'Théziers', 'Villemus', 'Jaujac', 'Montfrin', 'Marsanne', 'Molières-Cavaillac', 'Fraisse-sur-Agout', 'Aubagne', 'Omblèze', 'Ganges', 'Saint-Laurent-la-Vernède', 'Cassagnes', 'Cabrières', 'Casalabriva', 'Saint-Julien-de-Briola', 'Crestet (Le)', 'Mèze', 'Altier', 'Conques-sur-Orbiel', 'Sainte-Lucie-de-Tallano', 'Donzère', 'Uzès', 'Gigondas', 'Entrepierres', 'Saint-Pargoire', 'Vauvert', 'Tauriers', 'Silhac', 'Chapelle-en-Valgaudémar (La)', 'Saint-Trinit', 'Lieuche', 'Estoublon', 'Montfuron', 'Baudinard-sur-Verdon', 'Saint-Ferriol', 'Montalba-le-Château', 'Lanarce', 'Rosières', 'Grave (La)', 'Junas', 'Planèzes', 'Éguilles', 'Saint-Laurent-de-Veyrès', 'Aubord', 'Roquette-sur-Var (La)', 'Montmorin', 'Saint-Gervais-sur-Mare', 'Moustiers-Sainte-Marie', 'Fendeille', 'Fau-de-Peyre', 'Saint-Pierre-des-Champs', 'Moltifao', 'Barnave', 'Val (Le)', \"Pie-d'Orezza\", 'Croix-Valmer (La)', 'Cannes', 'Tech (Le)', 'Urtaca', 'Puy-Saint-Vincent', 'Cazilhac', 'Félines-Minervois', 'Ribeyret', 'Guagno', 'Tournissan', 'Villeneuve-la-Comptal', 'Perpignan', 'Bouchet', 'Saint-Remèze', 'Cervione', 'Saint-Marcel-lès-Annonay', 'Châteaufort', 'Castillon-du-Gard', 'Suze-la-Rousse', 'Puimoisson', 'Eyguières', 'Vestric-et-Candiac', 'Belgentier', 'Chalencon', \"Épine (L')\", 'Servas', 'Malarce-sur-la-Thines', 'Régusse', 'Châteaubourg', 'Flaviac', 'Velleron', 'Baillargues', 'Cateri', 'Villerouge-Termenès', 'Saint-Michel-de-Llotes', 'Viens', 'Caudebronde', 'Bédoin', 'Brillanne (La)', 'Saint-Bonnet-de-Salendrinque', 'Gras', 'Saint-Cyr', 'Cellier-du-Luc', \"Seillons-Source-d'Argens\", \"Monacia-d'Aullène\", 'Terroles', 'Darbres', 'Sainte-Croix-de-Caderle', 'Termes', 'Flaux', 'Thorame-Basse', 'Étoile-sur-Rhône', 'Pietrosella', 'Juvinas', 'Saint-Léger', 'Riez', 'Zuani', 'Brouilla', 'Saint-Alban-Auriolles', 'Tox', 'Fox-Amphoux', 'Limans', 'Maisons', 'Ponsas', 'Beaucaire', 'Montgaillard', 'Empurany', 'Mison', 'Allons', 'Clermont-sur-Lauquet', 'Dernacueillette', 'Istres', 'Sorio', 'Balaruc-le-Vieux', 'Pont-de-Montvert (Le)', 'Taussac-la-Billière', 'Zonza', 'Loriol-sur-Drôme', 'Villes-sur-Auzon', 'Talairan', 'Névian', 'Castellane', 'Salice', 'Ollières', 'Orthoux-Sérignac-Quilhan', 'Saliceto', 'Millas', 'Pinet', 'Rivesaltes', 'Bompas', 'Gumiane', 'Saint-Fortunat-sur-Eyrieux', 'Nonières', 'Séguret', 'Saint-Laurent-de-Carnols', 'Montlaux', 'Brion', 'Saint-Nazaire', 'Arzenc-de-Randon', 'Agde', 'Saint-Didier-sous-Aubenas', 'Villetritouls', 'Belvis', 'Puivert', 'Linguizzetta', 'Mosset', \"Villelongue-d'Aude\", 'Roquette-sur-Siagne (La)', 'Montbrun-les-Bains', 'Vic-la-Gardiole', 'Poggio-di-Venaco', 'Clara', 'Puissalicon', 'Pollestres', 'Bidon', 'Turbie (La)', 'Serra-di-Scopamène', 'Truinas', 'Motte-de-Galaure (La)', 'Chantemerle-les-Blés', 'Mirabel', 'Ferrières-les-Verreries', 'Poggio-Marinaccio', 'Revest-les-Roches', 'Cargiaca', 'Poujol-sur-Orb (Le)', 'Plans (Les)', 'Lens-Lestang', 'Campestre-et-Luc', 'Rimeize', 'Arro', 'Saint-Étienne-Vallée-Française', 'Beuil', 'Sérignan', \"Saint-Pierre-d'Argençon\", 'Vanosc', 'Saint-Genis', 'Villebois-les-Pins', 'Monoblet', 'Marsaz', 'Comigne', \"Saint-Maurice-d'Ibie\", 'Alénya', 'Mayons (Les)', 'Bugarach', 'Thézan-lès-Béziers', 'Palme (La)', 'Beausset (Le)', 'Beaurières', 'Vogüé', \"Digne-d'Amont (La)\", \"Mas-d'Orcières\", 'Gallargues-le-Montueux', 'Montéléger', 'Calacuccia', 'Saint-Benoît', \"Fontiès-d'Aude\", 'Joannas', 'Rochebaudin', 'Saint-Marcellin-lès-Vaison', 'Ozon', 'Étoile-Saint-Cyrice', 'Lasbordes', 'Belcaire', 'Marignana', 'Berre-les-Alpes', 'Beaumont-lès-Valence', \"Saint-André-d'Embrun\", 'Carbuccia', 'Grabels', 'Méthamis', 'Rosazia', 'Lézignan-la-Cèbe', 'Saint-Hippolyte', 'Sainte-Agnès', 'Clans', 'Martinet (Le)', 'Saint-Bardoux', 'Salses-le-Château', 'Molandier', 'Touche (La)', \"Saint-Michel-d'Aurance\", 'Villar-en-Val', 'Serdinya', 'Gueytes-et-Labastide', 'Tholonet (Le)', \"Saint-Georges-d'Orques\", 'Montferrat', 'Langogne', 'Noyer (Le)', 'Collobrières', 'Montclar-sur-Gervanne', 'Saint-Saturnin-lès-Avignon', 'Saint-André-de-la-Roche', 'Bezole (La)', 'Belvezet', 'Mure-Argens (La)', 'Thèze', 'Mandelieu-la-Napoule', 'Malaussène', 'Stazzona', 'Soulatgé', 'Fenouillet', 'Saint-Raphaël', 'Fourques', 'Espenel', 'Villemolaque', 'Martigues', 'Montmeyan', 'Moulézan', 'Valserres', 'Belfort-sur-Rebenty', 'Fournels', 'Villanova', 'Dompnac', 'Pouzolles', 'Bourg-Saint-Andéol', 'Estavar', 'Tautavel', 'Saint-Mélany', 'Peyriac-Minervois', 'Saint-Sériès', 'Coudons', 'Saint-Georges-les-Bains', 'Valaurie', 'Grane', 'Saint-Michel-sur-Savasse', 'Puech (Le)', 'Saint-Germain-du-Teil', 'Romeyer', 'Quissac', 'Thuir', 'Corte', 'Châtillon-en-Diois', 'Saint-Jeannet', 'Vagnas', 'Saint-Jean-de-la-Blaquière', 'Saint-Roman-de-Codières', 'Dio-et-Valquières', 'Saint-Hilaire-de-Brethmas', 'Clérieux', 'Bessèges', 'Saint-Julien-en-Quint', 'Vacquerie-et-Saint-Martin-de-Castries (La)', 'Aniane', 'Bénévent-et-Charbillac', 'Matra', 'San-Giuliano', 'San-Giovanni-di-Moriani', 'Sauzet', \"Estréchure (L')\", 'Vignes (Les)', 'Saint-Clair', 'Sainte-Croix', 'Chaudeyrac', 'Esparron', 'Fraissinet-de-Fourques', 'Cers', 'Salinelles', 'Nonza', 'Vinezac', 'Puget-Théniers', 'Chabestan', 'Faucon-du-Caire', 'Saint-Basile', 'Ascros', 'Châteauneuf-du-Rhône', \"Payra-sur-l'Hers\", 'Tournon-sur-Rhône', 'Saint-Jean-la-Fouillouse', 'Frontignan', 'Saint-Laurent-des-Arbres', 'Villardebelle', 'Saint-Florent', 'Bourigeole', 'Chaffaut-Saint-Jurson (Le)', 'Loreto-di-Casinca', 'Ramatuelle', 'Grèzes', 'Upaix', 'Sansa', 'Gignac-la-Nerthe', \"Baume-d'Hostun (La)\", 'Roquesteron', 'Vence', 'Savoillan', 'Artigues', 'Céret', 'Beauregard-Baret', 'Baux-de-Provence (Les)', 'Montazels', 'Brette', 'Carcheto-Brustico', 'Cabris', 'Saint-Jean-Chambre', 'Aubussargues', 'Petreto-Bicchisano', 'Serviès-en-Val', 'Argens-Minervois', 'Vallérargues', 'Laroque-de-Fa', 'Bréau-et-Salagosse', 'Savines-le-Lac', 'Canohès', 'Crau (La)', 'Salza', 'Rochessauve', 'Arcens', 'Saint-Jean-de-Crieulon', 'Blieux', 'Bélarga', 'Tavaco', 'Villar-Loubière', 'Trets', 'Pignan', 'Lagarde-Paréol', 'Lignan-sur-Orb', 'Saint-Papoul', 'Sallèles-Cabardès', 'Spéracèdes', 'Prémian', 'Tuchan', 'Borée', 'Lyas', 'Lacoste', 'Vendres', 'Pennautier', 'Rozier (Le)', 'Maureilhan', 'Lodève', 'Sainte-Croix-à-Lauze', 'Tourouzelle', 'Mormoiron', 'Rieux-en-Val', 'Roquedur', 'Bouisse', 'Théoule-sur-Mer', 'Chanac', 'Entraunes', 'Port-Vendres', 'Chanos-Curson', 'Puilacher', 'Collorgues', 'Rieutort-de-Randon', 'Lecci', 'Sénéchas', 'Vergèze', 'Vézénobres', 'Carcassonne', 'Barret-sur-Méouge', 'Juvignac', 'Montaud', 'Anneyron', 'Sahorre', 'Gaude (La)', 'Puyloubier', 'Rospigliani', 'Pia', 'Antugnac', 'Labégude', 'Osani', 'Val-Maravel', \"Lagarde-d'Apt\", 'Fons', 'Peyrefitte-du-Razès', 'Uchaud', \"Cabrières-d'Avignon\", 'Prato-di-Giovellina', 'Belvézet', 'Lanas', 'Niozelles', 'Font-Romeu-Odeillo-Via', 'Serrières', 'Larnage', 'Duilhac-sous-Peyrepertuse', 'Moissac-Bellevue', 'Sabran', 'Brenas', 'Vieussan', 'Poyols', 'Garde-Adhémar (La)', 'Gémenos', 'Saint-Apollinaire-de-Rias', 'Born (Le)', \"Clermont-l'Hérault\", 'Cheminas', 'Mailhac', 'Vivès', 'Sartène', 'Alzi', 'Bruguière (La)', 'Castineta', 'Touët-sur-Var', 'Pauligne', 'Saillagouse', 'Montréal', 'Saint-Pons-de-Mauchiens', 'Curnier', 'Malène (La)', 'Chaulhac', 'Beaumont-du-Ventoux', 'Saint-Martin-des-Puits', 'Saint-Martin-de-Castillon', 'Treschenu-Creyers', 'Taglio-Isolaccio', 'Devesset', 'Mazan', 'Lablachère', 'Saint-Jean-Roure', 'Crupies', 'Rians', 'Baixas', 'Saint-Léger-les-Mélèzes', 'Montfaucon', 'Saint-Jean-de-Ceyrargues', 'Évenos', 'Baume-de-Transit (La)', 'Revens', 'Aiguèze', 'Lamanère', 'Pietraserena', \"Valle-d'Alesani\", 'Mérindol-les-Oliviers', 'Saint-Guiraud', 'Davejean', 'Montferrer', 'Saint-Denis-en-Margeride', 'Die', 'Saint-Mandrier-sur-Mer', 'Besse-sur-Issole', 'Mouans-Sartoux', 'Saint-Germain', 'Belvianes-et-Cavirac', 'Saint-Privat-des-Vieux', 'Saint-Étienne-les-Orgues', 'Saint-Romain-de-Lerps', 'Vabres', 'Saint-Gély-du-Fesc', 'Puy-Saint-Eusèbe', 'Saint-Pons-de-Thomières', 'Vesc', 'Villeneuve-la-Rivière', \"Saint-Féliu-d'Amont\", 'Châteauneuf-Miravail', 'Gramazie', 'Pradons', 'Tordères', 'Mireval', 'Saint-Hippolyte-du-Fort', 'Villardonnel', \"Monacia-d'Orezza\", 'Brouzet-lès-Alès', 'Durban-Corbières', 'Banyuls-sur-Mer', 'Remoulins', 'Cobonne', 'Scata', 'Cultures', 'Comps-sur-Artuby', \"Saint-Hilaire-d'Ozilhan\", 'Davézieux', 'Luc (Le)', 'Foissac', \"San-Gavino-d'Ampugnani\", 'Cruviers-Lascours', 'Palau-de-Cerdagne', 'Cluses (Les)', 'Châteauneuf-de-Bordette', 'Meysse', 'Vaison-la-Romaine', 'Cros', 'Saint-Michel-de-Chabrillanoux', 'Celles', 'Saint-Ambroix', 'Valergues', 'Grospierres', 'Saint-Quentin-la-Poterie', 'Passa', 'Caves', 'Gabriac', \"Lac-d'Issarlès (Le)\", 'Saint-Julien-des-Points', 'Uzer', 'Eygluy-Escoulin', 'Vallouise', 'Sampolo', 'Mérifons', 'Rochette-du-Buis (La)', 'Jouques', 'Saint-Antonin', 'Meyreuil', 'Pourcharesses', 'Saint-Martin-de-Londres', 'Pancheraccia', 'Lafage', 'Berrias-et-Casteljau', 'Saint-Jean-de-Minervois', 'Cagnano', 'Saint-Pierre', 'Zicavo', 'Aubais', 'Cassaignes', 'Lavalette', 'Saissac', 'Coursan', 'Château-Arnoux-Saint-Auban', 'Solliès-Pont', 'Caire (Le)', 'Fontcouverte', 'Montferrand-la-Fare', 'Murs', 'Estoher', 'Flassans-sur-Issole', 'Charens', 'Reynès', 'Taurinya', 'Saint-Clément', 'Saint-Martin-le-Vieil', \"Salles-sur-l'Hers\", 'Chatuzange-le-Goubet', 'Saint-Félix-de-Pallières', 'Poggio-Mezzana', 'Bessan', 'Saint-Paul-sur-Ubaye', 'Mercuer', 'Sainte-Croix-du-Verdon', 'Portes-en-Valdaine', 'Barcelonnette', 'Villedieu', 'Cuges-les-Pins', 'Llagonne (La)', 'Pradal (Le)', 'Condamine-Châtelard (La)', 'Grillon', 'Uchaux', 'Ollioules', 'Saint-Pierre-de-Colombier', 'Claira', 'Meyronnes', 'Coustaussa', 'Tour (La)', 'Generville', 'Saint-Jean-Pla-de-Corts', 'Appietto', 'Aramon', 'Lano', 'Glandage', 'Arles', 'Crévoux', 'Saint-André-de-Valborgne', 'Gourdon', 'Moydans', 'Méounes-lès-Montrieux', 'Muracciole', 'Banne', 'Voulte-sur-Rhône (La)', 'Saint-Jean-de-Paracol', 'Saint-Andéol-de-Fourchades', 'Saint-Crépin', 'Chaze-de-Peyre (La)', 'Payzac', 'Lauris', 'Valle-di-Campoloro', 'Saint-Jean-Cap-Ferrat', 'Embres-et-Castelmaure', 'Castellet (Le)', 'Saint-André-Capcèze', 'Majastres', 'Deaux', 'Ortiporio', 'Mérial', 'Correns', 'Portes', 'Croix-sur-Roudoule (La)', 'Chorges', 'Rouet', 'Saint-Barthélemy-Grozon', 'Martys (Les)', 'Sorbiers', 'Cannet-des-Maures (Le)', 'Genestelle', 'Saint-Michel-de-Chaillol', 'Lunel', 'Saint-Andéol-de-Vals', 'Esparron-de-Verdon', 'Seynes', 'Saint-Frichoux', 'Laye', 'Amélie-les-Bains-Palalda', 'Peymeinade', 'Méreuil', 'Lastours', 'Mourèze', 'Pézènes-les-Mines', 'Peipin', 'Saint-Jean-de-Barrou', 'Puy-Saint-André', 'Apt', 'Châteauneuf-de-Chabre', 'Sainte-Anastasie-sur-Issole', 'Fayence', 'Sérignan-du-Comtat', 'Sauve', 'Bonifacio', 'Charleval', 'Montjay', 'Marcols-les-Eaux', 'Avapessa', 'Pierrefeu', 'Gignac', 'Saint-Jean-de-Védas', 'Pietricaggio', 'Saint-Bénézet', 'Venterol', 'Saint-Maurice-de-Cazevieille', 'Popian', 'Saint-Marcel-sur-Aude', 'Carry-le-Rouet', 'Cubières', \"Arzenc-d'Apcher\", 'Vaugines', 'Septèmes-les-Vallons', 'Capendu', 'Rougiers', 'Pietroso', 'Condorcet', 'Monêtier-les-Bains (Le)', 'Rusio', 'Gardie', 'Saint-Alban-en-Montagne', 'Réotier', 'Montner', 'Gabrias', 'Noyers-sur-Jabron', 'Daluis', 'Mallemoisson', 'Saint-Julien-les-Rosiers', 'Ceillac', 'Miramas', 'Saint-Julien-de-la-Nef', 'Castanet-le-Haut', 'Fanjeaux', 'Castelnau-Valence', 'Lieuran-lès-Béziers', 'Lézignan-Corbières', 'Égat', 'Roaix', 'Triors', 'Grand-Combe (La)', 'Octon', 'Trévillach', 'Prunet-et-Belpuig', 'Cébazan', 'Caux', 'Mées (Les)', 'Mézerville', 'Vivario', 'Antrenas', 'Mirmande', 'Saint-Geniès-de-Fontedit', 'Crespian', 'Azzana', 'Plan-de-Baix', 'Chalon (Le)', 'Villefranche-sur-Mer', 'Recoules-de-Fumas', 'Sainte-Eulalie', 'Cavaillon', 'Aragon', 'Cerbère', 'Eygaliers', 'Issarlès', 'Olmi-Cappella', 'Saint-Sauveur-de-Peyre', 'Azille', 'Vinzieux', 'Escouloubre', 'Montbrun-des-Corbières', 'Gigean', 'Dourbies', 'Monteils', 'Marguerittes', 'Valflaunès', 'Saint-Sernin', 'Belvèze-du-Razès', 'Rocher', 'Latour-Bas-Elne', 'Bagnols-les-Bains', 'Domazan', 'Alignan-du-Vent', 'Travaillan', 'Alzonne', 'Sénas', 'Montmeyran', 'Échevis', 'Prades-sur-Vernazobre', 'Neffiès', 'Sainte-Croix-Vallée-Française', 'Marquixanes', 'Estables', 'Monieux', 'Londe-les-Maures (La)', 'Pierlas', 'Taulignan', 'Trescléoux', 'Montbazin', 'Montaulieu', 'Ortale', 'Tréville', \"Montauban-sur-l'Ouvèze\", 'Redessan', 'Raissac-sur-Lampy', 'Malzieu-Ville (Le)', 'Arques', 'Brunet', 'Saint-Césaire-de-Gauzignan', 'Saint-Étienne-de-Boulogne', 'Ocana', 'Saint-Marcel-lès-Sauzet', 'Saint-Estève', 'Saint-Privat-du-Fau', 'Planzolles', 'Verreries-de-Moussans', 'Riventosa', \"Saint-Donat-sur-l'Herbasse\", 'Autignac', 'Montoison', 'Saint-Julien-en-Beauchêne', 'Chamborigaud', 'Prunet', 'Euzet', 'Nyons', 'Saint-Andéol', 'Manas', 'Romans-sur-Isère', 'Bellegarde-en-Diois', 'Espira-de-Conflent', 'Savasse', 'Remollon', 'Chassiers', 'Gorbio', 'Rognonas', 'Saint-Jean-de-Fos', 'Saint-André-les-Alpes', 'Matelles (Les)', 'Peyrestortes', 'Puy-Sainte-Réparade (Le)', 'Carnas', 'Ribennes', 'Vénéjan', 'Péreyres', 'Saint-Denis', 'Roure', 'Villeneuve-les-Corbières', 'Rustrel', 'Chabrillan', 'Piarre (La)', 'Corbières', \"Argentière-la-Bessée (L')\", 'Saint-Martin-de-Valamas', 'Montfort-sur-Argens', 'Flassan', 'Nizas', 'Escueillens-et-Saint-Just-de-Bélengard', 'Ponet-et-Saint-Auban', 'Néoules', 'Montvendre', 'Saint-Roman', 'Vignevieille', 'Taulis', \"Cornillon-sur-l'Oule\", 'Rochemaure', 'Prugnanes', 'Saint-Hilaire-de-Lavit', 'Pont-Saint-Esprit', 'Trassanel', 'Saint-Vallier-de-Thiey', 'Saint-Drézéry', 'Maubec', 'Labastide-sur-Bésorgues', 'Santa-Reparata-di-Moriani', 'Saint-Barthélemy-le-Plain', 'Saint-Paul-la-Coste', 'Saint-Privat-de-Vallongue', 'Villars-Colmars', 'Saint-Julien-en-Saint-Alban', 'Cairanne', 'Rottier', 'Villefloure', \"Bras-d'Asse\", \"Albon-d'Ardèche\", 'Saint-Étienne-de-Gourgas', 'Renno', 'Saint-Vincent-sur-Jabron', 'Ménerbes', 'Souche (La)', 'Saint-Roman-de-Malegarde', 'Figanières', 'Aleyrac', 'Vercheny', 'Prads-Haute-Bléone', 'Vallecalle', 'Vebron', 'Val-des-Prés', 'Belflou', 'Saint-Jean-de-Muzols', 'Monte', 'Lachapelle-sous-Aubenas', 'Salsigne', 'Vergons'}\n"
     ]
    }
   ],
   "source": [
    "print(set(fires['Commune']))"
   ]
  },
  {
   "cell_type": "code",
   "execution_count": 19,
   "metadata": {},
   "outputs": [
    {
     "data": {
      "text/plain": [
       "{'ajaccio',\n",
       " 'embrun',\n",
       " 'gourdon',\n",
       " 'lucciana',\n",
       " 'marignane',\n",
       " 'mauguio',\n",
       " 'montélimar',\n",
       " nan,\n",
       " 'nice',\n",
       " 'perpignan',\n",
       " 'saint-mandrier-sur-mer',\n",
       " 'sainte-marie'}"
      ]
     },
     "execution_count": 19,
     "metadata": {},
     "output_type": "execute_result"
    }
   ],
   "source": [
    "set(temperatures['communes (name)'].str.lower()).intersection(set(fires['Commune'].str.lower()))"
   ]
  },
  {
   "cell_type": "code",
   "execution_count": 16,
   "metadata": {},
   "outputs": [],
   "source": [
    "# set(fires['Commune'])"
   ]
  },
  {
   "cell_type": "code",
   "execution_count": 17,
   "metadata": {},
   "outputs": [
    {
     "data": {
      "text/plain": [
       "Counter({'Perros-Guirec': 28466,\n",
       "         'Blagnac': 28793,\n",
       "         'Matoury': 28803,\n",
       "         'Parçay-Meslay': 28722,\n",
       "         nan: 217988,\n",
       "         'Barberey-Saint-Sulpice': 28786,\n",
       "         'Lucciana': 28740,\n",
       "         'Le Lamentin': 28617,\n",
       "         'Prunay': 21773,\n",
       "         'Ouges': 28577,\n",
       "         'Perpignan': 28736,\n",
       "         'La Hague': 28256,\n",
       "         'Cerisé': 28402,\n",
       "         'Saint-Georges': 25158,\n",
       "         'Chaspuzac': 28707,\n",
       "         'Gourdon': 28726,\n",
       "         'Millau': 28306,\n",
       "         'Embrun': 28677,\n",
       "         'Ajaccio': 28773,\n",
       "         'Mont-de-Marsan': 28453,\n",
       "         'Saint-Laurent-du-Maroni': 25887,\n",
       "         'Guipavas': 28710,\n",
       "         'Clermont-Ferrand': 28577,\n",
       "         'Saint-Aignan-Grandlieu': 28797,\n",
       "         'Sainte-Marie': 27198,\n",
       "         \"Saint-Denis-d'Oléron\": 28325,\n",
       "         'Holtzheim': 28635,\n",
       "         'Bourges': 28784,\n",
       "         'Louey': 28556,\n",
       "         'Blotzheim': 28775,\n",
       "         'Bangor': 28775,\n",
       "         'Les Abymes': 28372,\n",
       "         'Lorp-Sentaraille': 28583,\n",
       "         'Saint-Mandrier-sur-Mer': 28221,\n",
       "         'Colombier-Saugnieu': 28789,\n",
       "         'Carpiquet': 28568,\n",
       "         'Mérignac': 28771,\n",
       "         'Abbeville': 28723,\n",
       "         'Nice': 28789,\n",
       "         'Limoges': 28776,\n",
       "         'Mauguio': 28586,\n",
       "         'La Trinité': 23435,\n",
       "         'Boos': 28730,\n",
       "         'Fretin': 28779,\n",
       "         'Poitiers': 28780,\n",
       "         'Maripasoula': 23340,\n",
       "         'Saint-Jacques-de-la-Lande': 28737,\n",
       "         'Marignane': 28810,\n",
       "         'Thuilley-aux-Groseilles': 28632,\n",
       "         'Montélimar': 28776,\n",
       "         'Athis-Mons': 28789,\n",
       "         'Pamandzi': 21698,\n",
       "         'La Désirade': 6227})"
      ]
     },
     "execution_count": 17,
     "metadata": {},
     "output_type": "execute_result"
    }
   ],
   "source": [
    "from collections import Counter\n",
    "Counter(temperatures['communes (name)'])"
   ]
  },
  {
   "cell_type": "code",
   "execution_count": 18,
   "metadata": {},
   "outputs": [
    {
     "ename": "Exception",
     "evalue": "",
     "output_type": "error",
     "traceback": [
      "\u001b[1;31m---------------------------------------------------------------------------\u001b[0m",
      "\u001b[1;31mException\u001b[0m                                 Traceback (most recent call last)",
      "\u001b[1;32m<ipython-input-18-2aee0157c87b>\u001b[0m in \u001b[0;36m<module>\u001b[1;34m\u001b[0m\n\u001b[1;32m----> 1\u001b[1;33m \u001b[1;32mraise\u001b[0m \u001b[0mException\u001b[0m\u001b[1;33m\u001b[0m\u001b[1;33m\u001b[0m\u001b[0m\n\u001b[0m",
      "\u001b[1;31mException\u001b[0m: "
     ]
    }
   ],
   "source": [
    "raise Exception"
   ]
  },
  {
   "cell_type": "code",
   "execution_count": null,
   "metadata": {},
   "outputs": [],
   "source": [
    "# Date format: 01-01-2020\n",
    "base_url = \"http://www.meteofrance.com/climat/meteo-date-passee\"\n",
    "req = \"http://www.meteofrance.com/climat/meteo-date-passee?lieuId={INSEE_CODE}&lieuType=VILLE_FRANCE&date={date}\".format(\n",
    "    INSEE_CODE=92073, date=\"01-01-2020\")\n",
    "print(req)\n",
    "code_insee=92073\n",
    "date = \"01-01-2020\""
   ]
  },
  {
   "cell_type": "code",
   "execution_count": null,
   "metadata": {},
   "outputs": [],
   "source": [
    "import requests\n",
    "response = requests.get(base_url, data={'lieuId': code_insee, 'lieuType': 'VILLE_FRANCE', 'date': date})"
   ]
  },
  {
   "cell_type": "code",
   "execution_count": 1,
   "metadata": {},
   "outputs": [
    {
     "name": "stderr",
     "output_type": "stream",
     "text": [
      "c:\\users\\luism\\appdata\\local\\programs\\python\\python36\\lib\\site-packages\\selenium\\webdriver\\phantomjs\\webdriver.py:49: UserWarning: Selenium support for PhantomJS has been deprecated, please use headless versions of Chrome or Firefox instead\n",
      "  warnings.warn('Selenium support for PhantomJS has been deprecated, please use headless '\n"
     ]
    }
   ],
   "source": [
    "from selenium import webdriver\n",
    "from selenium.webdriver.common.keys import Keys\n",
    "from selenium.webdriver.support.ui import Select\n",
    "\n",
    "# driver = webdriver.Chrome()\n",
    "driver = webdriver.PhantomJS()"
   ]
  },
  {
   "cell_type": "code",
   "execution_count": null,
   "metadata": {},
   "outputs": [],
   "source": [
    "driver.get(req)\n",
    "    \n",
    "select = Select(driver.find_element_by_id('fcomprer-attr-lieu'))\n",
    "# select by visible text\n",
    "# select.select_by_visible_text('Banana')\n",
    "# select by value \n",
    "# select.select_by_value('1')\n",
    "select.select_by_index(0)\n",
    "\n",
    "\n",
    "driver.get(req)  # Get page\n",
    "\n",
    "bet_fa = driver.find_element_by_id(\"fcomprer-attr-lieu\")\n",
    "bet_fa.clear()\n",
    "bet_fa.send_keys(code_insee)\n",
    "\n",
    "bet_fa = driver.find_element_by_id(\"fcomprer-attr-date\")\n",
    "bet_fa.clear()\n",
    "bet_fa.send_keys(date)"
   ]
  },
  {
   "cell_type": "code",
   "execution_count": 2,
   "metadata": {},
   "outputs": [],
   "source": [
    "base_url = \"http://www.meteofrance.com/climat/meteo-date-passee\"\n",
    "code_insee=13000\n",
    "date = \"01-01-2020\"\n",
    "driver = webdriver.Chrome()"
   ]
  },
  {
   "cell_type": "code",
   "execution_count": 3,
   "metadata": {},
   "outputs": [
    {
     "ename": "Exception",
     "evalue": "",
     "output_type": "error",
     "traceback": [
      "\u001b[1;31m---------------------------------------------------------------------------\u001b[0m",
      "\u001b[1;31mException\u001b[0m                                 Traceback (most recent call last)",
      "\u001b[1;32m<ipython-input-3-94c0482da731>\u001b[0m in \u001b[0;36m<module>\u001b[1;34m\u001b[0m\n\u001b[0;32m     20\u001b[0m \u001b[0mdate_input\u001b[0m\u001b[1;33m.\u001b[0m\u001b[0mclick\u001b[0m\u001b[1;33m(\u001b[0m\u001b[1;33m)\u001b[0m\u001b[1;33m\u001b[0m\u001b[1;33m\u001b[0m\u001b[0m\n\u001b[0;32m     21\u001b[0m \u001b[1;33m\u001b[0m\u001b[0m\n\u001b[1;32m---> 22\u001b[1;33m \u001b[1;32mraise\u001b[0m \u001b[0mException\u001b[0m\u001b[1;33m\u001b[0m\u001b[1;33m\u001b[0m\u001b[0m\n\u001b[0m\u001b[0;32m     23\u001b[0m \u001b[0mfirst_available_date\u001b[0m \u001b[1;33m=\u001b[0m \u001b[0mwait\u001b[0m\u001b[1;33m.\u001b[0m\u001b[0muntil\u001b[0m\u001b[1;33m(\u001b[0m\u001b[0mEC\u001b[0m\u001b[1;33m.\u001b[0m\u001b[0melement_to_be_clickable\u001b[0m\u001b[1;33m(\u001b[0m\u001b[1;33m(\u001b[0m\u001b[0mBy\u001b[0m\u001b[1;33m.\u001b[0m\u001b[0mCSS_SELECTOR\u001b[0m\u001b[1;33m,\u001b[0m \u001b[1;34m\"#ui-datepicker-div td.full-changeover > a\"\u001b[0m\u001b[1;33m)\u001b[0m\u001b[1;33m)\u001b[0m\u001b[1;33m)\u001b[0m\u001b[1;33m\u001b[0m\u001b[1;33m\u001b[0m\u001b[0m\n\u001b[0;32m     24\u001b[0m \u001b[0mActionChains\u001b[0m\u001b[1;33m(\u001b[0m\u001b[0mdriver\u001b[0m\u001b[1;33m)\u001b[0m\u001b[1;33m.\u001b[0m\u001b[0mmove_to_element\u001b[0m\u001b[1;33m(\u001b[0m\u001b[0mfirst_available_date\u001b[0m\u001b[1;33m)\u001b[0m\u001b[1;33m.\u001b[0m\u001b[0mperform\u001b[0m\u001b[1;33m(\u001b[0m\u001b[1;33m)\u001b[0m\u001b[1;33m\u001b[0m\u001b[1;33m\u001b[0m\u001b[0m\n",
      "\u001b[1;31mException\u001b[0m: "
     ]
    }
   ],
   "source": [
    "import time\n",
    "driver.get(base_url)\n",
    "\n",
    "def take_screen(screen_name = 'screen.png'):\n",
    "    with open(screen_name, 'wb') as image_file:\n",
    "        image_file.write(driver.get_screenshot_as_png())\n",
    "\n",
    "# Lieu\n",
    "place_input = driver.find_element_by_id(\"fcomprer-attr-lieu\")\n",
    "place_input.send_keys(code_insee)\n",
    "time.sleep(1)\n",
    "place_input.send_keys(Keys.DOWN, Keys.ENTER)\n",
    "\n",
    "# Date\n",
    "date_input = driver.find_element_by_id(\"fcomprer-attr-date\")\n",
    "# Select year > month > date\n",
    "# date_input.send_keys(date)\n",
    "\n",
    "# pick start date\n",
    "date_input.click()\n",
    "\n",
    "raise Exception\n",
    "first_available_date = wait.until(EC.element_to_be_clickable((By.CSS_SELECTOR, \"#ui-datepicker-div td.full-changeover > a\")))\n",
    "ActionChains(driver).move_to_element(first_available_date).perform()\n",
    "driver.find_element_by_css_selector(\"#ui-datepicker-div td.full-selected.full-changeover > a\").click()\n",
    "\n",
    "# pick end date (TODO: violates DRY principle, refactor!)\n",
    "end_date = wait.until(EC.visibility_of_element_located((By.CSS_SELECTOR, \".quotebar-container input[name=endDateInput]\")))\n",
    "end_date.click()\n",
    "\n",
    "first_available_date = wait.until(EC.element_to_be_clickable((By.CSS_SELECTOR, \"#ui-datepicker-div td.full-changeover > a\")))\n",
    "ActionChains(driver).move_to_element(first_available_date).perform()\n",
    "driver.find_element_by_css_selector(\"#ui-datepicker-div td.full-selected.full-changeover > a\").click()\n",
    "\n",
    "\n",
    "\n",
    "# Do research\n",
    "# submit_buttons = driver.find_elements_by_xpath(\"//input[@type='submit']\")\n",
    "# submit_buttons[0].click()"
   ]
  },
  {
   "cell_type": "code",
   "execution_count": null,
   "metadata": {},
   "outputs": [],
   "source": []
  },
  {
   "cell_type": "code",
   "execution_count": null,
   "metadata": {},
   "outputs": [],
   "source": []
  },
  {
   "cell_type": "code",
   "execution_count": null,
   "metadata": {},
   "outputs": [],
   "source": [
    "import dryscrape\n",
    "from bs4 import BeautifulSoup\n",
    "\n",
    "session = dryscrape.Session()\n",
    "session.visit(req)\n",
    "response = session.body()\n",
    "soup = BeautifulSoup(response)"
   ]
  },
  {
   "cell_type": "code",
   "execution_count": null,
   "metadata": {},
   "outputs": [],
   "source": [
    "from bs4 import BeautifulSoup"
   ]
  },
  {
   "cell_type": "code",
   "execution_count": null,
   "metadata": {},
   "outputs": [],
   "source": [
    "print('-0.8' in soup.prettify())"
   ]
  },
  {
   "cell_type": "code",
   "execution_count": null,
   "metadata": {},
   "outputs": [],
   "source": [
    "soup = BeautifulSoup(response.content, 'html.parser')"
   ]
  },
  {
   "cell_type": "code",
   "execution_count": null,
   "metadata": {},
   "outputs": [],
   "source": []
  },
  {
   "cell_type": "code",
   "execution_count": null,
   "metadata": {},
   "outputs": [],
   "source": []
  }
 ],
 "metadata": {
  "kernelspec": {
   "display_name": "Python 3",
   "language": "python",
   "name": "python3"
  },
  "language_info": {
   "codemirror_mode": {
    "name": "ipython",
    "version": 3
   },
   "file_extension": ".py",
   "mimetype": "text/x-python",
   "name": "python",
   "nbconvert_exporter": "python",
   "pygments_lexer": "ipython3",
   "version": "3.6.8"
  }
 },
 "nbformat": 4,
 "nbformat_minor": 4
}
