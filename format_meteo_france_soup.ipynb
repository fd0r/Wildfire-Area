{
 "cells": [
  {
   "cell_type": "code",
   "execution_count": 1,
   "metadata": {},
   "outputs": [
    {
     "data": {
      "text/plain": [
       "['data_synop',\n",
       " 'donnees-synop-essentielles-omm.csv',\n",
       " 'fires_with_meteo.csv',\n",
       " 'fires_with_meteo_full_one.csv',\n",
       " 'liste_incendies_ du_10_01_2020.csv',\n",
       " 'meteo_stations.csv',\n",
       " 'private_test.csv',\n",
       " 'private_train.csv',\n",
       " 'synop_aglomerated.csv',\n",
       " 'test.csv',\n",
       " 'train.csv']"
      ]
     },
     "execution_count": 1,
     "metadata": {},
     "output_type": "execute_result"
    }
   ],
   "source": [
    "# format data from html\n",
    "\n",
    "import pandas as pd\n",
    "\n",
    "from bs4 import BeautifulSoup\n",
    "# soup = BeautifulSoup(html_doc, 'html.parser')\n",
    "import os\n",
    "os.listdir('./data')"
   ]
  },
  {
   "cell_type": "code",
   "execution_count": 2,
   "metadata": {},
   "outputs": [],
   "source": [
    "df = pd.read_csv(\"./data/meteo_stations.csv\", sep=\";\")"
   ]
  },
  {
   "cell_type": "code",
   "execution_count": 3,
   "metadata": {},
   "outputs": [],
   "source": [
    "parse = lambda x: BeautifulSoup(x, 'html.parser') \n",
    "def parse_(string: str):\n",
    "    res = dict()\n",
    "    for elt in BeautifulSoup(str(string), 'html.parser').find_all('li'):\n",
    "        splitted = [sub.strip() for sub in elt.text.split(':')]\n",
    "        res[splitted[0]] = splitted[1]\n",
    "    return res\n",
    "df['soups'] = df['response']"
   ]
  },
  {
   "cell_type": "code",
   "execution_count": 4,
   "metadata": {},
   "outputs": [
    {
     "name": "stderr",
     "output_type": "stream",
     "text": [
      "100%|█████████████████████████████████████████████████████████████████████████| 206316/206316 [16:49<00:00, 204.33it/s]\n"
     ]
    }
   ],
   "source": [
    "from tqdm import tqdm\n",
    "parseds = list()\n",
    "for idx, row in tqdm(df.iterrows(), total=len(df)):\n",
    "    parseds.append(parse_(row['soups']))"
   ]
  },
  {
   "cell_type": "code",
   "execution_count": 5,
   "metadata": {},
   "outputs": [],
   "source": [
    "to_add = pd.io.json.json_normalize(parseds)"
   ]
  },
  {
   "cell_type": "code",
   "execution_count": 13,
   "metadata": {},
   "outputs": [],
   "source": [
    "total = pd.merge(df, to_add, left_index=True, right_index=True)"
   ]
  },
  {
   "cell_type": "code",
   "execution_count": 25,
   "metadata": {},
   "outputs": [
    {
     "data": {
      "text/html": [
       "<div>\n",
       "<style scoped>\n",
       "    .dataframe tbody tr th:only-of-type {\n",
       "        vertical-align: middle;\n",
       "    }\n",
       "\n",
       "    .dataframe tbody tr th {\n",
       "        vertical-align: top;\n",
       "    }\n",
       "\n",
       "    .dataframe thead th {\n",
       "        text-align: right;\n",
       "    }\n",
       "</style>\n",
       "<table border=\"1\" class=\"dataframe\">\n",
       "  <thead>\n",
       "    <tr style=\"text-align: right;\">\n",
       "      <th></th>\n",
       "      <th>date</th>\n",
       "      <th>response</th>\n",
       "      <th>insee_code</th>\n",
       "      <th>soups</th>\n",
       "      <th>Durée d'ensoleillement de la journée</th>\n",
       "      <th>Hauteur des précipitations</th>\n",
       "      <th>Température minimale de la journée</th>\n",
       "      <th>Température maximale de la journée</th>\n",
       "    </tr>\n",
       "  </thead>\n",
       "  <tbody>\n",
       "    <tr>\n",
       "      <th>206311</th>\n",
       "      <td>2020-01-23</td>\n",
       "      <td>&lt;article class=\"k-article report\"&gt; &lt;header&gt; &lt;p...</td>\n",
       "      <td>2B033</td>\n",
       "      <td>&lt;article class=\"k-article report\"&gt; &lt;header&gt; &lt;p...</td>\n",
       "      <td>0h</td>\n",
       "      <td>0.8mm</td>\n",
       "      <td>5.4°C</td>\n",
       "      <td>13.9°C</td>\n",
       "    </tr>\n",
       "    <tr>\n",
       "      <th>206312</th>\n",
       "      <td>2020-01-24</td>\n",
       "      <td>&lt;article class=\"k-article report\"&gt; &lt;header&gt; &lt;p...</td>\n",
       "      <td>2B033</td>\n",
       "      <td>&lt;article class=\"k-article report\"&gt; &lt;header&gt; &lt;p...</td>\n",
       "      <td>0h</td>\n",
       "      <td>45.0mm</td>\n",
       "      <td>9.8°C</td>\n",
       "      <td>14.1°C</td>\n",
       "    </tr>\n",
       "    <tr>\n",
       "      <th>206313</th>\n",
       "      <td>2020-01-25</td>\n",
       "      <td>&lt;article class=\"k-article report\"&gt; &lt;header&gt; &lt;p...</td>\n",
       "      <td>2B033</td>\n",
       "      <td>&lt;article class=\"k-article report\"&gt; &lt;header&gt; &lt;p...</td>\n",
       "      <td>5h</td>\n",
       "      <td>0.0mm</td>\n",
       "      <td>6.7°C</td>\n",
       "      <td>16.0°C</td>\n",
       "    </tr>\n",
       "    <tr>\n",
       "      <th>206314</th>\n",
       "      <td>2020-01-26</td>\n",
       "      <td>&lt;article class=\"k-article report\"&gt; &lt;header&gt; &lt;p...</td>\n",
       "      <td>2B033</td>\n",
       "      <td>&lt;article class=\"k-article report\"&gt; &lt;header&gt; &lt;p...</td>\n",
       "      <td>7h</td>\n",
       "      <td>0.0mm</td>\n",
       "      <td>7.0°C</td>\n",
       "      <td>15.5°C</td>\n",
       "    </tr>\n",
       "    <tr>\n",
       "      <th>206315</th>\n",
       "      <td>2020-01-27</td>\n",
       "      <td>&lt;article class=\"k-article report\"&gt; &lt;header&gt; &lt;p...</td>\n",
       "      <td>2B033</td>\n",
       "      <td>&lt;article class=\"k-article report\"&gt; &lt;header&gt; &lt;p...</td>\n",
       "      <td>7h</td>\n",
       "      <td>0.0mm</td>\n",
       "      <td>5.5°C</td>\n",
       "      <td>15.5°C</td>\n",
       "    </tr>\n",
       "  </tbody>\n",
       "</table>\n",
       "</div>"
      ],
      "text/plain": [
       "              date                                           response  \\\n",
       "206311  2020-01-23  <article class=\"k-article report\"> <header> <p...   \n",
       "206312  2020-01-24  <article class=\"k-article report\"> <header> <p...   \n",
       "206313  2020-01-25  <article class=\"k-article report\"> <header> <p...   \n",
       "206314  2020-01-26  <article class=\"k-article report\"> <header> <p...   \n",
       "206315  2020-01-27  <article class=\"k-article report\"> <header> <p...   \n",
       "\n",
       "       insee_code                                              soups  \\\n",
       "206311      2B033  <article class=\"k-article report\"> <header> <p...   \n",
       "206312      2B033  <article class=\"k-article report\"> <header> <p...   \n",
       "206313      2B033  <article class=\"k-article report\"> <header> <p...   \n",
       "206314      2B033  <article class=\"k-article report\"> <header> <p...   \n",
       "206315      2B033  <article class=\"k-article report\"> <header> <p...   \n",
       "\n",
       "       Durée d'ensoleillement de la journée Hauteur des précipitations  \\\n",
       "206311                                   0h                      0.8mm   \n",
       "206312                                   0h                     45.0mm   \n",
       "206313                                   5h                      0.0mm   \n",
       "206314                                   7h                      0.0mm   \n",
       "206315                                   7h                      0.0mm   \n",
       "\n",
       "       Température minimale de la journée Température maximale de la journée  \n",
       "206311                              5.4°C                             13.9°C  \n",
       "206312                              9.8°C                             14.1°C  \n",
       "206313                              6.7°C                             16.0°C  \n",
       "206314                              7.0°C                             15.5°C  \n",
       "206315                              5.5°C                             15.5°C  "
      ]
     },
     "execution_count": 25,
     "metadata": {},
     "output_type": "execute_result"
    }
   ],
   "source": [
    "total.tail()"
   ]
  },
  {
   "cell_type": "code",
   "execution_count": 26,
   "metadata": {},
   "outputs": [],
   "source": [
    "total.drop(columns=['response', 'soups']).to_csv('./data/processed_meteo_stations.csv',sep=\";\")"
   ]
  },
  {
   "cell_type": "code",
   "execution_count": null,
   "metadata": {},
   "outputs": [],
   "source": []
  }
 ],
 "metadata": {
  "kernelspec": {
   "display_name": "Python 3",
   "language": "python",
   "name": "python3"
  },
  "language_info": {
   "codemirror_mode": {
    "name": "ipython",
    "version": 3
   },
   "file_extension": ".py",
   "mimetype": "text/x-python",
   "name": "python",
   "nbconvert_exporter": "python",
   "pygments_lexer": "ipython3",
   "version": "3.6.8"
  }
 },
 "nbformat": 4,
 "nbformat_minor": 4
}
