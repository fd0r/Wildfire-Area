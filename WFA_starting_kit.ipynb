{
 "cells": [
  {
   "cell_type": "markdown",
   "metadata": {},
   "source": [
    "# Wildfire Area Prediction Starting Kit\n",
    "\n",
    "_Authors: Corentin Ambroise, Bastien Galmiche, Luis Montero, Margaux Zaffran_"
   ]
  },
  {
   "cell_type": "markdown",
   "metadata": {},
   "source": [
    "## Table of contents\n",
    "\n",
    "1. [Introduction](#introduction)\n",
    "    1. [Context](#context)\n",
    "    2. [Objective](#problematic)\n",
    "    3. [Benefits](#KPI)\n",
    "    4. [Dependancies](#librairies)\n",
    "2. [Data](#data)\n",
    "    1. [Main dataset](#fires)\n",
    "    2. [Weather datasets](#weather)\n",
    "    3. [Forest dataset](#forest)\n",
    "    5. [Split](#split)\n",
    "3. [Loss](#loss)\n",
    "4. [Exploratory data analysis](#explo)\n",
    "    1. [Loading data](#loading_data)\n",
    "    2. [Fires](#fires_explo)\n",
    "    3. [Weather and fires](#weather_explo)\n",
    "    4. [Forest and fires](#forest_explo)\n",
    "5. [Model](#model)\n",
    "    1. [Feature extractor](#features)\n",
    "    2. [Regressor](#regressor)\n",
    "    3. [Baseline model](#baseline)\n",
    "    4. [Naive merges](#merges)\n",
    "    5. [Feature extractor with additionals datasets](#features_extra)\n",
    "6. [RAMP submission](#ramp)"
   ]
  },
  {
   "cell_type": "markdown",
   "metadata": {},
   "source": [
    "## Introduction <a name=\"introduction\"></a>"
   ]
  },
  {
   "cell_type": "markdown",
   "metadata": {},
   "source": [
    "### Context <a name=\"Context\"></a>"
   ]
  },
  {
   "cell_type": "markdown",
   "metadata": {},
   "source": [
    "Every summer, the south of France is ravaged by wild fires, due to human activities or natural causes. The firemen struggle fighting theses, and it is hard to estimate the required needs in term of equipement and staff."
   ]
  },
  {
   "cell_type": "markdown",
   "metadata": {},
   "source": [
    "### Objective <a name=\"objective\"></a>"
   ]
  },
  {
   "cell_type": "markdown",
   "metadata": {},
   "source": [
    "Our goal is to estimate the surface that will potentially burn when it is declared in order to know the necessary means to deploy in order to counter its spreading."
   ]
  },
  {
   "cell_type": "markdown",
   "metadata": {},
   "source": [
    "### Benefits <a name=\"benefits\"></a>"
   ]
  },
  {
   "cell_type": "markdown",
   "metadata": {},
   "source": [
    "_Give some KPI (vegetation area preserved, life saved...)_ "
   ]
  },
  {
   "cell_type": "markdown",
   "metadata": {},
   "source": [
    "### Dependancies <a name=\"librairies\"></a>"
   ]
  },
  {
   "cell_type": "markdown",
   "metadata": {},
   "source": [
    "In order to be able to run this notebook, you will need the following dependancies installed:\n",
    "\n",
    "- pandas\n",
    "- numpy\n",
    "- scipy\n",
    "- matplotlib\n",
    "- scikit-learn\n",
    "- geopandas\n",
    "- pyproj\n",
    "- shapely\n",
    "- jupyter\n",
    "- googledrivedownloader\n",
    "\n",
    "The dependencies can be installed with ```pip install -r requirements.txt ```\n",
    "\n",
    "For installing GeoPandas on windows, you need to ensure that you have the binaries for shapely and fiona properly installed, because they are not provided when installing them with ```pip```. Look <a href='http://geopandas.org/install.html#installing-with-pip'>here </a> for more information on the matter."
   ]
  },
  {
   "cell_type": "code",
   "execution_count": null,
   "metadata": {},
   "outputs": [],
   "source": [
    "#!pip install -r requirements.txt"
   ]
  },
  {
   "cell_type": "markdown",
   "metadata": {},
   "source": [
    "## Data <a name=\"data\"></a>"
   ]
  },
  {
   "cell_type": "markdown",
   "metadata": {},
   "source": [
    "We collected data from a lot of various sources, but mainly what is provided to answer to this challenge are:\n",
    "\n",
    "- Fire data set\n",
    "- Weather datasets\n",
    "- Forests dataset"
   ]
  },
  {
   "cell_type": "markdown",
   "metadata": {},
   "source": [
    "### Main dataset <a name=\"fires\"></a>"
   ]
  },
  {
   "cell_type": "markdown",
   "metadata": {},
   "source": [
    "The main dataset comes from Promethee, a french data base which contains various information about different fires that occured in the south of France, including the regions Provence-Alpes-Côte-d'Azur, Corse, the old Languedoc-Roussillon region and a part of the Auvergne-Rhône-Alpes up to St-Etienne. This dataset contains fires that occured between 1973 and 2018.\n",
    "\n",
    "For each fire, we have different information, each of which corresponds to a column in the dataset:\n",
    "\n",
    "- __Year__: the year during which the fire occured\n",
    "- __ID__: a number assigned by the computer when the fire is created in the system\n",
    "- __Department__: department in which the fire was declared\n",
    "- __INSEE_code__: code insee of the municipality in which the fire was declared\n",
    "- __Town__: name of the municipality in which the fire was declared\n",
    "- __Locality__: supplementary precision about the location\n",
    "- __DFCI_coordinate__: coordinate of the DFCI square in which the fire was declared. This coordinate system is specific to the french DFCI, and corresponds to a small square of 1km side. You can find more information about this coordinate system <a href='http://ccffpeynier.free.fr/Files/dfci.pdf'>here</a> and how they are encoded in these data <a href='https://www.promethee.com/doc/prom_donnees.pdf'>here</a>\n",
    "- __Signal__: time at which the fire occured\n",
    "- __Origin__: which service declared the fire\n",
    "- __Area__: area burnt by the fire in square meters"
   ]
  },
  {
   "cell_type": "markdown",
   "metadata": {},
   "source": [
    "![Map](img/map_fires.png)"
   ]
  },
  {
   "cell_type": "markdown",
   "metadata": {},
   "source": [
    "In the original dataset that you can get on the website of Promethee, the data was not very clean, notably the documentation is out-of-date, and sometimes contradicts itself. So first in the previous section we provide you with an accurate documentation, and moreover we preprocessed the data to make it a bit cleaner. \n",
    "\n",
    "The most annoying issue was the lack of geographic precision, due to a poor quality of the DFCI coordinates provided. For fires that occured before 1983, the coordinates provided were not listed in the DFCI coordinate system, and after that there was still some missing characters to have the complete exact coordinates.\n",
    "\n",
    "An information that we can trust and have for each fire is the department where it occured. So using the geographic shapes of the departements (<a href='https://public.opendatasoft.com/explore/dataset/contours-geographiques-des-departements-2019/information/'> here </a>) and of the DFCI squares coordinates (<a href='https://www.geonov.fr/smartdata/carroyage/'> here </a>), we sampled uniformly within each department the locations of the fires for those who had a poorly encoded coordinate."
   ]
  },
  {
   "cell_type": "markdown",
   "metadata": {},
   "source": [
    "### Weather datasets <a name=\"weather\"></a>"
   ]
  },
  {
   "cell_type": "markdown",
   "metadata": {},
   "source": [
    "Weather condition is surely a determining factor on how will spread a fire. Based on this basic observation, we provide side datasets to help predict the burnt (or potentially burnt) surfaces. \n",
    "\n",
    "All the datasets we provide for weather data give various weather indicator in some main stations. These stations are show in the map below:"
   ]
  },
  {
   "cell_type": "markdown",
   "metadata": {},
   "source": [
    "![Weather_stations_plan](img/map_weather_plan.png)"
   ]
  },
  {
   "cell_type": "markdown",
   "metadata": {},
   "source": [
    "We provide 3 weather datasets:\n",
    "- ```synop.csv``` from https://public.opendatasoft.com/explore/dataset/donnees-synop-essentielles-omm/information/ , goes from 2013 to 2020.\n",
    "- ```mf_aglomerated.csv``` scraped from https://donneespubliques.meteofrance.fr/?fond=produit&id_produit=90&id_rubrique=32 , the archived data from the previous dataset. It goes from 1996 to 2020 but with less columns.\n",
    "- ```meteo_stations.csv``` scraped from http://www.meteofrance.com/climat/meteo-date-passee , on the insee code of the stations of the two previous dataset from 1973 to 2020. The idea was to provide an extension of the previous datasets for the missing years. This dataset contains less information than the other ones."
   ]
  },
  {
   "cell_type": "markdown",
   "metadata": {},
   "source": [
    "#### Synop essentials"
   ]
  },
  {
   "cell_type": "markdown",
   "metadata": {},
   "source": [
    "Translation table for the columns of the first dataset:\n",
    "\n",
    "| French name | English translation |\n",
    "|--|--|\n",
    "| ID OMM station | WMO station ID |\n",
    "| Date | Dated |\n",
    "| Pression au niveau mer | Sea level pressure |\n",
    "| Variation de pression en 3 heures | Pressure variation in 3 hours |\n",
    "| Type de tendance barométrique | Type of barometric trend |\n",
    "| Direction du vent moyen 10 mn | Average wind direction 10 mins |\n",
    "| Vitesse du vent moyen 10 mn | Average wind speed 10 mins |\n",
    "| Température | Temperature |\n",
    "| Point de rosée | Dew point |\n",
    "| Humidité | Humidity |\n",
    "| Visibilité horizontale | Horizontal visibility |\n",
    "| Temps présent | Present time |\n",
    "| Temps passé 1 | Past weather 1 |\n",
    "| Temps passé 2 | Past weather 2 |\n",
    "| Nebulosité totale | Total cloudiness |\n",
    "| Nébulosité  des nuages de l' étage inférieur | Cloudiness of clouds on the lower level |\n",
    "| Hauteur de la base des nuages de l'étage inférieur | Height of the cloud base of the lower level |\n",
    "| Type des nuages de l'étage inférieur | Type of clouds on the lower level |\n",
    "| Type des nuages de l'étage moyen | Type of mid-level clouds |\n",
    "| Type des nuages de l'étage supérieur | Type of upper-level clouds |\n",
    "| Pression station | Station pressure |\n",
    "| Niveau barométrique | Barometric level |\n",
    "| Géopotentiel | Geopotential |\n",
    "| Variation de pression en 24 heures | Pressure variation in 24 hours |\n",
    "| Température minimale sur 12 heures | Minimum temperature over 12 hours |\n",
    "| Température minimale sur 24 heures | Minimum 24 hour temperature |\n",
    "| Température maximale sur 12 heures | Maximum temperature over 12 hours |\n",
    "| Température maximale sur 24 heures | Maximum temperature over 24 hours |\n",
    "| Température minimale du sol sur 12 heures | Minimum soil temperature over 12 hours |\n",
    "| Méthode de mesure Température du thermomètre mouillé | Measuring method Wet thermometer temperature |\n",
    "| Température du thermomètre mouillé | Wet thermometer temperature |\n",
    "| Rafale sur les 10 dernières minutes | Burst over the last 10 minutes |\n",
    "| Rafales sur une période | Gusts over a period |\n",
    "| Periode de mesure de la rafale | Burst measurement period |\n",
    "| Etat du sol | Soil condition |\n",
    "| Hauteur totale de la couche de neige, glace, autre au sol | Total height of the layer of snow, ice, other on the ground |\n",
    "| Hauteur de la neige fraîche | Height of fresh snow |\n",
    "| Periode de mesure de la neige fraiche | Period for measuring fresh snow |\n",
    "| Précipitations dans la dernière heure | Precipitation in the last hour |\n",
    "| Précipitations dans les 3 dernières heures | Precipitation in the last 3 hours |\n",
    "| Précipitations dans les 6 dernières heures | Precipitation in the last 6 hours |\n",
    "| Précipitations dans les 12 dernières heures | Precipitation in the last 12 hours |\n",
    "| Précipitations dans les 24 dernières heures | Precipitation in the last 24 hours |\n",
    "| Phénomène spécial 1 | Special phenomenon 1 |\n",
    "| Phénomène spécial 2 | Special phenomenon 2 |\n",
    "| Phénomène spécial 3 | Special phenomenon 3 |\n",
    "| Phénomène spécial 4 | Special phenomenon 4 |\n",
    "| Nébulosité couche nuageuse 1 | Cloud cover 1 |\n",
    "| Type nuage 1 | Cloud type 1 |\n",
    "| Hauteur de base 1 | Basic height 1 |\n",
    "| Nébulosité couche nuageuse 2 | Cloud cover cloud 2 |\n",
    "| Type nuage 2 | Cloud type 2 |\n",
    "| Hauteur de base 2 | Basic height 2 |\n",
    "| Nébulosité couche nuageuse 3 | Cloud cover 3 |\n",
    "| Type nuage 3 | Cloud type 3 |\n",
    "| Hauteur de base 3 | Basic height 3 |\n",
    "| Nébulosité couche nuageuse 4 | Cloud cover cloudiness 4 |\n",
    "| Type nuage 4 | Cloud type 4 |\n",
    "| Hauteur de base 4 | Basic height 4 |\n",
    "| Coordonnees | Contact information |\n",
    "| Nom | Name |\n",
    "| Type de tendance barométrique.1 | Type of barometric trend. 1 |\n",
    "| Temps passé 1.1 | Time spent 1.1 |\n",
    "| Temps présent.1 | Present weather.1 |\n",
    "| Température (°C) | Temperature (° C) |\n",
    "| Température minimale sur 12 heures (°C) | Minimum temperature over 12 hours (° C) |\n",
    "| Température minimale sur 24 heures (°C) | Minimum temperature over 24 hours (° C) |\n",
    "| Température maximale sur 12 heures (°C) | Maximum temperature over 12 hours (° C) |\n",
    "| Température maximale sur 24 heures (°C) | Maximum temperature over 24 hours (° C) |\n",
    "| Température minimale du sol sur 12 heures (en °C) | Minimum soil temperature over 12 hours (in ° C) |\n",
    "| Altitude | Altitude |\n",
    "| Longitude | Longitude |\n",
    "| Latitude | Latitude |\n",
    "| communes (name) | towns (name) |\n",
    "| communes (code) | municipalities (code) |\n",
    "| EPCI (name) | EPCI (name) |\n",
    "| EPCI (code) | EPCI (code) |\n",
    "| department (name) | department (name) |\n",
    "| department (code) | department (code) |\n",
    "| region (name) | region (name) |\n",
    "| region (code) | region (code) |\n",
    "\n",
    "Check the table below for more precision the columns."
   ]
  },
  {
   "cell_type": "markdown",
   "metadata": {},
   "source": [
    "#### Historic synop\n",
    "We stack here all the historic data splitted into numerous files on Meteo France platform."
   ]
  },
  {
   "cell_type": "markdown",
   "metadata": {},
   "source": [
    "Description of the columns of the dataset:\n",
    "\n",
    "| Descriptive | Column name | type | unit |\n",
    "|----------- |------------|------|-------|\n",
    "| OMM station id | numer_sta | char | |\n",
    "| Date (UTC) | date | char | AAAAMMDDHHMISS |                \n",
    "| Pressure at sea level | pmer | int | Pa |\n",
    "| Pressure variation in 3 hours | tend | int | Pa |\n",
    "| Type of barometric trend | cod_tend | int | code (0200) |\n",
    "| Average wind direction 10 mn | dd | int | degree |\n",
    "| Average wind speed 10 mn | ff | real | m/s |\n",
    "| Temperature | t | real | K |\n",
    "| Dew point | td | real | K |\n",
    "| Humidity | u | int | % |\n",
    "| Horizontal visibility | vv | real | m |\n",
    "| Present weather | ww | int | code (4677) |\n",
    "| Weather past 1 | w1 | int | code (4561) |\n",
    "| Weather past 2 | w2 | int | code (4561) |\n",
    "| Total cloudiness | n | real | % |\n",
    "| Cloudiness of the clouds of the lower level | nbas | int | octa |\n",
    "| Height of the cloud base of the lower level | hbas | int | mètre |\n",
    "| Type of clouds on the lower level | cl | int | code (0513) |\n",
    "| Type of mid-level clouds | cm | int | code (0515) |\n",
    "| Type of upper-level clouds | ch | int | code (0509) |\n",
    "| Station pressure | pres | int | Pa |\n",
    "| Barometric level | niv_bar | int | Pa |\n",
    "| Geopotential | geop | int | m2/s2 |\n",
    "| Pressure variation in 24 hours | tend24 | int | Pa |\n",
    "| Minimum temperature over N hours | tnN | real | K |\n",
    "| Maximum temperature over N hours | txN | real | K |\n",
    "| Minimum soil temperature over 12 hours | tminsol | real | K |\n",
    "| Tw measurement method | sw | int | code (3855) |\n",
    "| Wet thermometer temperature | tw | real | K |\n",
    "| Gusts over the last 10 minutes | raf10 | real | m/s |\n",
    "| Gusts over a period | rafper | real | m/s |\n",
    "| Burst measurement period | per | real | min |\n",
    "| Soil condition | etat_sol | int | code (0901) |\n",
    "| Total height of the layer of snow, ice, other; on the ground | ht_neige | real | m |\n",
    "| Height of fresh snow | ssfrai | real | m                         |\n",
    "| Period for measuring fresh snow | perssfrai | real | 1/10 heure|\n",
    "| Precipitation in the last N hours | rrN | real | mm | \n",
    "| Special phenomenon | phenspeN | real | code (3778) |\n",
    "| Cloudiness cche clouds N | nnuageN | int | octa |\n",
    "| Cloud type N | ctypeN | int | code (0500) | \n",
    "| Basic height N | hnuageN | int | m |\n",
    "\n",
    "- char : ascii characters\n",
    "- int : integer\n",
    "- real : real number (with float)\n",
    "\n",
    "The numbers in parantheses preceded by the word \"code\" refer to the code table of the WMO (World Meteorological Organization): https://www.wmo.int/pages/prog/www/WMOCodes/WMO306_vI1/Publications/2017update/WMO306_vI1_2011UP2017_en.pdf."
   ]
  },
  {
   "cell_type": "markdown",
   "metadata": {},
   "source": [
    "#### Historical Meteo France stations reconstructed data\n",
    "This data was scraped from Meteo France website for every day between the 1st of January of 1973 and the 28th of January of 2020 for every insee code of the stations in the fires data area. The goal here was to complete the previous datasets, not to match exactly the fires dataset which could have also been done. \n",
    "\n",
    "The extraction process was done using Meteo France website as an API through the url ```http://www.meteofrance.com/climat/meteo-date-passee?lieuId={code_insee}0&lieuType=VILLE_FRANCE&date={day}-{month}-{year}``` and Beatiful Soup to parse and extract the data from the web page. The website response time being quite slow and to avoid over requesting the website it took around ten hours to collect the full dataset."
   ]
  },
  {
   "cell_type": "markdown",
   "metadata": {},
   "source": [
    "All scripts to collect the data are available in the `data_collecters` folder."
   ]
  },
  {
   "cell_type": "markdown",
   "metadata": {},
   "source": [
    "### Forest dataset <a name=\"forest\"></a>"
   ]
  },
  {
   "cell_type": "markdown",
   "metadata": {},
   "source": [
    "The forest data set we provide you is extracted from an ONF (Office National des Forêts) data set listing the different forests in France, with their shape and location. You can find the original data set <a href=https://www.data.gouv.fr/fr/datasets/forets-publiques-diffusion-publique-1/>here</a>.\n",
    "\n",
    "Our dataset is slightly different from the original one. First, it only contains forests of the departements for which we have fire data, so departement of the south-east part of France. And secondly, since it takes some time, we precomputed the areas of the forests, which can be used in a regression model. You can find the function which does it in the utils.py file. We will use the geopandas package to read the file which is a geojson. It allows us to have a dataframe containing as columns the properties of the features, and a column geometry containing the geometry of each feature.\n",
    "\n",
    "We list here what desciptors we have for each forest\n",
    "\n",
    "- __iidtn_frt__: id of the forest\n",
    "- __llib_frt__: name of the forest\n",
    "- __cdom_frt__: wheter it is a state or a communal forest ('NON' for communal forest and 'OUI' for state forests)\n",
    "- __cinse_dep__: department of the forest\n",
    "- __area__: the area of the forest inb square meters\n",
    "- __geometry__: shapely objects describing the shape of a forest (Polygon or MultiPolygon). You can learn how to manipulate these objects <a href=https://shapely.readthedocs.io/en/stable/manual.html>here</a>\n",
    "\n",
    "\n",
    "\n",
    "We can visualize bellow what these forests look like."
   ]
  },
  {
   "cell_type": "markdown",
   "metadata": {},
   "source": [
    "![Forests](img/map_forests.png)"
   ]
  },
  {
   "cell_type": "markdown",
   "metadata": {},
   "source": [
    "### Split <a name=\"split\"></a>"
   ]
  },
  {
   "cell_type": "markdown",
   "metadata": {},
   "source": [
    "As we will show it during the exploratory data analysis, our dataset is highly imbalanced. Indeed, there exists two types of fires: it can either be a forest fire, so a regular one, with a minimum burning surface of a square meter, or an AFERPU, only a fire start which did not burn anything really (less than a square meter). The AFERPU ones had been filled with an area of 0.001 square meter each. Obviously we do not provide the category to which each fire belongs, because we do not have this information when a fire actually starts in real life.\n",
    "\n",
    "Thus, in this dataset you will find a lot of AFERPU (more or less 75%) and only 25% of forest fires. In order to preserve the distribution of the data given this observation and given that our initial dataset is not that large (481940 raws), we've splitted it using a stratified method.\n",
    "\n",
    "For this, we adapted the classification case by creating levels of fires depending on the area burnt. These method was applied to split the dataset into a public and a private one, and then to split each one into a train set and a test set.\n",
    "\n",
    "At the end, we've obtained datasets of sizes:\n",
    "\n",
    "- __public train set:__ (271 091, 10)\n",
    "- __public test set:__ (90 364, 10)\n",
    "- __private set:__ (120 485, 10)"
   ]
  },
  {
   "cell_type": "markdown",
   "metadata": {},
   "source": [
    "## Loss <a name=\"loss\"></a>"
   ]
  },
  {
   "cell_type": "markdown",
   "metadata": {},
   "source": [
    "Given the previous commentary on our imbalanced data and given the KPI's we want to improve, we can point out 4 caracteristics that our loss would be required to have, in order to learn a model that fits our needs.\n",
    "\n",
    "- First, we want an asymetric loss which penalizes more under predictions. In our state of mind, in order to prevent a fire to spread, it is best to predict a greater surface burned, in which case we would mobilize more means than necessary, than the opposite.\n",
    "\n",
    "- Then, we want to penalize more gaps for small values than for big values. For instance, it would be way worst to predict that a fire would burn 0 $m^2$ if it was going to burn 100 $m^2$, than predicting 100 100 $m^2$ or 99 900 $m^2$ burned instead of 100 000 $m^2$. This is why we will apply a log on the prediction and true value before computing their difference.\n",
    "\n",
    "- In addition we want to penalize more big gaps beetween the prediction and true value, so we will use a powered loss (like MSE)\n",
    "\n",
    "- And finally, we noticed during the exploratory analysis that most of the fires burned mostly nothing, so the data set is very imbalanced (about 75% of zeros). We need to add something to the loss so it does not always predict zero.\n",
    "\n",
    "The loss we finally came up with a modified version of the quad quad loss, with $\\alpha \\in [0,1]$:\n",
    "\n",
    "$$\\mathcal{L}_\\alpha\\left(y,\\hat{y}\\right) = 2\\left( \\alpha + (1-2\\alpha)\\mathbb{1}_{\\{y-\\hat{y} < 0\\}} \\right)\\left(log(y) - log(\\hat{y}) \\right)^{2}$$\n",
    "\n",
    "The multiplicative coefficient is $2\\alpha$ when $y > \\hat{y}$ and $2(1-\\alpha)$ when $y < \\hat{y}$. Thus, to penalize more under predictions we will choose $\\alpha > 0.5$. We've set $\\alpha = 0.7$.\n",
    "\n",
    "The total score in a dataset of size $n$ will be computed by:\n",
    "\n",
    "$$ \\text{score} = \\sqrt{\\frac{1}{n} \\sum_{i = 1}^{n} \\mathcal{L}_\\alpha\\left(y_i,\\hat{y_i}\\right) } $$\n",
    "\n",
    "We can visualize it as a function of $\\hat{y}$ and for various values of $y$:"
   ]
  },
  {
   "cell_type": "code",
   "execution_count": 28,
   "metadata": {},
   "outputs": [],
   "source": [
    "import numpy as np\n",
    "import matplotlib.pyplot as plt\n",
    "import matplotlib.cm as cm"
   ]
  },
  {
   "cell_type": "code",
   "execution_count": 29,
   "metadata": {},
   "outputs": [
    {
     "data": {
      "image/png": "[encoded data removed]",
      "text/plain": [
       "<Figure size 720x504 with 1 Axes>"
      ]
     },
     "metadata": {
      "needs_background": "light"
     },
     "output_type": "display_data"
    }
   ],
   "source": [
    "alpha = 0.7\n",
    "y = [0.001,12,20,55,150,400,1100,2980,8100,22000,60000,160000,440000,1203000,3269000]\n",
    "ypred = np.arange(0.0009,3270000,1)\n",
    "\n",
    "def quadquadlog(alpha,y,ypred):\n",
    "    return 2*(alpha+(1-2*alpha)*(1*((np.log(y)-np.log(ypred)) < 0)))*((np.log(y)-np.log(ypred))**2)\n",
    "\n",
    "plt.figure(figsize=(10,7))\n",
    "colors = cm.rainbow(np.linspace(0, 1, len(y)))\n",
    "for elem, c in zip(y, colors):\n",
    "    plt.plot(np.log(ypred), quadquadlog(alpha,elem,ypred),color=c,label='y = '+str(elem))\n",
    "plt.legend(loc='upper right')\n",
    "plt.xlabel(r'Logarithm of estimated value $\\hat{y}$')\n",
    "plt.ylabel(r'Loss, with $\\alpha = 0.7$ and $p = 2$')\n",
    "plt.title(r'Quadquadlog loss, i.e. $\\mathcal{L}_{\\alpha,p}\\left(y,\\hat{y}\\right) = 2\\left( \\alpha + (1-2\\alpha)\\mathbb{1}_{\\{log(y)-log(\\hat{y}) < 0\\}} \\right)\\left(log(y) - log(\\hat{y}) \\right)^{p}$')\n",
    "plt.show()"
   ]
  },
  {
   "cell_type": "markdown",
   "metadata": {},
   "source": [
    "## Exploratory data analysis  <a name=\"explo\"></a>"
   ]
  },
  {
   "cell_type": "markdown",
   "metadata": {},
   "source": [
    "### Loading data  <a name=\"loading_data\"></a>"
   ]
  },
  {
   "cell_type": "markdown",
   "metadata": {},
   "source": [
    "Downloading public train and test data can be achieved using ```get_train_data``` and ```get_test_data``` functions:"
   ]
  },
  {
   "cell_type": "code",
   "execution_count": 30,
   "metadata": {},
   "outputs": [],
   "source": [
    "from problem import get_train_data\n",
    "\n",
    "X_df, y_array = get_train_data()"
   ]
  },
  {
   "cell_type": "markdown",
   "metadata": {},
   "source": [
    "Downloading the other datasets is done by executing ```download_data```. The files downloaded will be stored in the data folder, as are the main public datasets, but also in the starting_kit folder in the submission folder. The files are retrievied from a private google drive."
   ]
  },
  {
   "cell_type": "code",
   "execution_count": 54,
   "metadata": {},
   "outputs": [
    {
     "name": "stdout",
     "output_type": "stream",
     "text": [
      "Downloading 1jlak9wlSAiyQW6MXOKOoOIMg8GV_nyFD into data/stations.csv... Done.\n"
     ]
    }
   ],
   "source": [
    "%run download_data.py"
   ]
  },
  {
   "cell_type": "markdown",
   "metadata": {},
   "source": [
    "### Fires  <a name=\"fires_explo\"></a>"
   ]
  },
  {
   "cell_type": "markdown",
   "metadata": {},
   "source": [
    "_To be done: main dataset analysis_"
   ]
  },
  {
   "cell_type": "code",
   "execution_count": 31,
   "metadata": {},
   "outputs": [
    {
     "data": {
      "text/html": [
       "<div>\n",
       "<style scoped>\n",
       "    .dataframe tbody tr th:only-of-type {\n",
       "        vertical-align: middle;\n",
       "    }\n",
       "\n",
       "    .dataframe tbody tr th {\n",
       "        vertical-align: top;\n",
       "    }\n",
       "\n",
       "    .dataframe thead th {\n",
       "        text-align: right;\n",
       "    }\n",
       "</style>\n",
       "<table border=\"1\" class=\"dataframe\">\n",
       "  <thead>\n",
       "    <tr style=\"text-align: right;\">\n",
       "      <th></th>\n",
       "      <th>Year</th>\n",
       "      <th>ID</th>\n",
       "      <th>Department</th>\n",
       "      <th>INSEE_code</th>\n",
       "      <th>Town</th>\n",
       "      <th>Locality</th>\n",
       "      <th>DFCI_coordinate</th>\n",
       "      <th>Signal</th>\n",
       "      <th>Origin</th>\n",
       "    </tr>\n",
       "  </thead>\n",
       "  <tbody>\n",
       "    <tr>\n",
       "      <th>0</th>\n",
       "      <td>1983</td>\n",
       "      <td>1575</td>\n",
       "      <td>2B</td>\n",
       "      <td>2B337</td>\n",
       "      <td>Valle-di-Rostino</td>\n",
       "      <td>VALLE DI ROSTINO</td>\n",
       "      <td>NC64F2</td>\n",
       "      <td>1983-09-08 15:55:00</td>\n",
       "      <td>3.0</td>\n",
       "    </tr>\n",
       "    <tr>\n",
       "      <th>1</th>\n",
       "      <td>1981</td>\n",
       "      <td>2838</td>\n",
       "      <td>83</td>\n",
       "      <td>83057</td>\n",
       "      <td>Flassans-sur-Issole</td>\n",
       "      <td>FLASSANS SUR ISSOLE</td>\n",
       "      <td>LD02E2</td>\n",
       "      <td>1981-05-03 17:20:00</td>\n",
       "      <td>3.0</td>\n",
       "    </tr>\n",
       "    <tr>\n",
       "      <th>2</th>\n",
       "      <td>1989</td>\n",
       "      <td>6600</td>\n",
       "      <td>11</td>\n",
       "      <td>11421</td>\n",
       "      <td>Villedaigne</td>\n",
       "      <td>NaN</td>\n",
       "      <td>GD40B0</td>\n",
       "      <td>1989-08-07 14:42:00</td>\n",
       "      <td>NaN</td>\n",
       "    </tr>\n",
       "  </tbody>\n",
       "</table>\n",
       "</div>"
      ],
      "text/plain": [
       "   Year    ID Department INSEE_code                 Town             Locality  \\\n",
       "0  1983  1575         2B      2B337     Valle-di-Rostino     VALLE DI ROSTINO   \n",
       "1  1981  2838         83      83057  Flassans-sur-Issole  FLASSANS SUR ISSOLE   \n",
       "2  1989  6600         11      11421          Villedaigne                  NaN   \n",
       "\n",
       "  DFCI_coordinate               Signal  Origin  \n",
       "0          NC64F2  1983-09-08 15:55:00     3.0  \n",
       "1          LD02E2  1981-05-03 17:20:00     3.0  \n",
       "2          GD40B0  1989-08-07 14:42:00     NaN  "
      ]
     },
     "execution_count": 31,
     "metadata": {},
     "output_type": "execute_result"
    }
   ],
   "source": [
    "X_df.head(3)"
   ]
  },
  {
   "cell_type": "code",
   "execution_count": 32,
   "metadata": {},
   "outputs": [
    {
     "data": {
      "text/html": [
       "<div>\n",
       "<style scoped>\n",
       "    .dataframe tbody tr th:only-of-type {\n",
       "        vertical-align: middle;\n",
       "    }\n",
       "\n",
       "    .dataframe tbody tr th {\n",
       "        vertical-align: top;\n",
       "    }\n",
       "\n",
       "    .dataframe thead th {\n",
       "        text-align: right;\n",
       "    }\n",
       "</style>\n",
       "<table border=\"1\" class=\"dataframe\">\n",
       "  <thead>\n",
       "    <tr style=\"text-align: right;\">\n",
       "      <th></th>\n",
       "      <th>Year</th>\n",
       "      <th>ID</th>\n",
       "      <th>Origin</th>\n",
       "    </tr>\n",
       "  </thead>\n",
       "  <tbody>\n",
       "    <tr>\n",
       "      <th>count</th>\n",
       "      <td>271091.000000</td>\n",
       "      <td>271091.000000</td>\n",
       "      <td>127443.000000</td>\n",
       "    </tr>\n",
       "    <tr>\n",
       "      <th>mean</th>\n",
       "      <td>1993.475353</td>\n",
       "      <td>5857.595213</td>\n",
       "      <td>3.048343</td>\n",
       "    </tr>\n",
       "    <tr>\n",
       "      <th>std</th>\n",
       "      <td>12.665036</td>\n",
       "      <td>4064.661446</td>\n",
       "      <td>0.834066</td>\n",
       "    </tr>\n",
       "    <tr>\n",
       "      <th>min</th>\n",
       "      <td>1973.000000</td>\n",
       "      <td>1.000000</td>\n",
       "      <td>1.000000</td>\n",
       "    </tr>\n",
       "    <tr>\n",
       "      <th>25%</th>\n",
       "      <td>1983.000000</td>\n",
       "      <td>2617.000000</td>\n",
       "      <td>3.000000</td>\n",
       "    </tr>\n",
       "    <tr>\n",
       "      <th>50%</th>\n",
       "      <td>1991.000000</td>\n",
       "      <td>5246.000000</td>\n",
       "      <td>3.000000</td>\n",
       "    </tr>\n",
       "    <tr>\n",
       "      <th>75%</th>\n",
       "      <td>2004.000000</td>\n",
       "      <td>8244.000000</td>\n",
       "      <td>3.000000</td>\n",
       "    </tr>\n",
       "    <tr>\n",
       "      <th>max</th>\n",
       "      <td>2018.000000</td>\n",
       "      <td>19750.000000</td>\n",
       "      <td>6.000000</td>\n",
       "    </tr>\n",
       "  </tbody>\n",
       "</table>\n",
       "</div>"
      ],
      "text/plain": [
       "                Year             ID         Origin\n",
       "count  271091.000000  271091.000000  127443.000000\n",
       "mean     1993.475353    5857.595213       3.048343\n",
       "std        12.665036    4064.661446       0.834066\n",
       "min      1973.000000       1.000000       1.000000\n",
       "25%      1983.000000    2617.000000       3.000000\n",
       "50%      1991.000000    5246.000000       3.000000\n",
       "75%      2004.000000    8244.000000       3.000000\n",
       "max      2018.000000   19750.000000       6.000000"
      ]
     },
     "execution_count": 32,
     "metadata": {},
     "output_type": "execute_result"
    }
   ],
   "source": [
    "X_df.describe()"
   ]
  },
  {
   "cell_type": "code",
   "execution_count": 33,
   "metadata": {},
   "outputs": [],
   "source": [
    "import pandas as pd\n",
    "X_df['Signal'] = pd.to_datetime(X_df['Signal'], format='%Y-%m-%d %H:%M:%S')"
   ]
  },
  {
   "cell_type": "code",
   "execution_count": 34,
   "metadata": {},
   "outputs": [
    {
     "data": {
      "text/plain": [
       "Year                        int64\n",
       "ID                          int64\n",
       "Department                 object\n",
       "INSEE_code                 object\n",
       "Town                       object\n",
       "Locality                   object\n",
       "DFCI_coordinate            object\n",
       "Signal             datetime64[ns]\n",
       "Origin                    float64\n",
       "dtype: object"
      ]
     },
     "execution_count": 34,
     "metadata": {},
     "output_type": "execute_result"
    }
   ],
   "source": [
    "X_df.dtypes"
   ]
  },
  {
   "cell_type": "code",
   "execution_count": 35,
   "metadata": {},
   "outputs": [
    {
     "data": {
      "text/plain": [
       "Year               0.000000\n",
       "ID                 0.000000\n",
       "Department         0.000000\n",
       "INSEE_code         0.000066\n",
       "Town               0.000066\n",
       "Locality           0.595877\n",
       "DFCI_coordinate    0.000000\n",
       "Signal             0.000000\n",
       "Origin             0.529888\n",
       "dtype: float64"
      ]
     },
     "execution_count": 35,
     "metadata": {},
     "output_type": "execute_result"
    }
   ],
   "source": [
    "X_df.isna().sum() / X_df.shape[0]"
   ]
  },
  {
   "cell_type": "code",
   "execution_count": 36,
   "metadata": {},
   "outputs": [
    {
     "data": {
      "image/png": "[encoded data removed]",
      "text/plain": [
       "<Figure size 432x288 with 1 Axes>"
      ]
     },
     "metadata": {
      "needs_background": "light"
     },
     "output_type": "display_data"
    }
   ],
   "source": [
    "plt.hist(np.log(y_array), bins=75)\n",
    "plt.show()"
   ]
  },
  {
   "cell_type": "code",
   "execution_count": 37,
   "metadata": {},
   "outputs": [
    {
     "data": {
      "text/plain": [
       "-6.907755278982137"
      ]
     },
     "execution_count": 37,
     "metadata": {},
     "output_type": "execute_result"
    }
   ],
   "source": [
    "np.log(0.001)"
   ]
  },
  {
   "cell_type": "markdown",
   "metadata": {},
   "source": [
    "This plot shows very well the imbablancing we were refering to earlier. The value with the highest frequency corresponds to $\\text{log}(0.001)$ (which is to say, the AFERPU fires)."
   ]
  },
  {
   "cell_type": "code",
   "execution_count": 38,
   "metadata": {},
   "outputs": [
    {
     "data": {
      "image/png": "[encoded data removed]",
      "text/plain": [
       "<Figure size 432x288 with 1 Axes>"
      ]
     },
     "metadata": {
      "needs_background": "light"
     },
     "output_type": "display_data"
    }
   ],
   "source": [
    "plt.hist(np.log(y_array[y_array != 0.001]), bins=50)\n",
    "plt.show()"
   ]
  },
  {
   "cell_type": "markdown",
   "metadata": {},
   "source": [
    "In order to analyse a bit the correlation between X_df and the target (y_array) we temporarily merge them into a ```fires``` dataframe."
   ]
  },
  {
   "cell_type": "code",
   "execution_count": 39,
   "metadata": {},
   "outputs": [
    {
     "data": {
      "text/html": [
       "<div>\n",
       "<style scoped>\n",
       "    .dataframe tbody tr th:only-of-type {\n",
       "        vertical-align: middle;\n",
       "    }\n",
       "\n",
       "    .dataframe tbody tr th {\n",
       "        vertical-align: top;\n",
       "    }\n",
       "\n",
       "    .dataframe thead th {\n",
       "        text-align: right;\n",
       "    }\n",
       "</style>\n",
       "<table border=\"1\" class=\"dataframe\">\n",
       "  <thead>\n",
       "    <tr style=\"text-align: right;\">\n",
       "      <th></th>\n",
       "      <th>Year</th>\n",
       "      <th>ID</th>\n",
       "      <th>Department</th>\n",
       "      <th>INSEE_code</th>\n",
       "      <th>Town</th>\n",
       "      <th>Locality</th>\n",
       "      <th>DFCI_coordinate</th>\n",
       "      <th>Signal</th>\n",
       "      <th>Origin</th>\n",
       "      <th>Area</th>\n",
       "    </tr>\n",
       "  </thead>\n",
       "  <tbody>\n",
       "    <tr>\n",
       "      <th>0</th>\n",
       "      <td>1983</td>\n",
       "      <td>1575</td>\n",
       "      <td>2B</td>\n",
       "      <td>2B337</td>\n",
       "      <td>Valle-di-Rostino</td>\n",
       "      <td>VALLE DI ROSTINO</td>\n",
       "      <td>NC64F2</td>\n",
       "      <td>1983-09-08 15:55:00</td>\n",
       "      <td>3.0</td>\n",
       "      <td>30000.000</td>\n",
       "    </tr>\n",
       "    <tr>\n",
       "      <th>1</th>\n",
       "      <td>1981</td>\n",
       "      <td>2838</td>\n",
       "      <td>83</td>\n",
       "      <td>83057</td>\n",
       "      <td>Flassans-sur-Issole</td>\n",
       "      <td>FLASSANS SUR ISSOLE</td>\n",
       "      <td>LD02E2</td>\n",
       "      <td>1981-05-03 17:20:00</td>\n",
       "      <td>3.0</td>\n",
       "      <td>1000.000</td>\n",
       "    </tr>\n",
       "    <tr>\n",
       "      <th>2</th>\n",
       "      <td>1989</td>\n",
       "      <td>6600</td>\n",
       "      <td>11</td>\n",
       "      <td>11421</td>\n",
       "      <td>Villedaigne</td>\n",
       "      <td>NaN</td>\n",
       "      <td>GD40B0</td>\n",
       "      <td>1989-08-07 14:42:00</td>\n",
       "      <td>NaN</td>\n",
       "      <td>0.001</td>\n",
       "    </tr>\n",
       "    <tr>\n",
       "      <th>3</th>\n",
       "      <td>2012</td>\n",
       "      <td>3995</td>\n",
       "      <td>30</td>\n",
       "      <td>30189</td>\n",
       "      <td>Nîmes</td>\n",
       "      <td>NaN</td>\n",
       "      <td>HD66C6</td>\n",
       "      <td>2012-03-12 17:38:00</td>\n",
       "      <td>3.0</td>\n",
       "      <td>0.001</td>\n",
       "    </tr>\n",
       "    <tr>\n",
       "      <th>4</th>\n",
       "      <td>1989</td>\n",
       "      <td>15627</td>\n",
       "      <td>34</td>\n",
       "      <td>34084</td>\n",
       "      <td>Corneilhan</td>\n",
       "      <td>NaN</td>\n",
       "      <td>GD62E1</td>\n",
       "      <td>1989-09-27 17:15:00</td>\n",
       "      <td>NaN</td>\n",
       "      <td>0.001</td>\n",
       "    </tr>\n",
       "    <tr>\n",
       "      <th>5</th>\n",
       "      <td>1979</td>\n",
       "      <td>2091</td>\n",
       "      <td>2B</td>\n",
       "      <td>2B096</td>\n",
       "      <td>Corte</td>\n",
       "      <td>CORTE</td>\n",
       "      <td>T05T06</td>\n",
       "      <td>1979-08-12 12:56:00</td>\n",
       "      <td>NaN</td>\n",
       "      <td>1000.000</td>\n",
       "    </tr>\n",
       "    <tr>\n",
       "      <th>6</th>\n",
       "      <td>1986</td>\n",
       "      <td>13675</td>\n",
       "      <td>66</td>\n",
       "      <td>66136</td>\n",
       "      <td>Perpignan</td>\n",
       "      <td>NaN</td>\n",
       "      <td>GC44A1</td>\n",
       "      <td>1986-07-06 07:46:00</td>\n",
       "      <td>NaN</td>\n",
       "      <td>0.001</td>\n",
       "    </tr>\n",
       "    <tr>\n",
       "      <th>7</th>\n",
       "      <td>1973</td>\n",
       "      <td>1585</td>\n",
       "      <td>30</td>\n",
       "      <td>30217</td>\n",
       "      <td>Rochefort-du-Gard</td>\n",
       "      <td>ROCHEFORT DU GARD</td>\n",
       "      <td>N21N18</td>\n",
       "      <td>1973-09-26 14:35:00</td>\n",
       "      <td>6.0</td>\n",
       "      <td>1000.000</td>\n",
       "    </tr>\n",
       "    <tr>\n",
       "      <th>8</th>\n",
       "      <td>2015</td>\n",
       "      <td>7166</td>\n",
       "      <td>30</td>\n",
       "      <td>30036</td>\n",
       "      <td>Bernis</td>\n",
       "      <td>NaN</td>\n",
       "      <td>HD46L2</td>\n",
       "      <td>2015-11-29 16:13:00</td>\n",
       "      <td>NaN</td>\n",
       "      <td>0.001</td>\n",
       "    </tr>\n",
       "    <tr>\n",
       "      <th>9</th>\n",
       "      <td>1976</td>\n",
       "      <td>3488</td>\n",
       "      <td>11</td>\n",
       "      <td>11427</td>\n",
       "      <td>Villelongue-d'Aude</td>\n",
       "      <td>NaN</td>\n",
       "      <td>J23B28</td>\n",
       "      <td>1976-03-18 12:00:00</td>\n",
       "      <td>NaN</td>\n",
       "      <td>0.001</td>\n",
       "    </tr>\n",
       "  </tbody>\n",
       "</table>\n",
       "</div>"
      ],
      "text/plain": [
       "   Year     ID Department INSEE_code                 Town  \\\n",
       "0  1983   1575         2B      2B337     Valle-di-Rostino   \n",
       "1  1981   2838         83      83057  Flassans-sur-Issole   \n",
       "2  1989   6600         11      11421          Villedaigne   \n",
       "3  2012   3995         30      30189                Nîmes   \n",
       "4  1989  15627         34      34084           Corneilhan   \n",
       "5  1979   2091         2B      2B096                Corte   \n",
       "6  1986  13675         66      66136            Perpignan   \n",
       "7  1973   1585         30      30217    Rochefort-du-Gard   \n",
       "8  2015   7166         30      30036               Bernis   \n",
       "9  1976   3488         11      11427   Villelongue-d'Aude   \n",
       "\n",
       "              Locality DFCI_coordinate              Signal  Origin       Area  \n",
       "0     VALLE DI ROSTINO          NC64F2 1983-09-08 15:55:00     3.0  30000.000  \n",
       "1  FLASSANS SUR ISSOLE          LD02E2 1981-05-03 17:20:00     3.0   1000.000  \n",
       "2                  NaN          GD40B0 1989-08-07 14:42:00     NaN      0.001  \n",
       "3                  NaN          HD66C6 2012-03-12 17:38:00     3.0      0.001  \n",
       "4                  NaN          GD62E1 1989-09-27 17:15:00     NaN      0.001  \n",
       "5                CORTE          T05T06 1979-08-12 12:56:00     NaN   1000.000  \n",
       "6                  NaN          GC44A1 1986-07-06 07:46:00     NaN      0.001  \n",
       "7    ROCHEFORT DU GARD          N21N18 1973-09-26 14:35:00     6.0   1000.000  \n",
       "8                  NaN          HD46L2 2015-11-29 16:13:00     NaN      0.001  \n",
       "9                  NaN          J23B28 1976-03-18 12:00:00     NaN      0.001  "
      ]
     },
     "execution_count": 39,
     "metadata": {},
     "output_type": "execute_result"
    }
   ],
   "source": [
    "fires = pd.concat([X_df, pd.DataFrame({'Area': y_array})], axis=1)\n",
    "fires.head(10)"
   ]
  },
  {
   "cell_type": "code",
   "execution_count": 40,
   "metadata": {},
   "outputs": [
    {
     "data": {
      "text/plain": [
       "<matplotlib.axes._subplots.AxesSubplot at 0x129e0fc50>"
      ]
     },
     "execution_count": 40,
     "metadata": {},
     "output_type": "execute_result"
    },
    {
     "data": {
      "image/png": "[encoded data removed]",
      "text/plain": [
       "<Figure size 432x288 with 1 Axes>"
      ]
     },
     "metadata": {
      "needs_background": "light"
     },
     "output_type": "display_data"
    }
   ],
   "source": [
    "fires.groupby(fires['Signal'].dt.month)['Signal'].count().plot(kind=\"bar\")"
   ]
  },
  {
   "cell_type": "code",
   "execution_count": 41,
   "metadata": {},
   "outputs": [
    {
     "data": {
      "text/plain": [
       "<matplotlib.axes._subplots.AxesSubplot at 0x12cba8e80>"
      ]
     },
     "execution_count": 41,
     "metadata": {},
     "output_type": "execute_result"
    },
    {
     "data": {
      "image/png": "[encoded data removed]",
      "text/plain": [
       "<Figure size 432x288 with 1 Axes>"
      ]
     },
     "metadata": {
      "needs_background": "light"
     },
     "output_type": "display_data"
    }
   ],
   "source": [
    "fires.groupby(fires['Signal'].dt.month)['Area'].sum().plot(kind=\"bar\")"
   ]
  },
  {
   "cell_type": "code",
   "execution_count": 42,
   "metadata": {},
   "outputs": [
    {
     "data": {
      "image/png": "[encoded data removed]",
      "text/plain": [
       "<Figure size 720x576 with 1 Axes>"
      ]
     },
     "metadata": {
      "needs_background": "light"
     },
     "output_type": "display_data"
    }
   ],
   "source": [
    "fig, ax = plt.subplots(figsize=(10,8))\n",
    "ax.set_yscale('log')\n",
    "fires['month'] = fires['Signal'].dt.month\n",
    "fires.boxplot(column=['Area'], by='month', ax=ax)\n",
    "plt.show()\n",
    "plt.close()"
   ]
  },
  {
   "cell_type": "code",
   "execution_count": 43,
   "metadata": {},
   "outputs": [
    {
     "data": {
      "image/png": "[encoded data removed]",
      "text/plain": [
       "<Figure size 864x576 with 1 Axes>"
      ]
     },
     "metadata": {
      "needs_background": "light"
     },
     "output_type": "display_data"
    }
   ],
   "source": [
    "fig, ax = plt.subplots(figsize=(12,8))\n",
    "ax.set_yscale('log')\n",
    "fires.boxplot(column=['Area'], by=['Department'], ax=ax)\n",
    "plt.show()\n",
    "plt.close()"
   ]
  },
  {
   "cell_type": "code",
   "execution_count": 44,
   "metadata": {},
   "outputs": [
    {
     "data": {
      "text/plain": [
       "<matplotlib.axes._subplots.AxesSubplot at 0x12b32dc18>"
      ]
     },
     "execution_count": 44,
     "metadata": {},
     "output_type": "execute_result"
    },
    {
     "data": {
      "image/png": "[encoded data removed]",
      "text/plain": [
       "<Figure size 1152x576 with 1 Axes>"
      ]
     },
     "metadata": {
      "needs_background": "light"
     },
     "output_type": "display_data"
    }
   ],
   "source": [
    "fires.groupby(['month', 'Department'])['Area'].sum().unstack().plot(figsize=(16,8))"
   ]
  },
  {
   "cell_type": "markdown",
   "metadata": {},
   "source": [
    "We can see that there is a clear seasonality over the months of the year, August having the more burnt surfaces. We can also observe that the magnitude depends a lot on the department."
   ]
  },
  {
   "cell_type": "code",
   "execution_count": 45,
   "metadata": {},
   "outputs": [
    {
     "data": {
      "image/png": "[encoded data removed]",
      "text/plain": [
       "<Figure size 864x576 with 1 Axes>"
      ]
     },
     "metadata": {
      "needs_background": "light"
     },
     "output_type": "display_data"
    },
    {
     "data": {
      "image/png": "[encoded data removed]",
      "text/plain": [
       "<Figure size 864x576 with 1 Axes>"
      ]
     },
     "metadata": {
      "needs_background": "light"
     },
     "output_type": "display_data"
    }
   ],
   "source": [
    "plt.figure(figsize=(12,8))\n",
    "fires.groupby(fires['Signal'].dt.year)['Area'].sum().plot(kind=\"bar\")\n",
    "plt.title('Area burnt by fires per year')\n",
    "plt.show()\n",
    "plt.close()\n",
    "plt.figure(figsize=(12,8))\n",
    "fires.groupby(fires['Signal'].dt.year)['Signal'].count().plot(kind=\"bar\")\n",
    "plt.title('Number of declared fires per year')\n",
    "plt.show()\n",
    "plt.close()"
   ]
  },
  {
   "cell_type": "markdown",
   "metadata": {},
   "source": [
    "We observe that even if the number of fires does not necessarily decrease, the sum of burnt areas does. "
   ]
  },
  {
   "cell_type": "code",
   "execution_count": 46,
   "metadata": {},
   "outputs": [
    {
     "data": {
      "text/plain": [
       "Signal\n",
       "1989    3.408530e+08\n",
       "1979    3.215000e+08\n",
       "2003    3.165945e+08\n",
       "1990    2.816880e+08\n",
       "Name: Area, dtype: float64"
      ]
     },
     "metadata": {},
     "output_type": "display_data"
    },
    {
     "data": {
      "text/plain": [
       "Signal\n",
       "1985    11076\n",
       "1989    10754\n",
       "1981    10355\n",
       "1986     9029\n",
       "Name: Area, dtype: int64"
      ]
     },
     "metadata": {},
     "output_type": "display_data"
    }
   ],
   "source": [
    "k = 4\n",
    "display(fires.groupby(fires['Signal'].dt.year)['Area'].sum().sort_values(ascending=False).head(4))\n",
    "display(fires.groupby(fires['Signal'].dt.year)['Area'].count().sort_values(ascending=False).head(4))"
   ]
  },
  {
   "cell_type": "code",
   "execution_count": 47,
   "metadata": {},
   "outputs": [
    {
     "data": {
      "text/plain": [
       "Department\n",
       "2B    1.282521e+09\n",
       "83    7.560702e+08\n",
       "13    5.408969e+08\n",
       "2A    5.015272e+08\n",
       "Name: Area, dtype: float64"
      ]
     },
     "metadata": {},
     "output_type": "display_data"
    },
    {
     "data": {
      "text/plain": [
       "Department\n",
       "34    49179\n",
       "30    43394\n",
       "13    31878\n",
       "83    25273\n",
       "Name: Area, dtype: int64"
      ]
     },
     "metadata": {},
     "output_type": "display_data"
    }
   ],
   "source": [
    "display(fires.groupby(fires['Department'])['Area'].sum().sort_values(ascending=False).head(4))\n",
    "display(fires.groupby(fires['Department'])['Area'].count().sort_values(ascending=False).head(4))"
   ]
  },
  {
   "cell_type": "markdown",
   "metadata": {},
   "source": [
    "### Weather and fires <a name=\"weather_explo\"></a>"
   ]
  },
  {
   "cell_type": "markdown",
   "metadata": {},
   "source": [
    "_Analysis of the correlation between weather and fires_\n",
    "\n"
   ]
  },
  {
   "cell_type": "code",
   "execution_count": 48,
   "metadata": {},
   "outputs": [
    {
     "data": {
      "text/html": [
       "<div>\n",
       "<style scoped>\n",
       "    .dataframe tbody tr th:only-of-type {\n",
       "        vertical-align: middle;\n",
       "    }\n",
       "\n",
       "    .dataframe tbody tr th {\n",
       "        vertical-align: top;\n",
       "    }\n",
       "\n",
       "    .dataframe thead th {\n",
       "        text-align: right;\n",
       "    }\n",
       "</style>\n",
       "<table border=\"1\" class=\"dataframe\">\n",
       "  <thead>\n",
       "    <tr style=\"text-align: right;\">\n",
       "      <th></th>\n",
       "      <th>date</th>\n",
       "      <th>insee_code</th>\n",
       "      <th>daylight duration (hours)</th>\n",
       "      <th>rainfall (mm)</th>\n",
       "      <th>minimum temperature (celsius)</th>\n",
       "      <th>maximal temperature (celsius)</th>\n",
       "    </tr>\n",
       "  </thead>\n",
       "  <tbody>\n",
       "    <tr>\n",
       "      <th>0</th>\n",
       "      <td>1973-01-01</td>\n",
       "      <td>43157</td>\n",
       "      <td>NaN</td>\n",
       "      <td>NaN</td>\n",
       "      <td>NaN</td>\n",
       "      <td>NaN</td>\n",
       "    </tr>\n",
       "  </tbody>\n",
       "</table>\n",
       "</div>"
      ],
      "text/plain": [
       "         date insee_code  daylight duration (hours)  rainfall (mm)  \\\n",
       "0  1973-01-01      43157                        NaN            NaN   \n",
       "\n",
       "   minimum temperature (celsius)  maximal temperature (celsius)  \n",
       "0                            NaN                            NaN  "
      ]
     },
     "metadata": {},
     "output_type": "display_data"
    },
    {
     "data": {
      "text/html": [
       "<div>\n",
       "<style scoped>\n",
       "    .dataframe tbody tr th:only-of-type {\n",
       "        vertical-align: middle;\n",
       "    }\n",
       "\n",
       "    .dataframe tbody tr th {\n",
       "        vertical-align: top;\n",
       "    }\n",
       "\n",
       "    .dataframe thead th {\n",
       "        text-align: right;\n",
       "    }\n",
       "</style>\n",
       "<table border=\"1\" class=\"dataframe\">\n",
       "  <thead>\n",
       "    <tr style=\"text-align: right;\">\n",
       "      <th></th>\n",
       "      <th>date</th>\n",
       "      <th>insee_code</th>\n",
       "      <th>daylight duration (hours)</th>\n",
       "      <th>rainfall (mm)</th>\n",
       "      <th>minimum temperature (celsius)</th>\n",
       "      <th>maximal temperature (celsius)</th>\n",
       "    </tr>\n",
       "  </thead>\n",
       "  <tbody>\n",
       "    <tr>\n",
       "      <th>206315</th>\n",
       "      <td>2020-01-27</td>\n",
       "      <td>2B033</td>\n",
       "      <td>7.0</td>\n",
       "      <td>0.0</td>\n",
       "      <td>5.5</td>\n",
       "      <td>15.5</td>\n",
       "    </tr>\n",
       "  </tbody>\n",
       "</table>\n",
       "</div>"
      ],
      "text/plain": [
       "              date insee_code  daylight duration (hours)  rainfall (mm)  \\\n",
       "206315  2020-01-27      2B033                        7.0            0.0   \n",
       "\n",
       "        minimum temperature (celsius)  maximal temperature (celsius)  \n",
       "206315                            5.5                           15.5  "
      ]
     },
     "metadata": {},
     "output_type": "display_data"
    },
    {
     "data": {
      "text/plain": [
       "(206316, 6)"
      ]
     },
     "metadata": {},
     "output_type": "display_data"
    }
   ],
   "source": [
    "weather_old = pd.read_csv(\"./data/meteo_stations.csv\", sep=\";\", low_memory=False)\n",
    "display(weather_old.head(1))\n",
    "display(weather_old.tail(1))\n",
    "display(weather_old.shape)"
   ]
  },
  {
   "cell_type": "code",
   "execution_count": 49,
   "metadata": {},
   "outputs": [
    {
     "data": {
      "text/plain": [
       "date                              object\n",
       "insee_code                        object\n",
       "daylight duration (hours)        float64\n",
       "rainfall (mm)                    float64\n",
       "minimum temperature (celsius)    float64\n",
       "maximal temperature (celsius)    float64\n",
       "dtype: object"
      ]
     },
     "execution_count": 49,
     "metadata": {},
     "output_type": "execute_result"
    }
   ],
   "source": [
    "weather_old.dtypes"
   ]
  },
  {
   "cell_type": "code",
   "execution_count": 50,
   "metadata": {},
   "outputs": [
    {
     "data": {
      "text/html": [
       "<div>\n",
       "<style scoped>\n",
       "    .dataframe tbody tr th:only-of-type {\n",
       "        vertical-align: middle;\n",
       "    }\n",
       "\n",
       "    .dataframe tbody tr th {\n",
       "        vertical-align: top;\n",
       "    }\n",
       "\n",
       "    .dataframe thead th {\n",
       "        text-align: right;\n",
       "    }\n",
       "</style>\n",
       "<table border=\"1\" class=\"dataframe\">\n",
       "  <thead>\n",
       "    <tr style=\"text-align: right;\">\n",
       "      <th></th>\n",
       "      <th>daylight duration (hours)</th>\n",
       "      <th>rainfall (mm)</th>\n",
       "      <th>minimum temperature (celsius)</th>\n",
       "      <th>maximal temperature (celsius)</th>\n",
       "    </tr>\n",
       "  </thead>\n",
       "  <tbody>\n",
       "    <tr>\n",
       "      <th>count</th>\n",
       "      <td>190395.000000</td>\n",
       "      <td>190364.000000</td>\n",
       "      <td>190303.000000</td>\n",
       "      <td>190303.000000</td>\n",
       "    </tr>\n",
       "    <tr>\n",
       "      <th>mean</th>\n",
       "      <td>6.866598</td>\n",
       "      <td>1.922823</td>\n",
       "      <td>9.368944</td>\n",
       "      <td>18.624328</td>\n",
       "    </tr>\n",
       "    <tr>\n",
       "      <th>std</th>\n",
       "      <td>4.350167</td>\n",
       "      <td>6.844834</td>\n",
       "      <td>6.746829</td>\n",
       "      <td>7.527216</td>\n",
       "    </tr>\n",
       "    <tr>\n",
       "      <th>min</th>\n",
       "      <td>0.000000</td>\n",
       "      <td>0.000000</td>\n",
       "      <td>-23.200000</td>\n",
       "      <td>-14.600000</td>\n",
       "    </tr>\n",
       "    <tr>\n",
       "      <th>25%</th>\n",
       "      <td>3.000000</td>\n",
       "      <td>0.000000</td>\n",
       "      <td>4.700000</td>\n",
       "      <td>13.300000</td>\n",
       "    </tr>\n",
       "    <tr>\n",
       "      <th>50%</th>\n",
       "      <td>7.000000</td>\n",
       "      <td>0.000000</td>\n",
       "      <td>9.300000</td>\n",
       "      <td>18.300000</td>\n",
       "    </tr>\n",
       "    <tr>\n",
       "      <th>75%</th>\n",
       "      <td>10.000000</td>\n",
       "      <td>0.400000</td>\n",
       "      <td>14.600000</td>\n",
       "      <td>24.600000</td>\n",
       "    </tr>\n",
       "    <tr>\n",
       "      <th>max</th>\n",
       "      <td>15.000000</td>\n",
       "      <td>299.500000</td>\n",
       "      <td>30.300000</td>\n",
       "      <td>43.500000</td>\n",
       "    </tr>\n",
       "  </tbody>\n",
       "</table>\n",
       "</div>"
      ],
      "text/plain": [
       "       daylight duration (hours)  rainfall (mm)  \\\n",
       "count              190395.000000  190364.000000   \n",
       "mean                    6.866598       1.922823   \n",
       "std                     4.350167       6.844834   \n",
       "min                     0.000000       0.000000   \n",
       "25%                     3.000000       0.000000   \n",
       "50%                     7.000000       0.000000   \n",
       "75%                    10.000000       0.400000   \n",
       "max                    15.000000     299.500000   \n",
       "\n",
       "       minimum temperature (celsius)  maximal temperature (celsius)  \n",
       "count                  190303.000000                  190303.000000  \n",
       "mean                        9.368944                      18.624328  \n",
       "std                         6.746829                       7.527216  \n",
       "min                       -23.200000                     -14.600000  \n",
       "25%                         4.700000                      13.300000  \n",
       "50%                         9.300000                      18.300000  \n",
       "75%                        14.600000                      24.600000  \n",
       "max                        30.300000                      43.500000  "
      ]
     },
     "execution_count": 50,
     "metadata": {},
     "output_type": "execute_result"
    }
   ],
   "source": [
    "weather_old.describe()"
   ]
  },
  {
   "cell_type": "code",
   "execution_count": 51,
   "metadata": {},
   "outputs": [],
   "source": [
    "weather_old['date'] = pd.to_datetime(weather_old['date'], format='%Y-%m-%d')"
   ]
  },
  {
   "cell_type": "code",
   "execution_count": 52,
   "metadata": {},
   "outputs": [
    {
     "data": {
      "text/plain": [
       "(Timestamp('1973-01-01 00:00:00'), Timestamp('1973-01-01 00:00:00'))"
      ]
     },
     "execution_count": 52,
     "metadata": {},
     "output_type": "execute_result"
    }
   ],
   "source": [
    "weather_old[pd.notna(weather_old['daylight duration (hours)'])]['date'].min(), weather_old['date'].min()"
   ]
  },
  {
   "cell_type": "code",
   "execution_count": 55,
   "metadata": {},
   "outputs": [],
   "source": [
    "stations = pd.read_csv(\"./data/stations.csv\", sep=\";\")"
   ]
  },
  {
   "cell_type": "code",
   "execution_count": 56,
   "metadata": {},
   "outputs": [
    {
     "data": {
      "text/html": [
       "<div>\n",
       "<style scoped>\n",
       "    .dataframe tbody tr th:only-of-type {\n",
       "        vertical-align: middle;\n",
       "    }\n",
       "\n",
       "    .dataframe tbody tr th {\n",
       "        vertical-align: top;\n",
       "    }\n",
       "\n",
       "    .dataframe thead th {\n",
       "        text-align: right;\n",
       "    }\n",
       "</style>\n",
       "<table border=\"1\" class=\"dataframe\">\n",
       "  <thead>\n",
       "    <tr style=\"text-align: right;\">\n",
       "      <th></th>\n",
       "      <th>ID</th>\n",
       "      <th>Name</th>\n",
       "      <th>Latitude</th>\n",
       "      <th>Longitude</th>\n",
       "      <th>Altitude</th>\n",
       "      <th>Interest</th>\n",
       "    </tr>\n",
       "  </thead>\n",
       "  <tbody>\n",
       "    <tr>\n",
       "      <th>0</th>\n",
       "      <td>7005</td>\n",
       "      <td>ABBEVILLE</td>\n",
       "      <td>50.136000</td>\n",
       "      <td>1.834000</td>\n",
       "      <td>69</td>\n",
       "      <td>NO</td>\n",
       "    </tr>\n",
       "    <tr>\n",
       "      <th>1</th>\n",
       "      <td>7015</td>\n",
       "      <td>LILLE-LESQUIN</td>\n",
       "      <td>50.570000</td>\n",
       "      <td>3.097500</td>\n",
       "      <td>47</td>\n",
       "      <td>NO</td>\n",
       "    </tr>\n",
       "    <tr>\n",
       "      <th>2</th>\n",
       "      <td>7020</td>\n",
       "      <td>PTE DE LA HAGUE</td>\n",
       "      <td>49.725167</td>\n",
       "      <td>-1.939833</td>\n",
       "      <td>6</td>\n",
       "      <td>NO</td>\n",
       "    </tr>\n",
       "    <tr>\n",
       "      <th>3</th>\n",
       "      <td>7027</td>\n",
       "      <td>CAEN-CARPIQUET</td>\n",
       "      <td>49.180000</td>\n",
       "      <td>-0.456167</td>\n",
       "      <td>67</td>\n",
       "      <td>NO</td>\n",
       "    </tr>\n",
       "    <tr>\n",
       "      <th>4</th>\n",
       "      <td>7037</td>\n",
       "      <td>ROUEN-BOOS</td>\n",
       "      <td>49.383000</td>\n",
       "      <td>1.181667</td>\n",
       "      <td>151</td>\n",
       "      <td>NO</td>\n",
       "    </tr>\n",
       "  </tbody>\n",
       "</table>\n",
       "</div>"
      ],
      "text/plain": [
       "     ID             Name   Latitude  Longitude  Altitude Interest\n",
       "0  7005        ABBEVILLE  50.136000   1.834000        69       NO\n",
       "1  7015    LILLE-LESQUIN  50.570000   3.097500        47       NO\n",
       "2  7020  PTE DE LA HAGUE  49.725167  -1.939833         6       NO\n",
       "3  7027   CAEN-CARPIQUET  49.180000  -0.456167        67       NO\n",
       "4  7037       ROUEN-BOOS  49.383000   1.181667       151       NO"
      ]
     },
     "execution_count": 56,
     "metadata": {},
     "output_type": "execute_result"
    }
   ],
   "source": [
    "stations.head()"
   ]
  },
  {
   "cell_type": "markdown",
   "metadata": {},
   "source": [
    "The insee codes are not included and should be found by the challenger, a simple search in your favorite search engine might do the trick!"
   ]
  },
  {
   "cell_type": "code",
   "execution_count": 57,
   "metadata": {},
   "outputs": [
    {
     "data": {
      "text/html": [
       "<div>\n",
       "<style scoped>\n",
       "    .dataframe tbody tr th:only-of-type {\n",
       "        vertical-align: middle;\n",
       "    }\n",
       "\n",
       "    .dataframe tbody tr th {\n",
       "        vertical-align: top;\n",
       "    }\n",
       "\n",
       "    .dataframe thead th {\n",
       "        text-align: right;\n",
       "    }\n",
       "</style>\n",
       "<table border=\"1\" class=\"dataframe\">\n",
       "  <thead>\n",
       "    <tr style=\"text-align: right;\">\n",
       "      <th></th>\n",
       "      <th>numer_sta</th>\n",
       "      <th>date</th>\n",
       "      <th>pmer</th>\n",
       "      <th>tend</th>\n",
       "      <th>cod_tend</th>\n",
       "      <th>dd</th>\n",
       "      <th>ff</th>\n",
       "      <th>t</th>\n",
       "      <th>td</th>\n",
       "      <th>u</th>\n",
       "      <th>...</th>\n",
       "      <th>nnuage2</th>\n",
       "      <th>ctype2</th>\n",
       "      <th>hnuage2</th>\n",
       "      <th>nnuage3</th>\n",
       "      <th>ctype3</th>\n",
       "      <th>hnuage3</th>\n",
       "      <th>nnuage4</th>\n",
       "      <th>ctype4</th>\n",
       "      <th>hnuage4</th>\n",
       "      <th>Unnamed: 59</th>\n",
       "    </tr>\n",
       "  </thead>\n",
       "  <tbody>\n",
       "    <tr>\n",
       "      <th>0</th>\n",
       "      <td>7005</td>\n",
       "      <td>19960101000000</td>\n",
       "      <td>100030</td>\n",
       "      <td>100</td>\n",
       "      <td>1</td>\n",
       "      <td>170</td>\n",
       "      <td>2.000000</td>\n",
       "      <td>276.040000</td>\n",
       "      <td>275.950000</td>\n",
       "      <td>99</td>\n",
       "      <td>...</td>\n",
       "      <td>mq</td>\n",
       "      <td>mq</td>\n",
       "      <td>mq</td>\n",
       "      <td>mq</td>\n",
       "      <td>mq</td>\n",
       "      <td>mq</td>\n",
       "      <td>mq</td>\n",
       "      <td>mq</td>\n",
       "      <td>mq</td>\n",
       "      <td>NaN</td>\n",
       "    </tr>\n",
       "  </tbody>\n",
       "</table>\n",
       "<p>1 rows × 60 columns</p>\n",
       "</div>"
      ],
      "text/plain": [
       "   numer_sta            date    pmer tend cod_tend   dd        ff           t  \\\n",
       "0       7005  19960101000000  100030  100        1  170  2.000000  276.040000   \n",
       "\n",
       "           td   u  ... nnuage2 ctype2 hnuage2 nnuage3 ctype3 hnuage3 nnuage4  \\\n",
       "0  275.950000  99  ...      mq     mq      mq      mq     mq      mq      mq   \n",
       "\n",
       "  ctype4 hnuage4 Unnamed: 59  \n",
       "0     mq      mq         NaN  \n",
       "\n",
       "[1 rows x 60 columns]"
      ]
     },
     "metadata": {},
     "output_type": "display_data"
    },
    {
     "data": {
      "text/plain": [
       "(4030576, 60)"
      ]
     },
     "metadata": {},
     "output_type": "display_data"
    }
   ],
   "source": [
    "weather_mid = pd.read_csv(\"./data/mf_aglomerated.csv\", sep=\",\", low_memory=False)\n",
    "display(weather_mid.head(1))\n",
    "display(weather_mid.shape)"
   ]
  },
  {
   "cell_type": "code",
   "execution_count": 58,
   "metadata": {},
   "outputs": [
    {
     "data": {
      "text/html": [
       "<div>\n",
       "<style scoped>\n",
       "    .dataframe tbody tr th:only-of-type {\n",
       "        vertical-align: middle;\n",
       "    }\n",
       "\n",
       "    .dataframe tbody tr th {\n",
       "        vertical-align: top;\n",
       "    }\n",
       "\n",
       "    .dataframe thead th {\n",
       "        text-align: right;\n",
       "    }\n",
       "</style>\n",
       "<table border=\"1\" class=\"dataframe\">\n",
       "  <thead>\n",
       "    <tr style=\"text-align: right;\">\n",
       "      <th></th>\n",
       "      <th>numer_sta</th>\n",
       "      <th>Unnamed: 59</th>\n",
       "    </tr>\n",
       "  </thead>\n",
       "  <tbody>\n",
       "    <tr>\n",
       "      <th>count</th>\n",
       "      <td>4.030576e+06</td>\n",
       "      <td>0.0</td>\n",
       "    </tr>\n",
       "    <tr>\n",
       "      <th>mean</th>\n",
       "      <td>2.589927e+04</td>\n",
       "      <td>NaN</td>\n",
       "    </tr>\n",
       "    <tr>\n",
       "      <th>std</th>\n",
       "      <td>2.967242e+04</td>\n",
       "      <td>NaN</td>\n",
       "    </tr>\n",
       "    <tr>\n",
       "      <th>min</th>\n",
       "      <td>7.005000e+03</td>\n",
       "      <td>NaN</td>\n",
       "    </tr>\n",
       "    <tr>\n",
       "      <th>25%</th>\n",
       "      <td>7.222000e+03</td>\n",
       "      <td>NaN</td>\n",
       "    </tr>\n",
       "    <tr>\n",
       "      <th>50%</th>\n",
       "      <td>7.577000e+03</td>\n",
       "      <td>NaN</td>\n",
       "    </tr>\n",
       "    <tr>\n",
       "      <th>75%</th>\n",
       "      <td>6.197200e+04</td>\n",
       "      <td>NaN</td>\n",
       "    </tr>\n",
       "    <tr>\n",
       "      <th>max</th>\n",
       "      <td>8.964200e+04</td>\n",
       "      <td>NaN</td>\n",
       "    </tr>\n",
       "  </tbody>\n",
       "</table>\n",
       "</div>"
      ],
      "text/plain": [
       "          numer_sta  Unnamed: 59\n",
       "count  4.030576e+06          0.0\n",
       "mean   2.589927e+04          NaN\n",
       "std    2.967242e+04          NaN\n",
       "min    7.005000e+03          NaN\n",
       "25%    7.222000e+03          NaN\n",
       "50%    7.577000e+03          NaN\n",
       "75%    6.197200e+04          NaN\n",
       "max    8.964200e+04          NaN"
      ]
     },
     "execution_count": 58,
     "metadata": {},
     "output_type": "execute_result"
    }
   ],
   "source": [
    "weather_mid['date'] = pd.to_datetime(weather_mid['date'])\n",
    "weather_mid.describe()"
   ]
  },
  {
   "cell_type": "code",
   "execution_count": 59,
   "metadata": {},
   "outputs": [
    {
     "data": {
      "text/html": [
       "<div>\n",
       "<style scoped>\n",
       "    .dataframe tbody tr th:only-of-type {\n",
       "        vertical-align: middle;\n",
       "    }\n",
       "\n",
       "    .dataframe tbody tr th {\n",
       "        vertical-align: top;\n",
       "    }\n",
       "\n",
       "    .dataframe thead th {\n",
       "        text-align: right;\n",
       "    }\n",
       "</style>\n",
       "<table border=\"1\" class=\"dataframe\">\n",
       "  <thead>\n",
       "    <tr style=\"text-align: right;\">\n",
       "      <th></th>\n",
       "      <th>ID OMM station</th>\n",
       "      <th>Date</th>\n",
       "      <th>Pression au niveau mer</th>\n",
       "      <th>Variation de pression en 3 heures</th>\n",
       "      <th>Type de tendance barométrique</th>\n",
       "      <th>Direction du vent moyen 10 mn</th>\n",
       "      <th>Vitesse du vent moyen 10 mn</th>\n",
       "      <th>Température</th>\n",
       "      <th>Point de rosée</th>\n",
       "      <th>Humidité</th>\n",
       "      <th>...</th>\n",
       "      <th>Longitude</th>\n",
       "      <th>Latitude</th>\n",
       "      <th>communes (name)</th>\n",
       "      <th>communes (code)</th>\n",
       "      <th>EPCI (name)</th>\n",
       "      <th>EPCI (code)</th>\n",
       "      <th>department (name)</th>\n",
       "      <th>department (code)</th>\n",
       "      <th>region (name)</th>\n",
       "      <th>region (code)</th>\n",
       "    </tr>\n",
       "  </thead>\n",
       "  <tbody>\n",
       "    <tr>\n",
       "      <th>0</th>\n",
       "      <td>7117</td>\n",
       "      <td>2013-08-24T17:00:00+02:00</td>\n",
       "      <td>101820.0</td>\n",
       "      <td>-30.0</td>\n",
       "      <td>8.0</td>\n",
       "      <td>280.0</td>\n",
       "      <td>7.2</td>\n",
       "      <td>291.05</td>\n",
       "      <td>282.65</td>\n",
       "      <td>58.0</td>\n",
       "      <td>...</td>\n",
       "      <td>-3.473167</td>\n",
       "      <td>48.825833</td>\n",
       "      <td>Perros-Guirec</td>\n",
       "      <td>22168</td>\n",
       "      <td>CA Lannion-Trégor Communauté</td>\n",
       "      <td>200065928.0</td>\n",
       "      <td>Côtes-d'Armor</td>\n",
       "      <td>22</td>\n",
       "      <td>Bretagne</td>\n",
       "      <td>53.0</td>\n",
       "    </tr>\n",
       "  </tbody>\n",
       "</table>\n",
       "<p>1 rows × 81 columns</p>\n",
       "</div>"
      ],
      "text/plain": [
       "   ID OMM station                       Date  Pression au niveau mer  \\\n",
       "0            7117  2013-08-24T17:00:00+02:00                101820.0   \n",
       "\n",
       "   Variation de pression en 3 heures  Type de tendance barométrique  \\\n",
       "0                              -30.0                            8.0   \n",
       "\n",
       "   Direction du vent moyen 10 mn  Vitesse du vent moyen 10 mn  Température  \\\n",
       "0                          280.0                          7.2       291.05   \n",
       "\n",
       "   Point de rosée  Humidité  ...  Longitude   Latitude communes (name)  \\\n",
       "0          282.65      58.0  ...  -3.473167  48.825833   Perros-Guirec   \n",
       "\n",
       "   communes (code)                   EPCI (name)  EPCI (code)  \\\n",
       "0            22168  CA Lannion-Trégor Communauté  200065928.0   \n",
       "\n",
       "   department (name)  department (code)  region (name)  region (code)  \n",
       "0      Côtes-d'Armor                 22       Bretagne           53.0  \n",
       "\n",
       "[1 rows x 81 columns]"
      ]
     },
     "metadata": {},
     "output_type": "display_data"
    },
    {
     "data": {
      "text/plain": [
       "(1653389, 81)"
      ]
     },
     "metadata": {},
     "output_type": "display_data"
    }
   ],
   "source": [
    "weather_recent = pd.read_csv(\"./data/synop.csv\", sep=\";\", low_memory=False)\n",
    "display(weather_recent.head(1))\n",
    "display(weather_recent.shape)"
   ]
  },
  {
   "cell_type": "code",
   "execution_count": 60,
   "metadata": {},
   "outputs": [
    {
     "data": {
      "text/plain": [
       "ID OMM station                         int64\n",
       "Date                                  object\n",
       "Pression au niveau mer               float64\n",
       "Variation de pression en 3 heures    float64\n",
       "Type de tendance barométrique        float64\n",
       "                                      ...   \n",
       "EPCI (code)                          float64\n",
       "department (name)                     object\n",
       "department (code)                     object\n",
       "region (name)                         object\n",
       "region (code)                        float64\n",
       "Length: 81, dtype: object"
      ]
     },
     "execution_count": 60,
     "metadata": {},
     "output_type": "execute_result"
    }
   ],
   "source": [
    "weather_recent.dtypes"
   ]
  },
  {
   "cell_type": "code",
   "execution_count": 61,
   "metadata": {},
   "outputs": [],
   "source": [
    "weather_recent['Date'] = pd.to_datetime(weather_recent['Date'], format='%Y-%m-%dT%H:%M:%S', utc=True)"
   ]
  },
  {
   "cell_type": "code",
   "execution_count": 62,
   "metadata": {},
   "outputs": [
    {
     "data": {
      "text/plain": [
       "ID OMM station                                     int64\n",
       "Date                                 datetime64[ns, UTC]\n",
       "Pression au niveau mer                           float64\n",
       "Variation de pression en 3 heures                float64\n",
       "Type de tendance barométrique                    float64\n",
       "                                            ...         \n",
       "EPCI (code)                                      float64\n",
       "department (name)                                 object\n",
       "department (code)                                 object\n",
       "region (name)                                     object\n",
       "region (code)                                    float64\n",
       "Length: 81, dtype: object"
      ]
     },
     "execution_count": 62,
     "metadata": {},
     "output_type": "execute_result"
    }
   ],
   "source": [
    "weather_recent.dtypes"
   ]
  },
  {
   "cell_type": "code",
   "execution_count": 63,
   "metadata": {},
   "outputs": [
    {
     "data": {
      "text/html": [
       "<div>\n",
       "<style scoped>\n",
       "    .dataframe tbody tr th:only-of-type {\n",
       "        vertical-align: middle;\n",
       "    }\n",
       "\n",
       "    .dataframe tbody tr th {\n",
       "        vertical-align: top;\n",
       "    }\n",
       "\n",
       "    .dataframe thead th {\n",
       "        text-align: right;\n",
       "    }\n",
       "</style>\n",
       "<table border=\"1\" class=\"dataframe\">\n",
       "  <thead>\n",
       "    <tr style=\"text-align: right;\">\n",
       "      <th></th>\n",
       "      <th>ID OMM station</th>\n",
       "      <th>Pression au niveau mer</th>\n",
       "      <th>Variation de pression en 3 heures</th>\n",
       "      <th>Type de tendance barométrique</th>\n",
       "      <th>Direction du vent moyen 10 mn</th>\n",
       "      <th>Vitesse du vent moyen 10 mn</th>\n",
       "      <th>Température</th>\n",
       "      <th>Point de rosée</th>\n",
       "      <th>Humidité</th>\n",
       "      <th>Visibilité horizontale</th>\n",
       "      <th>...</th>\n",
       "      <th>Température minimale sur 12 heures (°C)</th>\n",
       "      <th>Température minimale sur 24 heures (°C)</th>\n",
       "      <th>Température maximale sur 12 heures (°C)</th>\n",
       "      <th>Température maximale sur 24 heures (°C)</th>\n",
       "      <th>Température minimale du sol sur 12 heures (en °C)</th>\n",
       "      <th>Altitude</th>\n",
       "      <th>Longitude</th>\n",
       "      <th>Latitude</th>\n",
       "      <th>EPCI (code)</th>\n",
       "      <th>region (code)</th>\n",
       "    </tr>\n",
       "  </thead>\n",
       "  <tbody>\n",
       "    <tr>\n",
       "      <th>count</th>\n",
       "      <td>1.653389e+06</td>\n",
       "      <td>1.580393e+06</td>\n",
       "      <td>1.474931e+06</td>\n",
       "      <td>1.446837e+06</td>\n",
       "      <td>1.633183e+06</td>\n",
       "      <td>1.633772e+06</td>\n",
       "      <td>1.650329e+06</td>\n",
       "      <td>1.645244e+06</td>\n",
       "      <td>1.644462e+06</td>\n",
       "      <td>1.274058e+06</td>\n",
       "      <td>...</td>\n",
       "      <td>350114.000000</td>\n",
       "      <td>84673.000000</td>\n",
       "      <td>350620.000000</td>\n",
       "      <td>83072.000000</td>\n",
       "      <td>570850.000000</td>\n",
       "      <td>1.653389e+06</td>\n",
       "      <td>1.653389e+06</td>\n",
       "      <td>1.653389e+06</td>\n",
       "      <td>1.435401e+06</td>\n",
       "      <td>1.435401e+06</td>\n",
       "    </tr>\n",
       "    <tr>\n",
       "      <th>mean</th>\n",
       "      <td>2.528283e+04</td>\n",
       "      <td>1.015440e+05</td>\n",
       "      <td>3.822172e+00</td>\n",
       "      <td>4.295938e+00</td>\n",
       "      <td>1.762570e+02</td>\n",
       "      <td>4.067414e+00</td>\n",
       "      <td>2.878136e+02</td>\n",
       "      <td>2.830603e+02</td>\n",
       "      <td>7.560130e+01</td>\n",
       "      <td>2.523546e+04</td>\n",
       "      <td>...</td>\n",
       "      <td>10.033873</td>\n",
       "      <td>22.247580</td>\n",
       "      <td>16.389621</td>\n",
       "      <td>29.544607</td>\n",
       "      <td>8.963092</td>\n",
       "      <td>1.336940e+02</td>\n",
       "      <td>3.159661e+00</td>\n",
       "      <td>3.096299e+01</td>\n",
       "      <td>2.259143e+08</td>\n",
       "      <td>5.115588e+01</td>\n",
       "    </tr>\n",
       "    <tr>\n",
       "      <th>std</th>\n",
       "      <td>2.941360e+04</td>\n",
       "      <td>9.196019e+02</td>\n",
       "      <td>1.252678e+02</td>\n",
       "      <td>2.712296e+00</td>\n",
       "      <td>1.069444e+02</td>\n",
       "      <td>3.197783e+00</td>\n",
       "      <td>9.339636e+00</td>\n",
       "      <td>8.866599e+00</td>\n",
       "      <td>1.682742e+01</td>\n",
       "      <td>1.690684e+04</td>\n",
       "      <td>...</td>\n",
       "      <td>8.241921</td>\n",
       "      <td>5.817736</td>\n",
       "      <td>9.171747</td>\n",
       "      <td>5.412550</td>\n",
       "      <td>7.030683</td>\n",
       "      <td>1.908873e+02</td>\n",
       "      <td>3.390127e+01</td>\n",
       "      <td>2.884785e+01</td>\n",
       "      <td>2.257746e+07</td>\n",
       "      <td>3.108352e+01</td>\n",
       "    </tr>\n",
       "    <tr>\n",
       "      <th>min</th>\n",
       "      <td>7.005000e+03</td>\n",
       "      <td>9.385000e+04</td>\n",
       "      <td>-2.190000e+03</td>\n",
       "      <td>0.000000e+00</td>\n",
       "      <td>0.000000e+00</td>\n",
       "      <td>0.000000e+00</td>\n",
       "      <td>2.387500e+02</td>\n",
       "      <td>2.232500e+02</td>\n",
       "      <td>1.000000e+00</td>\n",
       "      <td>0.000000e+00</td>\n",
       "      <td>...</td>\n",
       "      <td>-267.780000</td>\n",
       "      <td>-13.800000</td>\n",
       "      <td>-31.600000</td>\n",
       "      <td>-11.100000</td>\n",
       "      <td>-26.000000</td>\n",
       "      <td>2.000000e+00</td>\n",
       "      <td>-6.285217e+01</td>\n",
       "      <td>-6.666317e+01</td>\n",
       "      <td>2.000187e+08</td>\n",
       "      <td>1.000000e+00</td>\n",
       "    </tr>\n",
       "    <tr>\n",
       "      <th>25%</th>\n",
       "      <td>7.207000e+03</td>\n",
       "      <td>1.011400e+05</td>\n",
       "      <td>-7.000000e+01</td>\n",
       "      <td>2.000000e+00</td>\n",
       "      <td>8.000000e+01</td>\n",
       "      <td>1.800000e+00</td>\n",
       "      <td>2.812500e+02</td>\n",
       "      <td>2.774500e+02</td>\n",
       "      <td>6.500000e+01</td>\n",
       "      <td>1.330000e+04</td>\n",
       "      <td>...</td>\n",
       "      <td>4.700000</td>\n",
       "      <td>22.200000</td>\n",
       "      <td>10.200000</td>\n",
       "      <td>29.000000</td>\n",
       "      <td>3.800000</td>\n",
       "      <td>1.100000e+01</td>\n",
       "      <td>-1.411500e+00</td>\n",
       "      <td>1.626400e+01</td>\n",
       "      <td>2.000661e+08</td>\n",
       "      <td>2.800000e+01</td>\n",
       "    </tr>\n",
       "    <tr>\n",
       "      <th>50%</th>\n",
       "      <td>7.577000e+03</td>\n",
       "      <td>1.015700e+05</td>\n",
       "      <td>0.000000e+00</td>\n",
       "      <td>3.000000e+00</td>\n",
       "      <td>1.800000e+02</td>\n",
       "      <td>3.300000e+00</td>\n",
       "      <td>2.873500e+02</td>\n",
       "      <td>2.828500e+02</td>\n",
       "      <td>7.800000e+01</td>\n",
       "      <td>2.000000e+04</td>\n",
       "      <td>...</td>\n",
       "      <td>9.900000</td>\n",
       "      <td>23.400000</td>\n",
       "      <td>16.100000</td>\n",
       "      <td>30.600000</td>\n",
       "      <td>8.500000</td>\n",
       "      <td>5.900000e+01</td>\n",
       "      <td>2.384333e+00</td>\n",
       "      <td>4.458117e+01</td>\n",
       "      <td>2.420101e+08</td>\n",
       "      <td>5.300000e+01</td>\n",
       "    </tr>\n",
       "    <tr>\n",
       "      <th>75%</th>\n",
       "      <td>6.197200e+04</td>\n",
       "      <td>1.020700e+05</td>\n",
       "      <td>8.000000e+01</td>\n",
       "      <td>7.000000e+00</td>\n",
       "      <td>2.700000e+02</td>\n",
       "      <td>5.600000e+00</td>\n",
       "      <td>2.957500e+02</td>\n",
       "      <td>2.889500e+02</td>\n",
       "      <td>8.900000e+01</td>\n",
       "      <td>3.500000e+04</td>\n",
       "      <td>...</td>\n",
       "      <td>15.200000</td>\n",
       "      <td>25.100000</td>\n",
       "      <td>23.000000</td>\n",
       "      <td>32.000000</td>\n",
       "      <td>13.900000</td>\n",
       "      <td>1.510000e+02</td>\n",
       "      <td>5.959833e+00</td>\n",
       "      <td>4.761433e+01</td>\n",
       "      <td>2.459004e+08</td>\n",
       "      <td>7.600000e+01</td>\n",
       "    </tr>\n",
       "    <tr>\n",
       "      <th>max</th>\n",
       "      <td>8.964200e+04</td>\n",
       "      <td>1.091600e+05</td>\n",
       "      <td>2.170000e+03</td>\n",
       "      <td>1.000000e+01</td>\n",
       "      <td>3.600000e+02</td>\n",
       "      <td>9.600000e+01</td>\n",
       "      <td>3.408500e+02</td>\n",
       "      <td>3.730500e+02</td>\n",
       "      <td>1.000000e+02</td>\n",
       "      <td>8.001000e+04</td>\n",
       "      <td>...</td>\n",
       "      <td>47.600000</td>\n",
       "      <td>40.000000</td>\n",
       "      <td>53.500000</td>\n",
       "      <td>40.000000</td>\n",
       "      <td>50.000000</td>\n",
       "      <td>8.710000e+02</td>\n",
       "      <td>1.400010e+02</td>\n",
       "      <td>5.057000e+01</td>\n",
       "      <td>2.497401e+08</td>\n",
       "      <td>9.400000e+01</td>\n",
       "    </tr>\n",
       "  </tbody>\n",
       "</table>\n",
       "<p>8 rows × 68 columns</p>\n",
       "</div>"
      ],
      "text/plain": [
       "       ID OMM station  Pression au niveau mer  \\\n",
       "count    1.653389e+06            1.580393e+06   \n",
       "mean     2.528283e+04            1.015440e+05   \n",
       "std      2.941360e+04            9.196019e+02   \n",
       "min      7.005000e+03            9.385000e+04   \n",
       "25%      7.207000e+03            1.011400e+05   \n",
       "50%      7.577000e+03            1.015700e+05   \n",
       "75%      6.197200e+04            1.020700e+05   \n",
       "max      8.964200e+04            1.091600e+05   \n",
       "\n",
       "       Variation de pression en 3 heures  Type de tendance barométrique  \\\n",
       "count                       1.474931e+06                   1.446837e+06   \n",
       "mean                        3.822172e+00                   4.295938e+00   \n",
       "std                         1.252678e+02                   2.712296e+00   \n",
       "min                        -2.190000e+03                   0.000000e+00   \n",
       "25%                        -7.000000e+01                   2.000000e+00   \n",
       "50%                         0.000000e+00                   3.000000e+00   \n",
       "75%                         8.000000e+01                   7.000000e+00   \n",
       "max                         2.170000e+03                   1.000000e+01   \n",
       "\n",
       "       Direction du vent moyen 10 mn  Vitesse du vent moyen 10 mn  \\\n",
       "count                   1.633183e+06                 1.633772e+06   \n",
       "mean                    1.762570e+02                 4.067414e+00   \n",
       "std                     1.069444e+02                 3.197783e+00   \n",
       "min                     0.000000e+00                 0.000000e+00   \n",
       "25%                     8.000000e+01                 1.800000e+00   \n",
       "50%                     1.800000e+02                 3.300000e+00   \n",
       "75%                     2.700000e+02                 5.600000e+00   \n",
       "max                     3.600000e+02                 9.600000e+01   \n",
       "\n",
       "        Température  Point de rosée      Humidité  Visibilité horizontale  \\\n",
       "count  1.650329e+06    1.645244e+06  1.644462e+06            1.274058e+06   \n",
       "mean   2.878136e+02    2.830603e+02  7.560130e+01            2.523546e+04   \n",
       "std    9.339636e+00    8.866599e+00  1.682742e+01            1.690684e+04   \n",
       "min    2.387500e+02    2.232500e+02  1.000000e+00            0.000000e+00   \n",
       "25%    2.812500e+02    2.774500e+02  6.500000e+01            1.330000e+04   \n",
       "50%    2.873500e+02    2.828500e+02  7.800000e+01            2.000000e+04   \n",
       "75%    2.957500e+02    2.889500e+02  8.900000e+01            3.500000e+04   \n",
       "max    3.408500e+02    3.730500e+02  1.000000e+02            8.001000e+04   \n",
       "\n",
       "       ...  Température minimale sur 12 heures (°C)  \\\n",
       "count  ...                            350114.000000   \n",
       "mean   ...                                10.033873   \n",
       "std    ...                                 8.241921   \n",
       "min    ...                              -267.780000   \n",
       "25%    ...                                 4.700000   \n",
       "50%    ...                                 9.900000   \n",
       "75%    ...                                15.200000   \n",
       "max    ...                                47.600000   \n",
       "\n",
       "       Température minimale sur 24 heures (°C)  \\\n",
       "count                             84673.000000   \n",
       "mean                                 22.247580   \n",
       "std                                   5.817736   \n",
       "min                                 -13.800000   \n",
       "25%                                  22.200000   \n",
       "50%                                  23.400000   \n",
       "75%                                  25.100000   \n",
       "max                                  40.000000   \n",
       "\n",
       "       Température maximale sur 12 heures (°C)  \\\n",
       "count                            350620.000000   \n",
       "mean                                 16.389621   \n",
       "std                                   9.171747   \n",
       "min                                 -31.600000   \n",
       "25%                                  10.200000   \n",
       "50%                                  16.100000   \n",
       "75%                                  23.000000   \n",
       "max                                  53.500000   \n",
       "\n",
       "       Température maximale sur 24 heures (°C)  \\\n",
       "count                             83072.000000   \n",
       "mean                                 29.544607   \n",
       "std                                   5.412550   \n",
       "min                                 -11.100000   \n",
       "25%                                  29.000000   \n",
       "50%                                  30.600000   \n",
       "75%                                  32.000000   \n",
       "max                                  40.000000   \n",
       "\n",
       "       Température minimale du sol sur 12 heures (en °C)      Altitude  \\\n",
       "count                                      570850.000000  1.653389e+06   \n",
       "mean                                            8.963092  1.336940e+02   \n",
       "std                                             7.030683  1.908873e+02   \n",
       "min                                           -26.000000  2.000000e+00   \n",
       "25%                                             3.800000  1.100000e+01   \n",
       "50%                                             8.500000  5.900000e+01   \n",
       "75%                                            13.900000  1.510000e+02   \n",
       "max                                            50.000000  8.710000e+02   \n",
       "\n",
       "          Longitude      Latitude   EPCI (code)  region (code)  \n",
       "count  1.653389e+06  1.653389e+06  1.435401e+06   1.435401e+06  \n",
       "mean   3.159661e+00  3.096299e+01  2.259143e+08   5.115588e+01  \n",
       "std    3.390127e+01  2.884785e+01  2.257746e+07   3.108352e+01  \n",
       "min   -6.285217e+01 -6.666317e+01  2.000187e+08   1.000000e+00  \n",
       "25%   -1.411500e+00  1.626400e+01  2.000661e+08   2.800000e+01  \n",
       "50%    2.384333e+00  4.458117e+01  2.420101e+08   5.300000e+01  \n",
       "75%    5.959833e+00  4.761433e+01  2.459004e+08   7.600000e+01  \n",
       "max    1.400010e+02  5.057000e+01  2.497401e+08   9.400000e+01  \n",
       "\n",
       "[8 rows x 68 columns]"
      ]
     },
     "execution_count": 63,
     "metadata": {},
     "output_type": "execute_result"
    }
   ],
   "source": [
    "weather_recent.describe()"
   ]
  },
  {
   "cell_type": "markdown",
   "metadata": {},
   "source": [
    "### Forest and fires <a name=\"forest_explo\"></a>"
   ]
  },
  {
   "cell_type": "markdown",
   "metadata": {},
   "source": [
    "We will now explore the forests data set in order to have a better idea of what it looks like."
   ]
  },
  {
   "cell_type": "code",
   "execution_count": 64,
   "metadata": {},
   "outputs": [
    {
     "data": {
      "text/html": [
       "<div>\n",
       "<style scoped>\n",
       "    .dataframe tbody tr th:only-of-type {\n",
       "        vertical-align: middle;\n",
       "    }\n",
       "\n",
       "    .dataframe tbody tr th {\n",
       "        vertical-align: top;\n",
       "    }\n",
       "\n",
       "    .dataframe thead th {\n",
       "        text-align: right;\n",
       "    }\n",
       "</style>\n",
       "<table border=\"1\" class=\"dataframe\">\n",
       "  <thead>\n",
       "    <tr style=\"text-align: right;\">\n",
       "      <th></th>\n",
       "      <th>iidtn_frt</th>\n",
       "      <th>llib_frt</th>\n",
       "      <th>cdom_frt</th>\n",
       "      <th>cinse_dep</th>\n",
       "      <th>area</th>\n",
       "      <th>geometry</th>\n",
       "    </tr>\n",
       "  </thead>\n",
       "  <tbody>\n",
       "    <tr>\n",
       "      <th>0</th>\n",
       "      <td>F15417Y</td>\n",
       "      <td>Forêt communale de Ribaute</td>\n",
       "      <td>NON</td>\n",
       "      <td>11</td>\n",
       "      <td>2.169137e+06</td>\n",
       "      <td>MULTIPOLYGON (((2.63829 43.09251, 2.63831 43.0...</td>\n",
       "    </tr>\n",
       "    <tr>\n",
       "      <th>1</th>\n",
       "      <td>F19648R</td>\n",
       "      <td>Forêt domaniale de Cuminailles</td>\n",
       "      <td>OUI</td>\n",
       "      <td>07</td>\n",
       "      <td>2.369028e+06</td>\n",
       "      <td>MULTIPOLYGON (((4.37829 44.86738, 4.37868 44.8...</td>\n",
       "    </tr>\n",
       "    <tr>\n",
       "      <th>2</th>\n",
       "      <td>F15880T</td>\n",
       "      <td>Forêt sectionale d'Arzenc-D'Apcher</td>\n",
       "      <td>NON</td>\n",
       "      <td>48</td>\n",
       "      <td>3.064176e+05</td>\n",
       "      <td>POLYGON ((3.10031 44.85923, 3.10037 44.85932, ...</td>\n",
       "    </tr>\n",
       "    <tr>\n",
       "      <th>3</th>\n",
       "      <td>F15962X</td>\n",
       "      <td>Forêt sectionale du Masseguin</td>\n",
       "      <td>NON</td>\n",
       "      <td>48</td>\n",
       "      <td>1.973640e+05</td>\n",
       "      <td>MULTIPOLYGON (((3.61109 44.49170, 3.61073 44.4...</td>\n",
       "    </tr>\n",
       "    <tr>\n",
       "      <th>4</th>\n",
       "      <td>F16160N</td>\n",
       "      <td>Forêt sectionale de Chams</td>\n",
       "      <td>NON</td>\n",
       "      <td>48</td>\n",
       "      <td>6.343429e+04</td>\n",
       "      <td>POLYGON ((3.65106 44.83361, 3.65165 44.83393, ...</td>\n",
       "    </tr>\n",
       "  </tbody>\n",
       "</table>\n",
       "</div>"
      ],
      "text/plain": [
       "  iidtn_frt                            llib_frt cdom_frt cinse_dep  \\\n",
       "0   F15417Y          Forêt communale de Ribaute      NON        11   \n",
       "1   F19648R      Forêt domaniale de Cuminailles      OUI        07   \n",
       "2   F15880T  Forêt sectionale d'Arzenc-D'Apcher      NON        48   \n",
       "3   F15962X       Forêt sectionale du Masseguin      NON        48   \n",
       "4   F16160N           Forêt sectionale de Chams      NON        48   \n",
       "\n",
       "           area                                           geometry  \n",
       "0  2.169137e+06  MULTIPOLYGON (((2.63829 43.09251, 2.63831 43.0...  \n",
       "1  2.369028e+06  MULTIPOLYGON (((4.37829 44.86738, 4.37868 44.8...  \n",
       "2  3.064176e+05  POLYGON ((3.10031 44.85923, 3.10037 44.85932, ...  \n",
       "3  1.973640e+05  MULTIPOLYGON (((3.61109 44.49170, 3.61073 44.4...  \n",
       "4  6.343429e+04  POLYGON ((3.65106 44.83361, 3.65165 44.83393, ...  "
      ]
     },
     "execution_count": 64,
     "metadata": {},
     "output_type": "execute_result"
    }
   ],
   "source": [
    "import geopandas as gpd\n",
    "\n",
    "forests = gpd.read_file('data/forests.json')\n",
    "forests.head()"
   ]
  },
  {
   "cell_type": "code",
   "execution_count": 65,
   "metadata": {},
   "outputs": [
    {
     "data": {
      "text/plain": [
       "<matplotlib.axes._subplots.AxesSubplot at 0x12455be80>"
      ]
     },
     "execution_count": 65,
     "metadata": {},
     "output_type": "execute_result"
    },
    {
     "data": {
      "image/png": "[encoded data removed]",
      "text/plain": [
       "<Figure size 432x288 with 1 Axes>"
      ]
     },
     "metadata": {
      "needs_background": "light"
     },
     "output_type": "display_data"
    }
   ],
   "source": [
    "departments = forests['cinse_dep'].unique()\n",
    "forests_per_dep = forests[['cinse_dep','area']].groupby('cinse_dep').sum().reset_index()\n",
    "\n",
    "forests_per_dep.plot(kind='bar', x='cinse_dep', title='Forest area per department')"
   ]
  },
  {
   "cell_type": "markdown",
   "metadata": {},
   "source": [
    "This shows that every involved department has at least 50 000 hectares and a maximum of 250 000 hectares of forest. We want now to see if it can be correlated with the area burned over the years, or the number of fires over the years."
   ]
  },
  {
   "cell_type": "code",
   "execution_count": 67,
   "metadata": {},
   "outputs": [
    {
     "data": {
      "text/plain": [
       "<matplotlib.axes._subplots.AxesSubplot at 0x1252685f8>"
      ]
     },
     "execution_count": 67,
     "metadata": {},
     "output_type": "execute_result"
    },
    {
     "data": {
      "image/png": "[encoded data removed]",
      "text/plain": [
       "<Figure size 432x288 with 1 Axes>"
      ]
     },
     "metadata": {
      "needs_background": "light"
     },
     "output_type": "display_data"
    }
   ],
   "source": [
    "target_dep = pd.DataFrame(y_array,columns=['Area'])\n",
    "target_dep['Department'] = X_df['Department']\n",
    "sum_year_depart = target_dep.groupby(['Department']).sum().reset_index()\n",
    "\n",
    "sum_year_depart.plot(x='Department')"
   ]
  },
  {
   "cell_type": "markdown",
   "metadata": {},
   "source": [
    "After this plot, we can ask ourselves if they really is any correlation beetween the area burned over the year and the total forest area per department. First, we need to precise that these are the forest data from today. These forests were not always the same, and they must have changed since 1973. Then, for some of the departments (between 30 to 84), it seems that the area of forest is pretty much correlated to the total area burned since 1973. For other departments however, like Corse departments (2A and 2B) and departments 04 and 05, it is the total opposite: they are respectively the departments with the on the lowest (respectively highest) afforestation rate today and have the highest (respectively lowest) total area burned from 1973. It makes us wander whether the departmenents firefighters have very different modes of action, which must be also imposed by the specifical topography of their departments.\n",
    "\n",
    "Now we want to verify it and see if some departments fight more easily (or better) fires than other by visualizing the number of fires for each department from 1973."
   ]
  },
  {
   "cell_type": "code",
   "execution_count": 69,
   "metadata": {},
   "outputs": [
    {
     "data": {
      "text/plain": [
       "<matplotlib.axes._subplots.AxesSubplot at 0x124e2a6d8>"
      ]
     },
     "execution_count": 69,
     "metadata": {},
     "output_type": "execute_result"
    },
    {
     "data": {
      "image/png": "[encoded data removed]",
      "text/plain": [
       "<Figure size 432x288 with 1 Axes>"
      ]
     },
     "metadata": {
      "needs_background": "light"
     },
     "output_type": "display_data"
    }
   ],
   "source": [
    "count_fires_per_dep = X_df.groupby(['Department'])['Year'].count().reset_index().rename(columns={'Year':'Count'})\n",
    "\n",
    "count_fires_per_dep.plot(x='Department', title='Fire count per department')"
   ]
  },
  {
   "cell_type": "markdown",
   "metadata": {},
   "source": [
    "It seems that some departments are more affected by fires than other. This can be due to a particular vegetation, or different climates. This explains also the last plot, and justifies why the departments 04, 05 have less area burned than other whereas they have a big afforestation rate. However we can see that even if the department 34 has a lot of fires starts, most of them are better controled than in 2B for example, because it has less overall burned area."
   ]
  },
  {
   "cell_type": "code",
   "execution_count": 27,
   "metadata": {},
   "outputs": [
    {
     "data": {
      "text/html": [
       "<div>\n",
       "<style scoped>\n",
       "    .dataframe tbody tr th:only-of-type {\n",
       "        vertical-align: middle;\n",
       "    }\n",
       "\n",
       "    .dataframe tbody tr th {\n",
       "        vertical-align: top;\n",
       "    }\n",
       "\n",
       "    .dataframe thead th {\n",
       "        text-align: right;\n",
       "    }\n",
       "</style>\n",
       "<table border=\"1\" class=\"dataframe\">\n",
       "  <thead>\n",
       "    <tr style=\"text-align: right;\">\n",
       "      <th></th>\n",
       "      <th>Area</th>\n",
       "      <th>area</th>\n",
       "    </tr>\n",
       "  </thead>\n",
       "  <tbody>\n",
       "    <tr>\n",
       "      <td>Area</td>\n",
       "      <td>1.000000</td>\n",
       "      <td>-0.243292</td>\n",
       "    </tr>\n",
       "    <tr>\n",
       "      <td>area</td>\n",
       "      <td>-0.243292</td>\n",
       "      <td>1.000000</td>\n",
       "    </tr>\n",
       "  </tbody>\n",
       "</table>\n",
       "</div>"
      ],
      "text/plain": [
       "          Area      area\n",
       "Area  1.000000 -0.243292\n",
       "area -0.243292  1.000000"
      ]
     },
     "execution_count": 40,
     "metadata": {},
     "output_type": "execute_result"
    }
   ],
   "source": [
    "joint_forests_fires = sum_year_depart.set_index('Department').join(forests_per_dep.set_index('cinse_dep'))\n",
    "\n",
    "joint_forests_fires.corr()"
   ]
  },
  {
   "cell_type": "markdown",
   "metadata": {},
   "source": [
    "## Model  <a name=\"model\"></a>"
   ]
  },
  {
   "cell_type": "markdown",
   "metadata": {},
   "source": [
    "### Baseline model  <a name=\"baseline\"></a>"
   ]
  },
  {
   "cell_type": "markdown",
   "metadata": {},
   "source": [
    "First, we need to transform our date into 6 different columns, so that our regressor can eventually catch a seasonality."
   ]
  },
  {
   "cell_type": "code",
   "execution_count": 44,
   "metadata": {},
   "outputs": [],
   "source": [
    "from sklearn.preprocessing import FunctionTransformer\n",
    "\n",
    "def process_date(X):\n",
    "    date = pd.to_datetime(X['Signal'], format='%Y-%m-%d %H:%M:%S')\n",
    "    return np.c_[date.dt.year, date.dt.month, date.dt.day,\n",
    "                 date.dt.hour, date.dt.minute, date.dt.second]\n",
    "date_transformer = FunctionTransformer(process_date, validate=False)"
   ]
  },
  {
   "cell_type": "markdown",
   "metadata": {},
   "source": [
    "Then, we only keep the numbers in the department column."
   ]
  },
  {
   "cell_type": "code",
   "execution_count": 45,
   "metadata": {},
   "outputs": [],
   "source": [
    "def process_dep(X):\n",
    "    dep_nums = pd.to_numeric(X['Department'], errors='coerce')\n",
    "    return dep_nums.values[:, np.newaxis]\n",
    "dep_transformer = FunctionTransformer(process_dep, validate=False)"
   ]
  },
  {
   "cell_type": "markdown",
   "metadata": {},
   "source": [
    "Again, we only keep the numbers in the INSEE_code column."
   ]
  },
  {
   "cell_type": "code",
   "execution_count": 46,
   "metadata": {},
   "outputs": [],
   "source": [
    "def process_insee(X):\n",
    "    insee_nums = pd.to_numeric(X['INSEE_code'], errors='coerce')\n",
    "    return insee_nums.values[:, np.newaxis]\n",
    "insee_transformer = FunctionTransformer(process_insee, validate=False)"
   ]
  },
  {
   "cell_type": "markdown",
   "metadata": {},
   "source": [
    "For the numeric columns, we only need a transformer that will deal with missing values:"
   ]
  },
  {
   "cell_type": "code",
   "execution_count": 47,
   "metadata": {},
   "outputs": [],
   "source": [
    "from sklearn.impute import SimpleImputer\n",
    "from sklearn.pipeline import Pipeline\n",
    "\n",
    "numeric_transformer = Pipeline(steps=[('impute', SimpleImputer(strategy='median'))])"
   ]
  },
  {
   "cell_type": "markdown",
   "metadata": {},
   "source": [
    "Again, we only keep the numbers in the origin column."
   ]
  },
  {
   "cell_type": "code",
   "execution_count": 48,
   "metadata": {},
   "outputs": [],
   "source": [
    "def process_origin(X):\n",
    "    or_nums = pd.to_numeric(X['Origin'], errors='coerce')\n",
    "    return or_nums.values[:, np.newaxis]\n",
    "origin_transformer = FunctionTransformer(process_origin, validate=False)"
   ]
  },
  {
   "cell_type": "markdown",
   "metadata": {},
   "source": [
    "Now, we need to put together the whole pipeline."
   ]
  },
  {
   "cell_type": "code",
   "execution_count": 49,
   "metadata": {},
   "outputs": [],
   "source": [
    "from sklearn.compose import ColumnTransformer\n",
    "from sklearn.pipeline import make_pipeline\n",
    "\n",
    "num_cols = ['ID', 'Year']\n",
    "insee_col = ['INSEE_code']\n",
    "date_col = ['Signal']\n",
    "dep_col = ['Department']\n",
    "origin_col = ['Origin']\n",
    "\n",
    "preprocessor = ColumnTransformer(\n",
    "    transformers=[\n",
    "        ('date', make_pipeline(date_transformer,\n",
    "                               SimpleImputer(strategy='median')), date_col),\n",
    "        ('dep', make_pipeline(dep_transformer,\n",
    "                              SimpleImputer(strategy='median')), dep_col),\n",
    "        ('insee', make_pipeline(insee_transformer,\n",
    "                                SimpleImputer(strategy='median')), insee_col),\n",
    "        ('num', numeric_transformer, num_cols),\n",
    "        ('origin', make_pipeline(origin_transformer,SimpleImputer(strategy='median')), origin_col),\n",
    "        ])"
   ]
  },
  {
   "cell_type": "markdown",
   "metadata": {},
   "source": [
    "Before trying to train a model with it, we should check that it works correctly:"
   ]
  },
  {
   "cell_type": "code",
   "execution_count": 50,
   "metadata": {},
   "outputs": [
    {
     "data": {
      "text/plain": [
       "array([[1.9830e+03, 9.0000e+00, 8.0000e+00, ..., 1.5750e+03, 1.9830e+03,\n",
       "        3.0000e+00],\n",
       "       [1.9810e+03, 5.0000e+00, 3.0000e+00, ..., 2.8380e+03, 1.9810e+03,\n",
       "        3.0000e+00],\n",
       "       [1.9890e+03, 8.0000e+00, 7.0000e+00, ..., 6.6000e+03, 1.9890e+03,\n",
       "        3.0000e+00],\n",
       "       ...,\n",
       "       [1.9780e+03, 7.0000e+00, 3.0000e+01, ..., 1.4738e+04, 1.9780e+03,\n",
       "        3.0000e+00],\n",
       "       [1.9810e+03, 1.1000e+01, 1.0000e+01, ..., 5.8170e+03, 1.9810e+03,\n",
       "        3.0000e+00],\n",
       "       [2.0140e+03, 8.0000e+00, 1.1000e+01, ..., 4.8700e+03, 2.0140e+03,\n",
       "        3.0000e+00]])"
      ]
     },
     "execution_count": 50,
     "metadata": {},
     "output_type": "execute_result"
    }
   ],
   "source": [
    "preprocessor.fit_transform(X_df)"
   ]
  },
  {
   "cell_type": "markdown",
   "metadata": {},
   "source": [
    "As a first model, we propose a simple random forest regressor."
   ]
  },
  {
   "cell_type": "code",
   "execution_count": 51,
   "metadata": {},
   "outputs": [],
   "source": [
    "from sklearn.ensemble import RandomForestRegressor\n",
    "\n",
    "regressor = RandomForestRegressor(n_estimators=5, max_depth=50, random_state=1000)"
   ]
  },
  {
   "cell_type": "markdown",
   "metadata": {},
   "source": [
    "We need to implement our loss in the notebook so that we can use to assess the performance of our proposition:"
   ]
  },
  {
   "cell_type": "code",
   "execution_count": 52,
   "metadata": {},
   "outputs": [],
   "source": [
    "from sklearn.metrics import make_scorer\n",
    "\n",
    "def loss(y_true, y_pred):\n",
    "    \n",
    "    if isinstance(y_true, pd.Series):\n",
    "        y_true = y_true.values\n",
    "\n",
    "    alpha = 0.7\n",
    "\n",
    "    losses = 2*(alpha+(1-2*alpha)*(1*((np.log(y_true)-np.log(y_pred)) < 0)))*((np.log(y_true)-np.log(y_pred))**2)\n",
    "\n",
    "    loss = np.sqrt(np.mean(losses))\n",
    "\n",
    "    return loss\n",
    "    \n",
    "wfa_loss = make_scorer(loss, greater_is_better=False)"
   ]
  },
  {
   "cell_type": "markdown",
   "metadata": {},
   "source": [
    "We are now ready to create the full pipeline and evaluate it by a stratified cross-validation, creating level of area burnt."
   ]
  },
  {
   "cell_type": "code",
   "execution_count": 53,
   "metadata": {},
   "outputs": [
    {
     "name": "stdout",
     "output_type": "stream",
     "text": [
      "mean: 4.427215e+00 (+/- 1.900444e-02)\n"
     ]
    }
   ],
   "source": [
    "from sklearn.model_selection import cross_val_score\n",
    "from sklearn.model_selection import StratifiedKFold\n",
    "\n",
    "reg = Pipeline(steps=[('preprocessing', preprocessor),\n",
    "                      ('regressor', regressor)])\n",
    "\n",
    "bins = np.linspace(0,np.log(116000000),25)\n",
    "y_binned = np.digitize(np.log(y_array),bins)\n",
    "cv = StratifiedKFold(n_splits=5, shuffle=True, random_state=21)\n",
    "splits = cv.split(X_df, y_binned)\n",
    "\n",
    "scores_baseline = -cross_val_score(reg, X_df, y_array, cv=splits, scoring=wfa_loss)\n",
    "\n",
    "print(\"mean: %e (+/- %e)\" % (scores_baseline.mean(), scores_baseline.std()))"
   ]
  },
  {
   "cell_type": "markdown",
   "metadata": {},
   "source": [
    "### Workflow  <a name=\"workflow\"></a>"
   ]
  },
  {
   "cell_type": "markdown",
   "metadata": {},
   "source": [
    "In order to submit in the RAMP server, you will have to implement two classes, the class ```FeatureExtractor``` and the class ```Regressor```, each one saved respectively in the file ```FeatureExtractor.py``` and ```Regressor.py```.\n",
    "\n",
    "The ```FeatureExtractor``` is where you should implement all your preprocessing: cleaning, imputing, merges with our complementary datasets, feature engineering and so on. It will return an array of features, your features, that will be given to your regressor during the workflow.\n",
    "\n",
    "The ```Regressor``` is your model, which will predict the outputs from the features it will have been given before.\n",
    "\n",
    "Then, your score will be calculated using the loss we've defined previously, called ```wfa_loss```. \n",
    "\n",
    "This workflow will be completed in a cross validation scheme, which means that for each fold you will get 3 scores: the one on the train folds, the one on the valid fold and the one on the test fold, this one being a constant fold. The train and valid ones are obtained by stratified cross-validation (having converted the target continuous into level of area) on the train dataset. In the server, the same will be done but using the private test set and computing the cross-validation on the private train set. In order that you don't overfit the private test set, the score you will see in the leaderboard before the challenge ends will be the mean of the valid scores of each fold. The final ranking will be made using the mean of the test scores."
   ]
  },
  {
   "cell_type": "markdown",
   "metadata": {},
   "source": [
    "### Feature extractor  <a name=\"features\"></a>"
   ]
  },
  {
   "cell_type": "markdown",
   "metadata": {},
   "source": [
    "The previous preprocessing should be saved in the ```feature_extractor.py``` file of your submission folder (in our current case in the submissions/starting_kit folder) in order to submit it on ramp (or test it locally, as we will explain later one). This file should implement a FeatureExtractor class, which requires a fit() and transform() method. The fit() method takes as argument X_df but also y_array, so you can use the target in the fitting, meaning that you can do target encoding. However, the transform() method obviously takes only X_df as argument. Below is the equivalent of what we've done before, implementing this class:"
   ]
  },
  {
   "cell_type": "code",
   "execution_count": 54,
   "metadata": {},
   "outputs": [],
   "source": [
    "import pandas as pd\n",
    "import numpy as np\n",
    "\n",
    "from sklearn.impute import SimpleImputer\n",
    "from sklearn.compose import ColumnTransformer\n",
    "from sklearn.pipeline import make_pipeline\n",
    "from sklearn.preprocessing import FunctionTransformer\n",
    "from sklearn.pipeline import Pipeline\n",
    "\n",
    "class FeatureExtractor(object):\n",
    "    def __init__(self):\n",
    "        pass\n",
    "\n",
    "    def fit(self, X_df, y_array):\n",
    "\n",
    "        def process_insee(X):\n",
    "            insee_nums = pd.to_numeric(X['INSEE_code'], errors='coerce')\n",
    "            return insee_nums.values[:, np.newaxis]\n",
    "        insee_transformer = FunctionTransformer(process_insee, validate=False)\n",
    "\n",
    "        def process_dep(X):\n",
    "            dep_nums = pd.to_numeric(X['Department'], errors='coerce')\n",
    "            return dep_nums.values[:, np.newaxis]\n",
    "        dep_transformer = FunctionTransformer(process_dep, validate=False)\n",
    "\n",
    "        def process_origin(X):\n",
    "            or_nums = pd.to_numeric(X['Origin'], errors='coerce')\n",
    "            return or_nums.values[:, np.newaxis]\n",
    "        origin_transformer = FunctionTransformer(process_origin, validate=False)\n",
    "\n",
    "        numeric_transformer = Pipeline(steps=[('impute', SimpleImputer(strategy='median'))])\n",
    "\n",
    "        def process_date(X):\n",
    "            date = pd.to_datetime(X['Signal'], format='%Y-%m-%d %H:%M:%S')\n",
    "            return np.c_[date.dt.year, date.dt.month, date.dt.day,\n",
    "                         date.dt.hour, date.dt.minute, date.dt.second]\n",
    "        date_transformer = FunctionTransformer(process_date, validate=False)\n",
    "\n",
    "        num_cols = ['ID', 'Year']\n",
    "        insee_col = ['INSEE_code']\n",
    "        date_col = ['Signal']\n",
    "        dep_col = ['Department']\n",
    "        origin_col = ['Origin']\n",
    "\n",
    "        preprocessor = ColumnTransformer(\n",
    "            transformers=[\n",
    "                ('insee', make_pipeline(insee_transformer,\n",
    "                                        SimpleImputer(strategy='median')), insee_col),\n",
    "                ('num', numeric_transformer, num_cols),\n",
    "                ('date', make_pipeline(date_transformer,SimpleImputer(strategy='median')), date_col),\n",
    "                ('dep', make_pipeline(dep_transformer,SimpleImputer(strategy='median')), dep_col),\n",
    "                ('origin', make_pipeline(origin_transformer,SimpleImputer(strategy='median')), origin_col),\n",
    "                ])\n",
    "\n",
    "        self.preprocessor = preprocessor\n",
    "        self.preprocessor.fit(X_df, y_array)\n",
    "        return self\n",
    "\n",
    "    def transform(self, X_df):\n",
    "        return self.preprocessor.transform(X_df)"
   ]
  },
  {
   "cell_type": "markdown",
   "metadata": {},
   "source": [
    "### Regressor  <a name=\"regressor\"></a>"
   ]
  },
  {
   "cell_type": "markdown",
   "metadata": {},
   "source": [
    "As before, our previous regressor should be implemented in the ```regressor.py```file of your submission folder in order to submit it on ramp. This file should implement a Regressor class, which should have fit() and predict() methods. Here is an example of such a file, given our basic example:"
   ]
  },
  {
   "cell_type": "code",
   "execution_count": 55,
   "metadata": {},
   "outputs": [],
   "source": [
    "from sklearn.ensemble import RandomForestRegressor\n",
    "from sklearn.base import BaseEstimator\n",
    "\n",
    "class Regressor(BaseEstimator):\n",
    "    def __init__(self):\n",
    "        self.reg = RandomForestRegressor(n_estimators=5, max_depth=50, max_features=10)\n",
    "\n",
    "    def fit(self, X, y):\n",
    "        self.reg.fit(X, y)\n",
    "\n",
    "    def predict(self, X):\n",
    "        return self.reg.predict(X)"
   ]
  },
  {
   "cell_type": "markdown",
   "metadata": {},
   "source": [
    "### Naive merges  <a name=\"merges\"></a>"
   ]
  },
  {
   "cell_type": "markdown",
   "metadata": {},
   "source": [
    "Now that we've implemented and tested a basic model, we can try to see wether we can make an improvment with a very naive merge with our additionals datasets (weather and forests). We will use the same preprocessing for the columns of the main dataset."
   ]
  },
  {
   "cell_type": "markdown",
   "metadata": {},
   "source": [
    "#### Merge with the oldest weather dataset"
   ]
  },
  {
   "cell_type": "code",
   "execution_count": 56,
   "metadata": {},
   "outputs": [],
   "source": [
    "def merge_naive_weather_old(X):\n",
    "    X['Date'] = pd.to_datetime(X['Signal'], format='%Y-%m-%d %H:%M:%S').dt.floor('d')  \n",
    "    df = pd.merge(X, weather_old, left_on=['Date', 'INSEE_code'], right_on=['date','insee_code'], how='left')\n",
    "    return df['maximal temperature (celsius)'].values[:, np.newaxis]\n",
    "merge_weather_old_transformer = FunctionTransformer(merge_naive_weather_old, validate=False)"
   ]
  },
  {
   "cell_type": "code",
   "execution_count": 57,
   "metadata": {},
   "outputs": [
    {
     "data": {
      "text/plain": [
       "array([[1983. ,    9. ,    8. , ..., 1983. ,    3. ,   25.7],\n",
       "       [1981. ,    5. ,    3. , ..., 1981. ,    3. ,   25.7],\n",
       "       [1989. ,    8. ,    7. , ..., 1989. ,    3. ,   25.7],\n",
       "       ...,\n",
       "       [1978. ,    7. ,   30. , ..., 1978. ,    3. ,   25.7],\n",
       "       [1981. ,   11. ,   10. , ..., 1981. ,    3. ,   25.7],\n",
       "       [2014. ,    8. ,   11. , ..., 2014. ,    3. ,   25.7]])"
      ]
     },
     "execution_count": 57,
     "metadata": {},
     "output_type": "execute_result"
    }
   ],
   "source": [
    "merge_cols = ['Signal', 'INSEE_code'] \n",
    "# You need to define the columns of X_df that will be necessary for the transformer.\n",
    "\n",
    "preprocessor_merge_weather_old = ColumnTransformer(\n",
    "    transformers=[\n",
    "        ('date', make_pipeline(date_transformer,SimpleImputer(strategy='median')), date_col),\n",
    "        ('dep', make_pipeline(dep_transformer,SimpleImputer(strategy='median')), dep_col),\n",
    "        ('insee', make_pipeline(insee_transformer,SimpleImputer(strategy='median')), insee_col),\n",
    "        ('num', numeric_transformer, num_cols),\n",
    "        ('origin', make_pipeline(origin_transformer,SimpleImputer(strategy='median')), origin_col),\n",
    "        ('merge', make_pipeline(merge_weather_old_transformer, SimpleImputer(strategy='median')), merge_cols),\n",
    "        ])\n",
    "\n",
    "preprocessor_merge_weather_old.fit_transform(X_df)"
   ]
  },
  {
   "cell_type": "code",
   "execution_count": 58,
   "metadata": {},
   "outputs": [],
   "source": [
    "regressor = RandomForestRegressor(n_estimators=5, max_depth=50, random_state=1000)"
   ]
  },
  {
   "cell_type": "code",
   "execution_count": 59,
   "metadata": {},
   "outputs": [
    {
     "name": "stdout",
     "output_type": "stream",
     "text": [
      "mean: 4.413187e+00 (+/- 2.958474e-02)\n"
     ]
    }
   ],
   "source": [
    "reg = Pipeline(steps=[('preprocessing', preprocessor_merge_weather_old),\n",
    "                      ('regressor', regressor)])\n",
    "\n",
    "bins = np.linspace(0,np.log(116000000),25)\n",
    "y_binned = np.digitize(np.log(y_array),bins)\n",
    "cv = StratifiedKFold(n_splits=5, shuffle=True, random_state=21)\n",
    "splits = cv.split(X_df, y_binned)\n",
    "\n",
    "scores_merge_weather_old = -cross_val_score(reg, X_df, y_array, cv=splits, scoring=wfa_loss)\n",
    "\n",
    "print(\"mean: %e (+/- %e)\" % (scores_merge_weather_old.mean(), scores_merge_weather_old.std()))"
   ]
  },
  {
   "cell_type": "markdown",
   "metadata": {},
   "source": [
    "We can compare the two scores:"
   ]
  },
  {
   "cell_type": "code",
   "execution_count": 60,
   "metadata": {},
   "outputs": [
    {
     "data": {
      "text/plain": [
       "<matplotlib.axes._subplots.AxesSubplot at 0x11c217a10>"
      ]
     },
     "execution_count": 60,
     "metadata": {},
     "output_type": "execute_result"
    },
    {
     "data": {
      "image/png": "[encoded data removed]",
      "text/plain": [
       "<Figure size 432x288 with 1 Axes>"
      ]
     },
     "metadata": {
      "needs_background": "light"
     },
     "output_type": "display_data"
    }
   ],
   "source": [
    "scores = pd.DataFrame({'Baseline': scores_baseline, 'Merge weather old': scores_merge_weather_old})\n",
    "scores.boxplot()"
   ]
  },
  {
   "cell_type": "markdown",
   "metadata": {},
   "source": [
    "#### Merge with the closest weather dataset"
   ]
  },
  {
   "cell_type": "code",
   "execution_count": 61,
   "metadata": {},
   "outputs": [],
   "source": [
    "def merge_naive_weather_recent(X):\n",
    "    X['Date'] = pd.to_datetime(X['Signal'], format='%Y-%m-%d %H:%M:%S', utc=True).dt.floor('H')  \n",
    "    X['Communes'] = X['Town'].str.lower()\n",
    "    X['Communes'] = X['Communes'].str.replace('[^\\w]','')\n",
    "    weather_r = weather_recent.copy()\n",
    "    weather_r['Date'] = pd.to_datetime(weather_r['Date'], format='%Y-%m-%d %H:%M:%S').dt.floor('H')\n",
    "    weather_r['communes'] = weather_r['communes (name)'].str.lower()\n",
    "    weather_r['communes'] = weather_r['communes'].str.replace('[^\\w]','')\n",
    "    df = pd.merge(X, weather_r, left_on=['Date', 'Communes'], right_on=['Date','communes'], how='left')\n",
    "    return df['Température'].values[:, np.newaxis]\n",
    "merge_weather_recent_transformer = FunctionTransformer(merge_naive_weather_recent, validate=False)"
   ]
  },
  {
   "cell_type": "code",
   "execution_count": 62,
   "metadata": {},
   "outputs": [
    {
     "data": {
      "text/plain": [
       "array([[1983.  ,    9.  ,    8.  , ..., 1983.  ,    3.  ,  295.95],\n",
       "       [1981.  ,    5.  ,    3.  , ..., 1981.  ,    3.  ,  295.95],\n",
       "       [1989.  ,    8.  ,    7.  , ..., 1989.  ,    3.  ,  295.95],\n",
       "       ...,\n",
       "       [1978.  ,    7.  ,   30.  , ..., 1978.  ,    3.  ,  295.95],\n",
       "       [1981.  ,   11.  ,   10.  , ..., 1981.  ,    3.  ,  295.95],\n",
       "       [2014.  ,    8.  ,   11.  , ..., 2014.  ,    3.  ,  295.95]])"
      ]
     },
     "execution_count": 62,
     "metadata": {},
     "output_type": "execute_result"
    }
   ],
   "source": [
    "merge_cols = ['Signal', 'Town']\n",
    "\n",
    "preprocessor_merge_weather_recent = ColumnTransformer(\n",
    "    transformers=[\n",
    "        ('date', make_pipeline(date_transformer,SimpleImputer(strategy='median')), date_col),\n",
    "        ('dep', make_pipeline(dep_transformer,SimpleImputer(strategy='median')), dep_col),\n",
    "        ('insee', make_pipeline(insee_transformer,SimpleImputer(strategy='median')), insee_col),\n",
    "        ('num', numeric_transformer, num_cols),\n",
    "        ('origin', make_pipeline(origin_transformer,SimpleImputer(strategy='median')), origin_col),\n",
    "        ('merge', make_pipeline(merge_weather_recent_transformer, SimpleImputer(strategy='median')), merge_cols),\n",
    "        ])\n",
    "\n",
    "preprocessor_merge_weather_recent.fit_transform(X_df)"
   ]
  },
  {
   "cell_type": "code",
   "execution_count": 63,
   "metadata": {},
   "outputs": [],
   "source": [
    "regressor = RandomForestRegressor(n_estimators=5, max_depth=50, random_state=1000)"
   ]
  },
  {
   "cell_type": "code",
   "execution_count": 64,
   "metadata": {},
   "outputs": [
    {
     "name": "stdout",
     "output_type": "stream",
     "text": [
      "mean: 4.423572e+00 (+/- 2.379923e-02)\n"
     ]
    }
   ],
   "source": [
    "reg = Pipeline(steps=[('preprocessing', preprocessor_merge_weather_recent),\n",
    "                      ('regressor', regressor)])\n",
    "\n",
    "bins = np.linspace(0,np.log(116000000),25)\n",
    "y_binned = np.digitize(np.log(y_array),bins)\n",
    "cv = StratifiedKFold(n_splits=5, shuffle=True, random_state=21)\n",
    "splits = cv.split(X_df, y_binned)\n",
    "\n",
    "scores_merge_weather_recent = -cross_val_score(reg, X_df, y_array, cv=splits, scoring=wfa_loss)\n",
    "\n",
    "print(\"mean: %e (+/- %e)\" % (scores_merge_weather_recent.mean(), scores_merge_weather_recent.std()))"
   ]
  },
  {
   "cell_type": "code",
   "execution_count": 65,
   "metadata": {},
   "outputs": [
    {
     "data": {
      "text/plain": [
       "<matplotlib.axes._subplots.AxesSubplot at 0x11ca5aa10>"
      ]
     },
     "execution_count": 65,
     "metadata": {},
     "output_type": "execute_result"
    },
    {
     "data": {
      "image/png": "[encoded data removed]",
      "text/plain": [
       "<Figure size 432x288 with 1 Axes>"
      ]
     },
     "metadata": {
      "needs_background": "light"
     },
     "output_type": "display_data"
    }
   ],
   "source": [
    "scores = pd.DataFrame({'Baseline': scores_baseline, 'Merge weather old': scores_merge_weather_old,\n",
    "                       'Merge weather recent': scores_merge_weather_recent})\n",
    "scores.boxplot()"
   ]
  },
  {
   "cell_type": "markdown",
   "metadata": {},
   "source": [
    "#### Merge with the forest dataset"
   ]
  },
  {
   "cell_type": "code",
   "execution_count": 66,
   "metadata": {},
   "outputs": [],
   "source": [
    "def merge_naive_forests(X):\n",
    "    forests_per_dep = forests[['cinse_dep','area']].groupby('cinse_dep').sum().reset_index()\n",
    "    forests_per_dep['mean'] = forests[['cinse_dep','area']].groupby('cinse_dep').mean().values\n",
    "    df = pd.merge(X, forests_per_dep, left_on=['Department'], right_on=['cinse_dep'], how='left')\n",
    "    return df[['area','mean']]\n",
    "merge_forests_transformer = FunctionTransformer(merge_naive_forests, validate=False)"
   ]
  },
  {
   "cell_type": "code",
   "execution_count": 67,
   "metadata": {},
   "outputs": [
    {
     "data": {
      "text/plain": [
       "array([[1.98300000e+03, 9.00000000e+00, 8.00000000e+00, ...,\n",
       "        3.00000000e+00, 1.01485656e+09, 1.56131779e+07],\n",
       "       [1.98100000e+03, 5.00000000e+00, 3.00000000e+00, ...,\n",
       "        3.00000000e+00, 1.32932728e+09, 8.92165960e+06],\n",
       "       [1.98900000e+03, 8.00000000e+00, 7.00000000e+00, ...,\n",
       "        3.00000000e+00, 1.17274182e+09, 4.72879765e+06],\n",
       "       ...,\n",
       "       [1.97800000e+03, 7.00000000e+00, 3.00000000e+01, ...,\n",
       "        3.00000000e+00, 7.36031168e+08, 7.74769651e+06],\n",
       "       [1.98100000e+03, 1.10000000e+01, 1.00000000e+01, ...,\n",
       "        3.00000000e+00, 1.17274182e+09, 4.72879765e+06],\n",
       "       [2.01400000e+03, 8.00000000e+00, 1.10000000e+01, ...,\n",
       "        3.00000000e+00, 1.17274182e+09, 4.72879765e+06]])"
      ]
     },
     "execution_count": 67,
     "metadata": {},
     "output_type": "execute_result"
    }
   ],
   "source": [
    "merge_col = ['Department']\n",
    "\n",
    "preprocessor_merge_forests = ColumnTransformer(\n",
    "    transformers=[\n",
    "        ('date', make_pipeline(date_transformer,SimpleImputer(strategy='median')), date_col),\n",
    "        ('dep', make_pipeline(dep_transformer,SimpleImputer(strategy='median')), dep_col),\n",
    "        ('insee', make_pipeline(insee_transformer,SimpleImputer(strategy='median')), insee_col),\n",
    "        ('num', numeric_transformer, num_cols),\n",
    "        ('origin', make_pipeline(origin_transformer,SimpleImputer(strategy='median')), origin_col),\n",
    "        ('merge', make_pipeline(merge_forests_transformer, SimpleImputer(strategy='median')), merge_col),\n",
    "        ])\n",
    "\n",
    "preprocessor_merge_forests.fit_transform(X_df)"
   ]
  },
  {
   "cell_type": "code",
   "execution_count": 68,
   "metadata": {},
   "outputs": [],
   "source": [
    "regressor = RandomForestRegressor(n_estimators=5, max_depth=50, random_state=1000)"
   ]
  },
  {
   "cell_type": "code",
   "execution_count": 69,
   "metadata": {},
   "outputs": [
    {
     "name": "stdout",
     "output_type": "stream",
     "text": [
      "mean: 4.299094e+00 (+/- 1.520350e-02)\n"
     ]
    }
   ],
   "source": [
    "reg = Pipeline(steps=[('preprocessing', preprocessor_merge_forests),\n",
    "                      ('regressor', regressor)])\n",
    "\n",
    "bins = np.linspace(0,np.log(116000000),25)\n",
    "y_binned = np.digitize(np.log(y_array),bins)\n",
    "cv = StratifiedKFold(n_splits=5, shuffle=True, random_state=21)\n",
    "splits = cv.split(X_df, y_binned)\n",
    "\n",
    "scores_merge_forests = -cross_val_score(reg, X_df, y_array, cv=splits, scoring=wfa_loss)\n",
    "\n",
    "print(\"mean: %e (+/- %e)\" % (scores_merge_forests.mean(), scores_merge_forests.std()))"
   ]
  },
  {
   "cell_type": "code",
   "execution_count": 70,
   "metadata": {},
   "outputs": [
    {
     "data": {
      "text/plain": [
       "<matplotlib.axes._subplots.AxesSubplot at 0x11b7c3fd0>"
      ]
     },
     "execution_count": 70,
     "metadata": {},
     "output_type": "execute_result"
    },
    {
     "data": {
      "image/png": "[encoded data removed]",
      "text/plain": [
       "<Figure size 432x288 with 1 Axes>"
      ]
     },
     "metadata": {
      "needs_background": "light"
     },
     "output_type": "display_data"
    }
   ],
   "source": [
    "scores = pd.DataFrame({'Baseline': scores_baseline, 'Weather old': scores_merge_weather_old,\n",
    "                       'Weather recent': scores_merge_weather_recent, 'Merge forests': scores_merge_forests})\n",
    "scores.boxplot()"
   ]
  },
  {
   "cell_type": "markdown",
   "metadata": {},
   "source": [
    "### Feature extractor with additionals datasets <a name=\"features_extra\"></a>"
   ]
  },
  {
   "cell_type": "markdown",
   "metadata": {},
   "source": [
    "To be able to run a submission on RAMP (locally or on the server) using extra datasets - only the ones we provide you obviousky, completely new datasets are forbidden - you have to put the dataset in the corresponding submission folder and to read it in the feature extractor file. Here is an example with the forest dataset, implemented in the ```merge_naive``` folder of the submission folder of this starting_kit:"
   ]
  },
  {
   "cell_type": "code",
   "execution_count": 71,
   "metadata": {},
   "outputs": [],
   "source": [
    "import os\n",
    "import pandas as pd\n",
    "import numpy as np\n",
    "\n",
    "from sklearn.impute import SimpleImputer\n",
    "from sklearn.compose import ColumnTransformer\n",
    "from sklearn.pipeline import make_pipeline\n",
    "from sklearn.preprocessing import FunctionTransformer\n",
    "from sklearn.pipeline import Pipeline\n",
    "import geopandas as gpd\n",
    "\n",
    "class FeatureExtractor(object):\n",
    "    def __init__(self):\n",
    "        pass\n",
    "\n",
    "    def fit(self, X_df, y_array):\n",
    "\n",
    "        path = os.path.dirname(__file__)\n",
    "        forests = gpd.read_file(os.path.join(path, 'forests.json'))\n",
    "\n",
    "        def process_insee(X):\n",
    "            insee_nums = pd.to_numeric(X['INSEE_code'], errors='coerce')\n",
    "            return insee_nums.values[:, np.newaxis]\n",
    "        insee_transformer = FunctionTransformer(process_insee, validate=False)\n",
    "\n",
    "        def process_dep(X):\n",
    "            dep_nums = pd.to_numeric(X['Department'], errors='coerce')\n",
    "            return dep_nums.values[:, np.newaxis]\n",
    "        dep_transformer = FunctionTransformer(process_dep, validate=False)\n",
    "\n",
    "        def process_origin(X):\n",
    "            or_nums = pd.to_numeric(X['Origin'], errors='coerce')\n",
    "            return or_nums.values[:, np.newaxis]\n",
    "        origin_transformer = FunctionTransformer(process_origin, validate=False)\n",
    "\n",
    "        numeric_transformer = Pipeline(steps=[('impute', SimpleImputer(strategy='median'))])\n",
    "\n",
    "        def process_date(X):\n",
    "            date = pd.to_datetime(X['Signal'], format='%Y-%m-%d %H:%M:%S')\n",
    "            return np.c_[date.dt.year, date.dt.month, date.dt.day,\n",
    "                         date.dt.hour, date.dt.minute, date.dt.second]\n",
    "        date_transformer = FunctionTransformer(process_date, validate=False)\n",
    "\n",
    "        def merge_naive_forests(X):\n",
    "            forests_per_dep = forests[['cinse_dep','area']].groupby('cinse_dep').sum().reset_index()\n",
    "            forests_per_dep['mean'] = forests[['cinse_dep','area']].groupby('cinse_dep').mean().values\n",
    "            df = pd.merge(X, forests_per_dep, left_on=['Department'], right_on=['cinse_dep'], how='left')\n",
    "            return df[['area','mean']]\n",
    "        merge_forests_transformer = FunctionTransformer(merge_naive_forests, validate=False)\n",
    "\n",
    "        num_cols = ['ID', 'Year']\n",
    "        insee_col = ['INSEE_code']\n",
    "        date_col = ['Signal']\n",
    "        dep_col = ['Department']\n",
    "        origin_col = ['Origin']\n",
    "        merge_col = ['Department']\n",
    "\n",
    "        preprocessor = ColumnTransformer(\n",
    "            transformers=[\n",
    "                ('insee', make_pipeline(insee_transformer,\n",
    "                                        SimpleImputer(strategy='median')), insee_col),\n",
    "                ('num', numeric_transformer, num_cols),\n",
    "                ('date', make_pipeline(date_transformer,SimpleImputer(strategy='median')), date_col),\n",
    "                ('dep', make_pipeline(dep_transformer,SimpleImputer(strategy='median')), dep_col),\n",
    "                ('origin', make_pipeline(origin_transformer,SimpleImputer(strategy='median')), origin_col),\n",
    "                ('merge', make_pipeline(merge_forests_transformer, SimpleImputer(strategy='median')), merge_col),\n",
    "                ])\n",
    "\n",
    "        self.preprocessor = preprocessor\n",
    "        self.preprocessor.fit(X_df, y_array)\n",
    "        return self\n",
    "\n",
    "    def transform(self, X_df):\n",
    "        return self.preprocessor.transform(X_df)"
   ]
  },
  {
   "cell_type": "markdown",
   "metadata": {},
   "source": [
    "## RAMP submission <a name=\"ramp\"></a>"
   ]
  },
  {
   "cell_type": "markdown",
   "metadata": {},
   "source": [
    "Once you are happy with your model and its score, you can test it locally with the RAMP library to be sure everything works correctly before submitting on the RAMP server.\n",
    "\n",
    "The files we've defined before (```feature_extractor.py``` and ```regressor.py``` should be in the same folder, named for example ```starting_kit```, along with the complementary datasets - weather and forests - if you use them). Then, you can execute from the ```Wildfire_Area```folder the following command:"
   ]
  },
  {
   "cell_type": "code",
   "execution_count": 72,
   "metadata": {},
   "outputs": [
    {
     "name": "stdout",
     "output_type": "stream",
     "text": [
      "libc++abi.dylib: terminating with uncaught exception of type std::runtime_error: Couldn't close file\r\n"
     ]
    }
   ],
   "source": [
    "!ramp_test_submission --submission starting_kit"
   ]
  },
  {
   "cell_type": "code",
   "execution_count": null,
   "metadata": {},
   "outputs": [],
   "source": [
    "!ramp_test_submission --submission merge_naive"
   ]
  },
  {
   "cell_type": "markdown",
   "metadata": {},
   "source": [
    "Little note: we've ensured that our loss penalize sufficiently our imbalanced data by creating a ```dumb_predictor``` that always predict 0.001. You can find it in the dumb_predictor file, and test it:"
   ]
  },
  {
   "cell_type": "code",
   "execution_count": 73,
   "metadata": {},
   "outputs": [
    {
     "name": "stdout",
     "output_type": "stream",
     "text": [
      "\u001b[38;5;178m\u001b[1mTesting Prediction of the surface burned by wildfires in the south of France\u001b[0m\n",
      "\u001b[38;5;178m\u001b[1mReading train and test files from ./data ...\u001b[0m\n",
      "\u001b[38;5;178m\u001b[1mReading cv ...\u001b[0m\n",
      "\u001b[38;5;178m\u001b[1mTraining submissions/dumb_predictor ...\u001b[0m\n",
      "\u001b[38;5;178m\u001b[1mCV fold 0\u001b[0m\n",
      "\t\u001b[38;5;178m\u001b[1mscore  wfa error      time\u001b[0m\n",
      "\t\u001b[38;5;10m\u001b[1mtrain\u001b[0m      \u001b[38;5;10m\u001b[1m8.610\u001b[0m  \u001b[38;5;150m0.665024\u001b[0m\n",
      "\t\u001b[38;5;12m\u001b[1mvalid\u001b[0m      \u001b[38;5;12m\u001b[1m8.612\u001b[0m  \u001b[38;5;105m0.174595\u001b[0m\n",
      "\t\u001b[38;5;1m\u001b[1mtest\u001b[0m       \u001b[38;5;1m\u001b[1m8.611\u001b[0m  \u001b[38;5;218m0.068796\u001b[0m\n",
      "\u001b[38;5;178m\u001b[1mCV fold 1\u001b[0m\n",
      "\t\u001b[38;5;178m\u001b[1mscore  wfa error      time\u001b[0m\n",
      "\t\u001b[38;5;10m\u001b[1mtrain\u001b[0m      \u001b[38;5;10m\u001b[1m8.611\u001b[0m  \u001b[38;5;150m0.454989\u001b[0m\n",
      "\t\u001b[38;5;12m\u001b[1mvalid\u001b[0m      \u001b[38;5;12m\u001b[1m8.607\u001b[0m  \u001b[38;5;105m0.165999\u001b[0m\n",
      "\t\u001b[38;5;1m\u001b[1mtest\u001b[0m       \u001b[38;5;1m\u001b[1m8.611\u001b[0m  \u001b[38;5;218m0.063038\u001b[0m\n",
      "\u001b[38;5;178m\u001b[1mCV fold 2\u001b[0m\n",
      "\t\u001b[38;5;178m\u001b[1mscore  wfa error      time\u001b[0m\n",
      "\t\u001b[38;5;10m\u001b[1mtrain\u001b[0m      \u001b[38;5;10m\u001b[1m8.610\u001b[0m  \u001b[38;5;150m0.478203\u001b[0m\n",
      "\t\u001b[38;5;12m\u001b[1mvalid\u001b[0m      \u001b[38;5;12m\u001b[1m8.609\u001b[0m  \u001b[38;5;105m0.169323\u001b[0m\n",
      "\t\u001b[38;5;1m\u001b[1mtest\u001b[0m       \u001b[38;5;1m\u001b[1m8.611\u001b[0m  \u001b[38;5;218m0.067918\u001b[0m\n",
      "\u001b[38;5;178m\u001b[1mCV fold 3\u001b[0m\n",
      "\t\u001b[38;5;178m\u001b[1mscore  wfa error      time\u001b[0m\n",
      "\t\u001b[38;5;10m\u001b[1mtrain\u001b[0m      \u001b[38;5;10m\u001b[1m8.610\u001b[0m  \u001b[38;5;150m0.495099\u001b[0m\n",
      "\t\u001b[38;5;12m\u001b[1mvalid\u001b[0m      \u001b[38;5;12m\u001b[1m8.611\u001b[0m  \u001b[38;5;105m0.169525\u001b[0m\n",
      "\t\u001b[38;5;1m\u001b[1mtest\u001b[0m       \u001b[38;5;1m\u001b[1m8.611\u001b[0m  \u001b[38;5;218m0.064884\u001b[0m\n",
      "\u001b[38;5;178m\u001b[1mCV fold 4\u001b[0m\n",
      "\t\u001b[38;5;178m\u001b[1mscore  wfa error      time\u001b[0m\n",
      "\t\u001b[38;5;10m\u001b[1mtrain\u001b[0m      \u001b[38;5;10m\u001b[1m8.610\u001b[0m  \u001b[38;5;150m0.426124\u001b[0m\n",
      "\t\u001b[38;5;12m\u001b[1mvalid\u001b[0m      \u001b[38;5;12m\u001b[1m8.611\u001b[0m  \u001b[38;5;105m0.187870\u001b[0m\n",
      "\t\u001b[38;5;1m\u001b[1mtest\u001b[0m       \u001b[38;5;1m\u001b[1m8.611\u001b[0m  \u001b[38;5;218m0.075702\u001b[0m\n",
      "\u001b[38;5;178m\u001b[1m----------------------------\u001b[0m\n",
      "\u001b[38;5;178m\u001b[1mMean CV scores\u001b[0m\n",
      "\u001b[38;5;178m\u001b[1m----------------------------\u001b[0m\n",
      "\t\u001b[38;5;178m\u001b[1mscore      wfa error        time\u001b[0m\n",
      "\t\u001b[38;5;10m\u001b[1mtrain\u001b[0m  \u001b[38;5;10m\u001b[1m8.61\u001b[0m \u001b[38;5;150m\u001b[38;5;150m±\u001b[0m\u001b[0m \u001b[38;5;150m0.0004\u001b[0m  \u001b[38;5;150m0.5\u001b[0m \u001b[38;5;150m\u001b[38;5;150m±\u001b[0m\u001b[0m \u001b[38;5;150m0.08\u001b[0m\n",
      "\t\u001b[38;5;12m\u001b[1mvalid\u001b[0m  \u001b[38;5;12m\u001b[1m8.61\u001b[0m \u001b[38;5;105m\u001b[38;5;105m±\u001b[0m\u001b[0m \u001b[38;5;105m0.0017\u001b[0m  \u001b[38;5;105m0.2\u001b[0m \u001b[38;5;105m\u001b[38;5;105m±\u001b[0m\u001b[0m \u001b[38;5;105m0.01\u001b[0m\n",
      "\t\u001b[38;5;1m\u001b[1mtest\u001b[0m     \u001b[38;5;1m\u001b[1m8.611\u001b[0m \u001b[38;5;218m\u001b[38;5;218m±\u001b[0m\u001b[0m \u001b[38;5;218m\u001b[38;5;218m0.0\u001b[0m\u001b[0m   \u001b[38;5;218m0.1\u001b[0m \u001b[38;5;218m\u001b[38;5;218m±\u001b[0m\u001b[0m \u001b[38;5;218m\u001b[38;5;218m0.0\u001b[0m\u001b[0m\n",
      "\u001b[38;5;178m\u001b[1m----------------------------\u001b[0m\n",
      "\u001b[38;5;178m\u001b[1mBagged scores\u001b[0m\n",
      "\u001b[38;5;178m\u001b[1m----------------------------\u001b[0m\n",
      "\t\u001b[38;5;178m\u001b[1mscore  wfa error\u001b[0m\n",
      "\t\u001b[38;5;12m\u001b[1mvalid\u001b[0m      \u001b[38;5;12m\u001b[1m8.610\u001b[0m\n",
      "\t\u001b[38;5;1m\u001b[1mtest\u001b[0m       \u001b[38;5;1m\u001b[1m8.611\u001b[0m\n"
     ]
    }
   ],
   "source": [
    "!ramp_test_submission --submission dumb_predictor"
   ]
  },
  {
   "cell_type": "code",
   "execution_count": null,
   "metadata": {},
   "outputs": [],
   "source": []
  }
 ],
 "metadata": {
  "kernelspec": {
   "display_name": "Python 3",
   "language": "python",
   "name": "python3"
  },
  "language_info": {
   "codemirror_mode": {
    "name": "ipython",
    "version": 3
   },
   "file_extension": ".py",
   "mimetype": "text/x-python",
   "name": "python",
   "nbconvert_exporter": "python",
   "pygments_lexer": "ipython3",
   "version": "3.6.6"
  }
 },
 "nbformat": 4,
 "nbformat_minor": 4
}
