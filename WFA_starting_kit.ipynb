{
 "cells": [
  {
   "cell_type": "markdown",
   "metadata": {},
   "source": [
    "# Wildfire Area Prediction Starting Kit\n",
    "\n",
    "_Authors: Corentin Ambroise, Bastien Galmiche, Luis Montero, Margaux Zaffran_"
   ]
  },
  {
   "cell_type": "markdown",
   "metadata": {},
   "source": [
    "## Table of contents\n",
    "\n",
    "1. [Introduction](#introduction)\n",
    "    1. [Context](#context)\n",
    "    2. [Objective](#problematic)\n",
    "    3. [Benefits](#KPI)\n",
    "    4. [Dependancies](#librairies)\n",
    "2. [Data](#data)\n",
    "    1. [Main dataset](#fires)\n",
    "    2. [Weather datasets](#weather)\n",
    "    3. [Forest dataset](#forest)\n",
    "    4. [INSEE dataset](#insee)\n",
    "    5. [Split](#split)\n",
    "3. [Loss](#loss)\n",
    "4. [Exploratory data analysis](#explo)\n",
    "    1. [Loading data](#loading_data)\n",
    "    2. [Fires](#fires_explo)\n",
    "    3. [Weather and fires](#weather_explo)\n",
    "    4. [Forest and fires](#forest_explo)\n",
    "    5. [INSEE and fires](#insee_explo)\n",
    "5. [Model](#model)\n",
    "    1. [Feature extractor](#features)\n",
    "    2. [Regressor](#regressor)\n",
    "    3. [Baseline model](#baseline)\n",
    "    4. [Naive merges](#merges)\n",
    "6. [RAMP submission](#ramp)"
   ]
  },
  {
   "cell_type": "markdown",
   "metadata": {},
   "source": [
    "## Introduction <a name=\"introduction\"></a>"
   ]
  },
  {
   "cell_type": "markdown",
   "metadata": {},
   "source": [
    "### Context <a name=\"Context\"></a>"
   ]
  },
  {
   "cell_type": "markdown",
   "metadata": {},
   "source": [
    "Every summer, the south of France is ravaged by wild fires, due to human activities or natural causes. The firemen struggle fighting theses, and it is hard to estimate the required needs in term of equipement and staff."
   ]
  },
  {
   "cell_type": "markdown",
   "metadata": {},
   "source": [
    "### Objective <a name=\"objective\"></a>"
   ]
  },
  {
   "cell_type": "markdown",
   "metadata": {},
   "source": [
    "Our goal is to estimate the surface that will potentially burn when it is declared in order to know the necessary means to deploy in order to counter its spreading."
   ]
  },
  {
   "cell_type": "markdown",
   "metadata": {},
   "source": [
    "### Benefits <a name=\"benefits\"></a>"
   ]
  },
  {
   "cell_type": "markdown",
   "metadata": {},
   "source": [
    "_Give some KPI (vegetation area preserved, life saved...)_ "
   ]
  },
  {
   "cell_type": "markdown",
   "metadata": {},
   "source": [
    "### Dependancies <a name=\"librairies\"></a>"
   ]
  },
  {
   "cell_type": "markdown",
   "metadata": {},
   "source": [
    "In order to be able to run this notebook, you will need the following dependancies installed:\n",
    "\n",
    "- pandas\n",
    "- numpy\n",
    "- scipy\n",
    "- matplotlib\n",
    "- scikit-learn\n",
    "- geopandas\n",
    "- pyproj\n",
    "- shapely\n",
    "- jupyter\n",
    "- googledrivedownloader\n",
    "\n",
    "The dependencies can be installed with ```pip install -r requirements.txt ```"
   ]
  },
  {
   "cell_type": "markdown",
   "metadata": {},
   "source": [
    "## Data <a name=\"data\"></a>"
   ]
  },
  {
   "cell_type": "markdown",
   "metadata": {},
   "source": [
    "We collected data from a lot of various sources, but mainly what is provided to answer to this challenge are:\n",
    "\n",
    "- Fire data set\n",
    "- Weather datasets\n",
    "- Forests dataset"
   ]
  },
  {
   "cell_type": "markdown",
   "metadata": {},
   "source": [
    "### Main dataset <a name=\"fires\"></a>"
   ]
  },
  {
   "cell_type": "markdown",
   "metadata": {},
   "source": [
    "The main dataset comes from Promethee, a french data base which contains various information about different fires that occured in the south of France, including the regions Provence-Alpes-Côte-d'Azur, Corse, the old Languedoc-Roussillon region and a part of the Auvergne-Rhône-Alpes up to St-Etienne. This dataset contains fires that occured between 1973 and 2018.\n",
    "\n",
    "For each fire, we have different information, each of which corresponds to a column in the dataset:\n",
    "\n",
    "- __Year__: the year during which the fire occured\n",
    "- __ID__: a number assigned by the computer when the fire is created in the system\n",
    "- __Department__: department in which the fire was declared\n",
    "- __INSEE_code__: code insee of the municipality in which the fire was declared\n",
    "- __Town__: name of the municipality in which the fire was declared\n",
    "- __Locality__: supplementary precision about the location\n",
    "- __DFCI_coordinate__: coordinate of the DFCI square in which the fire was declared. This coordinate system is specific to the french DFCI, and corresponds to a small square of 1km side. You can find more information about this coordinate system <a href='http://ccffpeynier.free.fr/Files/dfci.pdf'>here</a> and how they are encoded in these data <a href='https://www.promethee.com/doc/prom_donnees.pdf'>here</a>\n",
    "- __Signal__: time at which the fire occured\n",
    "- __Origin__: which service declared the fire\n",
    "- __Area__: area burned by the fire in square meters"
   ]
  },
  {
   "cell_type": "markdown",
   "metadata": {},
   "source": [
    "![Map](img/map_fires.png)"
   ]
  },
  {
   "cell_type": "markdown",
   "metadata": {},
   "source": [
    "In the original dataset that you can get on the website of Promethee, the data was not very clean, notably the documentation is out-of-date, and sometimes contradicts itself. So first in the previous section we provide you with an accurate documentation, and moreover we preprocessed the data to make it a bit cleaner. \n",
    "\n",
    "The most anoying issue was the lack of geographic precision, due to a poor quality of the DFCI coordinates provided. For fires that occured before 1983, the coordinates provided were not listed in the DFCI coordinate system, and after that there was still some missing characters to have the complete exact coordinates.\n",
    "\n",
    "An information that we can trust and have for each fire is the department where it occured. So using the geographic shapes of the departements and of the DFCI squares, we sampled uniformly within each department the locations of the fires for those who had a poorly encoded coordinate."
   ]
  },
  {
   "cell_type": "markdown",
   "metadata": {},
   "source": [
    "### Weather datasets <a name=\"weather\"></a>"
   ]
  },
  {
   "cell_type": "markdown",
   "metadata": {},
   "source": [
    "_Explain the different weather datasets and for each one, explain each column..._"
   ]
  },
  {
   "cell_type": "markdown",
   "metadata": {},
   "source": [
    "![Weather_stations](img/map_weather_relief.png)"
   ]
  },
  {
   "cell_type": "markdown",
   "metadata": {},
   "source": [
    "![Weather_stations_plan](img/map_weather_plan.png)"
   ]
  },
  {
   "cell_type": "markdown",
   "metadata": {},
   "source": [
    "We provide 3 weather datasets:\n",
    "- ```synop.csv``` from https://public.opendatasoft.com/explore/dataset/donnees-synop-essentielles-omm/information/ , goes from 2020 to 2013.\n",
    "- ```mf_aglomerated.csv``` from https://donneespubliques.meteofrance.fr/?fond=produit&id_produit=90&id_rubrique=32 are the archived data from the previous dataset; it goes from 2020 to 1996.\n",
    "- ```meteo_stations.csv``` scraped from http://www.meteofrance.com/climat/meteo-date-passee? on the insee code of the stations of the previous two datasets from 2020 to 1973. The idea was to provide an extension of the previous datasets for the missing years."
   ]
  },
  {
   "cell_type": "markdown",
   "metadata": {},
   "source": [
    "#### Synop essentials"
   ]
  },
  {
   "cell_type": "code",
   "execution_count": 13,
   "metadata": {},
   "outputs": [
    {
     "data": {
      "text/html": [
       "<div>\n",
       "<style scoped>\n",
       "    .dataframe tbody tr th:only-of-type {\n",
       "        vertical-align: middle;\n",
       "    }\n",
       "\n",
       "    .dataframe tbody tr th {\n",
       "        vertical-align: top;\n",
       "    }\n",
       "\n",
       "    .dataframe thead th {\n",
       "        text-align: right;\n",
       "    }\n",
       "</style>\n",
       "<table border=\"1\" class=\"dataframe\">\n",
       "  <thead>\n",
       "    <tr style=\"text-align: right;\">\n",
       "      <th></th>\n",
       "      <th>ID OMM station</th>\n",
       "      <th>Date</th>\n",
       "      <th>Pression au niveau mer</th>\n",
       "      <th>Variation de pression en 3 heures</th>\n",
       "      <th>Type de tendance barométrique</th>\n",
       "      <th>Direction du vent moyen 10 mn</th>\n",
       "      <th>Vitesse du vent moyen 10 mn</th>\n",
       "      <th>Température</th>\n",
       "      <th>Point de rosée</th>\n",
       "      <th>Humidité</th>\n",
       "      <th>...</th>\n",
       "      <th>Longitude</th>\n",
       "      <th>Latitude</th>\n",
       "      <th>communes (name)</th>\n",
       "      <th>communes (code)</th>\n",
       "      <th>EPCI (name)</th>\n",
       "      <th>EPCI (code)</th>\n",
       "      <th>department (name)</th>\n",
       "      <th>department (code)</th>\n",
       "      <th>region (name)</th>\n",
       "      <th>region (code)</th>\n",
       "    </tr>\n",
       "  </thead>\n",
       "  <tbody>\n",
       "    <tr>\n",
       "      <th>0</th>\n",
       "      <td>7117</td>\n",
       "      <td>2013-08-24T17:00:00+02:00</td>\n",
       "      <td>101820.0</td>\n",
       "      <td>-30.0</td>\n",
       "      <td>8.0</td>\n",
       "      <td>280.0</td>\n",
       "      <td>7.2</td>\n",
       "      <td>291.05</td>\n",
       "      <td>282.65</td>\n",
       "      <td>58.0</td>\n",
       "      <td>...</td>\n",
       "      <td>-3.473167</td>\n",
       "      <td>48.825833</td>\n",
       "      <td>Perros-Guirec</td>\n",
       "      <td>22168</td>\n",
       "      <td>CA Lannion-Trégor Communauté</td>\n",
       "      <td>200065928.0</td>\n",
       "      <td>Côtes-d'Armor</td>\n",
       "      <td>22</td>\n",
       "      <td>Bretagne</td>\n",
       "      <td>53.0</td>\n",
       "    </tr>\n",
       "  </tbody>\n",
       "</table>\n",
       "<p>1 rows × 81 columns</p>\n",
       "</div>"
      ],
      "text/plain": [
       "   ID OMM station                       Date  Pression au niveau mer  \\\n",
       "0            7117  2013-08-24T17:00:00+02:00                101820.0   \n",
       "\n",
       "   Variation de pression en 3 heures  Type de tendance barométrique  \\\n",
       "0                              -30.0                            8.0   \n",
       "\n",
       "   Direction du vent moyen 10 mn  Vitesse du vent moyen 10 mn  Température  \\\n",
       "0                          280.0                          7.2       291.05   \n",
       "\n",
       "   Point de rosée  Humidité  ...  Longitude   Latitude communes (name)  \\\n",
       "0          282.65      58.0  ...  -3.473167  48.825833   Perros-Guirec   \n",
       "\n",
       "   communes (code)                   EPCI (name)  EPCI (code)  \\\n",
       "0            22168  CA Lannion-Trégor Communauté  200065928.0   \n",
       "\n",
       "   department (name)  department (code)  region (name)  region (code)  \n",
       "0      Côtes-d'Armor                 22       Bretagne           53.0  \n",
       "\n",
       "[1 rows x 81 columns]"
      ]
     },
     "metadata": {},
     "output_type": "display_data"
    },
    {
     "data": {
      "text/plain": [
       "(1653389, 81)"
      ]
     },
     "metadata": {},
     "output_type": "display_data"
    }
   ],
   "source": [
    "import pandas as pd\n",
    "synop = pd.read_csv(\"./data/synop.csv\", sep=\";\", low_memory=False)\n",
    "display(synop.head(1))\n",
    "display(synop.shape)"
   ]
  },
  {
   "cell_type": "markdown",
   "metadata": {},
   "source": [
    "| French name | English translation |\n",
    "|--|--|\n",
    "| ID OMM station | WMO station ID |\n",
    "| Date | Dated |\n",
    "| Pression au niveau mer | Sea level pressure |\n",
    "| Variation de pression en 3 heures | Pressure variation in 3 hours |\n",
    "| Type de tendance barométrique | Type of barometric trend |\n",
    "| Direction du vent moyen 10 mn | Average wind direction 10 mins |\n",
    "| Vitesse du vent moyen 10 mn | Average wind speed 10 mins |\n",
    "| Température | Temperature |\n",
    "| Point de rosée | Dew point |\n",
    "| Humidité | Humidity |\n",
    "| Visibilité horizontale | Horizontal visibility |\n",
    "| Temps présent | Present time |\n",
    "| Temps passé 1 | Past weather 1 |\n",
    "| Temps passé 2 | Past weather 2 |\n",
    "| Nebulosité totale | Total cloudiness |\n",
    "| Nébulosité  des nuages de l' étage inférieur | Cloudiness of clouds on the lower level |\n",
    "| Hauteur de la base des nuages de l'étage inférieur | Height of the cloud base of the lower level |\n",
    "| Type des nuages de l'étage inférieur | Type of clouds on the lower level |\n",
    "| Type des nuages de l'étage moyen | Type of mid-level clouds |\n",
    "| Type des nuages de l'étage supérieur | Type of upper-level clouds |\n",
    "| Pression station | Station pressure |\n",
    "| Niveau barométrique | Barometric level |\n",
    "| Géopotentiel | Geopotential |\n",
    "| Variation de pression en 24 heures | Pressure variation in 24 hours |\n",
    "| Température minimale sur 12 heures | Minimum temperature over 12 hours |\n",
    "| Température minimale sur 24 heures | Minimum 24 hour temperature |\n",
    "| Température maximale sur 12 heures | Maximum temperature over 12 hours |\n",
    "| Température maximale sur 24 heures | Maximum temperature over 24 hours |\n",
    "| Température minimale du sol sur 12 heures | Minimum soil temperature over 12 hours |\n",
    "| Méthode de mesure Température du thermomètre mouillé | Measuring method Wet thermometer temperature |\n",
    "| Température du thermomètre mouillé | Wet thermometer temperature |\n",
    "| Rafale sur les 10 dernières minutes | Burst over the last 10 minutes |\n",
    "| Rafales sur une période | Gusts over a period |\n",
    "| Periode de mesure de la rafale | Burst measurement period |\n",
    "| Etat du sol | Soil condition |\n",
    "| Hauteur totale de la couche de neige, glace, autre au sol | Total height of the layer of snow, ice, other on the ground |\n",
    "| Hauteur de la neige fraîche | Height of fresh snow |\n",
    "| Periode de mesure de la neige fraiche | Period for measuring fresh snow |\n",
    "| Précipitations dans la dernière heure | Precipitation in the last hour |\n",
    "| Précipitations dans les 3 dernières heures | Precipitation in the last 3 hours |\n",
    "| Précipitations dans les 6 dernières heures | Precipitation in the last 6 hours |\n",
    "| Précipitations dans les 12 dernières heures | Precipitation in the last 12 hours |\n",
    "| Précipitations dans les 24 dernières heures | Precipitation in the last 24 hours |\n",
    "| Phénomène spécial 1 | Special phenomenon 1 |\n",
    "| Phénomène spécial 2 | Special phenomenon 2 |\n",
    "| Phénomène spécial 3 | Special phenomenon 3 |\n",
    "| Phénomène spécial 4 | Special phenomenon 4 |\n",
    "| Nébulosité couche nuageuse 1 | Cloud cover 1 |\n",
    "| Type nuage 1 | Cloud type 1 |\n",
    "| Hauteur de base 1 | Basic height 1 |\n",
    "| Nébulosité couche nuageuse 2 | Cloud cover cloud 2 |\n",
    "| Type nuage 2 | Cloud type 2 |\n",
    "| Hauteur de base 2 | Basic height 2 |\n",
    "| Nébulosité couche nuageuse 3 | Cloud cover 3 |\n",
    "| Type nuage 3 | Cloud type 3 |\n",
    "| Hauteur de base 3 | Basic height 3 |\n",
    "| Nébulosité couche nuageuse 4 | Cloud cover cloudiness 4 |\n",
    "| Type nuage 4 | Cloud type 4 |\n",
    "| Hauteur de base 4 | Basic height 4 |\n",
    "| Coordonnees | Contact information |\n",
    "| Nom | Name |\n",
    "| Type de tendance barométrique.1 | Type of barometric trend. 1 |\n",
    "| Temps passé 1.1 | Time spent 1.1 |\n",
    "| Temps présent.1 | Present weather.1 |\n",
    "| Température (°C) | Temperature (° C) |\n",
    "| Température minimale sur 12 heures (°C) | Minimum temperature over 12 hours (° C) |\n",
    "| Température minimale sur 24 heures (°C) | Minimum temperature over 24 hours (° C) |\n",
    "| Température maximale sur 12 heures (°C) | Maximum temperature over 12 hours (° C) |\n",
    "| Température maximale sur 24 heures (°C) | Maximum temperature over 24 hours (° C) |\n",
    "| Température minimale du sol sur 12 heures (en °C) | Minimum soil temperature over 12 hours (in ° C) |\n",
    "| Altitude | Altitude |\n",
    "| Longitude | Longitude |\n",
    "| Latitude | Latitude |\n",
    "| communes (name) | towns (name) |\n",
    "| communes (code) | municipalities (code) |\n",
    "| EPCI (name) | EPCI (name) |\n",
    "| EPCI (code) | EPCI (code) |\n",
    "| department (name) | department (name) |\n",
    "| department (code) | department (code) |\n",
    "| region (name) | region (name) |\n",
    "| region (code) | region (code) |\n",
    "\n",
    "Check the table below for more precisioon the columns."
   ]
  },
  {
   "cell_type": "markdown",
   "metadata": {},
   "source": [
    "#### Historic synop"
   ]
  },
  {
   "cell_type": "code",
   "execution_count": 14,
   "metadata": {},
   "outputs": [
    {
     "data": {
      "text/html": [
       "<div>\n",
       "<style scoped>\n",
       "    .dataframe tbody tr th:only-of-type {\n",
       "        vertical-align: middle;\n",
       "    }\n",
       "\n",
       "    .dataframe tbody tr th {\n",
       "        vertical-align: top;\n",
       "    }\n",
       "\n",
       "    .dataframe thead th {\n",
       "        text-align: right;\n",
       "    }\n",
       "</style>\n",
       "<table border=\"1\" class=\"dataframe\">\n",
       "  <thead>\n",
       "    <tr style=\"text-align: right;\">\n",
       "      <th></th>\n",
       "      <th>numer_sta</th>\n",
       "      <th>date</th>\n",
       "      <th>pmer</th>\n",
       "      <th>tend</th>\n",
       "      <th>cod_tend</th>\n",
       "      <th>dd</th>\n",
       "      <th>ff</th>\n",
       "      <th>t</th>\n",
       "      <th>td</th>\n",
       "      <th>u</th>\n",
       "      <th>...</th>\n",
       "      <th>nnuage2</th>\n",
       "      <th>ctype2</th>\n",
       "      <th>hnuage2</th>\n",
       "      <th>nnuage3</th>\n",
       "      <th>ctype3</th>\n",
       "      <th>hnuage3</th>\n",
       "      <th>nnuage4</th>\n",
       "      <th>ctype4</th>\n",
       "      <th>hnuage4</th>\n",
       "      <th>Unnamed: 59</th>\n",
       "    </tr>\n",
       "  </thead>\n",
       "  <tbody>\n",
       "    <tr>\n",
       "      <th>0</th>\n",
       "      <td>7005</td>\n",
       "      <td>19960101000000</td>\n",
       "      <td>100030</td>\n",
       "      <td>100</td>\n",
       "      <td>1</td>\n",
       "      <td>170</td>\n",
       "      <td>2.000000</td>\n",
       "      <td>276.040000</td>\n",
       "      <td>275.950000</td>\n",
       "      <td>99</td>\n",
       "      <td>...</td>\n",
       "      <td>mq</td>\n",
       "      <td>mq</td>\n",
       "      <td>mq</td>\n",
       "      <td>mq</td>\n",
       "      <td>mq</td>\n",
       "      <td>mq</td>\n",
       "      <td>mq</td>\n",
       "      <td>mq</td>\n",
       "      <td>mq</td>\n",
       "      <td>NaN</td>\n",
       "    </tr>\n",
       "  </tbody>\n",
       "</table>\n",
       "<p>1 rows × 60 columns</p>\n",
       "</div>"
      ],
      "text/plain": [
       "   numer_sta            date    pmer tend cod_tend   dd        ff           t  \\\n",
       "0       7005  19960101000000  100030  100        1  170  2.000000  276.040000   \n",
       "\n",
       "           td   u  ... nnuage2 ctype2 hnuage2 nnuage3 ctype3 hnuage3 nnuage4  \\\n",
       "0  275.950000  99  ...      mq     mq      mq      mq     mq      mq      mq   \n",
       "\n",
       "  ctype4 hnuage4 Unnamed: 59  \n",
       "0     mq      mq         NaN  \n",
       "\n",
       "[1 rows x 60 columns]"
      ]
     },
     "metadata": {},
     "output_type": "display_data"
    },
    {
     "data": {
      "text/plain": [
       "(4030576, 60)"
      ]
     },
     "metadata": {},
     "output_type": "display_data"
    }
   ],
   "source": [
    "mf_aglomerated = pd.read_csv(\"./data/mf_aglomerated.csv\", sep=\",\", low_memory=False)\n",
    "display(mf_aglomerated.head(1))\n",
    "display(mf_aglomerated.shape)"
   ]
  },
  {
   "cell_type": "markdown",
   "metadata": {},
   "source": [
    "| Descriptive | Mnemonic | type | unit |\n",
    "|----------- |------------|------|-------|\n",
    "| OMM station id | numer_sta | char | |\n",
    "| Date (UTC) | date | char | AAAAMMDDHHMISS |                \n",
    "| Pressure at sea level | pmer | int | Pa |\n",
    "| Pressure variation in 3 hours | tend | int | Pa |\n",
    "| Type of barometric trend | cod_tend | int | code (0200) |\n",
    "| Average wind direction 10 mn | dd | int | degree |\n",
    "| Average wind speed 10 mn | ff | real | m/s |\n",
    "| Temperature | t | real | K |\n",
    "| Dew point | td | real | K |\n",
    "| Humidity | u | int | % |\n",
    "| Horizontal visibility | vv | real | m |\n",
    "| Present weather | ww | int | code (4677) |\n",
    "| Weather past 1 | w1 | int | code (4561) |\n",
    "| Weather past 2 | w2 | int | code (4561) |\n",
    "| Total cloudiness | n | real | % |\n",
    "| Cloudiness of the clouds of the lower level | nbas | int | octa |\n",
    "| Height of the cloud base of the lower level | hbas | int | mètre |\n",
    "| Type of clouds on the lower level | cl | int | code (0513) |\n",
    "| Type of mid-level clouds | cm | int | code (0515) |\n",
    "| Type of upper-level clouds | ch | int | code (0509) |\n",
    "| Station pressure | pres | int | Pa |\n",
    "| Barometric level | niv_bar | int | Pa |\n",
    "| Geopotential | geop | int | m2/s2 |\n",
    "| Pressure variation in 24 hours | tend24 | int | Pa |\n",
    "| Minimum temperature over N hours | tnN | real | K |\n",
    "| Maximum temperature over N hours | txN | real | K |\n",
    "| Minimum soil temperature over 12 hours | tminsol | real | K |\n",
    "| Tw measurement method | sw | int | code (3855) |\n",
    "| Wet thermometer temperature | tw | real | K |\n",
    "| Gusts over the last 10 minutes | raf10 | real | m/s |\n",
    "| Gusts over a period | rafper | real | m/s |\n",
    "| Burst measurement period | per | real | min |\n",
    "| Soil condition | etat_sol | int | code (0901) |\n",
    "| Total height of the layer of snow, ice, other; on the ground | ht_neige | real | m |\n",
    "| Height of fresh snow | ssfrai | real | m                         |\n",
    "| Period for measuring fresh snow | perssfrai | real | 1/10 heure|\n",
    "| Precipitation in the last N hours | rrN | real | mm | \n",
    "| Special phenomenon | phenspeN | real | code (3778) |\n",
    "| Cloudiness cche clouds N | nnuageN | int | octa |\n",
    "| Cloud type N | ctypeN | int | code (0500) | \n",
    "| Basic height N | hnuageN | int | m |\n",
    "\n",
    "char : ascii characters, int : integer, real : real number (with float).\n",
    "The numbers in parantheses preceded by the word \"code\" refer to the code table of the WMO (World Meteorological Organization): https://www.wmo.int/pages/prog/www/WMOCodes/WMO306_vI1/Publications/2017update/WMO306_vI1_2011UP2017_en.pdf."
   ]
  },
  {
   "cell_type": "markdown",
   "metadata": {},
   "source": [
    "#### Scraped data"
   ]
  },
  {
   "cell_type": "code",
   "execution_count": 15,
   "metadata": {},
   "outputs": [
    {
     "data": {
      "text/html": [
       "<div>\n",
       "<style scoped>\n",
       "    .dataframe tbody tr th:only-of-type {\n",
       "        vertical-align: middle;\n",
       "    }\n",
       "\n",
       "    .dataframe tbody tr th {\n",
       "        vertical-align: top;\n",
       "    }\n",
       "\n",
       "    .dataframe thead th {\n",
       "        text-align: right;\n",
       "    }\n",
       "</style>\n",
       "<table border=\"1\" class=\"dataframe\">\n",
       "  <thead>\n",
       "    <tr style=\"text-align: right;\">\n",
       "      <th></th>\n",
       "      <th>date</th>\n",
       "      <th>insee_code</th>\n",
       "      <th>daylight duration (hours)</th>\n",
       "      <th>rainfall (mm)</th>\n",
       "      <th>minimum temperature (celsius)</th>\n",
       "      <th>maximal temperature (celsius)</th>\n",
       "    </tr>\n",
       "  </thead>\n",
       "  <tbody>\n",
       "    <tr>\n",
       "      <th>0</th>\n",
       "      <td>1973-01-01</td>\n",
       "      <td>43157</td>\n",
       "      <td>NaN</td>\n",
       "      <td>NaN</td>\n",
       "      <td>NaN</td>\n",
       "      <td>NaN</td>\n",
       "    </tr>\n",
       "  </tbody>\n",
       "</table>\n",
       "</div>"
      ],
      "text/plain": [
       "         date insee_code  daylight duration (hours)  rainfall (mm)  \\\n",
       "0  1973-01-01      43157                        NaN            NaN   \n",
       "\n",
       "   minimum temperature (celsius)  maximal temperature (celsius)  \n",
       "0                            NaN                            NaN  "
      ]
     },
     "metadata": {},
     "output_type": "display_data"
    },
    {
     "data": {
      "text/plain": [
       "(206316, 6)"
      ]
     },
     "metadata": {},
     "output_type": "display_data"
    }
   ],
   "source": [
    "meteo_stations = pd.read_csv(\"./data/meteo_stations.csv\", sep=\";\", low_memory=False)\n",
    "display(meteo_stations.head(1))\n",
    "display(meteo_stations.shape)"
   ]
  },
  {
   "cell_type": "markdown",
   "metadata": {},
   "source": [
    "### Forest dataset <a name=\"forest\"></a>"
   ]
  },
  {
   "cell_type": "markdown",
   "metadata": {},
   "source": [
    "The forest data set we provide you is extracted from an ONF (Office National des Forêts) data set listing the different forests in France, with their shape and location. You can find the original data set <a href=https://www.data.gouv.fr/fr/datasets/forets-publiques-diffusion-publique-1/>here</a>.\n",
    "\n",
    "Our dataset is slightly different from the original one. First, it only contains forests of the departements for which we have fire data, so departement of the south-east part of France. And secondly, since it takes some time, we precomputed the areas of the forests, which can be used in a regression model. You can find the function which does it in the utils.py file. We will use the geopandas package to read the file which is a geojson. It allows us to have a dataframe containing as columns the properties of the features, and a column geometry containing the geometry of each feature.\n",
    "\n",
    "We list here what desciptors we have for each forest\n",
    "\n",
    "- __iidtn_frt__: id of the forest\n",
    "- __llib_frt__: name of the forest\n",
    "- __cdom_frt__: wheter it is a state or a communal forest ('NON' for communal forest and 'OUI' for state forests)\n",
    "- __cinse_dep__: department of the forest\n",
    "- __area__: the area of the forest inb square meters\n",
    "- __geometry__: shapely objects describing the shape of a forest (Polygon or MultiPolygon). You can learn how to manipulate these objects <a href=https://shapely.readthedocs.io/en/stable/manual.html>here</a>\n",
    "\n",
    "\n",
    "\n",
    "We can visualize bellow what these forests look like."
   ]
  },
  {
   "cell_type": "markdown",
   "metadata": {},
   "source": [
    "![Forests](img/map_forests.png)"
   ]
  },
  {
   "cell_type": "markdown",
   "metadata": {},
   "source": [
    "### Split <a name=\"split\"></a>"
   ]
  },
  {
   "cell_type": "markdown",
   "metadata": {},
   "source": [
    "As we will show it during the exploratory data analysis, our dataset is highly imbalanced. Indeed, there exists two types of fires: it can either be a forest fire, so a regular one, with a minimum burning surface of a square meter, or an AFERPU, only a fire start which did not burn anything really (less than a square meter). The AFERPU ones had been filled with an area of 0.001 square meter each. Obviously we do not provide the category to which each fire belongs, because we do not have this information when a fire actually starts in real life.\n",
    "\n",
    "Thus, in this dataset you will find a lot of AFERPU (more or less 75%) and only 25% of forest fires. In order to preserve the distribution of the data given this observation and given that our initial dataset is not that large (481940 raws), we've splitted it using a stratified method.\n",
    "\n",
    "For this, we adapted the classification case by creating levels of fires depending on the area burnt. These method was applied to split the dataset into a public and a private one, and then to split each one into a train set and a test set.\n",
    "\n",
    "At the end, we've obtained datasets of sizes:\n",
    "\n",
    "- __public train set:__ (271 091, 10)\n",
    "- __public test set:__ (90 364, 10)\n",
    "- __private set:__ (120 485, 10)"
   ]
  },
  {
   "cell_type": "markdown",
   "metadata": {},
   "source": [
    "## Loss <a name=\"loss\"></a>"
   ]
  },
  {
   "cell_type": "markdown",
   "metadata": {},
   "source": [
    "Given the previous commentary on our imbalanced data and given the KPI's we want to improve, we can point out 4 caracteristics that our loss would be required to have, in order to learn a model that fits our needs.\n",
    "\n",
    "- First, we want an asymetric loss which penalizes more under predictions. In our state of mind, in order to prevent a fire to spread, it is best to predict a greater surface burned, in which case we would mobilize more means than necessary, than the opposite.\n",
    "\n",
    "- Then, we want to penalize more gaps for small values than for big values. For instance, it would be way worst to predict that a fire would burn 0 $m^2$ if it was going to burn 100 $m^2$, than predicting 100 100 $m^2$ or 99 900 $m^2$ burned instead of 100 000 $m^2$. This is why we will apply a log on the prediction and true value before computing their difference.\n",
    "\n",
    "- In addition we want to penalize more big gaps beetween the prediction and true value, so we will use a powered loss (like MSE)\n",
    "\n",
    "- And finally, we noticed during the exploratory analysis that most of the fires burned mostly nothing, so the data set is very imbalanced (about 75% of zeros). We need to add something to the loss so it does not always predict zero.\n",
    "\n",
    "The loss we finally came up with a modified version of the quad quad loss, with $\\alpha \\in [0,1]$:\n",
    "\n",
    "$$\\mathcal{L}_\\alpha\\left(y,\\hat{y}\\right) = 2\\left( \\alpha + (1-2\\alpha)\\mathbb{1}_{\\{y-\\hat{y} < 0\\}} \\right)\\left(log(y) - log(\\hat{y}) \\right)^{2}$$\n",
    "\n",
    "The multiplicative coefficient is $2\\alpha$ when $y > \\hat{y}$ and $2(1-\\alpha)$ when $y < \\hat{y}$. Thus, to penalize more under predictions we will choose $\\alpha > 0.5$. We've set $\\alpha = 0.7$.\n",
    "\n",
    "The total score in a dataset of size $n$ will be computed by:\n",
    "\n",
    "$$ \\text{score} = \\sqrt{\\frac{1}{n} \\sum_{i = 1}^{n} \\mathcal{L}_\\alpha\\left(y_i,\\hat{y_i}\\right) } $$\n",
    "\n",
    "We can visualize it as a function of $\\hat{y}$ and for various values of $y$:"
   ]
  },
  {
   "cell_type": "code",
   "execution_count": 1,
   "metadata": {},
   "outputs": [],
   "source": [
    "import numpy as np\n",
    "import matplotlib.pyplot as plt\n",
    "import matplotlib.cm as cm\n",
    "import pandas as pd"
   ]
  },
  {
   "cell_type": "code",
   "execution_count": 2,
   "metadata": {},
   "outputs": [
    {
     "name": "stderr",
     "output_type": "stream",
     "text": [
      "/Users/margauxzaffran/anaconda3/lib/python3.7/site-packages/IPython/core/pylabtools.py:128: UserWarning: Creating legend with loc=\"best\" can be slow with large amounts of data.\n",
      "  fig.canvas.print_figure(bytes_io, **kw)\n"
     ]
    },
    {
     "data": {
      "image/png": "[encoded data removed]",
      "text/plain": [
       "<Figure size 720x504 with 1 Axes>"
      ]
     },
     "metadata": {
      "needs_background": "light"
     },
     "output_type": "display_data"
    }
   ],
   "source": [
    "alpha = 0.7\n",
    "y = [0.001,12,20,55,150,400,1100,2980,8100,22000,60000,160000,440000,1203000,3269000]\n",
    "ypred = np.arange(0.0009,3270000,1)\n",
    "\n",
    "def quadquadlog(alpha,y,ypred):\n",
    "    return 2*(alpha+(1-2*alpha)*(1*((np.log(y)-np.log(ypred)) < 0)))*((np.log(y)-np.log(ypred))**2)\n",
    "\n",
    "plt.figure(figsize=(10,7))\n",
    "colors = cm.rainbow(np.linspace(0, 1, len(y)))\n",
    "for elem, c in zip(y, colors):\n",
    "    plt.plot(np.log(ypred), quadquadlog(alpha,elem,ypred),color=c,label='y = '+str(elem))\n",
    "plt.legend()\n",
    "plt.xlabel(r'Logarithm of estimated value $\\hat{y}$')\n",
    "plt.ylabel(r'Loss, with $\\alpha = 0.7$ and $p = 2$')\n",
    "plt.title(r'Quadquadlog loss, i.e. $\\mathcal{L}_{\\alpha,p}\\left(y,\\hat{y}\\right) = 2\\left( \\alpha + (1-2\\alpha)\\mathbb{1}_{\\{log(y)-log(\\hat{y}) < 0\\}} \\right)\\left(log(y) - log(\\hat{y}) \\right)^{p}$')\n",
    "plt.show()"
   ]
  },
  {
   "cell_type": "markdown",
   "metadata": {},
   "source": [
    "## Exploratory data analysis  <a name=\"explo\"></a>"
   ]
  },
  {
   "cell_type": "markdown",
   "metadata": {},
   "source": [
    "### Loading data  <a name=\"loading_data\"></a>"
   ]
  },
  {
   "cell_type": "markdown",
   "metadata": {},
   "source": [
    "Downloading public train and test data can be achieved using ```get_train_data``` and ```get_test_data``` functions:"
   ]
  },
  {
   "cell_type": "code",
   "execution_count": 3,
   "metadata": {},
   "outputs": [],
   "source": [
    "from problem import get_train_data\n",
    "\n",
    "X_df, y_array = get_train_data()"
   ]
  },
  {
   "cell_type": "markdown",
   "metadata": {},
   "source": [
    "Downloading the other datasets is done by executing ```download_data```. The files downloaded will be stored in the data folder, as are the main public datasets, but also in the starting_kit folder in the submission folder. The files are retrievied from a private google drive."
   ]
  },
  {
   "cell_type": "code",
   "execution_count": 4,
   "metadata": {},
   "outputs": [],
   "source": [
    "!python download_data.py"
   ]
  },
  {
   "cell_type": "markdown",
   "metadata": {},
   "source": [
    "### Fires  <a name=\"fires_explo\"></a>"
   ]
  },
  {
   "cell_type": "markdown",
   "metadata": {},
   "source": [
    "_To be done: main dataset analysis_"
   ]
  },
  {
   "cell_type": "code",
   "execution_count": 5,
   "metadata": {},
   "outputs": [
    {
     "data": {
      "text/html": [
       "<div>\n",
       "<style scoped>\n",
       "    .dataframe tbody tr th:only-of-type {\n",
       "        vertical-align: middle;\n",
       "    }\n",
       "\n",
       "    .dataframe tbody tr th {\n",
       "        vertical-align: top;\n",
       "    }\n",
       "\n",
       "    .dataframe thead th {\n",
       "        text-align: right;\n",
       "    }\n",
       "</style>\n",
       "<table border=\"1\" class=\"dataframe\">\n",
       "  <thead>\n",
       "    <tr style=\"text-align: right;\">\n",
       "      <th></th>\n",
       "      <th>Year</th>\n",
       "      <th>ID</th>\n",
       "      <th>Department</th>\n",
       "      <th>INSEE_code</th>\n",
       "      <th>Town</th>\n",
       "      <th>Locality</th>\n",
       "      <th>DFCI_coordinate</th>\n",
       "      <th>Signal</th>\n",
       "      <th>Origin</th>\n",
       "    </tr>\n",
       "  </thead>\n",
       "  <tbody>\n",
       "    <tr>\n",
       "      <td>0</td>\n",
       "      <td>1983</td>\n",
       "      <td>1575</td>\n",
       "      <td>2B</td>\n",
       "      <td>2B337</td>\n",
       "      <td>Valle-di-Rostino</td>\n",
       "      <td>VALLE DI ROSTINO</td>\n",
       "      <td>NC66B42</td>\n",
       "      <td>1983-09-08 15:55:00</td>\n",
       "      <td>3.0</td>\n",
       "    </tr>\n",
       "    <tr>\n",
       "      <td>1</td>\n",
       "      <td>1981</td>\n",
       "      <td>2838</td>\n",
       "      <td>83</td>\n",
       "      <td>83057</td>\n",
       "      <td>Flassans-sur-Issole</td>\n",
       "      <td>FLASSANS SUR ISSOLE</td>\n",
       "      <td>KD82A75</td>\n",
       "      <td>1981-05-03 17:20:00</td>\n",
       "      <td>3.0</td>\n",
       "    </tr>\n",
       "    <tr>\n",
       "      <td>2</td>\n",
       "      <td>1989</td>\n",
       "      <td>6600</td>\n",
       "      <td>11</td>\n",
       "      <td>11421</td>\n",
       "      <td>Villedaigne</td>\n",
       "      <td>NaN</td>\n",
       "      <td>FC68C63</td>\n",
       "      <td>1989-08-07 14:42:00</td>\n",
       "      <td>NaN</td>\n",
       "    </tr>\n",
       "    <tr>\n",
       "      <td>3</td>\n",
       "      <td>2012</td>\n",
       "      <td>3995</td>\n",
       "      <td>30</td>\n",
       "      <td>30189</td>\n",
       "      <td>Nîmes</td>\n",
       "      <td>NaN</td>\n",
       "      <td>HE60D91</td>\n",
       "      <td>2012-03-12 17:38:00</td>\n",
       "      <td>3.0</td>\n",
       "    </tr>\n",
       "    <tr>\n",
       "      <td>4</td>\n",
       "      <td>1989</td>\n",
       "      <td>15627</td>\n",
       "      <td>34</td>\n",
       "      <td>34084</td>\n",
       "      <td>Corneilhan</td>\n",
       "      <td>NaN</td>\n",
       "      <td>GD20B94</td>\n",
       "      <td>1989-09-27 17:15:00</td>\n",
       "      <td>NaN</td>\n",
       "    </tr>\n",
       "  </tbody>\n",
       "</table>\n",
       "</div>"
      ],
      "text/plain": [
       "   Year     ID Department INSEE_code                 Town  \\\n",
       "0  1983   1575         2B      2B337     Valle-di-Rostino   \n",
       "1  1981   2838         83      83057  Flassans-sur-Issole   \n",
       "2  1989   6600         11      11421          Villedaigne   \n",
       "3  2012   3995         30      30189                Nîmes   \n",
       "4  1989  15627         34      34084           Corneilhan   \n",
       "\n",
       "              Locality DFCI_coordinate               Signal  Origin  \n",
       "0     VALLE DI ROSTINO         NC66B42  1983-09-08 15:55:00     3.0  \n",
       "1  FLASSANS SUR ISSOLE         KD82A75  1981-05-03 17:20:00     3.0  \n",
       "2                  NaN         FC68C63  1989-08-07 14:42:00     NaN  \n",
       "3                  NaN         HE60D91  2012-03-12 17:38:00     3.0  \n",
       "4                  NaN         GD20B94  1989-09-27 17:15:00     NaN  "
      ]
     },
     "execution_count": 5,
     "metadata": {},
     "output_type": "execute_result"
    }
   ],
   "source": [
    "X_df.head()"
   ]
  },
  {
   "cell_type": "code",
   "execution_count": 6,
   "metadata": {},
   "outputs": [
    {
     "data": {
      "text/plain": [
       "Year                 int64\n",
       "ID                   int64\n",
       "Department          object\n",
       "INSEE_code          object\n",
       "Town                object\n",
       "Locality            object\n",
       "DFCI_coordinate     object\n",
       "Signal              object\n",
       "Origin             float64\n",
       "dtype: object"
      ]
     },
     "execution_count": 6,
     "metadata": {},
     "output_type": "execute_result"
    }
   ],
   "source": [
    "X_df.dtypes"
   ]
  },
  {
   "cell_type": "code",
   "execution_count": 7,
   "metadata": {},
   "outputs": [
    {
     "data": {
      "text/plain": [
       "Year               0.000000\n",
       "ID                 0.000000\n",
       "Department         0.000000\n",
       "INSEE_code         0.000066\n",
       "Town               0.000066\n",
       "Locality           0.595877\n",
       "DFCI_coordinate    0.000000\n",
       "Signal             0.000000\n",
       "Origin             0.529888\n",
       "dtype: float64"
      ]
     },
     "execution_count": 7,
     "metadata": {},
     "output_type": "execute_result"
    }
   ],
   "source": [
    "X_df.isna().sum() / X_df.shape[0]"
   ]
  },
  {
   "cell_type": "code",
   "execution_count": 101,
   "metadata": {},
   "outputs": [
    {
     "ename": "NameError",
     "evalue": "name 'plt' is not defined",
     "output_type": "error",
     "traceback": [
      "\u001b[0;31m---------------------------------------------------------------------------\u001b[0m",
      "\u001b[0;31mNameError\u001b[0m                                 Traceback (most recent call last)",
      "\u001b[0;32m<ipython-input-101-5bbb24b061fc>\u001b[0m in \u001b[0;36m<module>\u001b[0;34m()\u001b[0m\n\u001b[0;32m----> 1\u001b[0;31m \u001b[0mplt\u001b[0m\u001b[0;34m.\u001b[0m\u001b[0mhist\u001b[0m\u001b[0;34m(\u001b[0m\u001b[0mnp\u001b[0m\u001b[0;34m.\u001b[0m\u001b[0mlog\u001b[0m\u001b[0;34m(\u001b[0m\u001b[0my_array\u001b[0m\u001b[0;34m)\u001b[0m\u001b[0;34m,\u001b[0m\u001b[0mbins\u001b[0m\u001b[0;34m=\u001b[0m\u001b[0;36m75\u001b[0m\u001b[0;34m)\u001b[0m\u001b[0;34m\u001b[0m\u001b[0m\n\u001b[0m\u001b[1;32m      2\u001b[0m \u001b[0mplt\u001b[0m\u001b[0;34m.\u001b[0m\u001b[0mshow\u001b[0m\u001b[0;34m(\u001b[0m\u001b[0;34m)\u001b[0m\u001b[0;34m\u001b[0m\u001b[0m\n\u001b[1;32m      3\u001b[0m \u001b[0mnp\u001b[0m\u001b[0;34m.\u001b[0m\u001b[0mlog\u001b[0m\u001b[0;34m(\u001b[0m\u001b[0;36m0.0001\u001b[0m\u001b[0;34m)\u001b[0m\u001b[0;34m\u001b[0m\u001b[0m\n",
      "\u001b[0;31mNameError\u001b[0m: name 'plt' is not defined"
     ]
    }
   ],
   "source": [
    "plt.hist(np.log(y_array), bins=75)\n",
    "plt.show()\n",
    "np.log(0.0001)"
   ]
  },
  {
   "cell_type": "markdown",
   "metadata": {},
   "source": [
    "This plot show very well the imbablancing we were refering to earlier. The value with the highest frequency correspond to $\\text{log}(0.0001)$"
   ]
  },
  {
   "cell_type": "code",
   "execution_count": 9,
   "metadata": {},
   "outputs": [
    {
     "data": {
      "image/png": "[encoded data removed]",
      "text/plain": [
       "<Figure size 432x288 with 1 Axes>"
      ]
     },
     "metadata": {
      "needs_background": "light"
     },
     "output_type": "display_data"
    }
   ],
   "source": [
    "plt.hist(np.log(y_array[y_array != 0.001]), bins=50)\n",
    "plt.show()"
   ]
  },
  {
   "cell_type": "markdown",
   "metadata": {},
   "source": [
    "### Weather and fires <a name=\"weather_explo\"></a>"
   ]
  },
  {
   "cell_type": "markdown",
   "metadata": {},
   "source": [
    "_Analysis of the correlation between weather and fires_\n",
    "\n"
   ]
  },
  {
   "cell_type": "code",
   "execution_count": 12,
   "metadata": {},
   "outputs": [
    {
     "name": "stderr",
     "output_type": "stream",
     "text": [
      "/Users/margauxzaffran/anaconda3/lib/python3.7/site-packages/IPython/core/interactiveshell.py:3058: DtypeWarning: Columns (2) have mixed types. Specify dtype option on import or set low_memory=False.\n",
      "  interactivity=interactivity, compiler=compiler, result=result)\n"
     ]
    }
   ],
   "source": [
    "weather_old = pd.read_csv(\"data/meteo_stations.csv\", delimiter=\";\")"
   ]
  },
  {
   "cell_type": "code",
   "execution_count": 13,
   "metadata": {},
   "outputs": [
    {
     "data": {
      "text/html": [
       "<div>\n",
       "<style scoped>\n",
       "    .dataframe tbody tr th:only-of-type {\n",
       "        vertical-align: middle;\n",
       "    }\n",
       "\n",
       "    .dataframe tbody tr th {\n",
       "        vertical-align: top;\n",
       "    }\n",
       "\n",
       "    .dataframe thead th {\n",
       "        text-align: right;\n",
       "    }\n",
       "</style>\n",
       "<table border=\"1\" class=\"dataframe\">\n",
       "  <thead>\n",
       "    <tr style=\"text-align: right;\">\n",
       "      <th></th>\n",
       "      <th>Unnamed: 0</th>\n",
       "      <th>date</th>\n",
       "      <th>insee_code</th>\n",
       "      <th>daylight duration (hours)</th>\n",
       "      <th>rainfall (mm)</th>\n",
       "      <th>minimum temperature (celsius)</th>\n",
       "      <th>maximal temperature (celsius)</th>\n",
       "    </tr>\n",
       "  </thead>\n",
       "  <tbody>\n",
       "    <tr>\n",
       "      <td>206306</td>\n",
       "      <td>206306</td>\n",
       "      <td>2020-01-18</td>\n",
       "      <td>2B033</td>\n",
       "      <td>7.0</td>\n",
       "      <td>0.0</td>\n",
       "      <td>6.4</td>\n",
       "      <td>16.2</td>\n",
       "    </tr>\n",
       "    <tr>\n",
       "      <td>206307</td>\n",
       "      <td>206307</td>\n",
       "      <td>2020-01-19</td>\n",
       "      <td>2B033</td>\n",
       "      <td>1.0</td>\n",
       "      <td>3.4</td>\n",
       "      <td>4.4</td>\n",
       "      <td>12.6</td>\n",
       "    </tr>\n",
       "    <tr>\n",
       "      <td>206308</td>\n",
       "      <td>206308</td>\n",
       "      <td>2020-01-20</td>\n",
       "      <td>2B033</td>\n",
       "      <td>0.0</td>\n",
       "      <td>0.2</td>\n",
       "      <td>9.0</td>\n",
       "      <td>11.3</td>\n",
       "    </tr>\n",
       "    <tr>\n",
       "      <td>206309</td>\n",
       "      <td>206309</td>\n",
       "      <td>2020-01-21</td>\n",
       "      <td>2B033</td>\n",
       "      <td>NaN</td>\n",
       "      <td>NaN</td>\n",
       "      <td>NaN</td>\n",
       "      <td>NaN</td>\n",
       "    </tr>\n",
       "    <tr>\n",
       "      <td>206310</td>\n",
       "      <td>206310</td>\n",
       "      <td>2020-01-22</td>\n",
       "      <td>2B033</td>\n",
       "      <td>3.0</td>\n",
       "      <td>0.2</td>\n",
       "      <td>10.4</td>\n",
       "      <td>16.0</td>\n",
       "    </tr>\n",
       "    <tr>\n",
       "      <td>206311</td>\n",
       "      <td>206311</td>\n",
       "      <td>2020-01-23</td>\n",
       "      <td>2B033</td>\n",
       "      <td>0.0</td>\n",
       "      <td>0.8</td>\n",
       "      <td>5.4</td>\n",
       "      <td>13.9</td>\n",
       "    </tr>\n",
       "    <tr>\n",
       "      <td>206312</td>\n",
       "      <td>206312</td>\n",
       "      <td>2020-01-24</td>\n",
       "      <td>2B033</td>\n",
       "      <td>0.0</td>\n",
       "      <td>45.0</td>\n",
       "      <td>9.8</td>\n",
       "      <td>14.1</td>\n",
       "    </tr>\n",
       "    <tr>\n",
       "      <td>206313</td>\n",
       "      <td>206313</td>\n",
       "      <td>2020-01-25</td>\n",
       "      <td>2B033</td>\n",
       "      <td>5.0</td>\n",
       "      <td>0.0</td>\n",
       "      <td>6.7</td>\n",
       "      <td>16.0</td>\n",
       "    </tr>\n",
       "    <tr>\n",
       "      <td>206314</td>\n",
       "      <td>206314</td>\n",
       "      <td>2020-01-26</td>\n",
       "      <td>2B033</td>\n",
       "      <td>7.0</td>\n",
       "      <td>0.0</td>\n",
       "      <td>7.0</td>\n",
       "      <td>15.5</td>\n",
       "    </tr>\n",
       "    <tr>\n",
       "      <td>206315</td>\n",
       "      <td>206315</td>\n",
       "      <td>2020-01-27</td>\n",
       "      <td>2B033</td>\n",
       "      <td>7.0</td>\n",
       "      <td>0.0</td>\n",
       "      <td>5.5</td>\n",
       "      <td>15.5</td>\n",
       "    </tr>\n",
       "  </tbody>\n",
       "</table>\n",
       "</div>"
      ],
      "text/plain": [
       "        Unnamed: 0        date insee_code  daylight duration (hours)  \\\n",
       "206306      206306  2020-01-18      2B033                        7.0   \n",
       "206307      206307  2020-01-19      2B033                        1.0   \n",
       "206308      206308  2020-01-20      2B033                        0.0   \n",
       "206309      206309  2020-01-21      2B033                        NaN   \n",
       "206310      206310  2020-01-22      2B033                        3.0   \n",
       "206311      206311  2020-01-23      2B033                        0.0   \n",
       "206312      206312  2020-01-24      2B033                        0.0   \n",
       "206313      206313  2020-01-25      2B033                        5.0   \n",
       "206314      206314  2020-01-26      2B033                        7.0   \n",
       "206315      206315  2020-01-27      2B033                        7.0   \n",
       "\n",
       "        rainfall (mm)  minimum temperature (celsius)  \\\n",
       "206306            0.0                            6.4   \n",
       "206307            3.4                            4.4   \n",
       "206308            0.2                            9.0   \n",
       "206309            NaN                            NaN   \n",
       "206310            0.2                           10.4   \n",
       "206311            0.8                            5.4   \n",
       "206312           45.0                            9.8   \n",
       "206313            0.0                            6.7   \n",
       "206314            0.0                            7.0   \n",
       "206315            0.0                            5.5   \n",
       "\n",
       "        maximal temperature (celsius)  \n",
       "206306                           16.2  \n",
       "206307                           12.6  \n",
       "206308                           11.3  \n",
       "206309                            NaN  \n",
       "206310                           16.0  \n",
       "206311                           13.9  \n",
       "206312                           14.1  \n",
       "206313                           16.0  \n",
       "206314                           15.5  \n",
       "206315                           15.5  "
      ]
     },
     "execution_count": 13,
     "metadata": {},
     "output_type": "execute_result"
    }
   ],
   "source": [
    "weather_old.tail(10)"
   ]
  },
  {
   "cell_type": "code",
   "execution_count": 14,
   "metadata": {},
   "outputs": [
    {
     "data": {
      "text/plain": [
       "Unnamed: 0                         int64\n",
       "date                              object\n",
       "insee_code                        object\n",
       "daylight duration (hours)        float64\n",
       "rainfall (mm)                    float64\n",
       "minimum temperature (celsius)    float64\n",
       "maximal temperature (celsius)    float64\n",
       "dtype: object"
      ]
     },
     "execution_count": 14,
     "metadata": {},
     "output_type": "execute_result"
    }
   ],
   "source": [
    "weather_old.dtypes"
   ]
  },
  {
   "cell_type": "code",
   "execution_count": 15,
   "metadata": {},
   "outputs": [],
   "source": [
    "weather_old['date'] = pd.to_datetime(weather_old['date'], format='%Y-%m-%d')"
   ]
  },
  {
   "cell_type": "code",
   "execution_count": 16,
   "metadata": {},
   "outputs": [
    {
     "name": "stderr",
     "output_type": "stream",
     "text": [
      "/Users/margauxzaffran/anaconda3/lib/python3.7/site-packages/IPython/core/interactiveshell.py:3058: DtypeWarning: Columns (3,4,5,6,7,8,9,20) have mixed types. Specify dtype option on import or set low_memory=False.\n",
      "  interactivity=interactivity, compiler=compiler, result=result)\n"
     ]
    }
   ],
   "source": [
    "weather_mid = pd.read_csv(\"data/mf_aglomerated.csv\")"
   ]
  },
  {
   "cell_type": "code",
   "execution_count": 17,
   "metadata": {},
   "outputs": [
    {
     "data": {
      "text/html": [
       "<div>\n",
       "<style scoped>\n",
       "    .dataframe tbody tr th:only-of-type {\n",
       "        vertical-align: middle;\n",
       "    }\n",
       "\n",
       "    .dataframe tbody tr th {\n",
       "        vertical-align: top;\n",
       "    }\n",
       "\n",
       "    .dataframe thead th {\n",
       "        text-align: right;\n",
       "    }\n",
       "</style>\n",
       "<table border=\"1\" class=\"dataframe\">\n",
       "  <thead>\n",
       "    <tr style=\"text-align: right;\">\n",
       "      <th></th>\n",
       "      <th>numer_sta</th>\n",
       "      <th>date</th>\n",
       "      <th>pmer</th>\n",
       "      <th>tend</th>\n",
       "      <th>cod_tend</th>\n",
       "      <th>dd</th>\n",
       "      <th>ff</th>\n",
       "      <th>t</th>\n",
       "      <th>td</th>\n",
       "      <th>u</th>\n",
       "      <th>...</th>\n",
       "      <th>nnuage2</th>\n",
       "      <th>ctype2</th>\n",
       "      <th>hnuage2</th>\n",
       "      <th>nnuage3</th>\n",
       "      <th>ctype3</th>\n",
       "      <th>hnuage3</th>\n",
       "      <th>nnuage4</th>\n",
       "      <th>ctype4</th>\n",
       "      <th>hnuage4</th>\n",
       "      <th>Unnamed: 59</th>\n",
       "    </tr>\n",
       "  </thead>\n",
       "  <tbody>\n",
       "    <tr>\n",
       "      <td>0</td>\n",
       "      <td>7005</td>\n",
       "      <td>19960101000000</td>\n",
       "      <td>100030</td>\n",
       "      <td>100</td>\n",
       "      <td>1</td>\n",
       "      <td>170</td>\n",
       "      <td>2.000000</td>\n",
       "      <td>276.040000</td>\n",
       "      <td>275.950000</td>\n",
       "      <td>99</td>\n",
       "      <td>...</td>\n",
       "      <td>mq</td>\n",
       "      <td>mq</td>\n",
       "      <td>mq</td>\n",
       "      <td>mq</td>\n",
       "      <td>mq</td>\n",
       "      <td>mq</td>\n",
       "      <td>mq</td>\n",
       "      <td>mq</td>\n",
       "      <td>mq</td>\n",
       "      <td>NaN</td>\n",
       "    </tr>\n",
       "    <tr>\n",
       "      <td>1</td>\n",
       "      <td>7015</td>\n",
       "      <td>19960101000000</td>\n",
       "      <td>100020</td>\n",
       "      <td>100</td>\n",
       "      <td>1</td>\n",
       "      <td>0</td>\n",
       "      <td>0.000000</td>\n",
       "      <td>275.950000</td>\n",
       "      <td>275.350000</td>\n",
       "      <td>96</td>\n",
       "      <td>...</td>\n",
       "      <td>mq</td>\n",
       "      <td>mq</td>\n",
       "      <td>mq</td>\n",
       "      <td>mq</td>\n",
       "      <td>mq</td>\n",
       "      <td>mq</td>\n",
       "      <td>mq</td>\n",
       "      <td>mq</td>\n",
       "      <td>mq</td>\n",
       "      <td>NaN</td>\n",
       "    </tr>\n",
       "    <tr>\n",
       "      <td>2</td>\n",
       "      <td>7020</td>\n",
       "      <td>19960101000000</td>\n",
       "      <td>99740</td>\n",
       "      <td>-50</td>\n",
       "      <td>8</td>\n",
       "      <td>180</td>\n",
       "      <td>8.200000</td>\n",
       "      <td>281.650000</td>\n",
       "      <td>281.540000</td>\n",
       "      <td>99</td>\n",
       "      <td>...</td>\n",
       "      <td>mq</td>\n",
       "      <td>mq</td>\n",
       "      <td>mq</td>\n",
       "      <td>mq</td>\n",
       "      <td>mq</td>\n",
       "      <td>mq</td>\n",
       "      <td>mq</td>\n",
       "      <td>mq</td>\n",
       "      <td>mq</td>\n",
       "      <td>NaN</td>\n",
       "    </tr>\n",
       "    <tr>\n",
       "      <td>3</td>\n",
       "      <td>7027</td>\n",
       "      <td>19960101000000</td>\n",
       "      <td>99940</td>\n",
       "      <td>0</td>\n",
       "      <td>0</td>\n",
       "      <td>120</td>\n",
       "      <td>4.100000</td>\n",
       "      <td>279.040000</td>\n",
       "      <td>279.040000</td>\n",
       "      <td>100</td>\n",
       "      <td>...</td>\n",
       "      <td>6</td>\n",
       "      <td>6</td>\n",
       "      <td>1500</td>\n",
       "      <td>mq</td>\n",
       "      <td>mq</td>\n",
       "      <td>mq</td>\n",
       "      <td>mq</td>\n",
       "      <td>mq</td>\n",
       "      <td>mq</td>\n",
       "      <td>NaN</td>\n",
       "    </tr>\n",
       "    <tr>\n",
       "      <td>4</td>\n",
       "      <td>7037</td>\n",
       "      <td>19960101000000</td>\n",
       "      <td>100010</td>\n",
       "      <td>90</td>\n",
       "      <td>0</td>\n",
       "      <td>190</td>\n",
       "      <td>1.000000</td>\n",
       "      <td>278.540000</td>\n",
       "      <td>278.250000</td>\n",
       "      <td>98</td>\n",
       "      <td>...</td>\n",
       "      <td>mq</td>\n",
       "      <td>mq</td>\n",
       "      <td>mq</td>\n",
       "      <td>mq</td>\n",
       "      <td>mq</td>\n",
       "      <td>mq</td>\n",
       "      <td>mq</td>\n",
       "      <td>mq</td>\n",
       "      <td>mq</td>\n",
       "      <td>NaN</td>\n",
       "    </tr>\n",
       "  </tbody>\n",
       "</table>\n",
       "<p>5 rows × 60 columns</p>\n",
       "</div>"
      ],
      "text/plain": [
       "   numer_sta            date    pmer tend cod_tend   dd        ff           t  \\\n",
       "0       7005  19960101000000  100030  100        1  170  2.000000  276.040000   \n",
       "1       7015  19960101000000  100020  100        1    0  0.000000  275.950000   \n",
       "2       7020  19960101000000   99740  -50        8  180  8.200000  281.650000   \n",
       "3       7027  19960101000000   99940    0        0  120  4.100000  279.040000   \n",
       "4       7037  19960101000000  100010   90        0  190  1.000000  278.540000   \n",
       "\n",
       "           td    u  ... nnuage2 ctype2 hnuage2 nnuage3 ctype3 hnuage3 nnuage4  \\\n",
       "0  275.950000   99  ...      mq     mq      mq      mq     mq      mq      mq   \n",
       "1  275.350000   96  ...      mq     mq      mq      mq     mq      mq      mq   \n",
       "2  281.540000   99  ...      mq     mq      mq      mq     mq      mq      mq   \n",
       "3  279.040000  100  ...       6      6    1500      mq     mq      mq      mq   \n",
       "4  278.250000   98  ...      mq     mq      mq      mq     mq      mq      mq   \n",
       "\n",
       "  ctype4 hnuage4 Unnamed: 59  \n",
       "0     mq      mq         NaN  \n",
       "1     mq      mq         NaN  \n",
       "2     mq      mq         NaN  \n",
       "3     mq      mq         NaN  \n",
       "4     mq      mq         NaN  \n",
       "\n",
       "[5 rows x 60 columns]"
      ]
     },
     "execution_count": 17,
     "metadata": {},
     "output_type": "execute_result"
    }
   ],
   "source": [
    "weather_mid.head()"
   ]
  },
  {
   "cell_type": "code",
   "execution_count": 18,
   "metadata": {},
   "outputs": [
    {
     "name": "stderr",
     "output_type": "stream",
     "text": [
      "/Users/margauxzaffran/anaconda3/lib/python3.7/site-packages/IPython/core/interactiveshell.py:3058: DtypeWarning: Columns (11,63) have mixed types. Specify dtype option on import or set low_memory=False.\n",
      "  interactivity=interactivity, compiler=compiler, result=result)\n"
     ]
    }
   ],
   "source": [
    "weather_recent = pd.read_csv(\"data/synop.csv\", delimiter=\";\")"
   ]
  },
  {
   "cell_type": "code",
   "execution_count": 19,
   "metadata": {},
   "outputs": [
    {
     "data": {
      "text/html": [
       "<div>\n",
       "<style scoped>\n",
       "    .dataframe tbody tr th:only-of-type {\n",
       "        vertical-align: middle;\n",
       "    }\n",
       "\n",
       "    .dataframe tbody tr th {\n",
       "        vertical-align: top;\n",
       "    }\n",
       "\n",
       "    .dataframe thead th {\n",
       "        text-align: right;\n",
       "    }\n",
       "</style>\n",
       "<table border=\"1\" class=\"dataframe\">\n",
       "  <thead>\n",
       "    <tr style=\"text-align: right;\">\n",
       "      <th></th>\n",
       "      <th>ID OMM station</th>\n",
       "      <th>Date</th>\n",
       "      <th>Pression au niveau mer</th>\n",
       "      <th>Variation de pression en 3 heures</th>\n",
       "      <th>Type de tendance barométrique</th>\n",
       "      <th>Direction du vent moyen 10 mn</th>\n",
       "      <th>Vitesse du vent moyen 10 mn</th>\n",
       "      <th>Température</th>\n",
       "      <th>Point de rosée</th>\n",
       "      <th>Humidité</th>\n",
       "      <th>...</th>\n",
       "      <th>Longitude</th>\n",
       "      <th>Latitude</th>\n",
       "      <th>communes (name)</th>\n",
       "      <th>communes (code)</th>\n",
       "      <th>EPCI (name)</th>\n",
       "      <th>EPCI (code)</th>\n",
       "      <th>department (name)</th>\n",
       "      <th>department (code)</th>\n",
       "      <th>region (name)</th>\n",
       "      <th>region (code)</th>\n",
       "    </tr>\n",
       "  </thead>\n",
       "  <tbody>\n",
       "    <tr>\n",
       "      <td>0</td>\n",
       "      <td>7117</td>\n",
       "      <td>2013-08-24T17:00:00+02:00</td>\n",
       "      <td>101820.0</td>\n",
       "      <td>-30.0</td>\n",
       "      <td>8.0</td>\n",
       "      <td>280.0</td>\n",
       "      <td>7.2</td>\n",
       "      <td>291.05</td>\n",
       "      <td>282.65</td>\n",
       "      <td>58.0</td>\n",
       "      <td>...</td>\n",
       "      <td>-3.473167</td>\n",
       "      <td>48.825833</td>\n",
       "      <td>Perros-Guirec</td>\n",
       "      <td>22168</td>\n",
       "      <td>CA Lannion-Trégor Communauté</td>\n",
       "      <td>200065928.0</td>\n",
       "      <td>Côtes-d'Armor</td>\n",
       "      <td>22</td>\n",
       "      <td>Bretagne</td>\n",
       "      <td>53.0</td>\n",
       "    </tr>\n",
       "    <tr>\n",
       "      <td>1</td>\n",
       "      <td>7630</td>\n",
       "      <td>2013-08-24T17:00:00+02:00</td>\n",
       "      <td>101730.0</td>\n",
       "      <td>-50.0</td>\n",
       "      <td>8.0</td>\n",
       "      <td>290.0</td>\n",
       "      <td>8.7</td>\n",
       "      <td>297.25</td>\n",
       "      <td>285.85</td>\n",
       "      <td>49.0</td>\n",
       "      <td>...</td>\n",
       "      <td>1.378833</td>\n",
       "      <td>43.621000</td>\n",
       "      <td>Blagnac</td>\n",
       "      <td>31069</td>\n",
       "      <td>Toulouse Métropole</td>\n",
       "      <td>243100518.0</td>\n",
       "      <td>Haute-Garonne</td>\n",
       "      <td>31</td>\n",
       "      <td>Occitanie</td>\n",
       "      <td>76.0</td>\n",
       "    </tr>\n",
       "    <tr>\n",
       "      <td>2</td>\n",
       "      <td>81405</td>\n",
       "      <td>2013-08-24T17:00:00+02:00</td>\n",
       "      <td>101360.0</td>\n",
       "      <td>NaN</td>\n",
       "      <td>NaN</td>\n",
       "      <td>100.0</td>\n",
       "      <td>2.6</td>\n",
       "      <td>302.65</td>\n",
       "      <td>296.15</td>\n",
       "      <td>68.0</td>\n",
       "      <td>...</td>\n",
       "      <td>-52.365333</td>\n",
       "      <td>4.822333</td>\n",
       "      <td>Matoury</td>\n",
       "      <td>97307</td>\n",
       "      <td>CA du Centre Littoral</td>\n",
       "      <td>249730045.0</td>\n",
       "      <td>Guyane</td>\n",
       "      <td>973</td>\n",
       "      <td>Guyane</td>\n",
       "      <td>3.0</td>\n",
       "    </tr>\n",
       "    <tr>\n",
       "      <td>3</td>\n",
       "      <td>7240</td>\n",
       "      <td>2013-08-24T20:00:00+02:00</td>\n",
       "      <td>101500.0</td>\n",
       "      <td>40.0</td>\n",
       "      <td>3.0</td>\n",
       "      <td>300.0</td>\n",
       "      <td>5.1</td>\n",
       "      <td>293.15</td>\n",
       "      <td>282.15</td>\n",
       "      <td>49.0</td>\n",
       "      <td>...</td>\n",
       "      <td>0.727333</td>\n",
       "      <td>47.444500</td>\n",
       "      <td>Parçay-Meslay</td>\n",
       "      <td>37179</td>\n",
       "      <td>Tours Métropole Val de Loire</td>\n",
       "      <td>243700754.0</td>\n",
       "      <td>Indre-et-Loire</td>\n",
       "      <td>37</td>\n",
       "      <td>Centre-Val de Loire</td>\n",
       "      <td>24.0</td>\n",
       "    </tr>\n",
       "    <tr>\n",
       "      <td>4</td>\n",
       "      <td>61970</td>\n",
       "      <td>2013-08-24T20:00:00+02:00</td>\n",
       "      <td>NaN</td>\n",
       "      <td>NaN</td>\n",
       "      <td>NaN</td>\n",
       "      <td>210.0</td>\n",
       "      <td>7.2</td>\n",
       "      <td>297.05</td>\n",
       "      <td>293.55</td>\n",
       "      <td>81.0</td>\n",
       "      <td>...</td>\n",
       "      <td>42.712000</td>\n",
       "      <td>-17.054667</td>\n",
       "      <td>NaN</td>\n",
       "      <td>NaN</td>\n",
       "      <td>NaN</td>\n",
       "      <td>NaN</td>\n",
       "      <td>NaN</td>\n",
       "      <td>NaN</td>\n",
       "      <td>NaN</td>\n",
       "      <td>NaN</td>\n",
       "    </tr>\n",
       "  </tbody>\n",
       "</table>\n",
       "<p>5 rows × 81 columns</p>\n",
       "</div>"
      ],
      "text/plain": [
       "   ID OMM station                       Date  Pression au niveau mer  \\\n",
       "0            7117  2013-08-24T17:00:00+02:00                101820.0   \n",
       "1            7630  2013-08-24T17:00:00+02:00                101730.0   \n",
       "2           81405  2013-08-24T17:00:00+02:00                101360.0   \n",
       "3            7240  2013-08-24T20:00:00+02:00                101500.0   \n",
       "4           61970  2013-08-24T20:00:00+02:00                     NaN   \n",
       "\n",
       "   Variation de pression en 3 heures  Type de tendance barométrique  \\\n",
       "0                              -30.0                            8.0   \n",
       "1                              -50.0                            8.0   \n",
       "2                                NaN                            NaN   \n",
       "3                               40.0                            3.0   \n",
       "4                                NaN                            NaN   \n",
       "\n",
       "   Direction du vent moyen 10 mn  Vitesse du vent moyen 10 mn  Température  \\\n",
       "0                          280.0                          7.2       291.05   \n",
       "1                          290.0                          8.7       297.25   \n",
       "2                          100.0                          2.6       302.65   \n",
       "3                          300.0                          5.1       293.15   \n",
       "4                          210.0                          7.2       297.05   \n",
       "\n",
       "   Point de rosée  Humidité  ...  Longitude   Latitude communes (name)  \\\n",
       "0          282.65      58.0  ...  -3.473167  48.825833   Perros-Guirec   \n",
       "1          285.85      49.0  ...   1.378833  43.621000         Blagnac   \n",
       "2          296.15      68.0  ... -52.365333   4.822333         Matoury   \n",
       "3          282.15      49.0  ...   0.727333  47.444500   Parçay-Meslay   \n",
       "4          293.55      81.0  ...  42.712000 -17.054667             NaN   \n",
       "\n",
       "   communes (code)                   EPCI (name)  EPCI (code)  \\\n",
       "0            22168  CA Lannion-Trégor Communauté  200065928.0   \n",
       "1            31069            Toulouse Métropole  243100518.0   \n",
       "2            97307         CA du Centre Littoral  249730045.0   \n",
       "3            37179  Tours Métropole Val de Loire  243700754.0   \n",
       "4              NaN                           NaN          NaN   \n",
       "\n",
       "   department (name)  department (code)        region (name)  region (code)  \n",
       "0      Côtes-d'Armor                 22             Bretagne           53.0  \n",
       "1      Haute-Garonne                 31            Occitanie           76.0  \n",
       "2             Guyane                973               Guyane            3.0  \n",
       "3     Indre-et-Loire                 37  Centre-Val de Loire           24.0  \n",
       "4                NaN                NaN                  NaN            NaN  \n",
       "\n",
       "[5 rows x 81 columns]"
      ]
     },
     "execution_count": 19,
     "metadata": {},
     "output_type": "execute_result"
    }
   ],
   "source": [
    "weather_recent.head()"
   ]
  },
  {
   "cell_type": "code",
   "execution_count": 20,
   "metadata": {},
   "outputs": [
    {
     "data": {
      "text/plain": [
       "ID OMM station                         int64\n",
       "Date                                  object\n",
       "Pression au niveau mer               float64\n",
       "Variation de pression en 3 heures    float64\n",
       "Type de tendance barométrique        float64\n",
       "                                      ...   \n",
       "EPCI (code)                          float64\n",
       "department (name)                     object\n",
       "department (code)                     object\n",
       "region (name)                         object\n",
       "region (code)                        float64\n",
       "Length: 81, dtype: object"
      ]
     },
     "execution_count": 20,
     "metadata": {},
     "output_type": "execute_result"
    }
   ],
   "source": [
    "weather_recent.dtypes"
   ]
  },
  {
   "cell_type": "code",
   "execution_count": 21,
   "metadata": {},
   "outputs": [],
   "source": [
    "weather_recent['Date'] = pd.to_datetime(weather_recent['Date'], format='%Y-%m-%dT%H:%M:%S', utc=True)"
   ]
  },
  {
   "cell_type": "code",
   "execution_count": 22,
   "metadata": {},
   "outputs": [
    {
     "data": {
      "text/plain": [
       "ID OMM station                                     int64\n",
       "Date                                 datetime64[ns, UTC]\n",
       "Pression au niveau mer                           float64\n",
       "Variation de pression en 3 heures                float64\n",
       "Type de tendance barométrique                    float64\n",
       "                                            ...         \n",
       "EPCI (code)                                      float64\n",
       "department (name)                                 object\n",
       "department (code)                                 object\n",
       "region (name)                                     object\n",
       "region (code)                                    float64\n",
       "Length: 81, dtype: object"
      ]
     },
     "execution_count": 22,
     "metadata": {},
     "output_type": "execute_result"
    }
   ],
   "source": [
    "weather_recent.dtypes"
   ]
  },
  {
   "cell_type": "markdown",
   "metadata": {},
   "source": [
    "### Forest and fires <a name=\"forest_explo\"></a>"
   ]
  },
  {
   "cell_type": "markdown",
   "metadata": {},
   "source": [
    "We will now explore the forests data set in order to have a better idea of what it looks like."
   ]
  },
  {
   "cell_type": "code",
   "execution_count": 23,
   "metadata": {},
   "outputs": [
    {
     "data": {
      "text/html": [
       "<div>\n",
       "<style scoped>\n",
       "    .dataframe tbody tr th:only-of-type {\n",
       "        vertical-align: middle;\n",
       "    }\n",
       "\n",
       "    .dataframe tbody tr th {\n",
       "        vertical-align: top;\n",
       "    }\n",
       "\n",
       "    .dataframe thead th {\n",
       "        text-align: right;\n",
       "    }\n",
       "</style>\n",
       "<table border=\"1\" class=\"dataframe\">\n",
       "  <thead>\n",
       "    <tr style=\"text-align: right;\">\n",
       "      <th></th>\n",
       "      <th>iidtn_frt</th>\n",
       "      <th>llib_frt</th>\n",
       "      <th>cdom_frt</th>\n",
       "      <th>cinse_dep</th>\n",
       "      <th>area</th>\n",
       "      <th>geometry</th>\n",
       "    </tr>\n",
       "  </thead>\n",
       "  <tbody>\n",
       "    <tr>\n",
       "      <th>0</th>\n",
       "      <td>F15417Y</td>\n",
       "      <td>Forêt communale de Ribaute</td>\n",
       "      <td>NON</td>\n",
       "      <td>11</td>\n",
       "      <td>2.169137e+06</td>\n",
       "      <td>MULTIPOLYGON (((2.63829 43.09251, 2.63831 43.0...</td>\n",
       "    </tr>\n",
       "    <tr>\n",
       "      <th>1</th>\n",
       "      <td>F19648R</td>\n",
       "      <td>Forêt domaniale de Cuminailles</td>\n",
       "      <td>OUI</td>\n",
       "      <td>07</td>\n",
       "      <td>2.369028e+06</td>\n",
       "      <td>MULTIPOLYGON (((4.37829 44.86738, 4.37868 44.8...</td>\n",
       "    </tr>\n",
       "    <tr>\n",
       "      <th>2</th>\n",
       "      <td>F15880T</td>\n",
       "      <td>Forêt sectionale d'Arzenc-D'Apcher</td>\n",
       "      <td>NON</td>\n",
       "      <td>48</td>\n",
       "      <td>3.064176e+05</td>\n",
       "      <td>POLYGON ((3.10031 44.85923, 3.10037 44.85932, ...</td>\n",
       "    </tr>\n",
       "    <tr>\n",
       "      <th>3</th>\n",
       "      <td>F15962X</td>\n",
       "      <td>Forêt sectionale du Masseguin</td>\n",
       "      <td>NON</td>\n",
       "      <td>48</td>\n",
       "      <td>1.973640e+05</td>\n",
       "      <td>MULTIPOLYGON (((3.61109 44.49170, 3.61073 44.4...</td>\n",
       "    </tr>\n",
       "    <tr>\n",
       "      <th>4</th>\n",
       "      <td>F16160N</td>\n",
       "      <td>Forêt sectionale de Chams</td>\n",
       "      <td>NON</td>\n",
       "      <td>48</td>\n",
       "      <td>6.343429e+04</td>\n",
       "      <td>POLYGON ((3.65106 44.83361, 3.65165 44.83393, ...</td>\n",
       "    </tr>\n",
       "  </tbody>\n",
       "</table>\n",
       "</div>"
      ],
      "text/plain": [
       "  iidtn_frt                            llib_frt cdom_frt cinse_dep  \\\n",
       "0   F15417Y          Forêt communale de Ribaute      NON        11   \n",
       "1   F19648R      Forêt domaniale de Cuminailles      OUI        07   \n",
       "2   F15880T  Forêt sectionale d'Arzenc-D'Apcher      NON        48   \n",
       "3   F15962X       Forêt sectionale du Masseguin      NON        48   \n",
       "4   F16160N           Forêt sectionale de Chams      NON        48   \n",
       "\n",
       "           area                                           geometry  \n",
       "0  2.169137e+06  MULTIPOLYGON (((2.63829 43.09251, 2.63831 43.0...  \n",
       "1  2.369028e+06  MULTIPOLYGON (((4.37829 44.86738, 4.37868 44.8...  \n",
       "2  3.064176e+05  POLYGON ((3.10031 44.85923, 3.10037 44.85932, ...  \n",
       "3  1.973640e+05  MULTIPOLYGON (((3.61109 44.49170, 3.61073 44.4...  \n",
       "4  6.343429e+04  POLYGON ((3.65106 44.83361, 3.65165 44.83393, ...  "
      ]
     },
     "execution_count": 10,
     "metadata": {},
     "output_type": "execute_result"
    }
   ],
   "source": [
    "import geopandas as gpd\n",
    "\n",
    "forests = gpd.read_file('data/forests.json')\n",
    "forests.head()"
   ]
  },
  {
   "cell_type": "code",
   "execution_count": 24,
   "metadata": {},
   "outputs": [
    {
     "data": {
      "text/plain": [
       "<matplotlib.axes._subplots.AxesSubplot at 0x11fbac890>"
      ]
     },
     "execution_count": 24,
     "metadata": {},
     "output_type": "execute_result"
    },
    {
     "data": {
      "image/png": "[encoded data removed]",
      "text/plain": [
       "<Figure size 432x288 with 1 Axes>"
      ]
     },
     "metadata": {
      "needs_background": "light"
     },
     "output_type": "display_data"
    }
   ],
   "source": [
    "%matplotlib inline\n",
    "departments = forests['cinse_dep'].unique()\n",
    "forests_per_dep = forests[['cinse_dep','area']].groupby('cinse_dep').sum().reset_index()\n",
    "\n",
    "forests_per_dep.plot(kind='bar', x='cinse_dep', title='Forest area per department')"
   ]
  },
  {
   "cell_type": "code",
   "execution_count": 25,
   "metadata": {},
   "outputs": [
    {
     "data": {
      "text/plain": [
       "<matplotlib.axes._subplots.AxesSubplot at 0x1215ff950>"
      ]
     },
     "execution_count": 25,
     "metadata": {},
     "output_type": "execute_result"
    },
    {
     "data": {
      "image/png": "[encoded data removed]",
      "text/plain": [
       "<Figure size 432x288 with 1 Axes>"
      ]
     },
     "metadata": {
      "needs_background": "light"
     },
     "output_type": "display_data"
    }
   ],
   "source": [
    "target_dep = pd.DataFrame(y_array,columns=['Area'])\n",
    "target_dep['Department'] = X_df['Department']\n",
    "sum_year_depart = target_dep.groupby(['Department']).sum().reset_index()\n",
    "\n",
    "sum_year_depart.plot(x='Department')"
   ]
  },
  {
   "cell_type": "code",
   "execution_count": 26,
   "metadata": {},
   "outputs": [
    {
     "data": {
      "text/html": [
       "<div>\n",
       "<style scoped>\n",
       "    .dataframe tbody tr th:only-of-type {\n",
       "        vertical-align: middle;\n",
       "    }\n",
       "\n",
       "    .dataframe tbody tr th {\n",
       "        vertical-align: top;\n",
       "    }\n",
       "\n",
       "    .dataframe thead th {\n",
       "        text-align: right;\n",
       "    }\n",
       "</style>\n",
       "<table border=\"1\" class=\"dataframe\">\n",
       "  <thead>\n",
       "    <tr style=\"text-align: right;\">\n",
       "      <th></th>\n",
       "      <th>Area</th>\n",
       "      <th>area</th>\n",
       "    </tr>\n",
       "  </thead>\n",
       "  <tbody>\n",
       "    <tr>\n",
       "      <th>Area</th>\n",
       "      <td>1.000000</td>\n",
       "      <td>-0.243292</td>\n",
       "    </tr>\n",
       "    <tr>\n",
       "      <th>area</th>\n",
       "      <td>-0.243292</td>\n",
       "      <td>1.000000</td>\n",
       "    </tr>\n",
       "  </tbody>\n",
       "</table>\n",
       "</div>"
      ],
      "text/plain": [
       "          Area      area\n",
       "Area  1.000000 -0.243292\n",
       "area -0.243292  1.000000"
      ]
     },
     "execution_count": 26,
     "metadata": {},
     "output_type": "execute_result"
    }
   ],
   "source": [
    "joint_forests_fires = sum_year_depart.set_index('Department').join(forests_per_dep.set_index('cinse_dep'))\n",
    "\n",
    "joint_forests_fires.corr()"
   ]
  },
  {
   "cell_type": "markdown",
   "metadata": {},
   "source": [
    "## Model  <a name=\"model\"></a>"
   ]
  },
  {
   "cell_type": "markdown",
   "metadata": {},
   "source": [
    "### Baseline model  <a name=\"baseline\"></a>"
   ]
  },
  {
   "cell_type": "markdown",
   "metadata": {},
   "source": [
    "_Explain what is done below_"
   ]
  },
  {
   "cell_type": "code",
   "execution_count": 27,
   "metadata": {},
   "outputs": [],
   "source": []
  },
  {
   "cell_type": "code",
   "execution_count": 28,
   "metadata": {},
   "outputs": [],
   "source": [
    "from sklearn.preprocessing import FunctionTransformer\n",
    "\n",
    "def process_date(X):\n",
    "    date = pd.to_datetime(X['Signal'], format='%Y-%m-%d %H:%M:%S')\n",
    "    return np.c_[date.dt.year, date.dt.month, date.dt.day,\n",
    "                 date.dt.hour, date.dt.minute, date.dt.second]\n",
    "date_transformer = FunctionTransformer(process_date, validate=False)"
   ]
  },
  {
   "cell_type": "code",
   "execution_count": 29,
   "metadata": {},
   "outputs": [],
   "source": [
    "def dep(X):\n",
    "    dep_nums = pd.to_numeric(X['Department'], errors='coerce')\n",
    "    return dep_nums.values[:, np.newaxis]\n",
    "dep_transformer = FunctionTransformer(dep, validate=False)"
   ]
  },
  {
   "cell_type": "code",
   "execution_count": 30,
   "metadata": {},
   "outputs": [],
   "source": [
    "def insee(X):\n",
    "    insee_nums = pd.to_numeric(X['INSEE_code'], errors='coerce')\n",
    "    return insee_nums.values[:, np.newaxis]\n",
    "insee_transformer = FunctionTransformer(insee, validate=False)"
   ]
  },
  {
   "cell_type": "code",
   "execution_count": 31,
   "metadata": {},
   "outputs": [],
   "source": [
    "from sklearn.impute import SimpleImputer\n",
    "from sklearn.pipeline import Pipeline\n",
    "\n",
    "numeric_transformer = Pipeline(steps=[('impute', SimpleImputer(strategy='median'))])"
   ]
  },
  {
   "cell_type": "code",
   "execution_count": 32,
   "metadata": {},
   "outputs": [],
   "source": [
    "def origine(X):\n",
    "    or_nums = pd.to_numeric(X['Origin'], errors='coerce')\n",
    "    return or_nums.values[:, np.newaxis]\n",
    "origine_transformer = FunctionTransformer(origine, validate=False)"
   ]
  },
  {
   "cell_type": "code",
   "execution_count": 33,
   "metadata": {},
   "outputs": [],
   "source": [
    "from sklearn.compose import ColumnTransformer\n",
    "from sklearn.pipeline import make_pipeline\n",
    "\n",
    "num_cols = ['ID', 'Year']\n",
    "insee_col = ['INSEE_code']\n",
    "date_col = ['Signal']\n",
    "dep_col = ['Department']\n",
    "origine_col = ['Origin']\n",
    "\n",
    "preprocessor = ColumnTransformer(\n",
    "    transformers=[\n",
    "        ('date', make_pipeline(date_transformer,SimpleImputer(strategy='median')), date_col),\n",
    "        ('dep', make_pipeline(dep_transformer,SimpleImputer(strategy='median')), dep_col),\n",
    "        ('insee', make_pipeline(insee_transformer,SimpleImputer(strategy='median')), insee_col),\n",
    "        ('num', numeric_transformer, num_cols),\n",
    "        ('origine', make_pipeline(origine_transformer,SimpleImputer(strategy='median')), origine_col),\n",
    "        ])"
   ]
  },
  {
   "cell_type": "code",
   "execution_count": 34,
   "metadata": {},
   "outputs": [
    {
     "data": {
      "text/plain": [
       "array([[1.9830e+03, 9.0000e+00, 8.0000e+00, ..., 1.5750e+03, 1.9830e+03,\n",
       "        3.0000e+00],\n",
       "       [1.9810e+03, 5.0000e+00, 3.0000e+00, ..., 2.8380e+03, 1.9810e+03,\n",
       "        3.0000e+00],\n",
       "       [1.9890e+03, 8.0000e+00, 7.0000e+00, ..., 6.6000e+03, 1.9890e+03,\n",
       "        3.0000e+00],\n",
       "       ...,\n",
       "       [1.9780e+03, 7.0000e+00, 3.0000e+01, ..., 1.4738e+04, 1.9780e+03,\n",
       "        3.0000e+00],\n",
       "       [1.9810e+03, 1.1000e+01, 1.0000e+01, ..., 5.8170e+03, 1.9810e+03,\n",
       "        3.0000e+00],\n",
       "       [2.0140e+03, 8.0000e+00, 1.1000e+01, ..., 4.8700e+03, 2.0140e+03,\n",
       "        3.0000e+00]])"
      ]
     },
     "execution_count": 34,
     "metadata": {},
     "output_type": "execute_result"
    }
   ],
   "source": [
    "preprocessor.fit_transform(X_df)"
   ]
  },
  {
   "cell_type": "code",
   "execution_count": 35,
   "metadata": {},
   "outputs": [],
   "source": [
    "from sklearn.ensemble import RandomForestRegressor\n",
    "\n",
    "regressor = RandomForestRegressor(n_estimators=5, max_depth=50, max_features=10)"
   ]
  },
  {
   "cell_type": "code",
   "execution_count": 36,
   "metadata": {},
   "outputs": [],
   "source": [
    "from sklearn.metrics import make_scorer\n",
    "\n",
    "def loss(y_true, y_pred):\n",
    "    \n",
    "    if isinstance(y_true, pd.Series):\n",
    "        y_true = y_true.values\n",
    "\n",
    "    alpha = 0.7\n",
    "\n",
    "    losses = 2*(alpha+(1-2*alpha)*(1*((np.log(y_true)-np.log(y_pred)) < 0)))*((np.log(y_true)-np.log(y_pred))**2)\n",
    "\n",
    "    loss = np.sqrt(np.mean(losses))\n",
    "\n",
    "    return loss\n",
    "    \n",
    "wfa_loss = make_scorer(loss, greater_is_better=False)"
   ]
  },
  {
   "cell_type": "code",
   "execution_count": 37,
   "metadata": {},
   "outputs": [
    {
     "name": "stdout",
     "output_type": "stream",
     "text": [
      "mean: 4.447585e+00 (+/- 1.987688e-02)\n"
     ]
    }
   ],
   "source": [
    "from sklearn.model_selection import cross_val_score\n",
    "from sklearn.model_selection import StratifiedKFold\n",
    "\n",
    "reg = Pipeline(steps=[('preprocessing', preprocessor),\n",
    "                      ('regressor', regressor)])\n",
    "\n",
    "bins = np.linspace(0,np.log(116000000),25)\n",
    "y_binned = np.digitize(np.log(y_array),bins)\n",
    "cv = StratifiedKFold(n_splits=5, shuffle=True, random_state=21)\n",
    "splits = cv.split(X_df, y_binned)\n",
    "\n",
    "scores_baseline = -cross_val_score(reg, X_df, y_array, cv=splits, scoring=wfa_loss)\n",
    "\n",
    "print(\"mean: %e (+/- %e)\" % (scores_baseline.mean(), scores_baseline.std()))"
   ]
  },
  {
   "cell_type": "markdown",
   "metadata": {},
   "source": [
    "### Feature extractor  <a name=\"features\"></a>"
   ]
  },
  {
   "cell_type": "markdown",
   "metadata": {},
   "source": [
    "The previous preprocessing should be saved in the ```feature_extractor.py``` file of your submission folder (in our current case in the submissions/starting_kit folder) in order to submit it on ramp (or test it locally, as we will explain later one). This file should implement a FeatureExtractor class, which requires a fit() and transform() method. The fit() method takes as argument X_df but also y_array, so you can use the target in the fitting, meaning that you can do target encoding. However, the transform() method obviously takes only X_df as argument. Below is the equivalent of what we've done before, implementing this class:"
   ]
  },
  {
   "cell_type": "code",
   "execution_count": 38,
   "metadata": {},
   "outputs": [],
   "source": [
    "import pandas as pd\n",
    "import numpy as np\n",
    "\n",
    "from sklearn.impute import SimpleImputer\n",
    "from sklearn.compose import ColumnTransformer\n",
    "from sklearn.pipeline import make_pipeline\n",
    "from sklearn.preprocessing import FunctionTransformer\n",
    "from sklearn.pipeline import Pipeline\n",
    "\n",
    "class FeatureExtractor(object):\n",
    "    def __init__(self):\n",
    "        pass\n",
    "\n",
    "    def fit(self, X_df, y_array):\n",
    "\n",
    "        def insee(X):\n",
    "            insee_nums = pd.to_numeric(X['INSEE_code'], errors='coerce')\n",
    "            return insee_nums.values[:, np.newaxis]\n",
    "        insee_transformer = FunctionTransformer(insee, validate=False)\n",
    "\n",
    "        def dep(X):\n",
    "            dep_nums = pd.to_numeric(X['Department'], errors='coerce')\n",
    "            return dep_nums.values[:, np.newaxis]\n",
    "        dep_transformer = FunctionTransformer(dep, validate=False)\n",
    "\n",
    "        def origine(X):\n",
    "            or_nums = pd.to_numeric(X['Origin'], errors='coerce')\n",
    "            return or_nums.values[:, np.newaxis]\n",
    "        origine_transformer = FunctionTransformer(origine, validate=False)\n",
    "\n",
    "        numeric_transformer = Pipeline(steps=[('impute', SimpleImputer(strategy='median'))])\n",
    "\n",
    "        def process_date(X):\n",
    "            date = pd.to_datetime(X['Signal'], format='%Y-%m-%d %H:%M:%S')\n",
    "            return np.c_[date.dt.year, date.dt.month, date.dt.day,\n",
    "                         date.dt.hour, date.dt.minute, date.dt.second]\n",
    "        date_transformer = FunctionTransformer(process_date, validate=False)\n",
    "\n",
    "        num_cols = ['ID', 'Year']\n",
    "        insee_col = ['INSEE_code']\n",
    "        date_col = ['Signal']\n",
    "        dep_col = ['Department']\n",
    "        origine_col = ['Origin']\n",
    "\n",
    "        preprocessor = ColumnTransformer(\n",
    "            transformers=[\n",
    "                ('insee', make_pipeline(insee_transformer,SimpleImputer(strategy='median')), insee_col),\n",
    "                ('num', numeric_transformer, num_cols),\n",
    "                ('date', make_pipeline(date_transformer,SimpleImputer(strategy='median')), date_col),\n",
    "                ('dep', make_pipeline(dep_transformer,SimpleImputer(strategy='median')), dep_col),\n",
    "                ('origine', make_pipeline(origine_transformer,SimpleImputer(strategy='median')), origine_col),\n",
    "                ])\n",
    "\n",
    "        self.preprocessor = preprocessor\n",
    "        self.preprocessor.fit(X_df, y_array)\n",
    "        return self\n",
    "\n",
    "    def transform(self, X_df):\n",
    "        return self.preprocessor.transform(X_df)"
   ]
  },
  {
   "cell_type": "markdown",
   "metadata": {},
   "source": [
    "### Regressor  <a name=\"regressor\"></a>"
   ]
  },
  {
   "cell_type": "markdown",
   "metadata": {},
   "source": [
    "As before, our previous regressor should be implemented in the ```regressor.py```file of your submission folder in order to submit it on ramp. This file should implement a Regressor class, which should have fit() and predict() methods. Here is an example of such a file, given our basic example:"
   ]
  },
  {
   "cell_type": "code",
   "execution_count": 39,
   "metadata": {},
   "outputs": [],
   "source": [
    "from sklearn.ensemble import RandomForestRegressor\n",
    "from sklearn.base import BaseEstimator\n",
    "\n",
    "class Regressor(BaseEstimator):\n",
    "    def __init__(self):\n",
    "        self.reg = RandomForestRegressor(n_estimators=5, max_depth=50, max_features=10)\n",
    "\n",
    "    def fit(self, X, y):\n",
    "        self.reg.fit(X, y)\n",
    "\n",
    "    def predict(self, X):\n",
    "        return self.reg.predict(X)"
   ]
  },
  {
   "cell_type": "markdown",
   "metadata": {},
   "source": [
    "### Naive merges  <a name=\"merges\"></a>"
   ]
  },
  {
   "cell_type": "markdown",
   "metadata": {},
   "source": [
    "_Show the improvements with our additional datasets, highlight that for this the datasets should be in the submission folder, as are the feature_extractor.py and regressor.py files._"
   ]
  },
  {
   "cell_type": "markdown",
   "metadata": {},
   "source": [
    "#### Merge with the oldest weather dataset"
   ]
  },
  {
   "cell_type": "code",
   "execution_count": 40,
   "metadata": {},
   "outputs": [],
   "source": [
    "def merge_naive_weather_old(X):\n",
    "    X['Date'] = pd.to_datetime(X['Signal'], format='%Y-%m-%d %H:%M:%S').dt.floor('d')  \n",
    "    df = pd.merge(X, weather_old, left_on=['Date', 'INSEE_code'], right_on=['date','insee_code'], how='left')\n",
    "    return df['maximal temperature (celsius)'].values[:, np.newaxis]\n",
    "merge_weather_old_transformer = FunctionTransformer(merge_naive_weather_old, validate=False)"
   ]
  },
  {
   "cell_type": "code",
   "execution_count": 41,
   "metadata": {},
   "outputs": [
    {
     "data": {
      "text/plain": [
       "array([[1983. ,    9. ,    8. , ..., 1983. ,    3. ,   25.7],\n",
       "       [1981. ,    5. ,    3. , ..., 1981. ,    3. ,   25.7],\n",
       "       [1989. ,    8. ,    7. , ..., 1989. ,    3. ,   25.7],\n",
       "       ...,\n",
       "       [1978. ,    7. ,   30. , ..., 1978. ,    3. ,   25.7],\n",
       "       [1981. ,   11. ,   10. , ..., 1981. ,    3. ,   25.7],\n",
       "       [2014. ,    8. ,   11. , ..., 2014. ,    3. ,   25.7]])"
      ]
     },
     "execution_count": 41,
     "metadata": {},
     "output_type": "execute_result"
    }
   ],
   "source": [
    "merge_cols = ['Signal', 'INSEE_code']\n",
    "\n",
    "preprocessor_merge_weather_old = ColumnTransformer(\n",
    "    transformers=[\n",
    "        ('date', make_pipeline(date_transformer,SimpleImputer(strategy='median')), date_col),\n",
    "        ('dep', make_pipeline(dep_transformer,SimpleImputer(strategy='median')), dep_col),\n",
    "        ('insee', make_pipeline(insee_transformer,SimpleImputer(strategy='median')), insee_col),\n",
    "        ('num', numeric_transformer, num_cols),\n",
    "        ('origine', make_pipeline(origine_transformer,SimpleImputer(strategy='median')), origine_col),\n",
    "        ('merge', make_pipeline(merge_weather_old_transformer, SimpleImputer(strategy='median')), merge_cols),\n",
    "        ])\n",
    "\n",
    "preprocessor_merge_weather_old.fit_transform(X_df)"
   ]
  },
  {
   "cell_type": "code",
   "execution_count": 42,
   "metadata": {},
   "outputs": [],
   "source": [
    "regressor = RandomForestRegressor(n_estimators=5, max_depth=50, max_features=10)"
   ]
  },
  {
   "cell_type": "code",
   "execution_count": 43,
   "metadata": {},
   "outputs": [
    {
     "name": "stdout",
     "output_type": "stream",
     "text": [
      "mean: 4.392025e+00 (+/- 3.435692e-02)\n"
     ]
    }
   ],
   "source": [
    "reg = Pipeline(steps=[('preprocessing', preprocessor_merge_weather_old),\n",
    "                      ('regressor', regressor)])\n",
    "\n",
    "bins = np.linspace(0,np.log(116000000),25)\n",
    "y_binned = np.digitize(np.log(y_array),bins)\n",
    "cv = StratifiedKFold(n_splits=5, shuffle=True, random_state=21)\n",
    "splits = cv.split(X_df, y_binned)\n",
    "\n",
    "scores_merge_weather_old = -cross_val_score(reg, X_df, y_array, cv=splits, scoring=wfa_loss)\n",
    "\n",
    "print(\"mean: %e (+/- %e)\" % (scores_merge_weather_old.mean(), scores_merge_weather_old.std()))"
   ]
  },
  {
   "cell_type": "code",
   "execution_count": 44,
   "metadata": {},
   "outputs": [
    {
     "data": {
      "text/plain": [
       "<matplotlib.axes._subplots.AxesSubplot at 0x12588cd90>"
      ]
     },
     "execution_count": 44,
     "metadata": {},
     "output_type": "execute_result"
    },
    {
     "data": {
      "image/png": "[encoded data removed]",
      "text/plain": [
       "<Figure size 432x288 with 1 Axes>"
      ]
     },
     "metadata": {
      "needs_background": "light"
     },
     "output_type": "display_data"
    }
   ],
   "source": [
    "scores = pd.DataFrame({'Baseline': scores_baseline, 'Merge weather old': scores_merge_weather_old})\n",
    "scores.boxplot()"
   ]
  },
  {
   "cell_type": "markdown",
   "metadata": {},
   "source": [
    "#### Merge with the closest weather dataset"
   ]
  },
  {
   "cell_type": "code",
   "execution_count": 45,
   "metadata": {},
   "outputs": [],
   "source": [
    "def merge_naive_weather_recent(X):\n",
    "    X['Date'] = pd.to_datetime(X['Signal'], format='%Y-%m-%d %H:%M:%S', utc=True).dt.floor('H')  \n",
    "    X['Communes'] = X['Town'].str.lower()\n",
    "    X['Communes'] = X['Communes'].str.replace('[^\\w]','')\n",
    "    weather_r = weather_recent.copy()\n",
    "    weather_r['Date'] = pd.to_datetime(weather_r['Date'], format='%Y-%m-%d %H:%M:%S').dt.floor('H')\n",
    "    weather_r['communes'] = weather_r['communes (name)'].str.lower()\n",
    "    weather_r['communes'] = weather_r['communes'].str.replace('[^\\w]','')\n",
    "    df = pd.merge(X, weather_r, left_on=['Date', 'Communes'], right_on=['Date','communes'], how='left')\n",
    "    return df['Température'].values[:, np.newaxis]\n",
    "merge_weather_recent_transformer = FunctionTransformer(merge_naive_weather_recent, validate=False)"
   ]
  },
  {
   "cell_type": "code",
   "execution_count": 46,
   "metadata": {},
   "outputs": [
    {
     "data": {
      "text/plain": [
       "array([[1983.  ,    9.  ,    8.  , ..., 1983.  ,    3.  ,  295.95],\n",
       "       [1981.  ,    5.  ,    3.  , ..., 1981.  ,    3.  ,  295.95],\n",
       "       [1989.  ,    8.  ,    7.  , ..., 1989.  ,    3.  ,  295.95],\n",
       "       ...,\n",
       "       [1978.  ,    7.  ,   30.  , ..., 1978.  ,    3.  ,  295.95],\n",
       "       [1981.  ,   11.  ,   10.  , ..., 1981.  ,    3.  ,  295.95],\n",
       "       [2014.  ,    8.  ,   11.  , ..., 2014.  ,    3.  ,  295.95]])"
      ]
     },
     "execution_count": 46,
     "metadata": {},
     "output_type": "execute_result"
    }
   ],
   "source": [
    "merge_cols = ['Signal', 'Town']\n",
    "\n",
    "preprocessor_merge_weather_recent = ColumnTransformer(\n",
    "    transformers=[\n",
    "        ('date', make_pipeline(date_transformer,SimpleImputer(strategy='median')), date_col),\n",
    "        ('dep', make_pipeline(dep_transformer,SimpleImputer(strategy='median')), dep_col),\n",
    "        ('insee', make_pipeline(insee_transformer,SimpleImputer(strategy='median')), insee_col),\n",
    "        ('num', numeric_transformer, num_cols),\n",
    "        ('origine', make_pipeline(origine_transformer,SimpleImputer(strategy='median')), origine_col),\n",
    "        ('merge', make_pipeline(merge_weather_recent_transformer, SimpleImputer(strategy='median')), merge_cols),\n",
    "        ])\n",
    "\n",
    "preprocessor_merge_weather_recent.fit_transform(X_df)"
   ]
  },
  {
   "cell_type": "code",
   "execution_count": 47,
   "metadata": {},
   "outputs": [],
   "source": [
    "regressor = RandomForestRegressor(n_estimators=5, max_depth=50, max_features=10)"
   ]
  },
  {
   "cell_type": "code",
   "execution_count": 48,
   "metadata": {},
   "outputs": [
    {
     "name": "stdout",
     "output_type": "stream",
     "text": [
      "mean: 4.413703e+00 (+/- 2.020574e-02)\n"
     ]
    }
   ],
   "source": [
    "reg = Pipeline(steps=[('preprocessing', preprocessor_merge_weather_recent),\n",
    "                      ('regressor', regressor)])\n",
    "\n",
    "bins = np.linspace(0,np.log(116000000),25)\n",
    "y_binned = np.digitize(np.log(y_array),bins)\n",
    "cv = StratifiedKFold(n_splits=5, shuffle=True, random_state=21)\n",
    "splits = cv.split(X_df, y_binned)\n",
    "\n",
    "scores_merge_weather_recent = -cross_val_score(reg, X_df, y_array, cv=splits, scoring=wfa_loss)\n",
    "\n",
    "print(\"mean: %e (+/- %e)\" % (scores_merge_weather_recent.mean(), scores_merge_weather_recent.std()))"
   ]
  },
  {
   "cell_type": "code",
   "execution_count": 49,
   "metadata": {},
   "outputs": [
    {
     "data": {
      "text/plain": [
       "<matplotlib.axes._subplots.AxesSubplot at 0x1279e0950>"
      ]
     },
     "execution_count": 49,
     "metadata": {},
     "output_type": "execute_result"
    },
    {
     "data": {
      "image/png": "[encoded data removed]",
      "text/plain": [
       "<Figure size 432x288 with 1 Axes>"
      ]
     },
     "metadata": {
      "needs_background": "light"
     },
     "output_type": "display_data"
    }
   ],
   "source": [
    "scores = pd.DataFrame({'Baseline': scores_baseline, 'Merge weather old': scores_merge_weather_old,\n",
    "                       'Merge weather recent': scores_merge_weather_recent})\n",
    "scores.boxplot()"
   ]
  },
  {
   "cell_type": "markdown",
   "metadata": {},
   "source": [
    "## RAMP submission <a name=\"ramp\"></a>"
   ]
  },
  {
   "cell_type": "markdown",
   "metadata": {},
   "source": [
    "_Explain how to compute a submission locally_"
   ]
  }
 ],
 "metadata": {
  "kernelspec": {
   "display_name": "Python 3",
   "language": "python",
   "name": "python3"
  },
  "language_info": {
   "codemirror_mode": {
    "name": "ipython",
    "version": 3
   },
   "file_extension": ".py",
   "mimetype": "text/x-python",
   "name": "python",
   "nbconvert_exporter": "python",
   "pygments_lexer": "ipython3",
   "version": "3.7.5"
  }
 },
 "nbformat": 4,
 "nbformat_minor": 4
}
